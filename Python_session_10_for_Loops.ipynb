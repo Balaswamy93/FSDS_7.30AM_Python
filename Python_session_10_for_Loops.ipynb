{
 "cells": [
  {
   "cell_type": "markdown",
   "id": "c3cdc8f6-7ef3-4f6a-916f-ff2a7591daf7",
   "metadata": {},
   "source": [
    "**Loops**"
   ]
  },
  {
   "cell_type": "markdown",
   "id": "013652a1-908e-4034-abc4-31bde063a874",
   "metadata": {},
   "source": [
    "- iterate a piece of code untill the condition satisfy\n",
    "- we can run a code normally, we can run a code by usding fuction wrapper(functions)\n",
    "- we can run a code multiple times(loops)\n",
    "- we can run a code by using condition"
   ]
  },
  {
   "cell_type": "code",
   "execution_count": 2,
   "id": "9f710e71-c1a7-44d7-ad60-72c1e5b7054a",
   "metadata": {},
   "outputs": [
    {
     "name": "stdout",
     "output_type": "stream",
     "text": [
      "30\n"
     ]
    }
   ],
   "source": [
    "a=10\n",
    "b=20\n",
    "c=a+b\n",
    "print(c)"
   ]
  },
  {
   "cell_type": "code",
   "execution_count": null,
   "id": "3d306633-f19d-4459-b0dd-22b0984d0037",
   "metadata": {},
   "outputs": [],
   "source": []
  },
  {
   "cell_type": "code",
   "execution_count": 37,
   "id": "65737253-077c-4a65-89b4-3432a53e2843",
   "metadata": {},
   "outputs": [
    {
     "name": "stdout",
     "output_type": "stream",
     "text": [
      "30\n"
     ]
    }
   ],
   "source": [
    "if True:\n",
    "    a=10\n",
    "    b=20\n",
    "    c=a+b\n",
    "    print(c)\n",
    "   "
   ]
  },
  {
   "cell_type": "code",
   "execution_count": 38,
   "id": "dccd33ee-3ae0-4b3d-aaaf-4ebd843272b2",
   "metadata": {},
   "outputs": [
    {
     "name": "stdout",
     "output_type": "stream",
     "text": [
      "30\n"
     ]
    }
   ],
   "source": [
    "def add ():\n",
    "    a=10\n",
    "    b=20\n",
    "    c=a+b\n",
    "    print(c)\n",
    "add()"
   ]
  },
  {
   "cell_type": "code",
   "execution_count": 39,
   "id": "89385938-5647-4c89-b718-d30b56c7192a",
   "metadata": {},
   "outputs": [
    {
     "name": "stdin",
     "output_type": "stream",
     "text": [
      "entetr the salary 80000\n",
      "enter the tax 10\n"
     ]
    },
    {
     "name": "stdout",
     "output_type": "stream",
     "text": [
      "8000.0\n"
     ]
    }
   ],
   "source": [
    "salary=eval(input(\"entetr the salary\"))\n",
    "tax_per=eval(input(\"enter the tax per\"))\n",
    "tax_amount=salary*tax_per/100\n",
    "print(tax_amount)"
   ]
  },
  {
   "cell_type": "code",
   "execution_count": 42,
   "id": "abf5cac4-23c4-43c9-bfd6-9eec7ebef697",
   "metadata": {},
   "outputs": [
    {
     "name": "stdin",
     "output_type": "stream",
     "text": [
      "entetr the salary 56896\n",
      "enter the tax 23\n"
     ]
    },
    {
     "name": "stdout",
     "output_type": "stream",
     "text": [
      "8000.0\n"
     ]
    }
   ],
   "source": [
    "def tax1():\n",
    "    salary=eval(input(\"entetr the salary\"))\n",
    "    tax_per=eval(input(\"enter the tax\"))\n",
    "    tax_amount1=salary*tax_per/100\n",
    "    print(tax_amount)\n",
    "tax1()\n",
    "\n"
   ]
  },
  {
   "cell_type": "markdown",
   "id": "0feab054-83d1-4e2f-a7a4-681b74d34d86",
   "metadata": {},
   "source": [
    "# for loop\n",
    "# while loop\n",
    "# any loop\n",
    "#    - initial point to start the loop\n",
    "#   - increment or decrement\n",
    "#  condition to stop the loop"
   ]
  },
  {
   "cell_type": "markdown",
   "id": "524985ec-c12a-4068-bc34-5e0298a09132",
   "metadata": {},
   "source": [
    "# For loop "
   ]
  },
  {
   "cell_type": "markdown",
   "id": "d131b3c2-a29d-4ff7-8282-74fe4c1ee7d7",
   "metadata": {},
   "source": [
    "**pattern-1**"
   ]
  },
  {
   "cell_type": "markdown",
   "id": "d0fc03f9-a058-473e-a336-9bb5f80a77de",
   "metadata": {},
   "source": [
    "**Range(stop**)"
   ]
  },
  {
   "cell_type": "code",
   "execution_count": null,
   "id": "655147fa-4634-42d3-b5c1-d7fcb9c4f0b2",
   "metadata": {},
   "outputs": [],
   "source": [
    "# syntax\n",
    "# for i in range(<value>):\n",
    "    # start write your code"
   ]
  },
  {
   "cell_type": "markdown",
   "id": "91da1c0b-5db6-46b0-a4bb-5dec35c26cdf",
   "metadata": {},
   "source": [
    "- whenever you see the word range it belongs to math family\n",
    "- inside range we need to provide on e value ex: range(3)\n",
    "- if you provide only one value then \n",
    "- start value=  0\n",
    "- increment = +1\n",
    "- last= stop-1\n",
    "- range(3)\n",
    "- start value=0\n",
    "- increment= 1\n",
    "- last = 3-1=2\n",
    "- answer= 0 1 2\n",
    "**note** in python the index always start with zero"
   ]
  },
  {
   "cell_type": "code",
   "execution_count": 7,
   "id": "b01018c9-a6be-4a5a-91aa-8cef6d9d4008",
   "metadata": {},
   "outputs": [
    {
     "name": "stdout",
     "output_type": "stream",
     "text": [
      "0\n",
      "1\n",
      "2\n"
     ]
    }
   ],
   "source": [
    "for i in range (3):\n",
    "    print(i)"
   ]
  },
  {
   "cell_type": "code",
   "execution_count": 2,
   "id": "7a5b7f6a-2c8b-4f10-adce-fab54d73cc0f",
   "metadata": {},
   "outputs": [
    {
     "name": "stdout",
     "output_type": "stream",
     "text": [
      "0 1 2 3 "
     ]
    }
   ],
   "source": [
    "for i in range(4):\n",
    "    print(i,end=' ')"
   ]
  },
  {
   "cell_type": "code",
   "execution_count": 43,
   "id": "0f72f50d-aecf-4952-9a01-ffd438bd2612",
   "metadata": {},
   "outputs": [
    {
     "name": "stdout",
     "output_type": "stream",
     "text": [
      "0\n",
      "1\n"
     ]
    }
   ],
   "source": [
    "for i in range(2):\n",
    "    print(i)"
   ]
  },
  {
   "cell_type": "code",
   "execution_count": 44,
   "id": "e2437163-61c8-4f6c-a037-5fc8189caad5",
   "metadata": {},
   "outputs": [
    {
     "name": "stdout",
     "output_type": "stream",
     "text": [
      "0\n",
      "1\n",
      "2\n",
      "3\n",
      "4\n"
     ]
    }
   ],
   "source": [
    "print(0)\n",
    "print(1)\n",
    "print(2)\n",
    "print(3)\n",
    "print(4)"
   ]
  },
  {
   "cell_type": "code",
   "execution_count": 46,
   "id": "c0eef879-2cb0-48b3-ab08-ebc5354ac8c0",
   "metadata": {},
   "outputs": [
    {
     "name": "stdout",
     "output_type": "stream",
     "text": [
      "hello  hello  hello  hello  hello  "
     ]
    }
   ],
   "source": [
    "# i want to print hello 5 times\n",
    "for i in range (5):\n",
    "    print(\"hello\",end='  ')\n"
   ]
  },
  {
   "cell_type": "code",
   "execution_count": 11,
   "id": "9f4019f1-ccb7-4b04-a995-85bafc369202",
   "metadata": {},
   "outputs": [
    {
     "name": "stdout",
     "output_type": "stream",
     "text": [
      "10 is even\n"
     ]
    }
   ],
   "source": [
    "# take random number between 1 to 100\n",
    "# print it is a even number or odd number\n",
    "# you need to generate 3 random numbers\n",
    "import math\n",
    "import random\n",
    "number=random.randint(1,100)\n",
    "if number%2==0:\n",
    "    print(f\"{number} is even\")\n",
    "else:\n",
    "    print(f\"{number} is odd\")"
   ]
  },
  {
   "cell_type": "code",
   "execution_count": 48,
   "id": "51531fcc-5c17-4c8f-9c62-5d630e06effd",
   "metadata": {},
   "outputs": [
    {
     "name": "stdout",
     "output_type": "stream",
     "text": [
      "43 is odd number\n"
     ]
    }
   ],
   "source": [
    "num=random.randint(1,100)\n",
    "if num%2==0:\n",
    "    print(f\"{num} is even number\")\n",
    "else:\n",
    "    print(f\"{num} is odd number\")"
   ]
  },
  {
   "cell_type": "code",
   "execution_count": 50,
   "id": "5ab17960-8837-4b8a-b5a0-83cd69af8490",
   "metadata": {},
   "outputs": [
    {
     "name": "stdout",
     "output_type": "stream",
     "text": [
      "13 is odd number\n",
      "36 is even number\n",
      "31 is odd number\n",
      "8 is even number\n"
     ]
    }
   ],
   "source": [
    "for i in range(4):\n",
    "    n1=random.randint(1,50)\n",
    "    if n1%2==0:\n",
    "        print(f\"{n1} is even number\")\n",
    "    else:\n",
    "        print(f\"{n1} is odd number\")"
   ]
  },
  {
   "cell_type": "code",
   "execution_count": 13,
   "id": "4d7c9abd-d705-43b9-ab76-fdf0e6b4614a",
   "metadata": {},
   "outputs": [
    {
     "name": "stdout",
     "output_type": "stream",
     "text": [
      "The entered value 24 is even\n",
      "The entered value 33 is odd\n",
      "The entered value 23 is odd\n"
     ]
    }
   ],
   "source": [
    "import random\n",
    "for i in range(3):\n",
    "    n2=random.randint(10,50)\n",
    "    if n2%2==0:\n",
    "        print(f\"The entered value {n2} is even\")\n",
    "    else:\n",
    "        print(f\"The entered value {n2} is odd\")"
   ]
  },
  {
   "cell_type": "code",
   "execution_count": 14,
   "id": "4e81991b-3649-472b-a91e-7d0bd4aebaa4",
   "metadata": {},
   "outputs": [
    {
     "name": "stdout",
     "output_type": "stream",
     "text": [
      "49 is odd\n",
      "2 is even\n",
      "53 is odd\n"
     ]
    }
   ],
   "source": [
    "for i in range(3):\n",
    "    number=random.randint(1,100)\n",
    "    if number%2==0:\n",
    "        print(f\"{number} is even\")\n",
    "    else:\n",
    "        print(f\"{number} is odd\")"
   ]
  },
  {
   "cell_type": "code",
   "execution_count": 14,
   "id": "bd27b611-cd82-4fca-bae2-0a98837c6989",
   "metadata": {},
   "outputs": [
    {
     "name": "stdout",
     "output_type": "stream",
     "text": [
      "odd number\n",
      "even number\n",
      "odd number\n",
      "odd number\n",
      "odd number\n"
     ]
    }
   ],
   "source": [
    "for i in range(5):\n",
    "    d=random.randint(1,300)\n",
    "    if d%2==0:\n",
    "        print(f\"even number\")\n",
    "    else:\n",
    "        print('odd number')\n",
    "    "
   ]
  },
  {
   "cell_type": "code",
   "execution_count": 51,
   "id": "c6047b03-c183-4cd8-a9ff-3d5fb754a542",
   "metadata": {},
   "outputs": [
    {
     "name": "stdout",
     "output_type": "stream",
     "text": [
      "0#1234"
     ]
    }
   ],
   "source": [
    "print(0,end='#')\n",
    "print(1,end='')\n",
    "print(2,end='')\n",
    "print(3,end='')\n",
    "print(4,end='')"
   ]
  },
  {
   "cell_type": "code",
   "execution_count": 17,
   "id": "89715786-5330-480a-ac60-6da6878953b0",
   "metadata": {},
   "outputs": [
    {
     "name": "stdout",
     "output_type": "stream",
     "text": [
      "0 1 2 3 4 5 6 7 8 9 "
     ]
    }
   ],
   "source": [
    "for i in range(10):\n",
    "    print(i,end=' ')"
   ]
  },
  {
   "cell_type": "code",
   "execution_count": 53,
   "id": "85a2e976-1e4f-4f36-b3a0-e10b91a4fdd6",
   "metadata": {},
   "outputs": [
    {
     "name": "stdout",
     "output_type": "stream",
     "text": [
      "0123"
     ]
    }
   ],
   "source": [
    "for i in range(4):\n",
    "    print(i,end='')"
   ]
  },
  {
   "cell_type": "code",
   "execution_count": 18,
   "id": "eac0cdfc-4110-482b-8c0f-44cc469a7d40",
   "metadata": {},
   "outputs": [],
   "source": [
    "# sep : will seperate multiple values in same print statment\n",
    "# end : combine the multiple print statments"
   ]
  },
  {
   "cell_type": "markdown",
   "id": "92a02526-8216-47e9-bd46-f950c87a9776",
   "metadata": {},
   "source": [
    "**Pattern-2**"
   ]
  },
  {
   "cell_type": "markdown",
   "id": "88fc4b36-35ba-4db5-847c-05b5ee31c1e9",
   "metadata": {},
   "source": [
    "**range(start,stop)\n",
    "- range(10,20)\n",
    "- increment=1\n",
    "- last= stop=20-1=19\n"
   ]
  },
  {
   "cell_type": "code",
   "execution_count": null,
   "id": "f63637cc-7576-476c-af8a-11aeedd770a4",
   "metadata": {},
   "outputs": [],
   "source": [
    "for i in range(2,8):\n",
    "    print(i)"
   ]
  },
  {
   "cell_type": "code",
   "execution_count": 16,
   "id": "c08cc6f5-06c6-4409-aa8c-a9955465abf1",
   "metadata": {},
   "outputs": [
    {
     "name": "stdout",
     "output_type": "stream",
     "text": [
      "2 3 4 5 6 7 "
     ]
    }
   ],
   "source": [
    "for i in range (2,8):\n",
    "    print(i,end=' ')"
   ]
  },
  {
   "cell_type": "code",
   "execution_count": 54,
   "id": "a6084915-ceec-4c1f-9175-c72de72ebb77",
   "metadata": {},
   "outputs": [
    {
     "name": "stdout",
     "output_type": "stream",
     "text": [
      "10 11 12 13 14 15 16 17 18 19 "
     ]
    }
   ],
   "source": [
    "for i in range (10,20):\n",
    "    print(i,end=\" \")"
   ]
  },
  {
   "cell_type": "code",
   "execution_count": 20,
   "id": "a9f69c45-31fd-49a2-84cf-69bc54cee771",
   "metadata": {},
   "outputs": [
    {
     "name": "stdout",
     "output_type": "stream",
     "text": [
      "10 11 12 13 14 15 16 17 18 19 "
     ]
    }
   ],
   "source": [
    "for i in range (10,20):\n",
    "    print(i,end=' ')"
   ]
  },
  {
   "cell_type": "code",
   "execution_count": 18,
   "id": "1b1c0bb9-3b2d-45c5-9a1c-7339245a8c13",
   "metadata": {},
   "outputs": [
    {
     "name": "stdout",
     "output_type": "stream",
     "text": [
      "1 4 9 16 25 36 49 64 81 "
     ]
    }
   ],
   "source": [
    "for i in range (1,10):\n",
    "    print(i*i,end=' ')"
   ]
  },
  {
   "cell_type": "code",
   "execution_count": 56,
   "id": "f37b8ae6-1cc5-4ab3-95b1-e4612f479b19",
   "metadata": {},
   "outputs": [
    {
     "name": "stdout",
     "output_type": "stream",
     "text": [
      "625  676  729  784  841  900  961  1024  1089  1156  1225  1296  1369  1444  1521  1600  1681  1764  1849  1936  2025  2116  2209  2304  2401  "
     ]
    }
   ],
   "source": [
    "for i in range (25,50):\n",
    "    print(i*i,end='  ')"
   ]
  },
  {
   "cell_type": "code",
   "execution_count": 21,
   "id": "482777a2-bc4d-4d8e-ba0c-ad26fe3ed293",
   "metadata": {},
   "outputs": [
    {
     "name": "stdout",
     "output_type": "stream",
     "text": [
      "400\n",
      "441\n",
      "484\n",
      "529\n",
      "576\n"
     ]
    }
   ],
   "source": [
    "# wap ask the user print the square of the number between 20 to 25\n",
    "for i in range (20,25):\n",
    "    print(i*i)\n"
   ]
  },
  {
   "cell_type": "code",
   "execution_count": 19,
   "id": "5a21497e-9ab4-406f-bf99-40744a37f9dd",
   "metadata": {},
   "outputs": [
    {
     "name": "stdout",
     "output_type": "stream",
     "text": [
      "400 441 484 529 576 "
     ]
    }
   ],
   "source": [
    "for i in range(20,25):\n",
    "    print(i*i,end=\" \")"
   ]
  },
  {
   "cell_type": "code",
   "execution_count": 58,
   "id": "5d101c57-9d62-4a97-b9a4-e4499dcd07ed",
   "metadata": {},
   "outputs": [
    {
     "name": "stdout",
     "output_type": "stream",
     "text": [
      "10 is even number 11 is odd number 12 is even number 13 is odd number 14 is even number 15 is odd number 16 is even number 17 is odd number 18 is even number 19 is odd number 20 is even number 21 is odd number 22 is even number 23 is odd number 24 is even number 25 is odd number 26 is even number 27 is odd number 28 is even number 29 is odd number "
     ]
    }
   ],
   "source": [
    "for i in range (10,30):\n",
    "    if i%2==0:\n",
    "        print(f\"{i} is even number\",end=' ')\n",
    "    else:\n",
    "        print(f\"{i} is odd number\",end=' ')"
   ]
  },
  {
   "cell_type": "code",
   "execution_count": 22,
   "id": "0fb36aac-118f-4ef3-a557-26cfbf7c432e",
   "metadata": {},
   "outputs": [
    {
     "name": "stdout",
     "output_type": "stream",
     "text": [
      "10 is even number 11 is odd number  12 is even number 13 is odd number  14 is even number 15 is odd number  16 is even number 17 is odd number  18 is even number 19 is odd number  "
     ]
    }
   ],
   "source": [
    "for i in range(10,20):\n",
    "    if i%2==0:\n",
    "        print(f\"{i} is even number\",end=' ')\n",
    "    else:\n",
    "        print(f\"{i} is odd number \",end=' ')\n",
    "        "
   ]
  },
  {
   "cell_type": "code",
   "execution_count": 22,
   "id": "1cc56636-377e-492c-a982-ce5eafa98366",
   "metadata": {},
   "outputs": [
    {
     "name": "stdout",
     "output_type": "stream",
     "text": [
      "10 is even number\n",
      "11 is odd number\n",
      "12 is even number\n",
      "13 is odd number\n",
      "14 is even number\n",
      "15 is odd number\n",
      "16 is even number\n",
      "17 is odd number\n",
      "18 is even number\n",
      "19 is odd number\n"
     ]
    }
   ],
   "source": [
    "# wap ask the user print the number is ever or odd between 10 to 20\n",
    "for i in range(10,20):\n",
    "    if i%2==0:\n",
    "        print(f\"{i} is even number\")\n",
    "    else:\n",
    "        print(f\"{i} is odd number\")"
   ]
  },
  {
   "cell_type": "markdown",
   "id": "37733f78-c8e5-428f-9749-3b7abd9a2dda",
   "metadata": {},
   "source": [
    "$Pattern-3$\n",
    "**range(start,stop,step)**\n",
    "- start value= start values\n",
    "- step value=if step value is positive : increment\n",
    "-      last= stop-1\n",
    "- negetive step valuem\n",
    "-     if step value is nagative : decrement\n",
    "-   last= stop+1"
   ]
  },
  {
   "cell_type": "code",
   "execution_count": 59,
   "id": "dbba0af4-d230-4bf1-be6e-661658a77533",
   "metadata": {},
   "outputs": [
    {
     "name": "stdout",
     "output_type": "stream",
     "text": [
      "2 4 6 8 "
     ]
    }
   ],
   "source": [
    "for i in range(2,10,2):\n",
    "    print(i,end=' ')"
   ]
  },
  {
   "cell_type": "code",
   "execution_count": 24,
   "id": "cd611657-0dca-43f0-a3a7-1039f731239f",
   "metadata": {},
   "outputs": [
    {
     "name": "stdout",
     "output_type": "stream",
     "text": [
      "2 4 6 8 10 12 14 16 18 "
     ]
    }
   ],
   "source": [
    "# case 1: \n",
    "for i in range(2,20,2):\n",
    "    print(i,end=\" \")\n",
    "# start=2\n",
    "# step=+ve 2\n",
    "# last= stop-1=20-1=19\n",
    "# 2,4,6,8,10,12,14,16,18"
   ]
  },
  {
   "cell_type": "code",
   "execution_count": 25,
   "id": "d032307f-6345-4438-9f89-6e65d69fe1ae",
   "metadata": {},
   "outputs": [
    {
     "name": "stdout",
     "output_type": "stream",
     "text": [
      "50 57 64 71 78 85 92 99 "
     ]
    }
   ],
   "source": [
    "for i in range(50,105,7):\n",
    "    print(i,end=\" \")"
   ]
  },
  {
   "cell_type": "code",
   "execution_count": 61,
   "id": "10097dae-c687-4362-b7f7-0143b9bbc0fb",
   "metadata": {},
   "outputs": [
    {
     "name": "stdout",
     "output_type": "stream",
     "text": [
      "1 10 19 28 "
     ]
    }
   ],
   "source": [
    "for i in range(1,30,9):\n",
    "    print(i,end=' ')"
   ]
  },
  {
   "cell_type": "code",
   "execution_count": 26,
   "id": "4f3ec5b4-c7db-4d37-8858-a7fae24f8e4b",
   "metadata": {},
   "outputs": [
    {
     "name": "stdout",
     "output_type": "stream",
     "text": [
      "100 ==>250 ==>400 ==>550 ==>700 ==>850 ==>"
     ]
    }
   ],
   "source": [
    "for i in range(100,1000,150):\n",
    "    print(i,end=' ==>')"
   ]
  },
  {
   "cell_type": "code",
   "execution_count": 63,
   "id": "322ed681-8fd6-4121-b454-c332edcea0d9",
   "metadata": {},
   "outputs": [
    {
     "name": "stdout",
     "output_type": "stream",
     "text": [
      "30\n",
      "27\n",
      "24\n",
      "21\n"
     ]
    }
   ],
   "source": [
    "for i in range(30,20,-3):\n",
    "    print(i)"
   ]
  },
  {
   "cell_type": "code",
   "execution_count": 27,
   "id": "cc933ca4-9f9f-4af3-99dd-c19683fbbde7",
   "metadata": {},
   "outputs": [
    {
     "name": "stdout",
     "output_type": "stream",
     "text": [
      "100,250,400,550,700,850,"
     ]
    }
   ],
   "source": [
    "for i in range(100,1000,150):\n",
    "    print(i,end=',')"
   ]
  },
  {
   "cell_type": "code",
   "execution_count": 29,
   "id": "f6bcfb84-9615-4736-92dd-ec9691bbf9b2",
   "metadata": {},
   "outputs": [],
   "source": [
    "# case 2\n",
    "for i in range(2,20,-3):\n",
    "    print(i,end=' ')"
   ]
  },
  {
   "cell_type": "code",
   "execution_count": 30,
   "id": "319266f1-1fbd-42cd-9cce-fd92736c7de4",
   "metadata": {},
   "outputs": [
    {
     "name": "stdout",
     "output_type": "stream",
     "text": [
      "2 -1 -4 -7 -10 -13 -16 -19 "
     ]
    }
   ],
   "source": [
    "for i in range(2,-20,-3):\n",
    "    print(i,end=' ')"
   ]
  },
  {
   "cell_type": "code",
   "execution_count": 65,
   "id": "0c1f4bbc-801c-4cf3-9375-00620830c6b5",
   "metadata": {},
   "outputs": [
    {
     "name": "stdout",
     "output_type": "stream",
     "text": [
      "10\n",
      "8\n",
      "6\n",
      "4\n",
      "2\n",
      "0\n",
      "-2\n",
      "-4\n",
      "-6\n",
      "-8\n"
     ]
    }
   ],
   "source": [
    "for i in range(10,-10,-2):\n",
    "    print(i)"
   ]
  },
  {
   "cell_type": "code",
   "execution_count": 33,
   "id": "b0eb4c94-20d3-41f4-9397-91e00b3c52ca",
   "metadata": {},
   "outputs": [
    {
     "name": "stdout",
     "output_type": "stream",
     "text": [
      "25 23 21 19 17 15 13 11 9 7 "
     ]
    }
   ],
   "source": [
    "# case 3\n",
    "for i in range(25,5,-2):\n",
    "    print(i,end=' ')"
   ]
  },
  {
   "cell_type": "code",
   "execution_count": 66,
   "id": "e0406435-d815-44d3-955e-7911daa98589",
   "metadata": {},
   "outputs": [],
   "source": [
    "# case 4\n",
    "for i in range(-20,2,-3):\n",
    "    print(i,end=' ')"
   ]
  },
  {
   "cell_type": "code",
   "execution_count": 67,
   "id": "9c591ee6-ad5d-430b-a36d-462df4137d76",
   "metadata": {},
   "outputs": [
    {
     "data": {
      "text/plain": [
       "range(-20, -3, -2)"
      ]
     },
     "execution_count": 67,
     "metadata": {},
     "output_type": "execute_result"
    }
   ],
   "source": [
    "range(3,20,2)\n",
    "range(3,20,-2)\n",
    "range(3,-20,2)\n",
    "range(3,-20,-2)\n",
    "range(-3,20,-2)\n",
    "range(-3,-20,-2)\n",
    "range(20,3,-2)\n",
    "range(-20,3,-2)\n",
    "range(-20,-3,-2)\n",
    "\n"
   ]
  },
  {
   "cell_type": "code",
   "execution_count": 72,
   "id": "e5d03934-1ba2-4a4a-884e-8ef3567e5833",
   "metadata": {},
   "outputs": [
    {
     "name": "stdin",
     "output_type": "stream",
     "text": [
      "enter the number : 2\n"
     ]
    },
    {
     "name": "stdout",
     "output_type": "stream",
     "text": [
      "the square of the entered number 2 is 4\n"
     ]
    },
    {
     "name": "stdin",
     "output_type": "stream",
     "text": [
      "enter the number : 5\n"
     ]
    },
    {
     "name": "stdout",
     "output_type": "stream",
     "text": [
      "the square of the entered number 5 is 25\n"
     ]
    },
    {
     "name": "stdin",
     "output_type": "stream",
     "text": [
      "enter the number : 8\n"
     ]
    },
    {
     "name": "stdout",
     "output_type": "stream",
     "text": [
      "the square of the entered number 8 is 64\n"
     ]
    }
   ],
   "source": [
    "# wap ask the user enter a numbere 3 times\n",
    "# find the squre of the number\n",
    "for i in range(3):\n",
    "    number1=eval(input(\"enter the number :\"))\n",
    "    print(f\"the square of the entered number {number1} is {number1*number1}\")"
   ]
  },
  {
   "cell_type": "code",
   "execution_count": 23,
   "id": "0bf87ac6-7e38-43d4-9abd-4cb23b069b84",
   "metadata": {},
   "outputs": [
    {
     "name": "stdin",
     "output_type": "stream",
     "text": [
      "enter the value 5\n"
     ]
    },
    {
     "name": "stdout",
     "output_type": "stream",
     "text": [
      "the square of the 5 is 25\n"
     ]
    },
    {
     "name": "stdin",
     "output_type": "stream",
     "text": [
      "enter the value 6\n"
     ]
    },
    {
     "name": "stdout",
     "output_type": "stream",
     "text": [
      "the square of the 6 is 36\n"
     ]
    },
    {
     "name": "stdin",
     "output_type": "stream",
     "text": [
      "enter the value 7\n"
     ]
    },
    {
     "name": "stdout",
     "output_type": "stream",
     "text": [
      "the square of the 7 is 49\n"
     ]
    }
   ],
   "source": [
    "# wap ask the user enter a numbere 3 times\n",
    "# find the squre of the number\n",
    "for i in range(3):\n",
    "    num=eval(input(\"enter the value\"))\n",
    "    print(f\"the square of the {num} is {num*num}\")"
   ]
  },
  {
   "cell_type": "code",
   "execution_count": 78,
   "id": "ee4cd0c7-6f69-4f09-9cc4-5a6b6b7fcc8e",
   "metadata": {},
   "outputs": [
    {
     "name": "stdin",
     "output_type": "stream",
     "text": [
      "enter the number 14\n"
     ]
    },
    {
     "name": "stdout",
     "output_type": "stream",
     "text": [
      "14 * 1 = 14\n",
      "14 * 2 = 28\n",
      "14 * 3 = 42\n",
      "14 * 4 = 56\n",
      "14 * 5 = 70\n",
      "14 * 6 = 84\n",
      "14 * 7 = 98\n",
      "14 * 8 = 112\n",
      "14 * 9 = 126\n",
      "14 * 10 = 140\n"
     ]
    }
   ],
   "source": [
    "# print the 14 th table\n",
    "n2=eval(input(\"enter the number\"))\n",
    "for i in range (1,11):\n",
    "    n3=n2*i\n",
    "    print(f\"{n2} * {i} = {n3}\")"
   ]
  },
  {
   "cell_type": "code",
   "execution_count": 81,
   "id": "38aead5b-4376-4f30-bfb9-45ae252a8e68",
   "metadata": {},
   "outputs": [
    {
     "name": "stdin",
     "output_type": "stream",
     "text": [
      "enter the a number 19\n"
     ]
    },
    {
     "name": "stdout",
     "output_type": "stream",
     "text": [
      "19 * 1 = 19\n",
      "19 * 2 = 38\n",
      "19 * 3 = 57\n",
      "19 * 4 = 76\n",
      "19 * 5 = 95\n",
      "19 * 6 = 114\n",
      "19 * 7 = 133\n",
      "19 * 8 = 152\n",
      "19 * 9 = 171\n",
      "19 * 10 = 190\n"
     ]
    }
   ],
   "source": [
    "# print the 18th table\n",
    "num=eval(input(\"enter the a number\"))\n",
    "for i in range(1,11):\n",
    "    value=i*num\n",
    "    print(f\"{num} * {i} = {value}\")"
   ]
  },
  {
   "cell_type": "code",
   "execution_count": 26,
   "id": "15f8481a-2995-4e25-80a2-723ae9c16474",
   "metadata": {},
   "outputs": [
    {
     "name": "stdin",
     "output_type": "stream",
     "text": [
      "enter the number which you want to the table 16\n"
     ]
    },
    {
     "name": "stdout",
     "output_type": "stream",
     "text": [
      "16 * 1 = 16\n",
      "16 * 2 = 32\n",
      "16 * 3 = 48\n",
      "16 * 4 = 64\n",
      "16 * 5 = 80\n",
      "16 * 6 = 96\n",
      "16 * 7 = 112\n",
      "16 * 8 = 128\n",
      "16 * 9 = 144\n",
      "16 * 10 = 160\n",
      "16 * 11 = 176\n",
      "16 * 12 = 192\n",
      "16 * 13 = 208\n",
      "16 * 14 = 224\n",
      "16 * 15 = 240\n",
      "16 * 16 = 256\n",
      "16 * 17 = 272\n",
      "16 * 18 = 288\n"
     ]
    }
   ],
   "source": [
    "num3=eval(input(\"enter the number which you want to the table\"))\n",
    "for i in range(1,19):\n",
    "    value=i*num3\n",
    "    print(f\"{num3} * {i} = {value}\")"
   ]
  },
  {
   "cell_type": "code",
   "execution_count": 84,
   "id": "397e244a-5e10-42ac-8634-6ad7933d4ab5",
   "metadata": {},
   "outputs": [
    {
     "name": "stdin",
     "output_type": "stream",
     "text": [
      "enter the factor number 75\n"
     ]
    },
    {
     "name": "stdout",
     "output_type": "stream",
     "text": [
      "1\n",
      "3\n",
      "5\n",
      "15\n",
      "25\n"
     ]
    }
   ],
   "source": [
    "# 6th Q:\n",
    "# find the factor of 75\n",
    "# step1: irerate the loop = which number factor you want\n",
    "# step2 : apply if condition\n",
    "#     cond= devide the number with i\n",
    "number=eval(input(\"enter the factor number\"))\n",
    "for i in range (1,75):\n",
    "    if number%i==0:\n",
    "        print(f\"{i}\")"
   ]
  },
  {
   "cell_type": "code",
   "execution_count": 32,
   "id": "5e1361cd-88c9-49c7-a543-5b8777bc4234",
   "metadata": {},
   "outputs": [
    {
     "name": "stdin",
     "output_type": "stream",
     "text": [
      "enter the value which factor you want 56\n"
     ]
    },
    {
     "name": "stdout",
     "output_type": "stream",
     "text": [
      "the factors of the 56 is 1\n",
      "the factors of the 56 is 2\n",
      "the factors of the 56 is 4\n",
      "the factors of the 56 is 7\n",
      "the factors of the 56 is 8\n",
      "the factors of the 56 is 14\n",
      "the factors of the 56 is 28\n",
      "the factors of the 56 is 56\n"
     ]
    }
   ],
   "source": [
    "num5=eval(input(\"enter the value which factor you want\"))\n",
    "for i in range(1,83):\n",
    "    if num5%i==0:\n",
    "        print(f\"the factors of the {num5} is {i}\")"
   ]
  },
  {
   "cell_type": "code",
   "execution_count": 94,
   "id": "e8d62814-fda2-4c9f-9705-5bf0cc5c6604",
   "metadata": {},
   "outputs": [
    {
     "name": "stdout",
     "output_type": "stream",
     "text": [
      "0+1=1\n",
      "1+2=3\n",
      "3+3=6\n",
      "6+4=10\n",
      "10+5=15\n",
      "15+6=21\n",
      "21+7=28\n",
      "28+8=36\n",
      "36+9=45\n",
      "45+10=55\n"
     ]
    }
   ],
   "source": [
    "# 7th q :\n",
    "# write the sum of the first 10 natural numbers\n",
    "summ=0\n",
    "for i in range(1,11):\n",
    "    summ=summ+i\n",
    "    print(f\"{summ-i}+{i}={summ}\")\n"
   ]
  },
  {
   "cell_type": "markdown",
   "id": "7639f957-f131-4d9d-af50-8a015fa351d1",
   "metadata": {},
   "source": [
    "***Summation wrapper***\n",
    "- initially we need to keep summ=0\n",
    "- make sure that do not provide *sum* because sum is a key word\n",
    "- inside for loop : summ=summ+1"
   ]
  },
  {
   "cell_type": "markdown",
   "id": "f34492ef-7a2a-4fc5-b882-668df069cf32",
   "metadata": {},
   "source": [
    "***Note***\n",
    "- if we print answer from out of for loop, last answer will print"
   ]
  },
  {
   "cell_type": "code",
   "execution_count": 95,
   "id": "d76d6789-dc59-4228-9a6e-bdc1a49aafdc",
   "metadata": {},
   "outputs": [
    {
     "name": "stdout",
     "output_type": "stream",
     "text": [
      "0\n",
      "1\n",
      "2\n"
     ]
    }
   ],
   "source": [
    "for i in range(3):\n",
    "    print(i)"
   ]
  },
  {
   "cell_type": "code",
   "execution_count": 98,
   "id": "a7126e31-30fe-4f2e-9e14-cc781265744f",
   "metadata": {},
   "outputs": [
    {
     "name": "stdout",
     "output_type": "stream",
     "text": [
      "45\n"
     ]
    }
   ],
   "source": [
    "summ=0\n",
    "for i in range(10):\n",
    "    summ=summ+i\n",
    "print(summ)"
   ]
  },
  {
   "cell_type": "code",
   "execution_count": 35,
   "id": "85d012e9-2b07-422f-b91b-84cb26c811a7",
   "metadata": {},
   "outputs": [
    {
     "name": "stdout",
     "output_type": "stream",
     "text": [
      "45\n"
     ]
    }
   ],
   "source": [
    "summ=0\n",
    "for i in range (10):\n",
    "    summ=summ+i\n",
    "print(summ)"
   ]
  },
  {
   "cell_type": "code",
   "execution_count": 101,
   "id": "df5b238a-d690-44ff-899f-7403cda2f625",
   "metadata": {},
   "outputs": [
    {
     "name": "stdin",
     "output_type": "stream",
     "text": [
      "Enter the number 20\n"
     ]
    },
    {
     "name": "stdout",
     "output_type": "stream",
     "text": [
      "avarage of first ten numbers is 10.5\n"
     ]
    }
   ],
   "source": [
    "# q 8 \n",
    "# average of first 10 numbers\n",
    "summ=0\n",
    "n=eval(input(\"Enter the number\"))\n",
    "for i in range (1,n+1):\n",
    "    summ=summ+i\n",
    "print(f\"avarage of first ten numbers is {summ/n}\")"
   ]
  },
  {
   "cell_type": "code",
   "execution_count": 38,
   "id": "c216c501-9e5c-4432-aa35-9c96721e7235",
   "metadata": {},
   "outputs": [
    {
     "name": "stdout",
     "output_type": "stream",
     "text": [
      "the average of the first 15 numbers is 7.0\n"
     ]
    }
   ],
   "source": [
    "# average of first 10 numbers\n",
    "summ=0\n",
    "for i in range (15):\n",
    "    summ=summ+i\n",
    "    avg=round(summ/15,2)\n",
    "print(f\"the average of the first 15 numbers is {avg}\")"
   ]
  },
  {
   "cell_type": "markdown",
   "id": "fbf00d8e-4b2c-4bb0-a0b4-a507a337fcb1",
   "metadata": {},
   "source": [
    "***Counter wrapper***\n",
    "- before for loop initialize with count=0\n",
    "- undert for loop count=count+1\n",
    "- counter always increase by 1 only"
   ]
  },
  {
   "cell_type": "code",
   "execution_count": 111,
   "id": "51bdae31-ee7a-46cc-9367-ecc8f9e7e56e",
   "metadata": {},
   "outputs": [
    {
     "name": "stdin",
     "output_type": "stream",
     "text": [
      "enter the division value 100\n"
     ]
    },
    {
     "name": "stdout",
     "output_type": "stream",
     "text": [
      " the number of divisors of 100 is 9\n"
     ]
    }
   ],
   "source": [
    "# Q9: Find the number of divisors of 75\n",
    "n=eval(input(\"enter the division value\"))\n",
    "count=0\n",
    "for i in range(1,n+1):\n",
    "    if n%i==0:\n",
    "        count=count+1\n",
    "print(f\" the number of divisors of {n} is {count}\")"
   ]
  },
  {
   "cell_type": "code",
   "execution_count": 40,
   "id": "ce2552d1-816c-498d-9792-23b4a7f06421",
   "metadata": {},
   "outputs": [
    {
     "name": "stdin",
     "output_type": "stream",
     "text": [
      "enter the divisible number : 78\n"
     ]
    },
    {
     "name": "stdout",
     "output_type": "stream",
     "text": [
      "the number of divisors of 78 is 8\n"
     ]
    }
   ],
   "source": [
    "# Q9: Find the number of divisors of 75\n",
    "n6=eval(input(\"enter the divisible number :\"))\n",
    "count=0\n",
    "for i in range (1,n6+1):\n",
    "    if n6%i==0:\n",
    "        count=count+1\n",
    "print(f\"the number of divisors of {n6} is {count}\")"
   ]
  },
  {
   "cell_type": "code",
   "execution_count": 121,
   "id": "8d809fd9-0076-45a4-aad8-516d61a726eb",
   "metadata": {},
   "outputs": [
    {
     "name": "stdin",
     "output_type": "stream",
     "text": [
      "enter a value between 1 to 10 4\n"
     ]
    },
    {
     "name": "stdout",
     "output_type": "stream",
     "text": [
      "you won the match\n"
     ]
    },
    {
     "name": "stdin",
     "output_type": "stream",
     "text": [
      "enter a value between 1 to 10 5\n"
     ]
    },
    {
     "name": "stdout",
     "output_type": "stream",
     "text": [
      "you lose the match\n"
     ]
    },
    {
     "name": "stdin",
     "output_type": "stream",
     "text": [
      "enter a value between 1 to 10 6\n"
     ]
    },
    {
     "name": "stdout",
     "output_type": "stream",
     "text": [
      "you lose the match\n"
     ]
    }
   ],
   "source": [
    "#.10q\n",
    "# get a random number between 1 to 10 : num1\n",
    "# ask the user enter a number : num2\n",
    "# if n1==n2 then print won\n",
    "# else print fail\n",
    "# give three chances\n",
    "import random\n",
    "for i in range (3):\n",
    "    num1=random.randint(1,10)\n",
    "    num2=eval(input(\"enter a value between 1 to 10\"))\n",
    "    if num1==num2 :\n",
    "        print(\"you won the match\")\n",
    "    else:\n",
    "        print(\"you lose the match\")\n",
    " \n"
   ]
  },
  {
   "cell_type": "code",
   "execution_count": 124,
   "id": "4b7b7850-b63b-4104-9096-e45745f3ddba",
   "metadata": {},
   "outputs": [
    {
     "name": "stdout",
     "output_type": "stream",
     "text": [
      "9\n"
     ]
    },
    {
     "name": "stdin",
     "output_type": "stream",
     "text": [
      "enter a value between 1 to 10 2\n"
     ]
    },
    {
     "name": "stdout",
     "output_type": "stream",
     "text": [
      "you lose the match\n",
      "1\n"
     ]
    },
    {
     "name": "stdin",
     "output_type": "stream",
     "text": [
      "enter a value between 1 to 10 1\n"
     ]
    },
    {
     "name": "stdout",
     "output_type": "stream",
     "text": [
      "you won the match\n"
     ]
    }
   ],
   "source": [
    "# case 2 whenever you won the code should be stop\n",
    "for i in range (3):\n",
    "    num1=random.randint(1,10)\n",
    "    print(num1)\n",
    "    num2=eval(input(\"enter a value between 1 to 10\"))\n",
    "    if num1==num2 :\n",
    "        print(\"you won the match\")\n",
    "        break\n",
    "    else:\n",
    "        print(\"you lose the match\")\n",
    "        "
   ]
  },
  {
   "cell_type": "code",
   "execution_count": 43,
   "id": "e7332060-65e2-47df-838d-32d763989341",
   "metadata": {},
   "outputs": [
    {
     "name": "stdin",
     "output_type": "stream",
     "text": [
      "enter any number between 1 to 10 3\n"
     ]
    },
    {
     "name": "stdout",
     "output_type": "stream",
     "text": [
      "you lose the match\n",
      "you left only 5 chances\n"
     ]
    },
    {
     "name": "stdin",
     "output_type": "stream",
     "text": [
      "enter any number between 1 to 10 5\n"
     ]
    },
    {
     "name": "stdout",
     "output_type": "stream",
     "text": [
      "you lose the match\n",
      "you left only 4 chances\n"
     ]
    },
    {
     "name": "stdin",
     "output_type": "stream",
     "text": [
      "enter any number between 1 to 10 6\n"
     ]
    },
    {
     "name": "stdout",
     "output_type": "stream",
     "text": [
      "you lose the match\n",
      "you left only 3 chances\n"
     ]
    },
    {
     "name": "stdin",
     "output_type": "stream",
     "text": [
      "enter any number between 1 to 10 7\n"
     ]
    },
    {
     "name": "stdout",
     "output_type": "stream",
     "text": [
      "you lose the match\n",
      "you left only 2 chances\n"
     ]
    },
    {
     "name": "stdin",
     "output_type": "stream",
     "text": [
      "enter any number between 1 to 10 8\n"
     ]
    },
    {
     "name": "stdout",
     "output_type": "stream",
     "text": [
      "you lose the match\n",
      "you left only 1 chances\n"
     ]
    }
   ],
   "source": [
    "for i in range (5):\n",
    "    n8=random.randint(1,10)\n",
    "    n9=eval(input(\"enter any number between 1 to 10\"))\n",
    "    if n8==n9:\n",
    "        print(\"you won the match\")\n",
    "        break\n",
    "    else:\n",
    "        print(\"you lose the match\")\n",
    "        print(f\"you left only {5-i} chances\")\n",
    "        if i-5==0:\n",
    "            print(\"try after 24 hrs\")"
   ]
  },
  {
   "cell_type": "code",
   "execution_count": 129,
   "id": "0ff7c196-3409-4922-a385-248b09035357",
   "metadata": {},
   "outputs": [
    {
     "name": "stdout",
     "output_type": "stream",
     "text": [
      "1\n"
     ]
    },
    {
     "name": "stdin",
     "output_type": "stream",
     "text": [
      "enter a value between 1 to 10 2\n"
     ]
    },
    {
     "name": "stdout",
     "output_type": "stream",
     "text": [
      "you lose the match\n",
      "you have only 5 left to win\n",
      "7\n"
     ]
    },
    {
     "name": "stdin",
     "output_type": "stream",
     "text": [
      "enter a value between 1 to 10 4\n"
     ]
    },
    {
     "name": "stdout",
     "output_type": "stream",
     "text": [
      "you lose the match\n",
      "you have only 4 left to win\n",
      "4\n"
     ]
    },
    {
     "name": "stdin",
     "output_type": "stream",
     "text": [
      "enter a value between 1 to 10 4\n"
     ]
    },
    {
     "name": "stdout",
     "output_type": "stream",
     "text": [
      "you won the match\n"
     ]
    }
   ],
   "source": [
    "# case 3\n",
    "# suppose i want to give 4 chances\n",
    "# every time you fail i want to disply num of chances left\n",
    "# if all the chances you are used , try after 24 hrs\n",
    "\n",
    "for i in range (5):\n",
    "    num1=random.randint(1,10)\n",
    "    print(num1)\n",
    "    num2=eval(input(\"enter a value between 1 to 10\"))\n",
    "    if num1==num2 :\n",
    "        print(\"you won the match\")\n",
    "        break\n",
    "    else:\n",
    "        print(\"you lose the match\")\n",
    "        print(f\"you have only {5-i} left to win\")\n",
    "        if i-5==0:\n",
    "            print(\"try agian after 24 hrs\")"
   ]
  },
  {
   "cell_type": "code",
   "execution_count": 135,
   "id": "4f9efc99-2386-4d9d-8451-4dffd1989fb6",
   "metadata": {},
   "outputs": [
    {
     "name": "stdout",
     "output_type": "stream",
     "text": [
      "the total number of evern numbers is 2\n",
      "the total number of odd numbers is 3\n",
      "the total sum of evern numbers is 116\n",
      "the total sum of odd numbers is 131\n"
     ]
    }
   ],
   "source": [
    "even_count,odd_count=0,0\n",
    "even_sum,odd_sum=0,0\n",
    "for i in range (5):\n",
    "    num=random.randint(1,100)\n",
    "    if num%2==0:\n",
    "        even_count=even_count+1\n",
    "        even_sum=even_sum+num\n",
    "    else:\n",
    "        odd_count=odd_count+1\n",
    "        odd_sum=odd_sum+num\n",
    "print(f\"the total number of evern numbers is {even_count}\")\n",
    "print(f\"the total number of odd numbers is {odd_count}\")\n",
    "print(f\"the total sum of evern numbers is {even_sum}\")\n",
    "print(f\"the total sum of odd numbers is {odd_sum}\")"
   ]
  },
  {
   "cell_type": "code",
   "execution_count": 136,
   "id": "08c0c70a-e124-4433-b82c-7a680d48b296",
   "metadata": {},
   "outputs": [
    {
     "name": "stdout",
     "output_type": "stream",
     "text": [
      "the total number of evern numbers is 4\n",
      "the total number of odd numbers is 1\n"
     ]
    }
   ],
   "source": [
    "even_count,odd_count=0,0\n",
    "for i in range (5):\n",
    "    num=random.randint(1,100)\n",
    "    if num%2==0:\n",
    "        even_count=even_count+1\n",
    "    else:\n",
    "        odd_count=odd_count+1\n",
    "print(f\"the total number of evern numbers is {even_count}\")\n",
    "print(f\"the total number of odd numbers is {odd_count}\")"
   ]
  },
  {
   "cell_type": "code",
   "execution_count": 44,
   "id": "9a7eaa24-bec9-47fa-bf02-108c058da800",
   "metadata": {},
   "outputs": [
    {
     "name": "stdout",
     "output_type": "stream",
     "text": [
      "the total numbers of even numbers is 4\n",
      "the total numbers of odd numbers is 1\n"
     ]
    }
   ],
   "source": [
    "even_count1,odd_count1=0,0\n",
    "for i in range (5):\n",
    "    num=random.randint(1,100)\n",
    "    if num%2==0:\n",
    "        even_count1=even_count1+1\n",
    "    else:\n",
    "        odd_count1=odd_count1+1\n",
    "print(f\"the total numbers of even numbers is {even_count1}\")\n",
    "print(f\"the total numbers of odd numbers is {odd_count1}\")"
   ]
  },
  {
   "cell_type": "code",
   "execution_count": 138,
   "id": "9638bdc1-1626-416f-8fbf-45bf494297a1",
   "metadata": {},
   "outputs": [
    {
     "name": "stdout",
     "output_type": "stream",
     "text": [
      "the total number of evern numbers is 4\n",
      "the total number of odd numbers is 1\n",
      "the total sum of evern numbers is 116\n",
      "the total sum of odd numbers is 131\n"
     ]
    }
   ],
   "source": [
    "def even_odd ():\n",
    "    even_count,odd_count=0,0\n",
    "    even_sum,odd_sum=0,0\n",
    "    for i in range (5):\n",
    "        num=random.randint(1,100)\n",
    "        if num%2==0:\n",
    "            even_count=even_count+1\n",
    "            even_sum=even_sum+num\n",
    "        else:\n",
    "            odd_count=odd_count+1\n",
    "            odd_sum=odd_sum+num\n",
    "print(f\"the total number of evern numbers is {even_count}\")\n",
    "print(f\"the total number of odd numbers is {odd_count}\")\n",
    "print(f\"the total sum of evern numbers is {even_sum}\")\n",
    "print(f\"the total sum of odd numbers is {odd_sum}\")"
   ]
  },
  {
   "cell_type": "code",
   "execution_count": 139,
   "id": "22f9c9bf-1615-4994-a0b5-3f20b2ddf034",
   "metadata": {},
   "outputs": [
    {
     "name": "stdout",
     "output_type": "stream",
     "text": [
      "the total number of evern numbers is 0\n",
      "the total number of odd numbers is 0\n",
      "the total sum of evern numbers is 0\n",
      "the total sum of odd numbers is 0\n"
     ]
    }
   ],
   "source": [
    "even_count,odd_count=0,0\n",
    "even_sum,odd_sum=0,0\n",
    "def even_odd ():\n",
    "    for i in range (5):\n",
    "        num=random.randint(1,100)\n",
    "        if num%2==0:\n",
    "            even_count=even_count+1\n",
    "            even_sum=even_sum+num\n",
    "        else:\n",
    "            odd_count=odd_count+1\n",
    "            odd_sum=odd_sum+num\n",
    "print(f\"the total number of evern numbers is {even_count}\")\n",
    "print(f\"the total number of odd numbers is {odd_count}\")\n",
    "print(f\"the total sum of evern numbers is {even_sum}\")\n",
    "print(f\"the total sum of odd numbers is {odd_sum}\")"
   ]
  },
  {
   "cell_type": "markdown",
   "id": "8114f856-dff0-4afa-9b54-81ea9f84e8a9",
   "metadata": {},
   "source": [
    "**In operator**\n"
   ]
  },
  {
   "cell_type": "code",
   "execution_count": 142,
   "id": "99c1d13b-91d1-463d-b6a5-0dd0ef55290b",
   "metadata": {},
   "outputs": [
    {
     "data": {
      "text/plain": [
       "True"
      ]
     },
     "execution_count": 142,
     "metadata": {},
     "output_type": "execute_result"
    }
   ],
   "source": [
    "string1='python'\n",
    "'p' in string1\n",
    "'y' in string1\n",
    "'t' in string1\n"
   ]
  },
  {
   "cell_type": "code",
   "execution_count": 141,
   "id": "f7ac0b9c-3f32-420e-839b-0445bdda6f04",
   "metadata": {},
   "outputs": [
    {
     "name": "stdout",
     "output_type": "stream",
     "text": [
      "p\n",
      "y\n",
      "t\n",
      "h\n",
      "o\n",
      "n\n"
     ]
    }
   ],
   "source": [
    "for i in string1:\n",
    "    print(i)"
   ]
  },
  {
   "cell_type": "code",
   "execution_count": null,
   "id": "fb9d8ed2-03a6-4033-845b-2840e6ae092e",
   "metadata": {},
   "outputs": [],
   "source": [
    "for i in string1:\n",
    "    print(i)"
   ]
  },
  {
   "cell_type": "markdown",
   "id": "ae5b6745-5ab3-4d28-b284-0bdebd981a55",
   "metadata": {},
   "source": [
    "**different between in operator and range operator**\n",
    "- range belongs to math family inside range we need to keep numbers only\n",
    "- whever you want to iterate through english letters we need to use in operator\n",
    "- range means Numbers\n",
    "- in means strings\n"
   ]
  },
  {
   "cell_type": "code",
   "execution_count": 143,
   "id": "a1c88b03-1b8e-40b0-9cee-7de8b008c329",
   "metadata": {},
   "outputs": [
    {
     "data": {
      "text/plain": [
       "True"
      ]
     },
     "execution_count": 143,
     "metadata": {},
     "output_type": "execute_result"
    }
   ],
   "source": [
    "'p'>'P'"
   ]
  },
  {
   "cell_type": "markdown",
   "id": "284889da-79c2-43b8-ab4e-d9422718093c",
   "metadata": {},
   "source": [
    "- every english letter\n",
    "- every special charecter how machine will understand\n",
    "- machime language always consider as numbers\n",
    "- every non numeric assign a number\n",
    "- ASCII:American standard code for information interchange\n",
    "- A:65,a:97"
   ]
  },
  {
   "cell_type": "markdown",
   "id": "92aeeab2-412a-4f21-a1be-a4849d267abb",
   "metadata": {},
   "source": [
    "**ORD,CHR**"
   ]
  },
  {
   "cell_type": "code",
   "execution_count": 144,
   "id": "b6fd5ddb-6e72-4106-87c4-768c80584ff2",
   "metadata": {},
   "outputs": [
    {
     "ename": "SyntaxError",
     "evalue": "invalid syntax (3817404711.py, line 1)",
     "output_type": "error",
     "traceback": [
      "\u001b[1;36m  Cell \u001b[1;32mIn[144], line 1\u001b[1;36m\u001b[0m\n\u001b[1;33m    A==65===== ob1000001\u001b[0m\n\u001b[1;37m           ^\u001b[0m\n\u001b[1;31mSyntaxError\u001b[0m\u001b[1;31m:\u001b[0m invalid syntax\n"
     ]
    }
   ],
   "source": [
    "A==65===== ob1000001"
   ]
  },
  {
   "cell_type": "code",
   "execution_count": 145,
   "id": "aceade23-38a0-4b26-8261-8bf9e121359c",
   "metadata": {},
   "outputs": [
    {
     "data": {
      "text/plain": [
       "(65, 97)"
      ]
     },
     "execution_count": 145,
     "metadata": {},
     "output_type": "execute_result"
    }
   ],
   "source": [
    "ord('A'),ord('a')"
   ]
  },
  {
   "cell_type": "code",
   "execution_count": 146,
   "id": "8fc50e4f-c648-4655-8f6c-7cf3ed5957f2",
   "metadata": {},
   "outputs": [
    {
     "data": {
      "text/plain": [
       "(112, 80)"
      ]
     },
     "execution_count": 146,
     "metadata": {},
     "output_type": "execute_result"
    }
   ],
   "source": [
    "ord('p'),ord('P')"
   ]
  },
  {
   "cell_type": "code",
   "execution_count": 147,
   "id": "03f3a82c-5fac-4646-9de0-84832ed4eaf4",
   "metadata": {},
   "outputs": [
    {
     "data": {
      "text/plain": [
       "True"
      ]
     },
     "execution_count": 147,
     "metadata": {},
     "output_type": "execute_result"
    }
   ],
   "source": [
    "'p'>'P'"
   ]
  },
  {
   "cell_type": "code",
   "execution_count": 148,
   "id": "1d76664b-3c44-423b-acbf-a114f844f2b3",
   "metadata": {},
   "outputs": [
    {
     "data": {
      "text/plain": [
       "('A', 'a', 'p', 'P')"
      ]
     },
     "execution_count": 148,
     "metadata": {},
     "output_type": "execute_result"
    }
   ],
   "source": [
    "chr(65),chr(97),chr(112),chr(80)"
   ]
  },
  {
   "cell_type": "code",
   "execution_count": 149,
   "id": "29b6145f-dcab-4160-93fa-19c0bd6ceac3",
   "metadata": {},
   "outputs": [
    {
     "data": {
      "text/plain": [
       "'{'"
      ]
     },
     "execution_count": 149,
     "metadata": {},
     "output_type": "execute_result"
    }
   ],
   "source": [
    "chr(123)"
   ]
  },
  {
   "cell_type": "code",
   "execution_count": 150,
   "id": "77a794a0-1acf-453d-9ef6-b5bb27d47450",
   "metadata": {},
   "outputs": [
    {
     "data": {
      "text/plain": [
       "'d'"
      ]
     },
     "execution_count": 150,
     "metadata": {},
     "output_type": "execute_result"
    }
   ],
   "source": [
    "chr(100)"
   ]
  },
  {
   "cell_type": "code",
   "execution_count": 151,
   "id": "979a0f9a-0c60-4b4c-9f06-e3ec24d6a725",
   "metadata": {},
   "outputs": [
    {
     "name": "stdout",
     "output_type": "stream",
     "text": [
      "the ascii number for p is 112\n",
      "the ascii number for y is 121\n",
      "the ascii number for t is 116\n",
      "the ascii number for h is 104\n",
      "the ascii number for o is 111\n",
      "the ascii number for n is 110\n"
     ]
    }
   ],
   "source": [
    "# want python string1 is python\n",
    "# print all ascii numbers for python\n",
    "for i in 'python':\n",
    "    print(f\"the ascii number for {i} is {ord(i)}\")"
   ]
  },
  {
   "cell_type": "code",
   "execution_count": 154,
   "id": "5df07471-1b60-4c39-93fc-c0afc3c41bd9",
   "metadata": {},
   "outputs": [
    {
     "name": "stdout",
     "output_type": "stream",
     "text": [
      "the sum of ascii number for 674\n"
     ]
    }
   ],
   "source": [
    "sum_ascii=0\n",
    "for i in 'python':\n",
    "    sum_ascii=sum_ascii+ord(i)\n",
    "print(f\"the sum of ascii number for {sum_ascii}\")"
   ]
  },
  {
   "cell_type": "code",
   "execution_count": 156,
   "id": "43816485-ebe6-4476-8db4-70aa0b734fee",
   "metadata": {},
   "outputs": [
    {
     "data": {
      "text/plain": [
       "97"
      ]
     },
     "execution_count": 156,
     "metadata": {},
     "output_type": "execute_result"
    }
   ],
   "source": [
    "# i want to know all asci number form a to z\n",
    "ord('a')"
   ]
  },
  {
   "cell_type": "code",
   "execution_count": 157,
   "id": "5ef707ef-d549-40c7-93b9-ffdf83d4b5e0",
   "metadata": {},
   "outputs": [],
   "source": [
    "# package called string\n",
    "import string"
   ]
  },
  {
   "cell_type": "code",
   "execution_count": 158,
   "id": "2da47253-ac57-4016-a1e7-d93a9fb600d9",
   "metadata": {},
   "outputs": [
    {
     "data": {
      "text/plain": [
       "['Formatter',\n",
       " 'Template',\n",
       " '_ChainMap',\n",
       " '__all__',\n",
       " '__builtins__',\n",
       " '__cached__',\n",
       " '__doc__',\n",
       " '__file__',\n",
       " '__loader__',\n",
       " '__name__',\n",
       " '__package__',\n",
       " '__spec__',\n",
       " '_re',\n",
       " '_sentinel_dict',\n",
       " '_string',\n",
       " 'ascii_letters',\n",
       " 'ascii_lowercase',\n",
       " 'ascii_uppercase',\n",
       " 'capwords',\n",
       " 'digits',\n",
       " 'hexdigits',\n",
       " 'octdigits',\n",
       " 'printable',\n",
       " 'punctuation',\n",
       " 'whitespace']"
      ]
     },
     "execution_count": 158,
     "metadata": {},
     "output_type": "execute_result"
    }
   ],
   "source": [
    "dir(string)"
   ]
  },
  {
   "cell_type": "code",
   "execution_count": 169,
   "id": "ec469ed6-4b8c-4df0-88c7-8c8021102d02",
   "metadata": {},
   "outputs": [
    {
     "ename": "TypeError",
     "evalue": "'str' object cannot be interpreted as an integer",
     "output_type": "error",
     "traceback": [
      "\u001b[1;31m---------------------------------------------------------------------------\u001b[0m",
      "\u001b[1;31mTypeError\u001b[0m                                 Traceback (most recent call last)",
      "Cell \u001b[1;32mIn[169], line 2\u001b[0m\n\u001b[0;32m      1\u001b[0m \u001b[38;5;28;01mfor\u001b[39;00m i \u001b[38;5;129;01min\u001b[39;00m \u001b[38;5;124m'\u001b[39m\u001b[38;5;124mascii_lowercase\u001b[39m\u001b[38;5;124m'\u001b[39m:\n\u001b[1;32m----> 2\u001b[0m     \u001b[38;5;28mprint\u001b[39m(\u001b[38;5;124mf\u001b[39m\u001b[38;5;124m\"\u001b[39m\u001b[38;5;132;01m{\u001b[39;00m\u001b[38;5;28mchr\u001b[39m(i)\u001b[38;5;132;01m}\u001b[39;00m\u001b[38;5;124m\"\u001b[39m)\n",
      "\u001b[1;31mTypeError\u001b[0m: 'str' object cannot be interpreted as an integer"
     ]
    }
   ],
   "source": [
    "for i in 'ascii_lowercase':\n",
    "    \n",
    "    "
   ]
  },
  {
   "cell_type": "code",
   "execution_count": 167,
   "id": "966387d5-95c7-409e-ab00-4bbd0e1ffa99",
   "metadata": {},
   "outputs": [
    {
     "name": "stdout",
     "output_type": "stream",
     "text": [
      "the ascii number for p is 112\n",
      "the ascii number for y is 121\n",
      "the ascii number for t is 116\n",
      "the ascii number for h is 104\n",
      "the ascii number for o is 111\n",
      "the ascii number for n is 110\n"
     ]
    }
   ],
   "source": [
    "for i in 'python':\n",
    "    print(f\"the ascii number for {i} is {ord(i)}\")"
   ]
  },
  {
   "cell_type": "code",
   "execution_count": 170,
   "id": "f6811d79-0a0c-40fe-a94d-7da7c5ab7f85",
   "metadata": {},
   "outputs": [
    {
     "name": "stdout",
     "output_type": "stream",
     "text": [
      "the ascii number for a is 97\n",
      "the ascii number for b is 98\n",
      "the ascii number for c is 99\n",
      "the ascii number for d is 100\n",
      "the ascii number for e is 101\n",
      "the ascii number for f is 102\n",
      "the ascii number for g is 103\n",
      "the ascii number for h is 104\n",
      "the ascii number for i is 105\n",
      "the ascii number for j is 106\n",
      "the ascii number for k is 107\n",
      "the ascii number for l is 108\n",
      "the ascii number for m is 109\n",
      "the ascii number for n is 110\n",
      "the ascii number for o is 111\n",
      "the ascii number for p is 112\n",
      "the ascii number for q is 113\n",
      "the ascii number for r is 114\n",
      "the ascii number for s is 115\n",
      "the ascii number for t is 116\n",
      "the ascii number for u is 117\n",
      "the ascii number for v is 118\n",
      "the ascii number for w is 119\n",
      "the ascii number for x is 120\n",
      "the ascii number for y is 121\n",
      "the ascii number for z is 122\n"
     ]
    }
   ],
   "source": [
    "for i in string.ascii_lowercase:\n",
    "    print(f\"the ascii number for {i} is {ord(i)}\")"
   ]
  },
  {
   "cell_type": "code",
   "execution_count": 171,
   "id": "109379e4-de1e-46c5-b6ba-6e97fdaf85e1",
   "metadata": {},
   "outputs": [
    {
     "name": "stdout",
     "output_type": "stream",
     "text": [
      "the ascii number for A is 65\n",
      "the ascii number for B is 66\n",
      "the ascii number for C is 67\n",
      "the ascii number for D is 68\n",
      "the ascii number for E is 69\n",
      "the ascii number for F is 70\n",
      "the ascii number for G is 71\n",
      "the ascii number for H is 72\n",
      "the ascii number for I is 73\n",
      "the ascii number for J is 74\n",
      "the ascii number for K is 75\n",
      "the ascii number for L is 76\n",
      "the ascii number for M is 77\n",
      "the ascii number for N is 78\n",
      "the ascii number for O is 79\n",
      "the ascii number for P is 80\n",
      "the ascii number for Q is 81\n",
      "the ascii number for R is 82\n",
      "the ascii number for S is 83\n",
      "the ascii number for T is 84\n",
      "the ascii number for U is 85\n",
      "the ascii number for V is 86\n",
      "the ascii number for W is 87\n",
      "the ascii number for X is 88\n",
      "the ascii number for Y is 89\n",
      "the ascii number for Z is 90\n"
     ]
    }
   ],
   "source": [
    "for i in string.ascii_uppercase:\n",
    "    print(f\"the ascii number for {i} is {ord(i)}\")"
   ]
  },
  {
   "cell_type": "code",
   "execution_count": 172,
   "id": "a80dd2ec-6a7d-46dc-beed-b3a179a83e39",
   "metadata": {},
   "outputs": [
    {
     "name": "stdout",
     "output_type": "stream",
     "text": [
      "the ascii number for ! is 33\n",
      "the ascii number for \" is 34\n",
      "the ascii number for # is 35\n",
      "the ascii number for $ is 36\n",
      "the ascii number for % is 37\n",
      "the ascii number for & is 38\n",
      "the ascii number for ' is 39\n",
      "the ascii number for ( is 40\n",
      "the ascii number for ) is 41\n",
      "the ascii number for * is 42\n",
      "the ascii number for + is 43\n",
      "the ascii number for , is 44\n",
      "the ascii number for - is 45\n",
      "the ascii number for . is 46\n",
      "the ascii number for / is 47\n",
      "the ascii number for : is 58\n",
      "the ascii number for ; is 59\n",
      "the ascii number for < is 60\n",
      "the ascii number for = is 61\n",
      "the ascii number for > is 62\n",
      "the ascii number for ? is 63\n",
      "the ascii number for @ is 64\n",
      "the ascii number for [ is 91\n",
      "the ascii number for \\ is 92\n",
      "the ascii number for ] is 93\n",
      "the ascii number for ^ is 94\n",
      "the ascii number for _ is 95\n",
      "the ascii number for ` is 96\n",
      "the ascii number for { is 123\n",
      "the ascii number for | is 124\n",
      "the ascii number for } is 125\n",
      "the ascii number for ~ is 126\n"
     ]
    }
   ],
   "source": [
    "for i in string.punctuation:\n",
    "    print(f\"the ascii number for {i} is {ord(i)}\")"
   ]
  },
  {
   "cell_type": "code",
   "execution_count": 174,
   "id": "892bd639-93b4-4ef4-a2ee-d0b5da32b984",
   "metadata": {},
   "outputs": [
    {
     "name": "stdout",
     "output_type": "stream",
     "text": [
      "abcdefghijklmnopqrstuvwxyzABCDEFGHIJKLMNOPQRSTUVWXYZ"
     ]
    }
   ],
   "source": [
    "for i in string.ascii_letters:\n",
    "    print(i,end='')"
   ]
  },
  {
   "cell_type": "code",
   "execution_count": 175,
   "id": "e1aff080-d4bf-4cf4-9037-4837095d0602",
   "metadata": {},
   "outputs": [
    {
     "name": "stdout",
     "output_type": "stream",
     "text": [
      "20 \u0014==>21 \u0015==>22 \u0016==>23 \u0017==>24 \u0018==>25 \u0019==>26 \u001a==>27 \u001b==>28 \u001c",
      "==>29 \u001d",
      "==>30 \u001e",
      "==>31 \u001f==>32  ==>33 !==>34 \"==>35 #==>36 $==>37 %==>38 &==>39 '==>40 (==>41 )==>42 *==>43 +==>44 ,==>45 -==>46 .==>47 /==>48 0==>49 1==>50 2==>51 3==>52 4==>53 5==>54 6==>55 7==>56 8==>57 9==>58 :==>59 ;==>60 <==>61 ===>62 >==>63 ?==>64 @==>65 A==>66 B==>67 C==>68 D==>69 E==>70 F==>71 G==>72 H==>73 I==>74 J==>75 K==>76 L==>77 M==>78 N==>79 O==>80 P==>81 Q==>82 R==>83 S==>84 T==>85 U==>86 V==>87 W==>88 X==>89 Y==>90 Z==>91 [==>92 \\==>93 ]==>94 ^==>95 _==>96 `==>97 a==>98 b==>99 c==>100 d==>101 e==>102 f==>103 g==>104 h==>105 i==>106 j==>107 k==>108 l==>109 m==>110 n==>111 o==>112 p==>113 q==>114 r==>115 s==>116 t==>117 u==>118 v==>119 w==>120 x==>121 y==>122 z==>123 {==>124 |==>125 }==>126 ~==>127 ==>128 ==>129 ==>130 ==>131 ==>132 ==>133 ",
      "==>134 ==>135 ==>136 ==>137 ==>138 ==>139 ==>140 ==>141 ==>142 ==>143 ==>144 ==>145 ==>146 ==>147 ==>148 ==>149 ==>"
     ]
    }
   ],
   "source": [
    "for i in range (20,150):\n",
    "    print(i,chr(i),end='==>')"
   ]
  },
  {
   "cell_type": "code",
   "execution_count": 177,
   "id": "b83b1592-d79e-4f00-a854-b199b0ba9c7a",
   "metadata": {},
   "outputs": [
    {
     "name": "stdout",
     "output_type": "stream",
     "text": [
      "3077 అ==>3078 ఆ==>3079 ఇ==>3080 ఈ==>3081 ఉ==>3082 ఊ==>3083 ఋ==>3084 ఌ==>3085 ఍==>3086 ఎ==>3087 ఏ==>3088 ఐ==>3089 ఑==>3090 ఒ==>3091 ఓ==>3092 ఔ==>3093 క==>3094 ఖ==>3095 గ==>3096 ఘ==>3097 ఙ==>3098 చ==>3099 ఛ==>3100 జ==>3101 ఝ==>3102 ఞ==>3103 ట==>3104 ఠ==>3105 డ==>3106 ఢ==>3107 ణ==>3108 త==>3109 థ==>3110 ద==>3111 ధ==>3112 న==>3113 ఩==>3114 ప==>3115 ఫ==>3116 బ==>3117 భ==>3118 మ==>3119 య==>3120 ర==>3121 ఱ==>3122 ల==>3123 ళ==>3124 ఴ==>3125 వ==>3126 శ==>3127 ష==>3128 స==>3129 హ==>3130 ఺==>3131 ఻==>3132 ఼==>3133 ఽ==>3134 ా==>3135 ి==>3136 ీ==>3137 ు==>3138 ూ==>3139 ృ==>3140 ౄ==>3141 ౅==>3142 ె==>3143 ే==>3144 ై==>3145 ౉==>3146 ొ==>3147 ో==>3148 ౌ==>3149 ్==>3150 ౎==>3151 ౏==>3152 ౐==>3153 ౑==>3154 ౒==>3155 ౓==>3156 ౔==>3157 ౕ==>3158 ౖ==>3159 ౗==>3160 ౘ==>3161 ౙ==>3162 ౚ==>3163 ౛==>3164 ౜==>3165 ౝ==>3166 ౞==>3167 ౟==>3168 ౠ==>3169 ౡ==>3170 ౢ==>3171 ౣ==>3172 ౤==>3173 ౥==>3174 ౦==>3175 ౧==>3176 ౨==>3177 ౩==>"
     ]
    }
   ],
   "source": [
    "for i in range (3077,3178):\n",
    "    print(i,chr(i),end='==>')"
   ]
  },
  {
   "cell_type": "markdown",
   "id": "7f5a7168-2423-432e-8843-b6c3a43937b0",
   "metadata": {},
   "source": []
  },
  {
   "cell_type": "code",
   "execution_count": 45,
   "id": "8ac7ce67-9319-4360-8ba6-5892b0ae698d",
   "metadata": {},
   "outputs": [
    {
     "name": "stdout",
     "output_type": "stream",
     "text": [
      "1 \u0001--2 \u0002--3 \u0003--4 \u0004--5 \u0005--6 \u0006--7 \u0007--8--9 \t--10 \n",
      "--14 \u000e--15 \u000f--16 \u0010--17 \u0011--18 \u0012--19 \u0013--20 \u0014--21 \u0015--22 \u0016--23 \u0017--24 \u0018--25 \u0019--26 \u001a--27 \u001b--28 \u001c",
      "--29 \u001d",
      "--30 \u001e",
      "--31 \u001f--32  --33 !--34 \"--35 #--36 $--37 %--38 &--39 '--40 (--41 )--42 *--43 +--44 ,--45 ---46 .--47 /--48 0--49 1--50 2--51 3--52 4--53 5--54 6--55 7--56 8--57 9--58 :--59 ;--60 <--61 =--62 >--63 ?--64 @--65 A--66 B--67 C--68 D--69 E--70 F--71 G--72 H--73 I--74 J--75 K--76 L--77 M--78 N--79 O--80 P--81 Q--82 R--83 S--84 T--85 U--86 V--87 W--88 X--89 Y--90 Z--91 [--92 \\--93 ]--94 ^--95 _--96 `--97 a--98 b--99 c--"
     ]
    }
   ],
   "source": [
    "for i in range(1,100):\n",
    "    print(i,chr(i),end='--')"
   ]
  },
  {
   "cell_type": "code",
   "execution_count": null,
   "id": "d24d0f18-5f7c-48eb-83fd-80fcabba3ab3",
   "metadata": {},
   "outputs": [],
   "source": []
  }
 ],
 "metadata": {
  "kernelspec": {
   "display_name": "Python 3 (ipykernel)",
   "language": "python",
   "name": "python3"
  },
  "language_info": {
   "codemirror_mode": {
    "name": "ipython",
    "version": 3
   },
   "file_extension": ".py",
   "mimetype": "text/x-python",
   "name": "python",
   "nbconvert_exporter": "python",
   "pygments_lexer": "ipython3",
   "version": "3.11.7"
  }
 },
 "nbformat": 4,
 "nbformat_minor": 5
}
