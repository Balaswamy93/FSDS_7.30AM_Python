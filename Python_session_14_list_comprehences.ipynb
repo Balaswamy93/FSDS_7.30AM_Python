{
 "cells": [
  {
   "cell_type": "markdown",
   "id": "0f43f63e-5581-4667-be3f-4200bb9eefaa",
   "metadata": {},
   "source": [
    "****List Comprehences****"
   ]
  },
  {
   "cell_type": "markdown",
   "id": "c4c7e82e-a20a-4282-8b89-d6f3bedd6888",
   "metadata": {},
   "source": [
    "- we can store the output values by using append operations\n",
    "- we are taking empty list and we are itarating through elements from a given list and the result we are appeding in a new list"
   ]
  },
  {
   "cell_type": "code",
   "execution_count": 1,
   "id": "a306c908-409b-4236-9cac-7b2e0007d02a",
   "metadata": {},
   "outputs": [
    {
     "data": {
      "text/plain": [
       "[0, 1, 4, 9, 16, 25, 36, 49, 64, 81]"
      ]
     },
     "execution_count": 1,
     "metadata": {},
     "output_type": "execute_result"
    }
   ],
   "source": [
    "sqr_list=[]\n",
    "for i in range(10):\n",
    "    sqr_list.append(i*i)\n",
    "sqr_list \n",
    "    "
   ]
  },
  {
   "cell_type": "code",
   "execution_count": 86,
   "id": "e0e8289e-105f-41b0-b270-7b93cb9d8fce",
   "metadata": {},
   "outputs": [
    {
     "data": {
      "text/plain": [
       "[0, 1, 4, 9, 16]"
      ]
     },
     "execution_count": 86,
     "metadata": {},
     "output_type": "execute_result"
    }
   ],
   "source": [
    "[i*i for i in range (5)]"
   ]
  },
  {
   "cell_type": "code",
   "execution_count": 88,
   "id": "2c0a3b63-5697-45e1-89df-cb9c0c0c3222",
   "metadata": {},
   "outputs": [
    {
     "data": {
      "text/plain": [
       "[3, 4, 5, 6, 7]"
      ]
     },
     "execution_count": 88,
     "metadata": {},
     "output_type": "execute_result"
    }
   ],
   "source": [
    "[i+3 for i in range(5)]"
   ]
  },
  {
   "cell_type": "markdown",
   "id": "1811b19b-e7c0-472b-933b-8d1d23bd2d42",
   "metadata": {},
   "source": [
    "- there are alomost 3 lines are in the process\n",
    "- the there lines we can make into a single line\n",
    "- this is called as list comprehension"
   ]
  },
  {
   "cell_type": "markdown",
   "id": "87585324-fd35-40e3-a805-0edb19aea714",
   "metadata": {},
   "source": [
    "$pattern-1$\n",
    "**only for loop**"
   ]
  },
  {
   "cell_type": "code",
   "execution_count": 2,
   "id": "b8eb1f06-97ef-416c-9ecd-5522d5d81083",
   "metadata": {},
   "outputs": [],
   "source": [
    "#syntax \n",
    "# [<output> <for loop>]\n"
   ]
  },
  {
   "cell_type": "code",
   "execution_count": null,
   "id": "0f051f86-b214-4359-89e1-efc22aa4cf6d",
   "metadata": {},
   "outputs": [],
   "source": [
    "sqr_list=[]\n",
    "for i in range(10):\n",
    "    sqr_list.append(i*i)\n",
    "sqr_list \n",
    "# what is the output?==i*i\n",
    "# what is the output list name?==sqr_list\n",
    "#what is the for loop ? for i in range(10)\n",
    "# [<output> <for loop>]"
   ]
  },
  {
   "cell_type": "code",
   "execution_count": 3,
   "id": "a3181af4-a63b-4989-b84a-fe7c87d7491b",
   "metadata": {},
   "outputs": [
    {
     "data": {
      "text/plain": [
       "[0, 1, 4, 9, 16, 25, 36, 49, 64, 81]"
      ]
     },
     "execution_count": 3,
     "metadata": {},
     "output_type": "execute_result"
    }
   ],
   "source": [
    "[i*i for i in range(10)]"
   ]
  },
  {
   "cell_type": "code",
   "execution_count": 7,
   "id": "dfd78312-0dc5-471e-a6e1-6197b58d92da",
   "metadata": {},
   "outputs": [
    {
     "data": {
      "text/plain": [
       "['HYD', 'MUMBAI', 'CHENNAI', 'BLR']"
      ]
     },
     "execution_count": 7,
     "metadata": {},
     "output_type": "execute_result"
    }
   ],
   "source": [
    "#Q2 l1 ['hyd','mumbai','chennai',blr]\n",
    "l1=['hyd','mumbai','chennai','blr']\n",
    "upper_list=[]\n",
    "for i in l1:\n",
    "    i.upper()\n",
    "    upper_list.append(i.upper())\n",
    "upper_list\n",
    "    "
   ]
  },
  {
   "cell_type": "code",
   "execution_count": 90,
   "id": "0a3da6b1-7fba-4014-8dc1-feb45023547a",
   "metadata": {},
   "outputs": [
    {
     "data": {
      "text/plain": [
       "['HYD', 'MUMBAI', 'CHENNAI', 'BLR']"
      ]
     },
     "execution_count": 90,
     "metadata": {},
     "output_type": "execute_result"
    }
   ],
   "source": [
    "l1=['hyd','mumbai','chennai','blr']\n",
    "# we want elements in upper\n",
    "[i.upper() for i in l1]"
   ]
  },
  {
   "cell_type": "code",
   "execution_count": 12,
   "id": "0eab99bc-d332-44e3-b94b-e10da1726a02",
   "metadata": {},
   "outputs": [
    {
     "data": {
      "text/plain": [
       "['HYD', 'MUMBAI', 'CHENNAI', 'BLR']"
      ]
     },
     "execution_count": 12,
     "metadata": {},
     "output_type": "execute_result"
    }
   ],
   "source": [
    "l1=['hyd','mumbai','chennai','blr']\n",
    "upper_list=[i.upper() for i in l1]\n",
    "upper_list"
   ]
  },
  {
   "cell_type": "code",
   "execution_count": 13,
   "id": "eebe872e-890d-410b-99e3-e8d186c92dcb",
   "metadata": {},
   "outputs": [
    {
     "data": {
      "text/plain": [
       "['hyd', 'mumbai', 'chennai', 'blr']"
      ]
     },
     "execution_count": 13,
     "metadata": {},
     "output_type": "execute_result"
    }
   ],
   "source": [
    "l2=['hyd','mumbai','chennai','blr']\n",
    "lower_list=[i.lower() for i in l2]\n",
    "lower_list"
   ]
  },
  {
   "cell_type": "code",
   "execution_count": 16,
   "id": "978fc164-f0b7-49da-bb5e-6e7f1b23a2e5",
   "metadata": {},
   "outputs": [
    {
     "data": {
      "text/plain": [
       "[0, 1, 2, 3]"
      ]
     },
     "execution_count": 16,
     "metadata": {},
     "output_type": "execute_result"
    }
   ],
   "source": [
    "l3=['hyd','mumbai','chennai','blr']\n",
    "# sum of the all indexes of all elements\n",
    "summ=[i for i in range(len(l3))]\n",
    "summ"
   ]
  },
  {
   "cell_type": "code",
   "execution_count": 23,
   "id": "0f4cd9ca-1e5b-46b4-9d1c-1aa5dd56ec25",
   "metadata": {},
   "outputs": [
    {
     "data": {
      "text/plain": [
       "6"
      ]
     },
     "execution_count": 23,
     "metadata": {},
     "output_type": "execute_result"
    }
   ],
   "source": [
    "l3=['hyd','mumbai','chennai','blr']\n",
    "summ=[]\n",
    "summ=[l3.index(i) for i in l2]\n",
    "sum(summ)"
   ]
  },
  {
   "cell_type": "code",
   "execution_count": 94,
   "id": "37ec6683-0b5c-48d0-9f1e-64aa931e1835",
   "metadata": {},
   "outputs": [
    {
     "data": {
      "text/plain": [
       "6"
      ]
     },
     "execution_count": 94,
     "metadata": {},
     "output_type": "execute_result"
    }
   ],
   "source": [
    "l3=['hyd','mumbai','chennai','blr']\n",
    "b=[l3.index(i) for i in l3]\n",
    "sum(b)"
   ]
  },
  {
   "cell_type": "code",
   "execution_count": 25,
   "id": "bb0bd6ca-dd20-420c-b5b2-081eda334b50",
   "metadata": {},
   "outputs": [
    {
     "data": {
      "text/plain": [
       "6"
      ]
     },
     "execution_count": 25,
     "metadata": {},
     "output_type": "execute_result"
    }
   ],
   "source": [
    "l3=['hyd','mumbai','chennai','blr']\n",
    "summ=[]\n",
    "summ=[i for i in range(len(l3))]\n",
    "sum(summ)"
   ]
  },
  {
   "cell_type": "markdown",
   "id": "e288d4e7-1c56-4e7a-863b-4fa673951e1e",
   "metadata": {},
   "source": [
    "- making empty list will not works in list comprehension\n",
    "- initialization will not works in list comprehension\n",
    "- assignment opration also not works\n",
    "- "
   ]
  },
  {
   "cell_type": "markdown",
   "id": "50accc89-397a-4fbd-8bc9-ea54f5d3ecfb",
   "metadata": {},
   "source": [
    "$pattern-2$\n",
    "**For loop -if condition**"
   ]
  },
  {
   "cell_type": "code",
   "execution_count": null,
   "id": "98789816-862b-4ecf-a747-16b9cd7d0aec",
   "metadata": {},
   "outputs": [],
   "source": [
    "# syntax\n",
    "# [<output> <for loop> <if condition>]\n"
   ]
  },
  {
   "cell_type": "code",
   "execution_count": 28,
   "id": "f63896e5-3c3d-4a51-bcb6-4006c284120a",
   "metadata": {},
   "outputs": [
    {
     "name": "stdout",
     "output_type": "stream",
     "text": [
      "mumbai\n",
      "chennai\n"
     ]
    }
   ],
   "source": [
    "l3=['hyd','mumbai','chennai','blr']\n",
    "len_city=[]\n",
    "for i in range(len(l3)):\n",
    "    if len(l3[i]) >4:\n",
    "        print(l3[i])"
   ]
  },
  {
   "cell_type": "code",
   "execution_count": 95,
   "id": "1de43e25-8584-4364-b803-722399799e00",
   "metadata": {},
   "outputs": [
    {
     "data": {
      "text/plain": [
       "['mumbai', 'chennai']"
      ]
     },
     "execution_count": 95,
     "metadata": {},
     "output_type": "execute_result"
    }
   ],
   "source": [
    "l3=['hyd','mumbai','chennai','blr']\n",
    "# element len >4\n",
    "[i for i in l3 if len(i)>4]"
   ]
  },
  {
   "cell_type": "code",
   "execution_count": 96,
   "id": "53fe5e1b-b405-4446-a1c3-dd2d32519243",
   "metadata": {},
   "outputs": [
    {
     "data": {
      "text/plain": [
       "['hyd', 'blr']"
      ]
     },
     "execution_count": 96,
     "metadata": {},
     "output_type": "execute_result"
    }
   ],
   "source": [
    "l3=['hyd','mumbai','chennai','blr']\n",
    "[i for i in l3 if len(i)<4]"
   ]
  },
  {
   "cell_type": "code",
   "execution_count": 29,
   "id": "2419036f-ff17-4a31-80f5-4a9a8a8c58ca",
   "metadata": {},
   "outputs": [
    {
     "name": "stdout",
     "output_type": "stream",
     "text": [
      "mumbai\n",
      "chennai\n"
     ]
    }
   ],
   "source": [
    "l3=['hyd','mumbai','chennai','blr']\n",
    "len_city=[]\n",
    "for i in l3:\n",
    "    if len(i) >4:\n",
    "        print(i)"
   ]
  },
  {
   "cell_type": "code",
   "execution_count": 30,
   "id": "481dc463-25fe-4ebd-8239-ae63603558b7",
   "metadata": {},
   "outputs": [
    {
     "data": {
      "text/plain": [
       "['mumbai', 'chennai']"
      ]
     },
     "execution_count": 30,
     "metadata": {},
     "output_type": "execute_result"
    }
   ],
   "source": [
    "l3=['hyd','mumbai','chennai','blr']\n",
    "[i for i in l3 if len(i)>4]"
   ]
  },
  {
   "cell_type": "code",
   "execution_count": 31,
   "id": "e130179c-a5ce-453d-9e81-0ca86d8f6506",
   "metadata": {},
   "outputs": [
    {
     "data": {
      "text/plain": [
       "['hyd', 'blr']"
      ]
     },
     "execution_count": 31,
     "metadata": {},
     "output_type": "execute_result"
    }
   ],
   "source": [
    "l3=['hyd','mumbai','chennai','blr']\n",
    "[i for i in l3 if len(i)<4]"
   ]
  },
  {
   "cell_type": "code",
   "execution_count": 32,
   "id": "96be44f1-e32a-493e-bc8a-c3becf404a91",
   "metadata": {},
   "outputs": [
    {
     "data": {
      "text/plain": [
       "['Mum#bai', 'Chen#nai']"
      ]
     },
     "execution_count": 32,
     "metadata": {},
     "output_type": "execute_result"
    }
   ],
   "source": [
    "#q3 l1=['hyd','Mum#bai','Chen#nai','blr']\n",
    "# we want elements which are having #\n",
    "l1=['hyd','Mum#bai','Chen#nai','blr']\n",
    "[i for i in l1 if '#' in i]"
   ]
  },
  {
   "cell_type": "code",
   "execution_count": 98,
   "id": "dd33303a-7b97-4fbf-bf07-e8f77de6db27",
   "metadata": {},
   "outputs": [
    {
     "data": {
      "text/plain": [
       "['hyd', 'blr']"
      ]
     },
     "execution_count": 98,
     "metadata": {},
     "output_type": "execute_result"
    }
   ],
   "source": [
    "#q3 l1=['hyd','Mum#bai','Chen#nai','blr']\n",
    "# we want elements which are having #\n",
    "l1=['hyd','Mum#bai','Chen#nai','blr']\n",
    "[i for i in l1 if '#' not in i]"
   ]
  },
  {
   "cell_type": "code",
   "execution_count": 38,
   "id": "d91f6f07-e131-42e6-b38e-e0e2ddbe326d",
   "metadata": {},
   "outputs": [
    {
     "data": {
      "text/plain": [
       "['Hyd', 'Mumbai']"
      ]
     },
     "execution_count": 38,
     "metadata": {},
     "output_type": "execute_result"
    }
   ],
   "source": [
    "#q5 l3=['Hyd','Mumbai','chennai','blr']\n",
    "# we want elements which are gaing first letter capital\n",
    "l3=['Hyd','Mumbai','chennai','blr']\n",
    "\n",
    "[i for i in l3 if i.istitle()]"
   ]
  },
  {
   "cell_type": "code",
   "execution_count": 99,
   "id": "39804d13-910d-40a8-b2bb-499ee04c202b",
   "metadata": {},
   "outputs": [
    {
     "data": {
      "text/plain": [
       "['Hyd', 'Mumbai']"
      ]
     },
     "execution_count": 99,
     "metadata": {},
     "output_type": "execute_result"
    }
   ],
   "source": [
    "#q5 l3=['Hyd','Mumbai','chennai','blr']\n",
    "# we want elements which are gaing first letter capital\n",
    "l3=['Hyd','Mumbai','chennai','blr']\n",
    "[i for i in l3 if i .istitle()]"
   ]
  },
  {
   "cell_type": "code",
   "execution_count": 44,
   "id": "54b4e217-d804-4c47-8eac-537b0c6f8359",
   "metadata": {},
   "outputs": [
    {
     "data": {
      "text/plain": [
       "['Mum#bai', 'Chen#nai']"
      ]
     },
     "execution_count": 44,
     "metadata": {},
     "output_type": "execute_result"
    }
   ],
   "source": [
    "#Q6 l1=['hyd','Mum#bai','Chen#nai','blr']\n",
    "# we want elements which are having # for loop if cond\n",
    "l1=['hyd','Mum#bai','Chen#nai','blr']\n",
    "op=[i for i in l1 if '#' in i ]\n",
    "op_nt=[i for i in l1 if '#' not in i ]\n",
    "op_nt\n",
    "op"
   ]
  },
  {
   "cell_type": "code",
   "execution_count": 75,
   "id": "60804598-1545-42f6-8540-f4e354b8b0d3",
   "metadata": {},
   "outputs": [
    {
     "name": "stdout",
     "output_type": "stream",
     "text": [
      "virat\n",
      " Rohit\n",
      " KL\n"
     ]
    }
   ],
   "source": [
    "# Q9) str1='virat.kohli@rcb.com, Rohit.sharma@mi.co, KL.Rahul@lucknow.com'\n",
    "# Firstname=[]  second name=[]  cname =[]\n",
    "# append first name should be in first name list\n",
    "#        second name shoul be in second name list\n",
    "#        thirs name will be in thirs name list\n",
    "str1='virat.kohli@rcb.com, Rohit.sharma@mi.co, KL.Rahul@lucknow.com'\n",
    "l1=str1.split(',')\n",
    "l1[0][:l1[0].index('.')]\n",
    "l1[1][:l1[1].index('.')]\n",
    "l1[2][:l1[2].index('.')]\n",
    "for i in range(len(l1)):\n",
    "    print(l1[i][:l1[i].index('.')])\n",
    "    \n",
    "   \n"
   ]
  },
  {
   "cell_type": "code",
   "execution_count": 104,
   "id": "be8010cf-5140-4e4c-8493-cf3276089185",
   "metadata": {},
   "outputs": [
    {
     "name": "stdout",
     "output_type": "stream",
     "text": [
      "kohli\n",
      "sharma\n",
      "Rahul\n"
     ]
    }
   ],
   "source": [
    "str1='virat.kohli@rcb.com, Rohit.sharma@mi.co, KL.Rahul@lucknow.com'\n",
    "l1=str1.split(',')\n",
    "for i in range(len(l1)):\n",
    "    print(l1[i][l1[i].index('.')+1:l1[i].index('@')])\n",
    "   "
   ]
  },
  {
   "cell_type": "code",
   "execution_count": 145,
   "id": "f744bf21-89e0-484b-aeed-7effe371bee4",
   "metadata": {},
   "outputs": [
    {
     "data": {
      "text/plain": [
       "['rcb', 'mi', 'lucknow']"
      ]
     },
     "execution_count": 145,
     "metadata": {},
     "output_type": "execute_result"
    }
   ],
   "source": [
    "str1='virat.kohli@rcb.com, Rohit.sharma@mi.co, KL.Rahul@lucknow.com'\n",
    "l1=str1.split(',')\n",
    "First_name=[i[:i.index('.')] for i in str1.split(',')]\n",
    "Secon_name=[i[i.index('.')+1 :i.index('@')] for i in str1.split(',')]\n",
    "Company=[i[i.index('@')+1:][:i[i.index('@')+1:].index('.')]for i in str1.split(',')]\n",
    "First_name\n",
    "Secon_name\n",
    "Company"
   ]
  },
  {
   "cell_type": "markdown",
   "id": "64eab5cb-1576-4d96-9f5f-04740319c361",
   "metadata": {},
   "source": [
    "**If-else**\n"
   ]
  },
  {
   "cell_type": "code",
   "execution_count": null,
   "id": "aad5cd9f-dd3e-4ba7-b789-c35c03dccd48",
   "metadata": {},
   "outputs": [],
   "source": [
    "[<ifoutput> <if> <else> <elseoutput> <forloop>]\n"
   ]
  },
  {
   "cell_type": "markdown",
   "id": "e4ca95d7-5097-4f10-9e5a-91c7f0d21bea",
   "metadata": {},
   "source": [
    "**even-odd**"
   ]
  },
  {
   "cell_type": "code",
   "execution_count": 146,
   "id": "965b076f-ae63-47c6-a639-5fd2f9f3e3b3",
   "metadata": {},
   "outputs": [
    {
     "name": "stdout",
     "output_type": "stream",
     "text": [
      "odd:1\n",
      "even:2\n",
      "odd:3\n",
      "even:4\n",
      "odd:5\n",
      "even:6\n",
      "odd:7\n",
      "even:8\n",
      "odd:9\n",
      "even:10\n",
      "odd:11\n",
      "even:12\n",
      "odd:13\n",
      "even:14\n",
      "odd:15\n",
      "even:16\n",
      "odd:17\n",
      "even:18\n",
      "odd:19\n"
     ]
    }
   ],
   "source": [
    "for i in range(1,20):\n",
    "    if i%2==0:\n",
    "        print(f'even:{i}')\n",
    "    else:\n",
    "        print(f'odd:{i}')"
   ]
  },
  {
   "cell_type": "code",
   "execution_count": 147,
   "id": "b647ccf3-5dc3-4e07-aeae-4c2ed124d9d1",
   "metadata": {},
   "outputs": [],
   "source": [
    "op_list=[]\n",
    "for i in range(1,20):\n",
    "    if i%2==0:\n",
    "        op_list.append(f'even:{i}')\n",
    "    else:\n",
    "        op_list.append(f'odd:{i}')"
   ]
  },
  {
   "cell_type": "code",
   "execution_count": 151,
   "id": "c6260683-9f1d-4d45-a612-3430f6f64cd8",
   "metadata": {},
   "outputs": [
    {
     "data": {
      "text/plain": [
       "['odd:1',\n",
       " 'even:2',\n",
       " 'odd:3',\n",
       " 'even:4',\n",
       " 'odd:5',\n",
       " 'even:6',\n",
       " 'odd:7',\n",
       " 'even:8',\n",
       " 'odd:9',\n",
       " 'even:10',\n",
       " 'odd:11',\n",
       " 'even:12',\n",
       " 'odd:13',\n",
       " 'even:14',\n",
       " 'odd:15',\n",
       " 'even:16',\n",
       " 'odd:17',\n",
       " 'even:18',\n",
       " 'odd:19']"
      ]
     },
     "execution_count": 151,
     "metadata": {},
     "output_type": "execute_result"
    }
   ],
   "source": [
    "[ f'even:{i}' if i%2==0 else f'odd:{i}' for i in range(1,20) ]"
   ]
  },
  {
   "cell_type": "code",
   "execution_count": null,
   "id": "bf7e49f3-930a-4409-8d99-d9d61cda8f6e",
   "metadata": {},
   "outputs": [],
   "source": []
  }
 ],
 "metadata": {
  "kernelspec": {
   "display_name": "Python 3 (ipykernel)",
   "language": "python",
   "name": "python3"
  },
  "language_info": {
   "codemirror_mode": {
    "name": "ipython",
    "version": 3
   },
   "file_extension": ".py",
   "mimetype": "text/x-python",
   "name": "python",
   "nbconvert_exporter": "python",
   "pygments_lexer": "ipython3",
   "version": "3.11.7"
  }
 },
 "nbformat": 4,
 "nbformat_minor": 5
}
