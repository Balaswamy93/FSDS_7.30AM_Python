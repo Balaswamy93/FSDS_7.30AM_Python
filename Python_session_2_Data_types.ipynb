{
 "cells": [
  {
   "cell_type": "markdown",
   "id": "8be678dd-7f79-4649-9846-b948646daa38",
   "metadata": {},
   "source": [
    "**Data type**\n",
    "- In python data type declaration is not required\n",
    "- python will automatically takes the type based on provided value\n",
    "- we have many data type are\n",
    "    - Integer\n",
    "    - float\n",
    "    - Boolean\n",
    "    - String\n",
    "- list\n",
    "- Dictionary\n",
    "- tuple\n",
    "- complex\n"
   ]
  },
  {
   "cell_type": "markdown",
   "id": "ef57d362-82a8-48d8-af01-5b63100e9928",
   "metadata": {},
   "source": [
    "**Integer**"
   ]
  },
  {
   "cell_type": "code",
   "execution_count": 1,
   "id": "32a9212c-2c7c-476e-8126-6c4c0e23571a",
   "metadata": {},
   "outputs": [
    {
     "data": {
      "text/plain": [
       "int"
      ]
     },
     "execution_count": 1,
     "metadata": {},
     "output_type": "execute_result"
    }
   ],
   "source": [
    "n=100\n",
    "type(n)"
   ]
  },
  {
   "cell_type": "code",
   "execution_count": 1,
   "id": "0af209e6-8db7-463d-aa13-d677868e6d51",
   "metadata": {},
   "outputs": [
    {
     "data": {
      "text/plain": [
       "int"
      ]
     },
     "execution_count": 1,
     "metadata": {},
     "output_type": "execute_result"
    }
   ],
   "source": [
    "n=2345\n",
    "type(n)"
   ]
  },
  {
   "cell_type": "code",
   "execution_count": 2,
   "id": "cc48c83b-06e0-423d-93f7-f2485211b54c",
   "metadata": {},
   "outputs": [
    {
     "data": {
      "text/plain": [
       "str"
      ]
     },
     "execution_count": 2,
     "metadata": {},
     "output_type": "execute_result"
    }
   ],
   "source": [
    "string='Balaswamy'\n",
    "type(string)"
   ]
  },
  {
   "cell_type": "markdown",
   "id": "d600bddb-b140-4ac4-978c-06558315caca",
   "metadata": {},
   "source": [
    "- binary represtenation\n",
    "- octa representation\n",
    "- hexa representation\n"
   ]
  },
  {
   "cell_type": "markdown",
   "id": "b90e438a-6164-4329-a920-3c356facf561",
   "metadata": {},
   "source": [
    "**Binary Representation**"
   ]
  },
  {
   "cell_type": "markdown",
   "id": "63e5f6f9-c3c1-45cd-a3f8-b865ed32f53c",
   "metadata": {},
   "source": [
    "- Bi mean 2\n",
    "- so it requres 2 digits\n",
    "- Genrally we have 0 1 2 3 4 5 6 7 8 9 \n",
    "- it will represetn with only 0 and 1\n",
    "- the correct representation is 0b10,0b01111\n",
    "- wrong represetation is 0b102,0b02,0b123\n"
   ]
  },
  {
   "cell_type": "code",
   "execution_count": 2,
   "id": "bc7205da-215f-4445-935a-c18d64e5b996",
   "metadata": {},
   "outputs": [
    {
     "data": {
      "text/plain": [
       "7"
      ]
     },
     "execution_count": 2,
     "metadata": {},
     "output_type": "execute_result"
    }
   ],
   "source": [
    "0b111"
   ]
  },
  {
   "cell_type": "code",
   "execution_count": 1,
   "id": "d05d3ddc-0288-4735-b861-cb2d1b49f059",
   "metadata": {},
   "outputs": [
    {
     "data": {
      "text/plain": [
       "13"
      ]
     },
     "execution_count": 1,
     "metadata": {},
     "output_type": "execute_result"
    }
   ],
   "source": [
    "0b01101\n"
   ]
  },
  {
   "cell_type": "code",
   "execution_count": 2,
   "id": "249b944d-18b1-41f3-ab14-ee7596081bc4",
   "metadata": {},
   "outputs": [
    {
     "data": {
      "text/plain": [
       "119"
      ]
     },
     "execution_count": 2,
     "metadata": {},
     "output_type": "execute_result"
    }
   ],
   "source": [
    "0b1110111"
   ]
  },
  {
   "cell_type": "code",
   "execution_count": 5,
   "id": "037eb59a-492e-4333-b2ac-36525cc745fe",
   "metadata": {},
   "outputs": [
    {
     "data": {
      "text/plain": [
       "15"
      ]
     },
     "execution_count": 5,
     "metadata": {},
     "output_type": "execute_result"
    }
   ],
   "source": [
    "0b1111"
   ]
  },
  {
   "cell_type": "code",
   "execution_count": 3,
   "id": "4575084c-141d-4adf-b38f-8398e29482fc",
   "metadata": {},
   "outputs": [],
   "source": [
    "import os"
   ]
  },
  {
   "cell_type": "code",
   "execution_count": 5,
   "id": "c93729f8-c04c-45c7-aef9-5ed11283747c",
   "metadata": {},
   "outputs": [
    {
     "data": {
      "text/plain": [
       "'C:\\\\Users\\\\renak\\\\Documents\\\\Balaswamy DS & AI\\\\Python'"
      ]
     },
     "execution_count": 5,
     "metadata": {},
     "output_type": "execute_result"
    }
   ],
   "source": [
    "os.getcwd()\n",
    "# get current working directory\n",
    "# it will give the path\n",
    "# where our python file loacted"
   ]
  },
  {
   "cell_type": "code",
   "execution_count": 7,
   "id": "33a0b304-eb4b-4c73-8804-9f6f21afa0e0",
   "metadata": {},
   "outputs": [
    {
     "data": {
      "text/plain": [
       "15"
      ]
     },
     "execution_count": 7,
     "metadata": {},
     "output_type": "execute_result"
    }
   ],
   "source": [
    "0b1111"
   ]
  },
  {
   "cell_type": "code",
   "execution_count": 10,
   "id": "11ceb4a8-3ad2-4d75-b104-81cb8366c0c4",
   "metadata": {},
   "outputs": [
    {
     "ename": "SyntaxError",
     "evalue": "invalid syntax (1225230672.py, line 2)",
     "output_type": "error",
     "traceback": [
      "\u001b[1;36m  Cell \u001b[1;32mIn[10], line 2\u001b[1;36m\u001b[0m\n\u001b[1;33m    8 4 2 1 num\u001b[0m\n\u001b[1;37m      ^\u001b[0m\n\u001b[1;31mSyntaxError\u001b[0m\u001b[1;31m:\u001b[0m invalid syntax\n"
     ]
    }
   ],
   "source": [
    "#\n",
    "8 4 2 1 num\n",
    "0 0 0 0 0\n",
    "0 0 0 1 1\n",
    "0 0 1 0 2\n",
    "0 0 1 1 3\n",
    "0 1 0 0 4\n",
    "0 1 0 1 5\n",
    "0 1 1 0 6\n",
    "0 1 1 1 7\n",
    "1 0 0 0 8\n",
    "1 0 0 1 9\n",
    "1 0 1 0 10\n",
    "1 0 1 1 11\n",
    "1 1 0 0 12\n",
    "1 1 0 1 13\n",
    "1 1 1 0 14\n",
    "1 1 1 1 15\n"
   ]
  },
  {
   "cell_type": "markdown",
   "id": "ebc28af3-8412-4508-9c0c-751655c22387",
   "metadata": {},
   "source": [
    "**octal**\n",
    "octa mean 8\n",
    "so it requre 8 digits\n",
    "generally we have 0 1 2 3 4 5 6 7\n",
    "represtation is 0o123,0o01234,0o765231\n",
    "wrong represtation is 0o108,0o987\n"
   ]
  },
  {
   "cell_type": "code",
   "execution_count": 13,
   "id": "11c28581-f93b-4ab7-b6e5-fef7b115b48b",
   "metadata": {},
   "outputs": [
    {
     "data": {
      "text/plain": [
       "83"
      ]
     },
     "execution_count": 13,
     "metadata": {},
     "output_type": "execute_result"
    }
   ],
   "source": [
    "0o123"
   ]
  },
  {
   "cell_type": "code",
   "execution_count": 14,
   "id": "1c4185e5-77a8-4043-b57c-9fa70a78580e",
   "metadata": {},
   "outputs": [
    {
     "data": {
      "text/plain": [
       "668"
      ]
     },
     "execution_count": 14,
     "metadata": {},
     "output_type": "execute_result"
    }
   ],
   "source": [
    "0o1234"
   ]
  },
  {
   "cell_type": "markdown",
   "id": "78cc2900-a93e-452a-a34f-466f695a4e2d",
   "metadata": {},
   "source": [
    "** hexa **\n",
    "- hexa means 16\n",
    "- so it requres 16 digits\n",
    "- generally wr have 0 1 2 3 4 5 6 7 8 9 A(10) B (11) C (12) D (13) E (14) F (15)\n",
    "- Representation 0x\n",
    "- wrong rep 0xGH"
   ]
  },
  {
   "cell_type": "code",
   "execution_count": 18,
   "id": "75d50489-71cd-4df3-9a43-7b5a8df054c4",
   "metadata": {},
   "outputs": [
    {
     "data": {
      "text/plain": [
       "4671"
      ]
     },
     "execution_count": 18,
     "metadata": {},
     "output_type": "execute_result"
    }
   ],
   "source": [
    "0X123f"
   ]
  },
  {
   "cell_type": "markdown",
   "id": "9c928ad4-2e8b-4522-afce-b66cf9e840c4",
   "metadata": {},
   "source": [
    "**Float**"
   ]
  },
  {
   "cell_type": "code",
   "execution_count": 20,
   "id": "9dbf8060-62dd-4584-847d-aeb23eda67f7",
   "metadata": {},
   "outputs": [],
   "source": [
    "n1=1005.00"
   ]
  },
  {
   "cell_type": "markdown",
   "id": "d69484fc-5f00-47ee-98fc-2b43ee455403",
   "metadata": {},
   "source": [
    "*Int*"
   ]
  },
  {
   "cell_type": "code",
   "execution_count": 21,
   "id": "926777d9-55ef-49ac-9ea0-689c33fe6b4b",
   "metadata": {},
   "outputs": [
    {
     "data": {
      "text/plain": [
       "(10.0, 100.0, 1000.0, 10000.0)"
      ]
     },
     "execution_count": 21,
     "metadata": {},
     "output_type": "execute_result"
    }
   ],
   "source": [
    "1e1,1e2,1e3,1e4"
   ]
  },
  {
   "cell_type": "code",
   "execution_count": 22,
   "id": "cc52c979-98de-427e-a30c-e30207d83c4d",
   "metadata": {},
   "outputs": [],
   "source": [
    "# kep=k*10^p"
   ]
  },
  {
   "cell_type": "code",
   "execution_count": 23,
   "id": "7b50956d-6545-43ad-971d-125b2a393b68",
   "metadata": {},
   "outputs": [
    {
     "data": {
      "text/plain": [
       "24000.0"
      ]
     },
     "execution_count": 23,
     "metadata": {},
     "output_type": "execute_result"
    }
   ],
   "source": [
    "24e3"
   ]
  },
  {
   "cell_type": "code",
   "execution_count": 24,
   "id": "7da8923f-2a88-418d-a04e-de05e1903708",
   "metadata": {},
   "outputs": [
    {
     "data": {
      "text/plain": [
       "(10.0, 100.0, 1000.0, 10000.0)"
      ]
     },
     "execution_count": 24,
     "metadata": {},
     "output_type": "execute_result"
    }
   ],
   "source": [
    "1e+1,1e+2,1e+3,1e+4"
   ]
  },
  {
   "cell_type": "code",
   "execution_count": 25,
   "id": "34ff591d-6908-4b7b-8b34-57fdf9f1b83b",
   "metadata": {},
   "outputs": [
    {
     "data": {
      "text/plain": [
       "0.1"
      ]
     },
     "execution_count": 25,
     "metadata": {},
     "output_type": "execute_result"
    }
   ],
   "source": [
    "1e-1"
   ]
  },
  {
   "cell_type": "code",
   "execution_count": 26,
   "id": "d584ff4c-90a8-4c48-b259-c9a5b79ab9d1",
   "metadata": {},
   "outputs": [
    {
     "data": {
      "text/plain": [
       "(0.1, 0.01, 0.001)"
      ]
     },
     "execution_count": 26,
     "metadata": {},
     "output_type": "execute_result"
    }
   ],
   "source": [
    "1e-1,1e-2,1e-3"
   ]
  },
  {
   "cell_type": "code",
   "execution_count": 28,
   "id": "6334c9a4-c27b-4f97-98f1-6e71e185009e",
   "metadata": {},
   "outputs": [
    {
     "data": {
      "text/plain": [
       "0.024"
      ]
     },
     "execution_count": 28,
     "metadata": {},
     "output_type": "execute_result"
    }
   ],
   "source": [
    "24e-3 #24/1000"
   ]
  },
  {
   "cell_type": "markdown",
   "id": "dcd056f9-f85c-4566-9a9b-d36485f9b34d",
   "metadata": {},
   "source": [
    "- postive sign means multiply\n",
    "- negative sign means divide"
   ]
  },
  {
   "cell_type": "markdown",
   "id": "e7830b2d-66a9-4361-9e40-12d02588d0ea",
   "metadata": {},
   "source": [
    "**Strings**"
   ]
  },
  {
   "cell_type": "markdown",
   "id": "ab19493f-4b30-452b-90ff-47d3b2394f88",
   "metadata": {},
   "source": [
    "- strings are used to represent the english charecters gernerelly\n",
    "- strings will represent in \n",
    "    - Single quotes\n",
    "    - double quotes\n",
    "    - triple quotes"
   ]
  },
  {
   "cell_type": "code",
   "execution_count": 33,
   "id": "4e99a0cf-b397-41ca-9d1f-73ef56f2e91e",
   "metadata": {},
   "outputs": [
    {
     "data": {
      "text/plain": [
       "str"
      ]
     },
     "execution_count": 33,
     "metadata": {},
     "output_type": "execute_result"
    }
   ],
   "source": [
    "name1='Balaswamy'\n",
    "type (name1)"
   ]
  },
  {
   "cell_type": "code",
   "execution_count": 31,
   "id": "7e9645f7-7734-4b99-a9c6-73a98d640a4a",
   "metadata": {},
   "outputs": [
    {
     "data": {
      "text/plain": [
       "str"
      ]
     },
     "execution_count": 31,
     "metadata": {},
     "output_type": "execute_result"
    }
   ],
   "source": [
    "name = \"Balaswamy\"\n",
    "type (name)"
   ]
  },
  {
   "cell_type": "code",
   "execution_count": 34,
   "id": "11cf1bf4-08fd-4ef4-a2b9-a0b8a9b2655b",
   "metadata": {},
   "outputs": [
    {
     "data": {
      "text/plain": [
       "str"
      ]
     },
     "execution_count": 34,
     "metadata": {},
     "output_type": "execute_result"
    }
   ],
   "source": [
    "name2 = '43234'\n",
    "type (name2)"
   ]
  },
  {
   "cell_type": "code",
   "execution_count": 36,
   "id": "27a4c7d3-2f0c-403d-95fe-4fd40523cd2e",
   "metadata": {},
   "outputs": [
    {
     "data": {
      "text/plain": [
       "str"
      ]
     },
     "execution_count": 36,
     "metadata": {},
     "output_type": "execute_result"
    }
   ],
   "source": [
    "eamail_id = 'balaswamy@gmail.com'\n",
    "type (eamail_id)"
   ]
  },
  {
   "cell_type": "markdown",
   "id": "11cd6f5c-6a25-4fc0-b039-41ac7f6f547e",
   "metadata": {},
   "source": [
    "**Red colour means strings**\n",
    "**green colour means key words**\n",
    "**Black colour means variables**"
   ]
  },
  {
   "cell_type": "code",
   "execution_count": 38,
   "id": "6082a84d-bc1a-4963-a6fb-1558115b4d78",
   "metadata": {},
   "outputs": [
    {
     "data": {
      "text/plain": [
       "'python'"
      ]
     },
     "execution_count": 38,
     "metadata": {},
     "output_type": "execute_result"
    }
   ],
   "source": [
    "name='python'\n",
    "name1=\"python\"\n",
    "name1"
   ]
  },
  {
   "cell_type": "markdown",
   "id": "abbc6a8c-9a1c-402f-9605-35e668f73597",
   "metadata": {},
   "source": [
    "- Python output always in single quots"
   ]
  },
  {
   "cell_type": "code",
   "execution_count": 39,
   "id": "9cf987bc-7ddf-493d-a53a-6780d7bd463d",
   "metadata": {},
   "outputs": [
    {
     "name": "stdout",
     "output_type": "stream",
     "text": [
      "python\n"
     ]
    }
   ],
   "source": [
    "print(name)"
   ]
  },
  {
   "cell_type": "markdown",
   "id": "f9c25bcc-1145-4157-9f86-2cea741891f1",
   "metadata": {},
   "source": [
    "- whenever you print quots will not visable"
   ]
  },
  {
   "cell_type": "code",
   "execution_count": 40,
   "id": "d7558aaa-b365-466f-a3ef-b4fbc23a01f8",
   "metadata": {},
   "outputs": [],
   "source": [
    "name = \"i like 'python'\""
   ]
  },
  {
   "cell_type": "code",
   "execution_count": 41,
   "id": "df9102d0-50b3-4420-98d2-efc636b796e0",
   "metadata": {},
   "outputs": [
    {
     "name": "stdout",
     "output_type": "stream",
     "text": [
      "i like 'python'\n"
     ]
    }
   ],
   "source": [
    "print (name)"
   ]
  },
  {
   "cell_type": "code",
   "execution_count": 42,
   "id": "f8df029f-f2be-4137-bb35-650008ccb0e1",
   "metadata": {},
   "outputs": [
    {
     "name": "stdout",
     "output_type": "stream",
     "text": [
      "lkdwjklnoiuih\"l;kasjdoinjkdnhf\"\n"
     ]
    }
   ],
   "source": [
    "name1= 'lkdwjklnoiuih\"l;kasjdoinjkdnhf\"'\n",
    "print(name1)"
   ]
  },
  {
   "cell_type": "markdown",
   "id": "5bc20e0b-f0ba-4773-b454-74bba4fcbdb7",
   "metadata": {},
   "source": [
    "- entire string in double quotes the highleted words in single quote vice versa"
   ]
  },
  {
   "cell_type": "markdown",
   "id": "67844d3e-15b4-4984-bfa1-b0097e8e3916",
   "metadata": {},
   "source": [
    "**Triple code**\n",
    "- Triple quotes is not used for coding\n",
    "- triple quotes is used to provid the information to the user\n",
    "- In order to provide the information in jupyter notebook we will markdown\n",
    "- in vscode or pycharm there is no markdown option\n",
    "- thatswhy the world start used to write the information in triple quotes\n",
    "- this entire process is called DocString"
   ]
  },
  {
   "cell_type": "code",
   "execution_count": 43,
   "id": "ed7bdbfa-fb26-42c2-8cb9-7450820bc828",
   "metadata": {},
   "outputs": [
    {
     "data": {
      "text/plain": [
       "'\\nhello \\nam writing pyton code\\nthis python\\n'"
      ]
     },
     "execution_count": 43,
     "metadata": {},
     "output_type": "execute_result"
    }
   ],
   "source": [
    "\"\"\"\n",
    "hello \n",
    "am writing pyton code\n",
    "this python\n",
    "\"\"\""
   ]
  },
  {
   "cell_type": "markdown",
   "id": "cf107741-270c-4e90-9e28-350d43df0e82",
   "metadata": {},
   "source": [
    "***Boolean***"
   ]
  },
  {
   "cell_type": "code",
   "execution_count": 45,
   "id": "da2b5610-010f-45d4-b800-4b29e729c0cc",
   "metadata": {},
   "outputs": [
    {
     "data": {
      "text/plain": [
       "bool"
      ]
     },
     "execution_count": 45,
     "metadata": {},
     "output_type": "execute_result"
    }
   ],
   "source": [
    "value = True\n",
    "type(value)"
   ]
  },
  {
   "cell_type": "code",
   "execution_count": 46,
   "id": "ac668f6b-c2fc-4a4e-a637-038257b00d35",
   "metadata": {},
   "outputs": [
    {
     "data": {
      "text/plain": [
       "bool"
      ]
     },
     "execution_count": 46,
     "metadata": {},
     "output_type": "execute_result"
    }
   ],
   "source": [
    "value1 = False\n",
    "type (value1)"
   ]
  },
  {
   "cell_type": "code",
   "execution_count": 48,
   "id": "db2e0648-5e2f-4bc5-954f-5ab917a25903",
   "metadata": {},
   "outputs": [],
   "source": [
    "true= \"True\"\n",
    "false= False\n",
    "\n",
    "# true and false are variables\n",
    "# type otrue is string\n",
    "# type false is boolean"
   ]
  },
  {
   "cell_type": "code",
   "execution_count": 49,
   "id": "e897a175-d2cf-4874-829a-d9e2cb402ee6",
   "metadata": {},
   "outputs": [
    {
     "data": {
      "text/plain": [
       "'True'"
      ]
     },
     "execution_count": 49,
     "metadata": {},
     "output_type": "execute_result"
    }
   ],
   "source": [
    "true"
   ]
  },
  {
   "cell_type": "code",
   "execution_count": 50,
   "id": "b95be68b-0b8e-4c60-8653-ef7f3efbf9d1",
   "metadata": {},
   "outputs": [
    {
     "data": {
      "text/plain": [
       "str"
      ]
     },
     "execution_count": 50,
     "metadata": {},
     "output_type": "execute_result"
    }
   ],
   "source": [
    "type(true)"
   ]
  },
  {
   "cell_type": "code",
   "execution_count": 51,
   "id": "91e8b9be-f9f4-4bed-9cc2-ee40d77d42a9",
   "metadata": {},
   "outputs": [
    {
     "data": {
      "text/plain": [
       "bool"
      ]
     },
     "execution_count": 51,
     "metadata": {},
     "output_type": "execute_result"
    }
   ],
   "source": [
    "type(false)"
   ]
  },
  {
   "cell_type": "code",
   "execution_count": 2,
   "id": "6659fa47-a546-4ab1-9b2a-8401374d4560",
   "metadata": {},
   "outputs": [
    {
     "data": {
      "text/plain": [
       "1113427"
      ]
     },
     "execution_count": 2,
     "metadata": {},
     "output_type": "execute_result"
    }
   ],
   "source": [
    "0o4176523"
   ]
  },
  {
   "cell_type": "code",
   "execution_count": 4,
   "id": "4153ae42-d0d1-4669-9f09-4b15cc8bb14e",
   "metadata": {},
   "outputs": [
    {
     "data": {
      "text/plain": [
       "int"
      ]
     },
     "execution_count": 4,
     "metadata": {},
     "output_type": "execute_result"
    }
   ],
   "source": [
    "amount = 1000\n",
    "type(amount)"
   ]
  },
  {
   "cell_type": "code",
   "execution_count": 5,
   "id": "a81a8c8a-2c78-4cfe-89b2-680babec4244",
   "metadata": {},
   "outputs": [
    {
     "data": {
      "text/plain": [
       "float"
      ]
     },
     "execution_count": 5,
     "metadata": {},
     "output_type": "execute_result"
    }
   ],
   "source": [
    "amount1=1234.45\n",
    "type(amount1)"
   ]
  },
  {
   "cell_type": "code",
   "execution_count": 6,
   "id": "1498f25a-d5ea-40f1-a0a5-aa457cc8514d",
   "metadata": {},
   "outputs": [
    {
     "name": "stdout",
     "output_type": "stream",
     "text": [
      "11111111\n"
     ]
    }
   ],
   "source": [
    "amount2=\"11111111\"\n",
    "print(amount2)"
   ]
  },
  {
   "cell_type": "code",
   "execution_count": 7,
   "id": "baec3392-e7ff-48ee-add6-064b3bbd39c1",
   "metadata": {},
   "outputs": [
    {
     "data": {
      "text/plain": [
       "str"
      ]
     },
     "execution_count": 7,
     "metadata": {},
     "output_type": "execute_result"
    }
   ],
   "source": [
    "type(amount2)"
   ]
  },
  {
   "cell_type": "code",
   "execution_count": null,
   "id": "58211df6-af47-422e-a339-8ba74f11ddee",
   "metadata": {},
   "outputs": [],
   "source": []
  }
 ],
 "metadata": {
  "kernelspec": {
   "display_name": "Python 3 (ipykernel)",
   "language": "python",
   "name": "python3"
  },
  "language_info": {
   "codemirror_mode": {
    "name": "ipython",
    "version": 3
   },
   "file_extension": ".py",
   "mimetype": "text/x-python",
   "name": "python",
   "nbconvert_exporter": "python",
   "pygments_lexer": "ipython3",
   "version": "3.11.7"
  }
 },
 "nbformat": 4,
 "nbformat_minor": 5
}
