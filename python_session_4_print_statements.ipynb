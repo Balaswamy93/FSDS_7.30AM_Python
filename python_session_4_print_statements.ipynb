{
 "cells": [
  {
   "cell_type": "code",
   "execution_count": 1,
   "id": "3d92027f-f8dd-4fec-814a-51089caa293b",
   "metadata": {},
   "outputs": [
    {
     "name": "stdout",
     "output_type": "stream",
     "text": [
      "10\n"
     ]
    }
   ],
   "source": [
    "print(10)"
   ]
  },
  {
   "cell_type": "code",
   "execution_count": 34,
   "id": "c3694b63-162a-49a4-9862-16c0ebdb4570",
   "metadata": {},
   "outputs": [
    {
     "name": "stdout",
     "output_type": "stream",
     "text": [
      "10\n"
     ]
    }
   ],
   "source": [
    "print(10)"
   ]
  },
  {
   "cell_type": "code",
   "execution_count": 2,
   "id": "f602d96d-2e85-414e-95ac-a7ba27125e68",
   "metadata": {},
   "outputs": [
    {
     "name": "stdout",
     "output_type": "stream",
     "text": [
      "Python\n"
     ]
    }
   ],
   "source": [
    "print('Python')"
   ]
  },
  {
   "cell_type": "code",
   "execution_count": 35,
   "id": "762be6c9-ba42-4b57-aae1-780cae1397ce",
   "metadata": {},
   "outputs": [
    {
     "name": "stdout",
     "output_type": "stream",
     "text": [
      "python\n"
     ]
    }
   ],
   "source": [
    "print('python')"
   ]
  },
  {
   "cell_type": "code",
   "execution_count": 3,
   "id": "e4f04a43-d6db-480c-b474-d98c217280e4",
   "metadata": {},
   "outputs": [
    {
     "name": "stdout",
     "output_type": "stream",
     "text": [
      "10 20 30\n"
     ]
    }
   ],
   "source": [
    "print(10,20,30)"
   ]
  },
  {
   "cell_type": "code",
   "execution_count": 36,
   "id": "5f965d07-3908-4d22-81c2-f2e4ade215a8",
   "metadata": {},
   "outputs": [
    {
     "name": "stdout",
     "output_type": "stream",
     "text": [
      "12 34 45\n"
     ]
    }
   ],
   "source": [
    "print(12,34,45)"
   ]
  },
  {
   "cell_type": "code",
   "execution_count": 4,
   "id": "25c37273-3e05-4f1e-875a-130bae438234",
   "metadata": {},
   "outputs": [
    {
     "name": "stdout",
     "output_type": "stream",
     "text": [
      "10 10.5 naresh it True\n"
     ]
    }
   ],
   "source": [
    "print(10,10.5,'naresh it',True)"
   ]
  },
  {
   "cell_type": "code",
   "execution_count": 37,
   "id": "b0e1fe4b-cb16-43c7-89d9-e4b19f3ca09c",
   "metadata": {},
   "outputs": [
    {
     "name": "stdout",
     "output_type": "stream",
     "text": [
      "23 34 23 tittu False\n"
     ]
    }
   ],
   "source": [
    "print(23,34,23,'tittu',False)"
   ]
  },
  {
   "cell_type": "code",
   "execution_count": 6,
   "id": "90d0cc83-df61-4479-9233-9a8623b2f2a5",
   "metadata": {},
   "outputs": [
    {
     "name": "stdout",
     "output_type": "stream",
     "text": [
      "10 20\n"
     ]
    }
   ],
   "source": [
    "n1= 10\n",
    "n2=20\n",
    "print(n1,n2)"
   ]
  },
  {
   "cell_type": "code",
   "execution_count": 38,
   "id": "7d259e09-efbe-4218-b4fd-fc128677695e",
   "metadata": {},
   "outputs": [
    {
     "name": "stdout",
     "output_type": "stream",
     "text": [
      "10 20\n"
     ]
    }
   ],
   "source": [
    "n1 =10\n",
    "n2= 20\n",
    "print(n1,n2)"
   ]
  },
  {
   "cell_type": "code",
   "execution_count": 7,
   "id": "45f13956-f86f-4390-b89a-9e69f6e99e68",
   "metadata": {},
   "outputs": [
    {
     "name": "stdout",
     "output_type": "stream",
     "text": [
      "10 20 30\n",
      "10\n",
      "20\n"
     ]
    },
    {
     "data": {
      "text/plain": [
       "(None, None)"
      ]
     },
     "execution_count": 7,
     "metadata": {},
     "output_type": "execute_result"
    }
   ],
   "source": [
    "print (10,20,30)\n",
    "print(10),print(20)"
   ]
  },
  {
   "cell_type": "code",
   "execution_count": 9,
   "id": "94a01ca5-e7e6-4dab-a3ca-1326e22adf28",
   "metadata": {},
   "outputs": [
    {
     "name": "stdout",
     "output_type": "stream",
     "text": [
      "the addition of 10 and 20 is 30\n"
     ]
    }
   ],
   "source": [
    "a=10\n",
    "b=20\n",
    "c=a+b\n",
    "c \n",
    "#the addition of 10 and 20 is 30\n",
    "print (\"the addition of 10 and 20 is 30\")\n"
   ]
  },
  {
   "cell_type": "code",
   "execution_count": 39,
   "id": "8269d9f0-1d30-40cc-b41d-957cc85c0e4f",
   "metadata": {},
   "outputs": [
    {
     "name": "stdout",
     "output_type": "stream",
     "text": [
      "the addition of 23 and 22 is 45\n"
     ]
    }
   ],
   "source": [
    "a=23\n",
    "b=22\n",
    "c=a+b\n",
    "print(\"the addition of 23 and 22 is 45\")"
   ]
  },
  {
   "cell_type": "code",
   "execution_count": 40,
   "id": "86f8f1c3-a413-43c6-8f62-6f1ddf36b0de",
   "metadata": {},
   "outputs": [
    {
     "name": "stdout",
     "output_type": "stream",
     "text": [
      "The addition of 23 and 22 is 45\n"
     ]
    }
   ],
   "source": [
    "print(\"The addition of {} and {} is {}\".format(a,b,c))"
   ]
  },
  {
   "cell_type": "markdown",
   "id": "c1b3f218-ddaa-4016-8057-09bf89f6fc16",
   "metadata": {},
   "source": [
    "**fomat method**"
   ]
  },
  {
   "cell_type": "code",
   "execution_count": 11,
   "id": "610c612a-43be-49f3-b359-cdac1ea18230",
   "metadata": {},
   "outputs": [
    {
     "name": "stdout",
     "output_type": "stream",
     "text": [
      "the addition of 100 and200 id 300\n"
     ]
    }
   ],
   "source": [
    "a= 100\n",
    "b= 200\n",
    "c=a+b\n",
    "print(\"the addition of {} and{} id {}\".format(a,b,c))"
   ]
  },
  {
   "cell_type": "code",
   "execution_count": 12,
   "id": "9ada4da4-548d-4364-9f87-71158e659212",
   "metadata": {},
   "outputs": [],
   "source": [
    "# read your name\n",
    "# read you age\n",
    "# read your city\n",
    "# Myname is python, am 10 years old im from hyderabad\n"
   ]
  },
  {
   "cell_type": "code",
   "execution_count": 13,
   "id": "1b954c7b-3ebf-49dc-bc24-f3f13eaca353",
   "metadata": {},
   "outputs": [
    {
     "name": "stdout",
     "output_type": "stream",
     "text": [
      "my name is python,am 10 years old and i am from hyd\n"
     ]
    }
   ],
   "source": [
    "name = \"Python\"\n",
    "age =10\n",
    "city = \"hyd\"\n",
    "print(\"my name is python,am 10 years old and i am from hyd\")"
   ]
  },
  {
   "cell_type": "code",
   "execution_count": 15,
   "id": "9d46465f-312e-4ff2-9adc-675585cad77f",
   "metadata": {},
   "outputs": [
    {
     "name": "stdout",
     "output_type": "stream",
     "text": [
      "my name is Python,am 10 years old and i am from hyd\n"
     ]
    }
   ],
   "source": [
    "print(\"my name is {},am {} years old and i am from {}\".format (name,age,city))"
   ]
  },
  {
   "cell_type": "code",
   "execution_count": 16,
   "id": "b76f623d-c7f8-4613-baf3-1d64ded476e6",
   "metadata": {},
   "outputs": [],
   "source": [
    "#employee name\n",
    "# emplyee role\n",
    "# employee"
   ]
  },
  {
   "cell_type": "code",
   "execution_count": 33,
   "id": "5cde4db0-c4c4-460e-84f0-e0121669ecea",
   "metadata": {},
   "outputs": [
    {
     "name": "stdout",
     "output_type": "stream",
     "text": [
      "My name is balaswamy, my current role is team lean and my company is bny mellon\n"
     ]
    }
   ],
   "source": [
    "employee= \"Balaswamy\"\n",
    "employeerole = \"Team lead\"\n",
    "company= \"Bny mellon\"\n",
    "print(\"My name is balaswamy, my current role is team lean and my company is bny mellon\")"
   ]
  },
  {
   "cell_type": "markdown",
   "id": "62faa13b-2350-485b-92ae-f0b1b32a37f6",
   "metadata": {},
   "source": [
    "**f string Method**"
   ]
  },
  {
   "cell_type": "code",
   "execution_count": 22,
   "id": "35180491-7eee-4687-82ef-7a6efff04b55",
   "metadata": {},
   "outputs": [
    {
     "name": "stdout",
     "output_type": "stream",
     "text": [
      "my name is {name},am {age} years old and i am from {city}\n"
     ]
    }
   ],
   "source": [
    "print(\"my name is {name},am {age} years old and i am from {city}\")"
   ]
  },
  {
   "cell_type": "code",
   "execution_count": 23,
   "id": "dc0fd12f-b075-4547-947a-6bb832249138",
   "metadata": {},
   "outputs": [
    {
     "name": "stdout",
     "output_type": "stream",
     "text": [
      "my name is Python,am 10 years old and i am from hyd\n"
     ]
    }
   ],
   "source": [
    "print(f\"my name is {name},am {age} years old and i am from {city}\")"
   ]
  },
  {
   "cell_type": "code",
   "execution_count": 31,
   "id": "0f38e4e4-c8aa-4a3a-a228-895441b0b3ac",
   "metadata": {},
   "outputs": [
    {
     "name": "stdout",
     "output_type": "stream",
     "text": [
      "My name is Balaswamy, my role is team lead and i am working in bny mellon\n"
     ]
    }
   ],
   "source": [
    "employee_name='Balaswamy'\n",
    "employee_role='team lead'\n",
    "company='bny mellon'\n",
    "print('My name is Balaswamy, my role is team lead and i am working in bny mellon')"
   ]
  },
  {
   "cell_type": "code",
   "execution_count": 32,
   "id": "10943287-e381-4221-9a1f-dafe97d011a7",
   "metadata": {},
   "outputs": [
    {
     "name": "stdout",
     "output_type": "stream",
     "text": [
      "My name isBalaswamy,my role is team lead and i working in bny mellon\n"
     ]
    }
   ],
   "source": [
    "print('My name is{},my role is {} and i working in {}'.format(employee_name,employee_role,company))"
   ]
  },
  {
   "cell_type": "code",
   "execution_count": 41,
   "id": "4318fa3b-429c-4611-a240-79fa2384d809",
   "metadata": {},
   "outputs": [
    {
     "data": {
      "text/plain": [
       "'100'"
      ]
     },
     "execution_count": 41,
     "metadata": {},
     "output_type": "execute_result"
    }
   ],
   "source": [
    "str(100)"
   ]
  },
  {
   "cell_type": "code",
   "execution_count": 42,
   "id": "f20da9cb-45ba-45ed-a3ef-f8653800cbb4",
   "metadata": {},
   "outputs": [
    {
     "data": {
      "text/plain": [
       "'True'"
      ]
     },
     "execution_count": 42,
     "metadata": {},
     "output_type": "execute_result"
    }
   ],
   "source": [
    "str(True)"
   ]
  },
  {
   "cell_type": "code",
   "execution_count": 5,
   "id": "6a125682-b229-47ba-8128-4e5c6ac61375",
   "metadata": {},
   "outputs": [],
   "source": [
    "num1=100\n",
    "num2=200\n",
    "average=(num1+num2)/2"
   ]
  },
  {
   "cell_type": "code",
   "execution_count": 6,
   "id": "5b23aad2-a445-4da5-92ba-2816e55a507d",
   "metadata": {},
   "outputs": [
    {
     "name": "stdout",
     "output_type": "stream",
     "text": [
      "The average of 100 and 200 is 150.0\n"
     ]
    }
   ],
   "source": [
    "print(\"The average of {} and {} is {}\".format(num1,num2,average))"
   ]
  },
  {
   "cell_type": "code",
   "execution_count": 7,
   "id": "3b4f65c2-43ca-47ef-842d-94b7ea18e5a5",
   "metadata": {},
   "outputs": [
    {
     "name": "stdout",
     "output_type": "stream",
     "text": [
      "The average of 100 and 200 is 150.0\n"
     ]
    }
   ],
   "source": [
    "print(f\"The average of {num1} and {num2} is {average}\")"
   ]
  },
  {
   "cell_type": "code",
   "execution_count": null,
   "id": "7740fb6d-5ecb-428f-8e57-adca1ebafd78",
   "metadata": {},
   "outputs": [],
   "source": [
    "**common Mistakes**\n",
    "- spelling of fromat"
   ]
  },
  {
   "cell_type": "code",
   "execution_count": 8,
   "id": "10b9ef26-cbd3-4c58-8c29-d63c5d05926e",
   "metadata": {},
   "outputs": [
    {
     "name": "stdout",
     "output_type": "stream",
     "text": [
      "the area of circle is 314.0\n"
     ]
    }
   ],
   "source": [
    "# take the radius of circle\n",
    "# take the pi value= 3.14\n",
    "# find the area of the circle = pi*r*r\n",
    "radius=10\n",
    "pi=3.14\n",
    "area=pi*radius*radius\n",
    "\n",
    "print(\"the area of circle is {}\".format(area))"
   ]
  },
  {
   "cell_type": "code",
   "execution_count": 9,
   "id": "04b55a08-6885-4d9c-9700-4e6283291dc8",
   "metadata": {},
   "outputs": [
    {
     "name": "stdout",
     "output_type": "stream",
     "text": [
      "the area of the traingle is 100.0\n"
     ]
    }
   ],
   "source": [
    "# take the base of the tringle\n",
    "# take the height of the traingle\n",
    "# area of the traingle = 1/2*base*hight\n",
    "base= 10\n",
    "height =20\n",
    "area= 1/2*base*height\n",
    "print(\"the area of the traingle is {}\".format(area))"
   ]
  },
  {
   "cell_type": "code",
   "execution_count": 11,
   "id": "23b3e1df-fc83-4ee7-82a8-5321a2bdada8",
   "metadata": {},
   "outputs": [
    {
     "name": "stdout",
     "output_type": "stream",
     "text": [
      "the area of the traingle is 100.0\n"
     ]
    }
   ],
   "source": [
    "print(f\"the area of the traingle is {area}\")"
   ]
  },
  {
   "cell_type": "code",
   "execution_count": 13,
   "id": "bcac36e8-3e77-48fd-9389-4f394da4e090",
   "metadata": {},
   "outputs": [
    {
     "name": "stdout",
     "output_type": "stream",
     "text": [
      "the total bill of the food is 6940.89\n"
     ]
    }
   ],
   "source": [
    "# Take the bill amount\n",
    "# take the tip percent\n",
    "# calculate tip amount\n",
    "# calculate the total bill\n",
    "\n",
    "bill_amount=5643\n",
    "tip_per=23\n",
    "tip_bill=bill_amount*tip_per/100\n",
    "Total_bill=bill_amount+tip_bill\n",
    "print(\"the total bill of the food is {}\".format(Total_bill))"
   ]
  },
  {
   "cell_type": "code",
   "execution_count": 16,
   "id": "3b599720-202a-4e9e-a7d5-7f1956ebd7a9",
   "metadata": {},
   "outputs": [
    {
     "name": "stdout",
     "output_type": "stream",
     "text": [
      "the total bill the food is: 6940.89\n"
     ]
    }
   ],
   "source": [
    "print(f\"the total bill the food is: {Total_bill}\")"
   ]
  },
  {
   "cell_type": "code",
   "execution_count": 17,
   "id": "7ae7b3b1-6f69-455e-a995-1401949601e4",
   "metadata": {},
   "outputs": [
    {
     "name": "stdout",
     "output_type": "stream",
     "text": [
      "10\n",
      "20\n"
     ]
    }
   ],
   "source": [
    "print(10)\n",
    "print(20)"
   ]
  },
  {
   "cell_type": "code",
   "execution_count": 18,
   "id": "02c2a969-a7fb-40fe-bf02-b455b79b28b1",
   "metadata": {},
   "outputs": [
    {
     "name": "stdout",
     "output_type": "stream",
     "text": [
      "10 20\n"
     ]
    }
   ],
   "source": [
    "print(10,20)"
   ]
  },
  {
   "cell_type": "markdown",
   "id": "ece90c31-b37b-4db3-8e58-fdee6e3e319d",
   "metadata": {},
   "source": [
    "**End operator**"
   ]
  },
  {
   "cell_type": "code",
   "execution_count": 21,
   "id": "9f7bfe8f-b5cb-4f43-853c-c8bee335ad8a",
   "metadata": {},
   "outputs": [
    {
     "name": "stdout",
     "output_type": "stream",
     "text": [
      "1020\n"
     ]
    }
   ],
   "source": [
    "print(10,end='')\n",
    "print(20)"
   ]
  },
  {
   "cell_type": "code",
   "execution_count": 22,
   "id": "ae74eed3-abd4-4fc3-bda7-6c4d2cf91af7",
   "metadata": {},
   "outputs": [
    {
     "name": "stdout",
     "output_type": "stream",
     "text": [
      "10 &20\n"
     ]
    }
   ],
   "source": [
    "print(10,end=' &')\n",
    "print(20)"
   ]
  },
  {
   "cell_type": "code",
   "execution_count": 25,
   "id": "60e04bf8-eea3-409a-89ca-e5ac7f6d5a4c",
   "metadata": {},
   "outputs": [
    {
     "name": "stdout",
     "output_type": "stream",
     "text": [
      "10 20@30%40&"
     ]
    }
   ],
   "source": [
    "print(10,end=' ')\n",
    "print(20,end='@')\n",
    "print(30,end='%')\n",
    "print(40,end='&')"
   ]
  },
  {
   "cell_type": "code",
   "execution_count": 26,
   "id": "61012df0-65e9-41d6-8027-00e640370555",
   "metadata": {},
   "outputs": [
    {
     "name": "stdout",
     "output_type": "stream",
     "text": [
      "10 20 30\n"
     ]
    }
   ],
   "source": [
    "print(10,20,30)"
   ]
  },
  {
   "cell_type": "markdown",
   "id": "dadb5558-aadf-4185-ad1c-6f5e6fafea77",
   "metadata": {},
   "source": [
    "**Seperator**"
   ]
  },
  {
   "cell_type": "markdown",
   "id": "fae89f46-bdd7-4234-bfed-03778fb51154",
   "metadata": {},
   "source": [
    "- Seperate the multiple values in a single print statemtnt"
   ]
  },
  {
   "cell_type": "code",
   "execution_count": 31,
   "id": "4cd8fa37-a9f7-4e60-b509-5c7a1d606baa",
   "metadata": {},
   "outputs": [
    {
     "name": "stdout",
     "output_type": "stream",
     "text": [
      "10 & 20 & 30\n"
     ]
    }
   ],
   "source": [
    "print(10,20,30,sep=' & ')"
   ]
  },
  {
   "cell_type": "code",
   "execution_count": 32,
   "id": "94e7785f-9824-4b31-bfde-e11f9ccb9b96",
   "metadata": {},
   "outputs": [
    {
     "name": "stdout",
     "output_type": "stream",
     "text": [
      "10 ---> 20 ---> 30\n"
     ]
    }
   ],
   "source": [
    "print(10,20,30,sep=' ---> ')"
   ]
  },
  {
   "cell_type": "code",
   "execution_count": 34,
   "id": "6612253e-6d89-4fdd-a53a-637bef247dc4",
   "metadata": {},
   "outputs": [
    {
     "name": "stdout",
     "output_type": "stream",
     "text": [
      "the addition of 5 and 3 is:  8\n"
     ]
    }
   ],
   "source": [
    "print(f\"the addition of {5} and {3} is:  {5+3}\")"
   ]
  },
  {
   "cell_type": "code",
   "execution_count": 35,
   "id": "5cf0eef5-c4d0-475d-8076-2618a34c185e",
   "metadata": {},
   "outputs": [
    {
     "name": "stdout",
     "output_type": "stream",
     "text": [
      "the addtiontion 5 and 3 is 8.\n"
     ]
    }
   ],
   "source": [
    "print(\"the addtiontion {} and {} is {}.\".format(5,3,8))"
   ]
  },
  {
   "cell_type": "code",
   "execution_count": 36,
   "id": "263e2d63-2a79-470f-83e7-39d04d51049a",
   "metadata": {},
   "outputs": [
    {
     "name": "stdout",
     "output_type": "stream",
     "text": [
      "the addition of 5 and 3 is 8 .\n"
     ]
    }
   ],
   "source": [
    "print(\"the addition of 5 and 3 is 8\",'.',sep=' ')"
   ]
  },
  {
   "cell_type": "code",
   "execution_count": null,
   "id": "33a1a966-0d19-42fb-a9f5-032825cedb04",
   "metadata": {},
   "outputs": [],
   "source": []
  }
 ],
 "metadata": {
  "kernelspec": {
   "display_name": "Python 3 (ipykernel)",
   "language": "python",
   "name": "python3"
  },
  "language_info": {
   "codemirror_mode": {
    "name": "ipython",
    "version": 3
   },
   "file_extension": ".py",
   "mimetype": "text/x-python",
   "name": "python",
   "nbconvert_exporter": "python",
   "pygments_lexer": "ipython3",
   "version": "3.11.7"
  }
 },
 "nbformat": 4,
 "nbformat_minor": 5
}
