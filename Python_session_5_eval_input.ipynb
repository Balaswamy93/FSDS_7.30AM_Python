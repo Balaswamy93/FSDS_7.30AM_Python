{
 "cells": [
  {
   "cell_type": "code",
   "execution_count": 2,
   "id": "900f9c39-b446-4d11-9262-6c0f3666ce6b",
   "metadata": {},
   "outputs": [],
   "source": [
    "num1=100\n",
    "num2=200\n",
    "add=num1+num2"
   ]
  },
  {
   "cell_type": "markdown",
   "id": "f7deb545-7f76-4dbe-8864-b7bce8fcd975",
   "metadata": {},
   "source": [
    "**Input keyword**\n",
    "- Input keyword is used to take the values from user"
   ]
  },
  {
   "cell_type": "code",
   "execution_count": 4,
   "id": "943b1d4a-f6c0-4f07-b919-d62b044a6802",
   "metadata": {},
   "outputs": [
    {
     "name": "stdin",
     "output_type": "stream",
     "text": [
      " 100\n"
     ]
    },
    {
     "data": {
      "text/plain": [
       "'100'"
      ]
     },
     "execution_count": 4,
     "metadata": {},
     "output_type": "execute_result"
    }
   ],
   "source": [
    "input()"
   ]
  },
  {
   "cell_type": "code",
   "execution_count": 5,
   "id": "1230a904-6213-4fe9-a1cf-92e64fb92785",
   "metadata": {},
   "outputs": [
    {
     "name": "stdin",
     "output_type": "stream",
     "text": [
      " python\n"
     ]
    },
    {
     "data": {
      "text/plain": [
       "'python'"
      ]
     },
     "execution_count": 5,
     "metadata": {},
     "output_type": "execute_result"
    }
   ],
   "source": [
    "input()"
   ]
  },
  {
   "cell_type": "code",
   "execution_count": 6,
   "id": "8185df87-7bde-46eb-8b61-088f6ad5be29",
   "metadata": {},
   "outputs": [
    {
     "name": "stdin",
     "output_type": "stream",
     "text": [
      " python is a programming language\n"
     ]
    },
    {
     "data": {
      "text/plain": [
       "'python is a programming language'"
      ]
     },
     "execution_count": 6,
     "metadata": {},
     "output_type": "execute_result"
    }
   ],
   "source": [
    "input()"
   ]
  },
  {
   "cell_type": "code",
   "execution_count": 7,
   "id": "f3d44a43-60b7-4ba9-8e73-6095e6b49bbc",
   "metadata": {},
   "outputs": [
    {
     "name": "stdin",
     "output_type": "stream",
     "text": [
      "enter the name of employee: Balaswamy\n"
     ]
    },
    {
     "data": {
      "text/plain": [
       "'Balaswamy'"
      ]
     },
     "execution_count": 7,
     "metadata": {},
     "output_type": "execute_result"
    }
   ],
   "source": [
    "input(\"enter the name of employee:\")"
   ]
  },
  {
   "cell_type": "code",
   "execution_count": 8,
   "id": "bf567a36-e8e4-4ca9-8dbc-d828e41e31f0",
   "metadata": {},
   "outputs": [
    {
     "name": "stdin",
     "output_type": "stream",
     "text": [
      " 12\n",
      " 34\n"
     ]
    },
    {
     "data": {
      "text/plain": [
       "'34'"
      ]
     },
     "execution_count": 8,
     "metadata": {},
     "output_type": "execute_result"
    }
   ],
   "source": [
    "input()\n",
    "input()"
   ]
  },
  {
   "cell_type": "code",
   "execution_count": 9,
   "id": "3d3007af-f40b-4a7d-bb9a-2ab194fb74d0",
   "metadata": {},
   "outputs": [
    {
     "name": "stdin",
     "output_type": "stream",
     "text": [
      " 12\n",
      " 12\n",
      " 12\n",
      " 12\n",
      " 12\n"
     ]
    },
    {
     "data": {
      "text/plain": [
       "'12'"
      ]
     },
     "execution_count": 9,
     "metadata": {},
     "output_type": "execute_result"
    }
   ],
   "source": [
    "input()\n",
    "input()\n",
    "input()\n",
    "input()\n",
    "input()"
   ]
  },
  {
   "cell_type": "code",
   "execution_count": 10,
   "id": "a020194f-9b86-417a-9ac6-85f515a24103",
   "metadata": {},
   "outputs": [
    {
     "name": "stdin",
     "output_type": "stream",
     "text": [
      "enter the number1: 500\n",
      "enter the number2: 100\n",
      "enter the number3: 100\n"
     ]
    },
    {
     "data": {
      "text/plain": [
       "'100'"
      ]
     },
     "execution_count": 10,
     "metadata": {},
     "output_type": "execute_result"
    }
   ],
   "source": [
    "input(\"enter the number1:\")\n",
    "input(\"enter the number2:\")\n",
    "input(\"enter the number3:\")"
   ]
  },
  {
   "cell_type": "code",
   "execution_count": 11,
   "id": "20ed008f-796b-41f2-bfc8-96d0bc8b5745",
   "metadata": {},
   "outputs": [
    {
     "name": "stdin",
     "output_type": "stream",
     "text": [
      "enter the number1: 35\n"
     ]
    },
    {
     "data": {
      "text/plain": [
       "'35'"
      ]
     },
     "execution_count": 11,
     "metadata": {},
     "output_type": "execute_result"
    }
   ],
   "source": [
    "input(\"enter the number1:\")"
   ]
  },
  {
   "cell_type": "code",
   "execution_count": 12,
   "id": "5a439847-3486-4f11-8f98-279c0363f962",
   "metadata": {},
   "outputs": [
    {
     "name": "stdin",
     "output_type": "stream",
     "text": [
      "enter the number1: 50\n"
     ]
    }
   ],
   "source": [
    "num1=input(\"enter the number1:\")"
   ]
  },
  {
   "cell_type": "code",
   "execution_count": 13,
   "id": "e140a6d5-9574-437e-8a28-ef37ea2226ff",
   "metadata": {},
   "outputs": [
    {
     "name": "stdin",
     "output_type": "stream",
     "text": [
      "enter the number2: 56\n"
     ]
    }
   ],
   "source": [
    "num2=input(\"enter the number2:\")"
   ]
  },
  {
   "cell_type": "markdown",
   "id": "5671f376-35f8-487d-b74a-e443f762253a",
   "metadata": {},
   "source": [
    "**Note**\n",
    "- Input always will give the string data type only\n",
    "- In order to perform math calculation we need to convert into numercal fromat i.e.int or float"
   ]
  },
  {
   "cell_type": "code",
   "execution_count": 15,
   "id": "0071af7d-c7cd-4d17-a086-09bc60f9ce1a",
   "metadata": {},
   "outputs": [
    {
     "name": "stdin",
     "output_type": "stream",
     "text": [
      "enter the number: 7678\n"
     ]
    }
   ],
   "source": [
    "a=input(\"enter the number:\")"
   ]
  },
  {
   "cell_type": "code",
   "execution_count": 16,
   "id": "2faf13c6-c954-45ab-bee3-f4c6a4cf8aea",
   "metadata": {},
   "outputs": [
    {
     "name": "stdin",
     "output_type": "stream",
     "text": [
      "enter the number1: 100\n",
      "enter the number2: 200\n"
     ]
    },
    {
     "data": {
      "text/plain": [
       "'100200'"
      ]
     },
     "execution_count": 16,
     "metadata": {},
     "output_type": "execute_result"
    }
   ],
   "source": [
    "num1=input(\"enter the number1:\")\n",
    "num2=input(\"enter the number2:\")\n",
    "num1+num2 "
   ]
  },
  {
   "cell_type": "code",
   "execution_count": 19,
   "id": "95fa7863-2f61-448e-bec1-bdfd33964916",
   "metadata": {},
   "outputs": [
    {
     "name": "stdin",
     "output_type": "stream",
     "text": [
      "enter the number1: 100\n",
      "enter the number2: 200\n"
     ]
    },
    {
     "name": "stdout",
     "output_type": "stream",
     "text": [
      "the addition of 100 and 200 is 300\n"
     ]
    }
   ],
   "source": [
    "num1=int(input(\"enter the number1:\")) #num1=int('100')\n",
    "num2=int(input(\"enter the number2:\"))  #num2=int('200')\n",
    "add=num1+num2\n",
    "print(f\"the addition of {num1} and {num2} is {add}\")"
   ]
  },
  {
   "cell_type": "code",
   "execution_count": 26,
   "id": "11aa64cd-74c5-4311-ae63-6fc1b9bf0849",
   "metadata": {},
   "outputs": [
    {
     "name": "stdin",
     "output_type": "stream",
     "text": [
      "enter the number1: 100\n"
     ]
    },
    {
     "ename": "TypeError",
     "evalue": "'num1' is an invalid keyword argument for int()",
     "output_type": "error",
     "traceback": [
      "\u001b[1;31m---------------------------------------------------------------------------\u001b[0m",
      "\u001b[1;31mTypeError\u001b[0m                                 Traceback (most recent call last)",
      "Cell \u001b[1;32mIn[26], line 1\u001b[0m\n\u001b[1;32m----> 1\u001b[0m \u001b[38;5;28mint\u001b[39m(num1\u001b[38;5;241m=\u001b[39m\u001b[38;5;28minput\u001b[39m(\u001b[38;5;124m\"\u001b[39m\u001b[38;5;124menter the number1:\u001b[39m\u001b[38;5;124m\"\u001b[39m))\n",
      "\u001b[1;31mTypeError\u001b[0m: 'num1' is an invalid keyword argument for int()"
     ]
    }
   ],
   "source": [
    "int(num1=input(\"enter the number1:\"))"
   ]
  },
  {
   "cell_type": "markdown",
   "id": "ad4b5618-f534-4286-a9c2-2857ff5e5c84",
   "metadata": {},
   "source": [
    "**Eval**\n",
    "- eval will take the whatever the number we enter eval will convetrt to corrsponding data type"
   ]
  },
  {
   "cell_type": "code",
   "execution_count": 28,
   "id": "6096cadf-2af6-4883-a26f-57124631c5f1",
   "metadata": {},
   "outputs": [
    {
     "name": "stdin",
     "output_type": "stream",
     "text": [
      "enter the number1: 100\n",
      "enter the number2: 200\n"
     ]
    },
    {
     "name": "stdout",
     "output_type": "stream",
     "text": [
      "the addition of 100 and 200 is 300\n"
     ]
    }
   ],
   "source": [
    "num1=eval(input(\"enter the number1:\")) #num1=int('100')\n",
    "num2=eval(input(\"enter the number2:\"))  #num2=int('200')\n",
    "add=num1+num2\n",
    "print(f\"the addition of {num1} and {num2} is {add}\")"
   ]
  },
  {
   "cell_type": "code",
   "execution_count": 29,
   "id": "906b9965-39ec-4979-b639-47c398050b2f",
   "metadata": {},
   "outputs": [
    {
     "name": "stdin",
     "output_type": "stream",
     "text": [
      "enter the number1: 100.5\n",
      "enter the number2: 200.5\n"
     ]
    },
    {
     "name": "stdout",
     "output_type": "stream",
     "text": [
      "the addition of 100.5 and 200.5 is 301.0\n"
     ]
    }
   ],
   "source": [
    "num1=eval(input(\"enter the number1:\")) #num1=int('100')\n",
    "num2=eval(input(\"enter the number2:\"))  #num2=int('200')\n",
    "add=num1+num2\n",
    "print(f\"the addition of {num1} and {num2} is {add}\")"
   ]
  },
  {
   "cell_type": "code",
   "execution_count": 30,
   "id": "3881ec7f-7958-4bc2-989c-96d93315f18a",
   "metadata": {},
   "outputs": [],
   "source": [
    "# as the user enter 3 numbers to calculate the average\n",
    "# ask the user enter the 2 number find the substraction,addition,multiply and division\n",
    "# ask the user enter the radius values find the area of the circle\n",
    "# ask the use bill amount\n",
    "# ask the user hou much tip you want to pay in percentage\n",
    "# calculate total bill\n",
    "# ask the user bill amount in dollars\n",
    "# ask the user one dollar\n",
    "# print the bill amount in rupees\n",
    "# ask the user enter base height caluculate area of the traingle\n",
    "# ask the user length and breadth calculate area of the rectangle\n"
   ]
  },
  {
   "cell_type": "code",
   "execution_count": 35,
   "id": "9f9fbc3b-c4a0-41ac-b9e4-30b53299f982",
   "metadata": {},
   "outputs": [
    {
     "name": "stdin",
     "output_type": "stream",
     "text": [
      " 100\n",
      " 200\n",
      " 300\n"
     ]
    },
    {
     "name": "stdout",
     "output_type": "stream",
     "text": [
      "The average of 100,200 and 300 is 200.0 \n"
     ]
    }
   ],
   "source": [
    "# as the user enter 3 numbers to calculate the average\n",
    "a=eval(input())\n",
    "b=eval(input())\n",
    "c=eval(input())\n",
    "average=(a+b+c)/3\n",
    "print(f\"The average of {a},{b} and {c} is {average} \")"
   ]
  },
  {
   "cell_type": "code",
   "execution_count": null,
   "id": "fe613306-6bbc-4dd7-b5e4-fee31ffd39d6",
   "metadata": {},
   "outputs": [],
   "source": []
  }
 ],
 "metadata": {
  "kernelspec": {
   "display_name": "Python 3 (ipykernel)",
   "language": "python",
   "name": "python3"
  },
  "language_info": {
   "codemirror_mode": {
    "name": "ipython",
    "version": 3
   },
   "file_extension": ".py",
   "mimetype": "text/x-python",
   "name": "python",
   "nbconvert_exporter": "python",
   "pygments_lexer": "ipython3",
   "version": "3.11.7"
  }
 },
 "nbformat": 4,
 "nbformat_minor": 5
}
