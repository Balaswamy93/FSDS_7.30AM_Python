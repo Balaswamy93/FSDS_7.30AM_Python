{
 "cells": [
  {
   "cell_type": "markdown",
   "id": "72aad810-adbf-46bb-b28c-a901dd99cb87",
   "metadata": {},
   "source": [
    "**Lambda functions**\n",
    "\n",
    "- lambda function represents function concept\n",
    "- but we can write in a single line\n",
    "- like comprehension, lambda function similar only\n",
    "- it will decrease the time complexity\n",
    "- always remember if we use many for loops or many condition using multiple line, the time complexity will increase\n",
    "- "
   ]
  },
  {
   "cell_type": "markdown",
   "id": "6bb3af6a-d6d5-4104-ad57-855f4faf2bd7",
   "metadata": {},
   "source": [
    "**It will use a keyword lambda**\n",
    "    # lambda<arguments>:<expression>"
   ]
  },
  {
   "cell_type": "code",
   "execution_count": 3,
   "id": "4a2510f3-f553-4bb7-b93d-27d9bc74e7c4",
   "metadata": {},
   "outputs": [
    {
     "data": {
      "text/plain": [
       "20"
      ]
     },
     "execution_count": 3,
     "metadata": {},
     "output_type": "execute_result"
    }
   ],
   "source": [
    "def summ(n):\n",
    "    return(n+10)\n",
    "summ(10)"
   ]
  },
  {
   "cell_type": "code",
   "execution_count": 31,
   "id": "e809e651-7ce6-4601-9a41-eb0018bbc8fd",
   "metadata": {},
   "outputs": [
    {
     "data": {
      "text/plain": [
       "60"
      ]
     },
     "execution_count": 31,
     "metadata": {},
     "output_type": "execute_result"
    }
   ],
   "source": [
    "def summ(m):\n",
    "    return(m+50)\n",
    "summ(10)"
   ]
  },
  {
   "cell_type": "code",
   "execution_count": 32,
   "id": "f3a39bcf-604a-45e0-8dd4-23c57af964ae",
   "metadata": {},
   "outputs": [
    {
     "data": {
      "text/plain": [
       "50"
      ]
     },
     "execution_count": 32,
     "metadata": {},
     "output_type": "execute_result"
    }
   ],
   "source": [
    "summ=lambda m : m+40\n",
    "summ(10)"
   ]
  },
  {
   "cell_type": "code",
   "execution_count": 51,
   "id": "1d46eb6a-3e2a-4854-b76e-c206593a641f",
   "metadata": {},
   "outputs": [
    {
     "data": {
      "text/plain": [
       "22"
      ]
     },
     "execution_count": 51,
     "metadata": {},
     "output_type": "execute_result"
    }
   ],
   "source": [
    "summ=lambda m:m+2\n",
    "summ(20)"
   ]
  },
  {
   "cell_type": "markdown",
   "id": "a322ab9a-8c51-495d-85ce-9288d1d80386",
   "metadata": {},
   "source": [
    "$Pattern-1$"
   ]
  },
  {
   "cell_type": "markdown",
   "id": "8128bb98-73dc-49b9-859a-53d2595bc520",
   "metadata": {},
   "source": [
    "**Function with only one argument**\n",
    "- function name\n",
    "- argument name\n",
    "- return output\n"
   ]
  },
  {
   "cell_type": "code",
   "execution_count": null,
   "id": "caf843f5-d553-4722-bb3a-ae2b7e42964d",
   "metadata": {},
   "outputs": [],
   "source": [
    "# syntax: <function name>=lambda <argummentname>=: <return output>"
   ]
  },
  {
   "cell_type": "code",
   "execution_count": null,
   "id": "ee7780ed-ac32-4a48-a03a-ca0f0693f468",
   "metadata": {},
   "outputs": [],
   "source": [
    "def summ(n):\n",
    "    return(n+10)\n",
    "summ(10)\n",
    "# function name= summ\n",
    "# argument name =n\n",
    "# return output=n+10\n"
   ]
  },
  {
   "cell_type": "code",
   "execution_count": 52,
   "id": "85cc02b2-9bf1-4cc6-8fc5-49d0e4174bbe",
   "metadata": {},
   "outputs": [
    {
     "data": {
      "text/plain": [
       "79"
      ]
     },
     "execution_count": 52,
     "metadata": {},
     "output_type": "execute_result"
    }
   ],
   "source": [
    "add=lambda a:a+56\n",
    "add(23)"
   ]
  },
  {
   "cell_type": "code",
   "execution_count": 4,
   "id": "151919e3-5241-44e6-ac7a-07b2d613d614",
   "metadata": {},
   "outputs": [
    {
     "data": {
      "text/plain": [
       "110"
      ]
     },
     "execution_count": 4,
     "metadata": {},
     "output_type": "execute_result"
    }
   ],
   "source": [
    "summ=lambda n:n+10\n",
    "summ(100)"
   ]
  },
  {
   "cell_type": "code",
   "execution_count": 5,
   "id": "d72ad68b-0118-4164-9b8d-3e1f2cc5567a",
   "metadata": {},
   "outputs": [
    {
     "data": {
      "text/plain": [
       "1000"
      ]
     },
     "execution_count": 5,
     "metadata": {},
     "output_type": "execute_result"
    }
   ],
   "source": [
    "def cube (n):\n",
    "    return(n**3)\n",
    "cube(10)\n"
   ]
  },
  {
   "cell_type": "code",
   "execution_count": 55,
   "id": "51bdca93-ff68-4df4-a256-732268d31b1a",
   "metadata": {},
   "outputs": [
    {
     "data": {
      "text/plain": [
       "8"
      ]
     },
     "execution_count": 55,
     "metadata": {},
     "output_type": "execute_result"
    }
   ],
   "source": [
    "def cube (n):\n",
    "    return(n**3)\n",
    "cube(2)\n"
   ]
  },
  {
   "cell_type": "code",
   "execution_count": 7,
   "id": "92dad1ea-7e5e-481c-b812-6191310241b1",
   "metadata": {},
   "outputs": [
    {
     "data": {
      "text/plain": [
       "1000000"
      ]
     },
     "execution_count": 7,
     "metadata": {},
     "output_type": "execute_result"
    }
   ],
   "source": [
    "cube=lambda n:n**3\n",
    "cube(100)"
   ]
  },
  {
   "cell_type": "code",
   "execution_count": 33,
   "id": "f666640c-c9a7-4f17-a1cb-78ed6e4b267f",
   "metadata": {},
   "outputs": [
    {
     "data": {
      "text/plain": [
       "216"
      ]
     },
     "execution_count": 33,
     "metadata": {},
     "output_type": "execute_result"
    }
   ],
   "source": [
    "cube=lambda n:n**3\n",
    "cube(6)"
   ]
  },
  {
   "cell_type": "markdown",
   "id": "bca890a0-0db0-4ba6-9cb4-c5bfba139fcd",
   "metadata": {},
   "source": [
    "$ Pattern-2$"
   ]
  },
  {
   "cell_type": "code",
   "execution_count": 9,
   "id": "0732a3c3-f3b8-46aa-9aae-ab5128f02653",
   "metadata": {},
   "outputs": [
    {
     "data": {
      "text/plain": [
       "46"
      ]
     },
     "execution_count": 9,
     "metadata": {},
     "output_type": "execute_result"
    }
   ],
   "source": [
    "def add(a,b):\n",
    "    return(a+b)\n",
    "add(12,34)"
   ]
  },
  {
   "cell_type": "code",
   "execution_count": 58,
   "id": "a4e58382-95f4-4963-b936-6da474f73e18",
   "metadata": {},
   "outputs": [
    {
     "data": {
      "text/plain": [
       "10"
      ]
     },
     "execution_count": 58,
     "metadata": {},
     "output_type": "execute_result"
    }
   ],
   "source": [
    "def add (a,b,c,d):\n",
    "    return(a+b+c+d)\n",
    "add(1,2,3,4)"
   ]
  },
  {
   "cell_type": "code",
   "execution_count": 34,
   "id": "d2ec42f3-454c-4e52-8659-d76a219bab24",
   "metadata": {},
   "outputs": [
    {
     "data": {
      "text/plain": [
       "0"
      ]
     },
     "execution_count": 34,
     "metadata": {},
     "output_type": "execute_result"
    }
   ],
   "source": [
    "def ad (n,m):\n",
    "    return(n-m)\n",
    "ad(56,56)"
   ]
  },
  {
   "cell_type": "code",
   "execution_count": 10,
   "id": "70f8261a-33b0-424d-aebe-8b3aa627e0ab",
   "metadata": {},
   "outputs": [
    {
     "data": {
      "text/plain": [
       "79"
      ]
     },
     "execution_count": 10,
     "metadata": {},
     "output_type": "execute_result"
    }
   ],
   "source": [
    "add=lambda a,b:a+b\n",
    "add(23,56)"
   ]
  },
  {
   "cell_type": "code",
   "execution_count": 59,
   "id": "1c29705d-ad59-4638-8d87-8e67a9847779",
   "metadata": {},
   "outputs": [
    {
     "data": {
      "text/plain": [
       "23.0"
      ]
     },
     "execution_count": 59,
     "metadata": {},
     "output_type": "execute_result"
    }
   ],
   "source": [
    "add=lambda a,b,c:round((a+b+c)/3,3)\n",
    "add(12,23,34)"
   ]
  },
  {
   "cell_type": "code",
   "execution_count": 36,
   "id": "2bd59827-7717-4454-a50f-b4c9bed4dcc9",
   "metadata": {},
   "outputs": [
    {
     "data": {
      "text/plain": [
       "-31"
      ]
     },
     "execution_count": 36,
     "metadata": {},
     "output_type": "execute_result"
    }
   ],
   "source": [
    "ad=lambda n,m:n-m\n",
    "ad(3,34)"
   ]
  },
  {
   "cell_type": "code",
   "execution_count": 13,
   "id": "89941cb2-bf04-45d9-ba8a-671f516974e9",
   "metadata": {},
   "outputs": [
    {
     "data": {
      "text/plain": [
       "35.33"
      ]
     },
     "execution_count": 13,
     "metadata": {},
     "output_type": "execute_result"
    }
   ],
   "source": [
    "avg=lambda a,b,c:round( a+b+c/3,2)\n",
    "avg(12,12,34)"
   ]
  },
  {
   "cell_type": "code",
   "execution_count": 41,
   "id": "aba07ca5-2dbc-46c9-96a3-0214309bd95f",
   "metadata": {},
   "outputs": [
    {
     "data": {
      "text/plain": [
       "30.0"
      ]
     },
     "execution_count": 41,
     "metadata": {},
     "output_type": "execute_result"
    }
   ],
   "source": [
    "def avg (a,b,c,d,e):\n",
    "    return(round((a+b+c+d+e)/5,2))\n",
    "avg(10,20,30,40,50)"
   ]
  },
  {
   "cell_type": "code",
   "execution_count": 42,
   "id": "2e0d36f9-41d6-4019-a67e-5535f915e90c",
   "metadata": {},
   "outputs": [
    {
     "data": {
      "text/plain": [
       "3.0"
      ]
     },
     "execution_count": 42,
     "metadata": {},
     "output_type": "execute_result"
    }
   ],
   "source": [
    "avg=lambda a,b,c,d,e:round((a+b+c+d+e)/5,3)\n",
    "avg(1,2,3,4,5)"
   ]
  },
  {
   "cell_type": "code",
   "execution_count": 14,
   "id": "55065965-f34e-4fed-9ab3-631fd1c1eaa3",
   "metadata": {},
   "outputs": [
    {
     "data": {
      "text/plain": [
       "1"
      ]
     },
     "execution_count": 14,
     "metadata": {},
     "output_type": "execute_result"
    }
   ],
   "source": [
    "sub=lambda a,b:a-b\n",
    "sub(35,34)"
   ]
  },
  {
   "cell_type": "markdown",
   "id": "64e2854b-4650-4287-ba10-a67b4f577127",
   "metadata": {},
   "source": [
    "$Pattern-3$"
   ]
  },
  {
   "cell_type": "code",
   "execution_count": 15,
   "id": "82d35017-f5c7-4661-aa1e-5777c800b52b",
   "metadata": {},
   "outputs": [
    {
     "data": {
      "text/plain": [
       "33.33"
      ]
     },
     "execution_count": 15,
     "metadata": {},
     "output_type": "execute_result"
    }
   ],
   "source": [
    "avg=lambda a,b,c=50:round((a+b+c)/3,2)\n",
    "avg(20,30)"
   ]
  },
  {
   "cell_type": "code",
   "execution_count": 62,
   "id": "37490b1a-e257-4180-b4ab-4b019620cf6a",
   "metadata": {},
   "outputs": [
    {
     "data": {
      "text/plain": [
       "8"
      ]
     },
     "execution_count": 62,
     "metadata": {},
     "output_type": "execute_result"
    }
   ],
   "source": [
    "mul=lambda a,b,c=5:a*b*c\n",
    "mul(1,1,8)"
   ]
  },
  {
   "cell_type": "code",
   "execution_count": 43,
   "id": "6730567f-37d0-4b6a-9c89-2f29a1fe4630",
   "metadata": {},
   "outputs": [
    {
     "data": {
      "text/plain": [
       "19.333333333333332"
      ]
     },
     "execution_count": 43,
     "metadata": {},
     "output_type": "execute_result"
    }
   ],
   "source": [
    "div=lambda a,b=58:b/a\n",
    "div(3)"
   ]
  },
  {
   "cell_type": "code",
   "execution_count": 44,
   "id": "cf3608fe-8014-4fbe-995f-3dbe284276b4",
   "metadata": {},
   "outputs": [
    {
     "data": {
      "text/plain": [
       "9.0"
      ]
     },
     "execution_count": 44,
     "metadata": {},
     "output_type": "execute_result"
    }
   ],
   "source": [
    "div=lambda a=50,b=450:b/a\n",
    "div()"
   ]
  },
  {
   "cell_type": "markdown",
   "id": "52701e7e-0f2a-47e1-956b-01eb7ae3e05a",
   "metadata": {},
   "source": [
    "$pattern-4$"
   ]
  },
  {
   "cell_type": "markdown",
   "id": "854cedb7-fc07-4acf-b3cd-4af3d612c351",
   "metadata": {},
   "source": [
    "**If-else**"
   ]
  },
  {
   "cell_type": "code",
   "execution_count": 17,
   "id": "fa9cc8ea-ebe2-48e0-b5ab-8923e1b9c08a",
   "metadata": {},
   "outputs": [
    {
     "data": {
      "text/plain": [
       "20"
      ]
     },
     "execution_count": 17,
     "metadata": {},
     "output_type": "execute_result"
    }
   ],
   "source": [
    "def max(a,b):\n",
    "    if a>b:\n",
    "        return(a)\n",
    "    else:\n",
    "        return(b)\n",
    "max(10,20)"
   ]
  },
  {
   "cell_type": "code",
   "execution_count": 65,
   "id": "f209ac8d-fb38-45a3-a148-c8cc0d8977d4",
   "metadata": {},
   "outputs": [
    {
     "data": {
      "text/plain": [
       "16"
      ]
     },
     "execution_count": 65,
     "metadata": {},
     "output_type": "execute_result"
    }
   ],
   "source": [
    "def max (a,b):\n",
    "    if a>b:\n",
    "        return(a)\n",
    "    else:\n",
    "        return(b)\n",
    "max(16,12)"
   ]
  },
  {
   "cell_type": "code",
   "execution_count": 66,
   "id": "d064be2d-376b-4c6a-9849-75ef07676c2a",
   "metadata": {},
   "outputs": [
    {
     "data": {
      "text/plain": [
       "2"
      ]
     },
     "execution_count": 66,
     "metadata": {},
     "output_type": "execute_result"
    }
   ],
   "source": [
    "max=lambda a,b:a if a>b else b\n",
    "max(1,2)"
   ]
  },
  {
   "cell_type": "code",
   "execution_count": 45,
   "id": "595d4306-9200-4b26-8616-3dc7eb3e3f80",
   "metadata": {},
   "outputs": [
    {
     "data": {
      "text/plain": [
       "20"
      ]
     },
     "execution_count": 45,
     "metadata": {},
     "output_type": "execute_result"
    }
   ],
   "source": [
    "def max (a,b):\n",
    "    if a>b:\n",
    "        return(a)\n",
    "    else:\n",
    "        return(b)\n",
    "max(10,20)"
   ]
  },
  {
   "cell_type": "code",
   "execution_count": 49,
   "id": "104a79e0-b9a4-448a-b7ff-1fb5fb51bb9e",
   "metadata": {},
   "outputs": [
    {
     "data": {
      "text/plain": [
       "20"
      ]
     },
     "execution_count": 49,
     "metadata": {},
     "output_type": "execute_result"
    }
   ],
   "source": [
    "max=lambda a,b:a if a>b else b\n",
    "max(10,20)"
   ]
  },
  {
   "cell_type": "code",
   "execution_count": 18,
   "id": "007b920b-c750-46d8-8708-d6ffbbd52528",
   "metadata": {},
   "outputs": [],
   "source": [
    "# syntax: function name=lambda <arg1><arg2>: <list comprehension>\n"
   ]
  },
  {
   "cell_type": "code",
   "execution_count": 19,
   "id": "38e764aa-df76-4493-bf61-be4798593091",
   "metadata": {},
   "outputs": [
    {
     "data": {
      "text/plain": [
       "20"
      ]
     },
     "execution_count": 19,
     "metadata": {},
     "output_type": "execute_result"
    }
   ],
   "source": [
    "max=lambda a,b : a if a>b else b\n",
    "max(10,20)"
   ]
  },
  {
   "cell_type": "code",
   "execution_count": 69,
   "id": "d7d793bd-2afa-4d21-9efa-c61262685796",
   "metadata": {},
   "outputs": [
    {
     "data": {
      "text/plain": [
       "'balaswamy'"
      ]
     },
     "execution_count": 69,
     "metadata": {},
     "output_type": "execute_result"
    }
   ],
   "source": [
    "v=lambda a='balaswamy',b='velijala':a if 'e'in b else a\n",
    "v()"
   ]
  },
  {
   "cell_type": "code",
   "execution_count": 54,
   "id": "f8709ab1-4133-4a60-9390-65d8229343cb",
   "metadata": {},
   "outputs": [
    {
     "data": {
      "text/plain": [
       "'velijala'"
      ]
     },
     "execution_count": 54,
     "metadata": {},
     "output_type": "execute_result"
    }
   ],
   "source": [
    "ov=lambda a='balaswamy',b='velijala': a if 'j' in a else b\n",
    "ov()"
   ]
  },
  {
   "cell_type": "code",
   "execution_count": null,
   "id": "84f33dbf-00ec-4e07-943a-026c4cd08c75",
   "metadata": {},
   "outputs": [],
   "source": []
  },
  {
   "cell_type": "markdown",
   "id": "0e1f4187-8bc3-4ed0-8468-9cb4c8baab04",
   "metadata": {},
   "source": [
    "$ pattern-5$"
   ]
  },
  {
   "cell_type": "markdown",
   "id": "ad3329b6-1e57-4b20-83be-13801b53d9f3",
   "metadata": {},
   "source": [
    "**using List**"
   ]
  },
  {
   "cell_type": "code",
   "execution_count": 21,
   "id": "b02a4a4e-0a4e-4aab-9807-107a2289822e",
   "metadata": {},
   "outputs": [
    {
     "data": {
      "text/plain": [
       "['Hyd', 'Chennai', 'Chennai']"
      ]
     },
     "execution_count": 21,
     "metadata": {},
     "output_type": "execute_result"
    }
   ],
   "source": [
    "l=['hyd','chennai','chennai']\n",
    "op=[]\n",
    "for i in l:\n",
    "    op.append(i.capitalize())\n",
    "op"
   ]
  },
  {
   "cell_type": "code",
   "execution_count": null,
   "id": "f05dd29e-8c9c-4b37-a504-dcfa58135a79",
   "metadata": {},
   "outputs": [],
   "source": []
  },
  {
   "cell_type": "code",
   "execution_count": 55,
   "id": "140a0288-0bb7-4f81-ace3-c34078cca3ee",
   "metadata": {},
   "outputs": [
    {
     "data": {
      "text/plain": [
       "['HYD', 'CHENNAI', 'MUMBAI', 'BLR']"
      ]
     },
     "execution_count": 55,
     "metadata": {},
     "output_type": "execute_result"
    }
   ],
   "source": [
    "l=['hyd','Chennai','mumbai','blr']\n",
    "op=[]\n",
    "for i in l:\n",
    "    op.append(i.upper())\n",
    "op"
   ]
  },
  {
   "cell_type": "code",
   "execution_count": null,
   "id": "c37fc083-d04a-479e-8131-39b23d7357c2",
   "metadata": {},
   "outputs": [],
   "source": [
    "lambda <variable>:<output>\n",
    "# variabel:\n",
    "# op: i.capitalize\n"
   ]
  },
  {
   "cell_type": "code",
   "execution_count": 59,
   "id": "34a21e08-0a47-41fd-bdf2-4297a0b9ae60",
   "metadata": {},
   "outputs": [
    {
     "data": {
      "text/plain": [
       "['HYD', 'CHENNAI', 'MUMBAI', 'BLR']"
      ]
     },
     "execution_count": 59,
     "metadata": {},
     "output_type": "execute_result"
    }
   ],
   "source": [
    "l=['hyd','Chennai','mumbai','blr']\n",
    "list(map(lambda i:i.upper(),l))"
   ]
  },
  {
   "cell_type": "code",
   "execution_count": 24,
   "id": "e6d76efc-f366-40c8-b744-c3028e6354a3",
   "metadata": {},
   "outputs": [
    {
     "data": {
      "text/plain": [
       "(<function __main__.<lambda>(i)>, ['hyd', 'chennai', 'chennai'])"
      ]
     },
     "execution_count": 24,
     "metadata": {},
     "output_type": "execute_result"
    }
   ],
   "source": [
    "l=['hyd','chennai','chennai']\n",
    "lambda i :i.capitalize(),l"
   ]
  },
  {
   "cell_type": "markdown",
   "id": "9dd255ae-b294-42fe-86d7-804fd3f794d2",
   "metadata": {},
   "source": [
    "**Mapping**\n",
    "- the funciton and iterator are avilable now\n",
    "- we need to map both\n",
    "- "
   ]
  },
  {
   "cell_type": "code",
   "execution_count": 25,
   "id": "869650be-9d6f-4e09-ba95-9c29532f919d",
   "metadata": {},
   "outputs": [
    {
     "data": {
      "text/plain": [
       "<map at 0x1c00e24c880>"
      ]
     },
     "execution_count": 25,
     "metadata": {},
     "output_type": "execute_result"
    }
   ],
   "source": [
    "l=['hyd','chennai','chennai']\n",
    "map(lambda i :i.capitalize(),l)"
   ]
  },
  {
   "cell_type": "code",
   "execution_count": 26,
   "id": "d132cf1e-36cd-48aa-be16-f82aeca0dd7a",
   "metadata": {},
   "outputs": [],
   "source": [
    "# apply the list to see the value"
   ]
  },
  {
   "cell_type": "code",
   "execution_count": 27,
   "id": "493309c6-737d-4b17-8ccd-12f704bed794",
   "metadata": {},
   "outputs": [
    {
     "data": {
      "text/plain": [
       "['Hyd', 'Chennai', 'Chennai']"
      ]
     },
     "execution_count": 27,
     "metadata": {},
     "output_type": "execute_result"
    }
   ],
   "source": [
    "l=['hyd','chennai','chennai']\n",
    "list(map(lambda i :i.capitalize(),l))"
   ]
  },
  {
   "cell_type": "code",
   "execution_count": 28,
   "id": "454cdf5c-67d7-4ce5-bcb1-fecdd25436d0",
   "metadata": {},
   "outputs": [
    {
     "data": {
      "text/plain": [
       "('Hyd', 'Chennai', 'Chennai')"
      ]
     },
     "execution_count": 28,
     "metadata": {},
     "output_type": "execute_result"
    }
   ],
   "source": [
    "l=['hyd','chennai','chennai']\n",
    "tuple(map(lambda i :i.capitalize(),l))"
   ]
  },
  {
   "cell_type": "markdown",
   "id": "2fc0810c-140e-4f4c-a950-9432b672a963",
   "metadata": {},
   "source": [
    "- step1: Write you noraml expression\n",
    "-      ex: lambda<var>:<op>===lambda i : i.capitalize()\n",
    "- step2: add the iterator\n",
    "-      ex:lambda<var>:<op>,<list>===lambda i : i.capitalize(),l\n",
    "- step3: map the both\n",
    "-     ex: map(lambda<var>:<op>,<list>)===map(lambda i : i.capitalize(),l)\n",
    "- step4: save the value in list or tupple\n",
    "-     ex:list(map(lambda<var>:<op>,<list>))===list(map(lambda i : i.capitalize(),l))"
   ]
  },
  {
   "cell_type": "markdown",
   "id": "92a4f00a-37d9-4ef7-90c7-32b6bd656366",
   "metadata": {},
   "source": [
    "- case-1 function call with one argumnets\n",
    "      - lambda arguments: expression\n",
    "      - lambda variable: return output\n",
    "- case-2 function call with default arguments\n",
    "      - lambda var1,arg2=500: expression\n",
    "      - lambda var1,var2=500: return output\n",
    "- case-3 function call with two arguments\n",
    "      - lambda arg1,arg2:expression\n",
    "      - lambda var1,var2: return output\n",
    "  \n",
    "- case-4 function call with two arguments and if-else statement\n",
    "      - lambda arg1,arg2:expression\n",
    "      - lambda var,var2 : if_output if_con else esle_op fro loop\n",
    "- case-5 lambda operation using list\n",
    "      - lambda org: expression ,iterator\n",
    "      - map(lambda var: opration,list)\n",
    "      - list(map(lambda var: operation,list))\n",
    "  "
   ]
  },
  {
   "cell_type": "code",
   "execution_count": 2,
   "id": "0b70a024-6675-401f-ad6c-43fd38177a91",
   "metadata": {},
   "outputs": [
    {
     "name": "stdout",
     "output_type": "stream",
     "text": [
      "HYD\n",
      "CHENNAI\n",
      "MUMBAI\n"
     ]
    }
   ],
   "source": [
    "l=['hyd','chennai','Mumbai']\n",
    "for  i in l:\n",
    "    print(i.upper())"
   ]
  },
  {
   "cell_type": "code",
   "execution_count": 3,
   "id": "34d2a544-75c4-4904-81f4-bf47610f9557",
   "metadata": {},
   "outputs": [
    {
     "data": {
      "text/plain": [
       "<map at 0x1278609f940>"
      ]
     },
     "execution_count": 3,
     "metadata": {},
     "output_type": "execute_result"
    }
   ],
   "source": [
    "map(lambda i :i.upper(),l)"
   ]
  },
  {
   "cell_type": "code",
   "execution_count": 4,
   "id": "c5fcfd1a-5b17-4d46-897f-042cb2164ee5",
   "metadata": {},
   "outputs": [
    {
     "data": {
      "text/plain": [
       "['HYD', 'CHENNAI', 'MUMBAI']"
      ]
     },
     "execution_count": 4,
     "metadata": {},
     "output_type": "execute_result"
    }
   ],
   "source": [
    "list(map(lambda i :i.upper(),l))"
   ]
  },
  {
   "cell_type": "code",
   "execution_count": 74,
   "id": "48199d1a-cc59-4601-870a-59817a946f21",
   "metadata": {},
   "outputs": [
    {
     "data": {
      "text/plain": [
       "('HYD', 'CHENNAI', 'MUMBAI')"
      ]
     },
     "execution_count": 74,
     "metadata": {},
     "output_type": "execute_result"
    }
   ],
   "source": [
    "l=['hyd','chennai','Mumbai']\n",
    "tuple(map(lambda i:i.upper(),l))"
   ]
  },
  {
   "cell_type": "code",
   "execution_count": 14,
   "id": "843c9902-f15c-4622-b3c2-a86babda1911",
   "metadata": {},
   "outputs": [
    {
     "name": "stdout",
     "output_type": "stream",
     "text": [
      "che#nnai\n",
      "Mum#bai\n"
     ]
    }
   ],
   "source": [
    "l=['hyd','che#nnai','Mum#bai','blr']\n",
    "for i in l:\n",
    "    if '#' in i:\n",
    "        print(i)"
   ]
  },
  {
   "cell_type": "code",
   "execution_count": 75,
   "id": "e1946cb5-3cff-45d9-ab0c-bbc2238cde08",
   "metadata": {},
   "outputs": [
    {
     "name": "stdout",
     "output_type": "stream",
     "text": [
      "che#nnai\n",
      "Mum#bai\n"
     ]
    }
   ],
   "source": [
    "l=['hyd','che#nnai','Mum#bai','blr']\n",
    "for i in l:\n",
    "    if '#' in i:\n",
    "        print(i)"
   ]
  },
  {
   "cell_type": "code",
   "execution_count": 79,
   "id": "402958b6-91d1-4f1f-810a-e1f0650484c3",
   "metadata": {},
   "outputs": [
    {
     "data": {
      "text/plain": [
       "['che#nnai', 'Mum#bai']"
      ]
     },
     "execution_count": 79,
     "metadata": {},
     "output_type": "execute_result"
    }
   ],
   "source": [
    "l=['hyd','che#nnai','Mum#bai','blr']\n",
    "list(filter(lambda i: '#' in i,l))"
   ]
  },
  {
   "cell_type": "code",
   "execution_count": 80,
   "id": "f36a08e3-803f-4875-9d88-a93b34033fd0",
   "metadata": {},
   "outputs": [
    {
     "data": {
      "text/plain": [
       "[False, True, True, False]"
      ]
     },
     "execution_count": 80,
     "metadata": {},
     "output_type": "execute_result"
    }
   ],
   "source": [
    "l=['hyd','che#nnai','Mum#bai','blr']\n",
    "list(map(lambda i: '#' in i,l))"
   ]
  },
  {
   "cell_type": "code",
   "execution_count": 10,
   "id": "b0df2c75-2853-488a-a41a-b39ed9f25583",
   "metadata": {},
   "outputs": [
    {
     "data": {
      "text/plain": [
       "[False, True, True, False]"
      ]
     },
     "execution_count": 10,
     "metadata": {},
     "output_type": "execute_result"
    }
   ],
   "source": [
    "l=['hyd','che#nnai','Mum#bai','blr']\n",
    "list(map(lambda i: '#' in i,l))"
   ]
  },
  {
   "cell_type": "code",
   "execution_count": 13,
   "id": "dcae8209-3c9f-4170-b72e-027b1bb168c7",
   "metadata": {},
   "outputs": [
    {
     "data": {
      "text/plain": [
       "['che#nnai', 'Mum#bai']"
      ]
     },
     "execution_count": 13,
     "metadata": {},
     "output_type": "execute_result"
    }
   ],
   "source": [
    "list(filter(lambda i:'#' in i,l))"
   ]
  },
  {
   "cell_type": "markdown",
   "id": "feb7e856-ef9e-4392-a0fd-8c18bbf66d81",
   "metadata": {},
   "source": [
    "**Filter**\n",
    "- whenever you have if condition we need to use filter to get the output"
   ]
  },
  {
   "cell_type": "code",
   "execution_count": 17,
   "id": "796f7362-b105-4439-a686-62b7fbca1b5c",
   "metadata": {},
   "outputs": [
    {
     "name": "stdout",
     "output_type": "stream",
     "text": [
      "even numbers [1, 3, 2, 7, 6]\n",
      "even numbers [1, 3, 2, 7, 6]\n"
     ]
    }
   ],
   "source": [
    "# numbers=[1,3,2,7,6] extract even numbers\n",
    "numbers=[1,3,2,7,6]\n",
    "for i in numbers:\n",
    "    if i%2==0:\n",
    "        print(f'even numbers',numbers)\n",
    "        "
   ]
  },
  {
   "cell_type": "code",
   "execution_count": 83,
   "id": "d21ff570-6ca8-4416-b5cc-bc973c03a5c8",
   "metadata": {},
   "outputs": [
    {
     "name": "stdout",
     "output_type": "stream",
     "text": [
      "2\n",
      "6\n"
     ]
    }
   ],
   "source": [
    "number=[1,2,3,4,5,6,7,8,9]\n",
    "for i in numbers:\n",
    "    if i%2==0:\n",
    "        print(i)\n",
    "    "
   ]
  },
  {
   "cell_type": "code",
   "execution_count": 84,
   "id": "f5e8ce99-b137-4d37-a3fe-6aa2537cd64f",
   "metadata": {},
   "outputs": [
    {
     "data": {
      "text/plain": [
       "[2, 6]"
      ]
     },
     "execution_count": 84,
     "metadata": {},
     "output_type": "execute_result"
    }
   ],
   "source": [
    "list(filter(lambda i: i%2==0,numbers))"
   ]
  },
  {
   "cell_type": "code",
   "execution_count": 18,
   "id": "d68475f6-2200-43e6-b9e5-66a9f8bce3f8",
   "metadata": {},
   "outputs": [
    {
     "data": {
      "text/plain": [
       "[2, 6]"
      ]
     },
     "execution_count": 18,
     "metadata": {},
     "output_type": "execute_result"
    }
   ],
   "source": [
    "list(filter(lambda i : i%2==0,numbers))"
   ]
  },
  {
   "cell_type": "code",
   "execution_count": 19,
   "id": "0ee34f41-1fcb-416a-8b63-1a196a9c3775",
   "metadata": {},
   "outputs": [
    {
     "name": "stdout",
     "output_type": "stream",
     "text": [
      "15\n"
     ]
    }
   ],
   "source": [
    "l1=[1,2,3,4,5]\n",
    "# i want sum of the elements\n",
    "# method: sum\n",
    "sum(l1)\n",
    "# method: with out summ\n",
    "summ=0\n",
    "for i in l1:\n",
    "    summ=summ+i\n",
    "print(summ)"
   ]
  },
  {
   "cell_type": "code",
   "execution_count": 40,
   "id": "e9c728f1-2f15-4a09-9491-7327537d9d26",
   "metadata": {},
   "outputs": [
    {
     "data": {
      "text/plain": [
       "['GenericAlias',\n",
       " 'RLock',\n",
       " 'WRAPPER_ASSIGNMENTS',\n",
       " 'WRAPPER_UPDATES',\n",
       " '_CacheInfo',\n",
       " '_HashedSeq',\n",
       " '_NOT_FOUND',\n",
       " '__all__',\n",
       " '__builtins__',\n",
       " '__cached__',\n",
       " '__doc__',\n",
       " '__file__',\n",
       " '__loader__',\n",
       " '__name__',\n",
       " '__package__',\n",
       " '__spec__',\n",
       " '_c3_merge',\n",
       " '_c3_mro',\n",
       " '_compose_mro',\n",
       " '_convert',\n",
       " '_find_impl',\n",
       " '_ge_from_gt',\n",
       " '_ge_from_le',\n",
       " '_ge_from_lt',\n",
       " '_gt_from_ge',\n",
       " '_gt_from_le',\n",
       " '_gt_from_lt',\n",
       " '_initial_missing',\n",
       " '_le_from_ge',\n",
       " '_le_from_gt',\n",
       " '_le_from_lt',\n",
       " '_lru_cache_wrapper',\n",
       " '_lt_from_ge',\n",
       " '_lt_from_gt',\n",
       " '_lt_from_le',\n",
       " '_make_key',\n",
       " '_unwrap_partial',\n",
       " 'cache',\n",
       " 'cached_property',\n",
       " 'cmp_to_key',\n",
       " 'get_cache_token',\n",
       " 'lru_cache',\n",
       " 'namedtuple',\n",
       " 'partial',\n",
       " 'partialmethod',\n",
       " 'recursive_repr',\n",
       " 'reduce',\n",
       " 'singledispatch',\n",
       " 'singledispatchmethod',\n",
       " 'total_ordering',\n",
       " 'update_wrapper',\n",
       " 'wraps']"
      ]
     },
     "execution_count": 40,
     "metadata": {},
     "output_type": "execute_result"
    }
   ],
   "source": [
    "import functools\n",
    "dir(functools)\n"
   ]
  },
  {
   "cell_type": "markdown",
   "id": "24d39102-af6b-47aa-a4ab-4219c17acfe9",
   "metadata": {},
   "source": [
    "**Reduce**\n",
    "- all inbuilt funciton can acheive by Reduce\n",
    "- Reduce is avialabel from function tools package\n",
    "- level:1 reduce(lambda summ,i: summ+i,l1)\n",
    "- level:2 reduce(lambda summ,i: summ+i,l1,inital_value)\n",
    "- for example we want initialize  summ=0 then we choose level-1\n",
    "- for example we want start with other thatn zero then we choose level-2"
   ]
  },
  {
   "cell_type": "code",
   "execution_count": 39,
   "id": "b19c6047-fb51-4bb4-9ba7-e47b56720c3e",
   "metadata": {},
   "outputs": [
    {
     "data": {
      "text/plain": [
       "15"
      ]
     },
     "execution_count": 39,
     "metadata": {},
     "output_type": "execute_result"
    }
   ],
   "source": [
    "l1=[1,2,3,4,5]\n",
    "functools.reduce(lambda summ,i:summ+i,l1)"
   ]
  },
  {
   "cell_type": "code",
   "execution_count": 71,
   "id": "50ad6f22-900a-4c4a-8bff-b5a2f8fa7c03",
   "metadata": {},
   "outputs": [
    {
     "data": {
      "text/plain": [
       "45"
      ]
     },
     "execution_count": 71,
     "metadata": {},
     "output_type": "execute_result"
    }
   ],
   "source": [
    "l=[1,2,3,4,5,6,7,8,9]\n",
    "functools.reduce(lambda summ,i:summ+i,l1)"
   ]
  },
  {
   "cell_type": "code",
   "execution_count": null,
   "id": "c63329f6-7700-4c9d-8a11-c05d6a2d32ab",
   "metadata": {},
   "outputs": [],
   "source": [
    "l1=[1,2,3,4,5]\n",
    "max(l1)"
   ]
  },
  {
   "cell_type": "code",
   "execution_count": 41,
   "id": "51ec11eb-c117-46c7-be20-679aa46328a6",
   "metadata": {},
   "outputs": [
    {
     "data": {
      "text/plain": [
       "15"
      ]
     },
     "execution_count": 41,
     "metadata": {},
     "output_type": "execute_result"
    }
   ],
   "source": [
    "from functools import reduce\n",
    "l1=[1,2,3,4,5]\n",
    "reduce(lambda summ,i:summ+i,l1)"
   ]
  },
  {
   "cell_type": "code",
   "execution_count": 42,
   "id": "d6fd7a86-01c3-415c-a682-b88cbe47cc2e",
   "metadata": {},
   "outputs": [
    {
     "data": {
      "text/plain": [
       "17"
      ]
     },
     "execution_count": 42,
     "metadata": {},
     "output_type": "execute_result"
    }
   ],
   "source": [
    "import functools as ft\n",
    "l1=[1,2,3,4,5]\n",
    "ft.reduce(lambda summ,i:summ+i,l1,2)"
   ]
  },
  {
   "cell_type": "code",
   "execution_count": 45,
   "id": "2b5a5268-e612-4604-b3a0-92e2a8b55a8b",
   "metadata": {},
   "outputs": [
    {
     "data": {
      "text/plain": [
       "50"
      ]
     },
     "execution_count": 45,
     "metadata": {},
     "output_type": "execute_result"
    }
   ],
   "source": [
    "from functools import reduce\n",
    "l1=[1,2,3,4,5,6,7,8,9]\n",
    "reduce(lambda summ,i:summ+i,l1,5)"
   ]
  },
  {
   "cell_type": "code",
   "execution_count": 46,
   "id": "280afef4-31a3-47ba-b9ca-c4acb352e7b3",
   "metadata": {},
   "outputs": [
    {
     "data": {
      "text/plain": [
       "1814400"
      ]
     },
     "execution_count": 46,
     "metadata": {},
     "output_type": "execute_result"
    }
   ],
   "source": [
    "from functools import reduce\n",
    "l1=[1,2,3,4,5,6,7,8,9]\n",
    "reduce(lambda mul,i:mul*i,l1,5)"
   ]
  },
  {
   "cell_type": "code",
   "execution_count": 47,
   "id": "f8a310b4-2fc4-4dbe-b1b3-6c17646d4037",
   "metadata": {},
   "outputs": [
    {
     "data": {
      "text/plain": [
       "50"
      ]
     },
     "execution_count": 47,
     "metadata": {},
     "output_type": "execute_result"
    }
   ],
   "source": [
    "from functools import reduce\n",
    "l1=[1,2,3,4,5,6,7,8,9]\n",
    "reduce(lambda x,y:x+y,l1,5)"
   ]
  },
  {
   "cell_type": "code",
   "execution_count": null,
   "id": "352129a1-190a-4d4f-b454-771736a25858",
   "metadata": {},
   "outputs": [],
   "source": [
    "from functools import reduce\n",
    "l1=[1,2,3,4,5,6,7,8,9]\n"
   ]
  },
  {
   "cell_type": "code",
   "execution_count": null,
   "id": "56719c24-c807-4f68-a38e-f928962b5142",
   "metadata": {},
   "outputs": [],
   "source": [
    "# maximum value using reduce\n",
    "# map : direct attack\n",
    "# filter if condition\n",
    "# reduce: inbuilt function some initialize\n",
    "# i want detailed word document with examples"
   ]
  },
  {
   "cell_type": "code",
   "execution_count": 48,
   "id": "bd126283-1911-48d4-8abb-dc5fd87b7e69",
   "metadata": {},
   "outputs": [
    {
     "data": {
      "text/plain": [
       "<module 'functools' from 'C:\\\\Users\\\\renak\\\\anaconda3\\\\Lib\\\\functools.py'>"
      ]
     },
     "execution_count": 48,
     "metadata": {},
     "output_type": "execute_result"
    }
   ],
   "source": [
    "import functools\n",
    "functools"
   ]
  },
  {
   "cell_type": "code",
   "execution_count": null,
   "id": "42041d80-1406-4278-b9f3-afe531c9774a",
   "metadata": {},
   "outputs": [],
   "source": []
  }
 ],
 "metadata": {
  "kernelspec": {
   "display_name": "Python 3 (ipykernel)",
   "language": "python",
   "name": "python3"
  },
  "language_info": {
   "codemirror_mode": {
    "name": "ipython",
    "version": 3
   },
   "file_extension": ".py",
   "mimetype": "text/x-python",
   "name": "python",
   "nbconvert_exporter": "python",
   "pygments_lexer": "ipython3",
   "version": "3.11.7"
  }
 },
 "nbformat": 4,
 "nbformat_minor": 5
}
