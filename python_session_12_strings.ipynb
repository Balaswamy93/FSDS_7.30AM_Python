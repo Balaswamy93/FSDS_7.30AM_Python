{
 "cells": [
  {
   "cell_type": "markdown",
   "id": "8b7f9aeb-f9a2-45ea-b85c-68a28cf68415",
   "metadata": {},
   "source": [
    "#### python divided 3 parts ######\n",
    "- Basics\n",
    "- variable\n",
    "- data types\n",
    "- eval input\n",
    "- type conversions\n",
    "- packages\n",
    "- conditional statements\n",
    "- try-except\n",
    "- function\n",
    "- for \n",
    "- while\n",
    "################ intermediate part\n",
    "- strings\n",
    "- lists\n",
    "- dictionary\n",
    "- tuples\n",
    "- sets\n",
    "- lambda functions\n",
    "- file handlings\n",
    "######### Advanced ##########\n",
    "- OOPS\n",
    "    "
   ]
  },
  {
   "cell_type": "markdown",
   "id": "38a8689b-6dc5-40f3-a79e-91b9a94fe4d9",
   "metadata": {},
   "source": [
    "****Strings****\n",
    "#### part-1####\n",
    "- initialization\n",
    "- type\n",
    "- len\n",
    "- max\n",
    "- min\n",
    "- sorted\n",
    "- reversed\n",
    "- in\n",
    "- for loop in\n",
    "- index\n",
    "- for loop using index\n",
    "- mutable concepts\n",
    "- concatination\n",
    "\n",
    "- **Methods**\n",
    "  ### part-2 ####\n",
    "- initialization\n",
    "- \n",
    "- "
   ]
  },
  {
   "cell_type": "markdown",
   "id": "b5fba21e-af69-47d9-800f-6a39fb61799d",
   "metadata": {},
   "source": [
    "***initialization***"
   ]
  },
  {
   "cell_type": "markdown",
   "id": "0af15adc-c5e6-4a74-a743-2305c49fb88a",
   "metadata": {},
   "source": [
    "***notes***\n",
    "- if you mentioned singel quotes or double quotes by default python provides in singel quotes\n",
    "- if we print the strings, we will get answer with out quotes\n",
    "- triple quotes are using for doc string\n",
    "- in order to convey the information about coding part we will use doc string\n",
    "- anything inside the singel or double quotes is condsidered as strig as in python"
   ]
  },
  {
   "cell_type": "code",
   "execution_count": 3,
   "id": "80f5fe8c-9a0f-4fc4-acef-246925f89be6",
   "metadata": {},
   "outputs": [
    {
     "data": {
      "text/plain": [
       "'python'"
      ]
     },
     "execution_count": 3,
     "metadata": {},
     "output_type": "execute_result"
    }
   ],
   "source": [
    "str1=\"python\"\n",
    "str1"
   ]
  },
  {
   "cell_type": "code",
   "execution_count": 6,
   "id": "0b4f4c9e-a153-4d13-bbc1-dc30d92f1db9",
   "metadata": {},
   "outputs": [
    {
     "data": {
      "text/plain": [
       "'python'"
      ]
     },
     "execution_count": 6,
     "metadata": {},
     "output_type": "execute_result"
    }
   ],
   "source": [
    "str1='python'\n",
    "str1"
   ]
  },
  {
   "cell_type": "code",
   "execution_count": 4,
   "id": "cacd6207-3af7-4d44-b2b3-7e4f41df4066",
   "metadata": {},
   "outputs": [
    {
     "name": "stdout",
     "output_type": "stream",
     "text": [
      "python\n"
     ]
    }
   ],
   "source": [
    "print(str1)"
   ]
  },
  {
   "cell_type": "markdown",
   "id": "160c48ad-f6fa-4b80-b426-e4db67db8dea",
   "metadata": {},
   "source": [
    "***Triple quotes***"
   ]
  },
  {
   "cell_type": "code",
   "execution_count": 8,
   "id": "7394e94e-02a4-4ed1-bcdf-0df77754863a",
   "metadata": {},
   "outputs": [
    {
     "data": {
      "text/plain": [
       "'hi how are you\\ni am good'"
      ]
     },
     "execution_count": 8,
     "metadata": {},
     "output_type": "execute_result"
    }
   ],
   "source": [
    "str3=\"\"\"hi how are you\n",
    "i am good\"\"\"\n",
    "str3"
   ]
  },
  {
   "cell_type": "code",
   "execution_count": 7,
   "id": "7baa3b44-8fc4-4ef3-b9ce-f94f3dfe0987",
   "metadata": {},
   "outputs": [
    {
     "data": {
      "text/plain": [
       "'hi how are you\\ni am good'"
      ]
     },
     "execution_count": 7,
     "metadata": {},
     "output_type": "execute_result"
    }
   ],
   "source": [
    "str2=\"\"\"hi how are you\n",
    "i am good\"\"\"\n",
    "str2"
   ]
  },
  {
   "cell_type": "markdown",
   "id": "c1a030d8-9880-48da-89ab-7c46f09af684",
   "metadata": {},
   "source": [
    "**type**"
   ]
  },
  {
   "cell_type": "code",
   "execution_count": 6,
   "id": "45320f18-277c-4d23-9e4d-43f067ea2752",
   "metadata": {},
   "outputs": [
    {
     "data": {
      "text/plain": [
       "str"
      ]
     },
     "execution_count": 6,
     "metadata": {},
     "output_type": "execute_result"
    }
   ],
   "source": [
    "type(str3)"
   ]
  },
  {
   "cell_type": "code",
   "execution_count": null,
   "id": "7c830867-4c26-42e9-929e-ce18979a9c2a",
   "metadata": {},
   "outputs": [],
   "source": [
    "str4='10'# integer value in the form of string\n",
    "str5='10.5'# float value in the form of string\n",
    "str6='123abc'# alpha numeric in the form of string\n",
    "str7='True'# boolean value in the form of string"
   ]
  },
  {
   "cell_type": "markdown",
   "id": "097d0e65-7ca7-4c08-b938-6600f4c0e4db",
   "metadata": {},
   "source": [
    "**len**"
   ]
  },
  {
   "cell_type": "code",
   "execution_count": 10,
   "id": "fff1c66e-cdfb-4ec7-a2d2-29189c2e8efe",
   "metadata": {},
   "outputs": [
    {
     "data": {
      "text/plain": [
       "6"
      ]
     },
     "execution_count": 10,
     "metadata": {},
     "output_type": "execute_result"
    }
   ],
   "source": [
    "str1='python'\n",
    "len(str1)"
   ]
  },
  {
   "cell_type": "code",
   "execution_count": 8,
   "id": "db49c2ac-0154-4b06-90df-d68b64e1cdb8",
   "metadata": {},
   "outputs": [
    {
     "data": {
      "text/plain": [
       "9"
      ]
     },
     "execution_count": 8,
     "metadata": {},
     "output_type": "execute_result"
    }
   ],
   "source": [
    "str1='balaswamy'\n",
    "len(str1)"
   ]
  },
  {
   "cell_type": "code",
   "execution_count": 11,
   "id": "93a94f5e-f99e-458e-a27e-6c2c2cceb3e1",
   "metadata": {},
   "outputs": [
    {
     "data": {
      "text/plain": [
       "12"
      ]
     },
     "execution_count": 11,
     "metadata": {},
     "output_type": "execute_result"
    }
   ],
   "source": [
    "str10='BRS BROTHERS'\n",
    "len(str10)"
   ]
  },
  {
   "cell_type": "code",
   "execution_count": 18,
   "id": "dfeb243e-ceb1-4758-bdd5-2c998ef84351",
   "metadata": {},
   "outputs": [
    {
     "data": {
      "text/plain": [
       "9"
      ]
     },
     "execution_count": 18,
     "metadata": {},
     "output_type": "execute_result"
    }
   ],
   "source": [
    "str='Balaswamy'\n",
    "len(str)"
   ]
  },
  {
   "cell_type": "markdown",
   "id": "671022b5-5b2f-4db3-badb-318a04d6a0d8",
   "metadata": {},
   "source": [
    "**max and min**"
   ]
  },
  {
   "cell_type": "code",
   "execution_count": 16,
   "id": "ee9adf19-953b-4cd0-ac2e-acdb59742b2a",
   "metadata": {},
   "outputs": [
    {
     "data": {
      "text/plain": [
       "'y'"
      ]
     },
     "execution_count": 16,
     "metadata": {},
     "output_type": "execute_result"
    }
   ],
   "source": [
    "max(str)"
   ]
  },
  {
   "cell_type": "code",
   "execution_count": 9,
   "id": "a29043b4-7432-47a4-9159-9f7ac451e694",
   "metadata": {},
   "outputs": [
    {
     "data": {
      "text/plain": [
       "'y'"
      ]
     },
     "execution_count": 9,
     "metadata": {},
     "output_type": "execute_result"
    }
   ],
   "source": [
    "str1='balaswamy'\n",
    "max(str1)"
   ]
  },
  {
   "cell_type": "code",
   "execution_count": 10,
   "id": "e9d66a04-15f0-4bb3-9408-67a49747a7b0",
   "metadata": {},
   "outputs": [
    {
     "data": {
      "text/plain": [
       "'a'"
      ]
     },
     "execution_count": 10,
     "metadata": {},
     "output_type": "execute_result"
    }
   ],
   "source": [
    "str1='balaswamy'\n",
    "min(str1)"
   ]
  },
  {
   "cell_type": "code",
   "execution_count": 19,
   "id": "683a1996-3890-4eab-a5cb-335dcb28af21",
   "metadata": {},
   "outputs": [
    {
     "data": {
      "text/plain": [
       "'B'"
      ]
     },
     "execution_count": 19,
     "metadata": {},
     "output_type": "execute_result"
    }
   ],
   "source": [
    "min(str)"
   ]
  },
  {
   "cell_type": "code",
   "execution_count": 11,
   "id": "3d8ad1d9-1e84-4fe8-8bf1-cdfef395d672",
   "metadata": {},
   "outputs": [
    {
     "data": {
      "text/plain": [
       "(66, 97, 108, 97, 115, 119)"
      ]
     },
     "execution_count": 11,
     "metadata": {},
     "output_type": "execute_result"
    }
   ],
   "source": [
    "ord('B'),ord('a'),ord('l'),ord('a'),ord('s'),ord('w')"
   ]
  },
  {
   "cell_type": "code",
   "execution_count": 20,
   "id": "cca68568-658b-45d7-a5f5-7cab6b5978b8",
   "metadata": {},
   "outputs": [
    {
     "data": {
      "text/plain": [
       "(112, 121, 116, 104, 48, 110)"
      ]
     },
     "execution_count": 20,
     "metadata": {},
     "output_type": "execute_result"
    }
   ],
   "source": [
    "ord('p'),ord('y'),ord('t'),ord('h'),ord('0'),ord('n')"
   ]
  },
  {
   "cell_type": "code",
   "execution_count": 21,
   "id": "4d33a521-b8d2-4a25-92d7-a5aa9e3b2a1f",
   "metadata": {},
   "outputs": [
    {
     "data": {
      "text/plain": [
       "(98, 97, 108, 97, 115, 119, 97, 109, 121)"
      ]
     },
     "execution_count": 21,
     "metadata": {},
     "output_type": "execute_result"
    }
   ],
   "source": [
    "ord('b'),ord('a'),ord('l'),ord('a'),ord('s'),ord('w'),ord('a'),ord('m'),ord('y')"
   ]
  },
  {
   "cell_type": "markdown",
   "id": "1c205027-2105-403d-8659-3857c05a807c",
   "metadata": {},
   "source": [
    "***keywords vs Methods***"
   ]
  },
  {
   "cell_type": "markdown",
   "id": "6ad9fd09-2ec3-4bbe-8112-64fffda6e025",
   "metadata": {},
   "source": [
    "- type ()\n",
    "- print ()\n",
    "- len ()\n",
    "- max ()\n",
    "- min ()\n",
    "- eval ()\n",
    "- input ()"
   ]
  },
  {
   "cell_type": "code",
   "execution_count": null,
   "id": "09e2864b-02da-40a6-a97b-6f5bbd758590",
   "metadata": {},
   "outputs": [],
   "source": [
    "- in order to use method we need to call packages\n",
    "import random\n",
    "random.randint()\n",
    "import math\n",
    "math.pi ()\n",
    "\n",
    "import time\n",
    "time.sleep\n",
    "\n",
    "\n"
   ]
  },
  {
   "cell_type": "markdown",
   "id": "2d91f9bd-063a-491c-8a0c-ddff63fd0923",
   "metadata": {},
   "source": [
    "**sum**"
   ]
  },
  {
   "cell_type": "code",
   "execution_count": 23,
   "id": "b15388c0-f301-4717-b75f-9a7f6cc27112",
   "metadata": {},
   "outputs": [
    {
     "data": {
      "text/plain": [
       "'y'"
      ]
     },
     "execution_count": 23,
     "metadata": {},
     "output_type": "execute_result"
    }
   ],
   "source": [
    "str1='python'\n",
    "max(str1)"
   ]
  },
  {
   "cell_type": "code",
   "execution_count": 24,
   "id": "3c9271f4-eaaf-4cc5-a6fa-e379d809d3d4",
   "metadata": {},
   "outputs": [
    {
     "ename": "TypeError",
     "evalue": "unsupported operand type(s) for +: 'int' and 'str'",
     "output_type": "error",
     "traceback": [
      "\u001b[1;31m---------------------------------------------------------------------------\u001b[0m",
      "\u001b[1;31mTypeError\u001b[0m                                 Traceback (most recent call last)",
      "Cell \u001b[1;32mIn[24], line 2\u001b[0m\n\u001b[0;32m      1\u001b[0m str1\u001b[38;5;241m=\u001b[39m\u001b[38;5;124m'\u001b[39m\u001b[38;5;124mpython\u001b[39m\u001b[38;5;124m'\u001b[39m\n\u001b[1;32m----> 2\u001b[0m \u001b[38;5;28msum\u001b[39m(str1)\n",
      "\u001b[1;31mTypeError\u001b[0m: unsupported operand type(s) for +: 'int' and 'str'"
     ]
    }
   ],
   "source": [
    "str1='python'\n",
    "sum(str1)"
   ]
  },
  {
   "cell_type": "code",
   "execution_count": 1,
   "id": "50d2c55a-7bce-444f-b1b4-88480316cee7",
   "metadata": {},
   "outputs": [
    {
     "data": {
      "text/plain": [
       "45"
      ]
     },
     "execution_count": 1,
     "metadata": {},
     "output_type": "execute_result"
    }
   ],
   "source": [
    "sum([1,2,3,4,5,6,7,8,9])"
   ]
  },
  {
   "cell_type": "code",
   "execution_count": 2,
   "id": "dd15ffff-e5c5-4c95-b3bf-2bbefda3de79",
   "metadata": {},
   "outputs": [
    {
     "data": {
      "text/plain": [
       "30"
      ]
     },
     "execution_count": 2,
     "metadata": {},
     "output_type": "execute_result"
    }
   ],
   "source": [
    "sum([4,5,6,7,8])"
   ]
  },
  {
   "cell_type": "markdown",
   "id": "aa6234e9-b1ec-44d5-b129-a272937f98da",
   "metadata": {},
   "source": [
    "***sorted***"
   ]
  },
  {
   "cell_type": "code",
   "execution_count": 3,
   "id": "8d526f1c-3912-42ea-a400-8e7a82de2bf9",
   "metadata": {},
   "outputs": [
    {
     "name": "stdout",
     "output_type": "stream",
     "text": [
      "python\n"
     ]
    }
   ],
   "source": [
    "len('python')\n",
    "max('python')\n",
    "min('python')\n",
    "print('python')"
   ]
  },
  {
   "cell_type": "code",
   "execution_count": 30,
   "id": "22450c1b-73b4-40dc-bdbf-e4a7f33b3508",
   "metadata": {},
   "outputs": [
    {
     "data": {
      "text/plain": [
       "['y', 't', 'p', 'o', 'n', 'h']"
      ]
     },
     "execution_count": 30,
     "metadata": {},
     "output_type": "execute_result"
    }
   ],
   "source": [
    "sorted('python',reverse=True)"
   ]
  },
  {
   "cell_type": "code",
   "execution_count": 28,
   "id": "be275865-7aac-4f1d-8502-d6ff5751867b",
   "metadata": {},
   "outputs": [
    {
     "ename": "TypeError",
     "evalue": "sorted expected 1 argument, got 0",
     "output_type": "error",
     "traceback": [
      "\u001b[1;31m---------------------------------------------------------------------------\u001b[0m",
      "\u001b[1;31mTypeError\u001b[0m                                 Traceback (most recent call last)",
      "Cell \u001b[1;32mIn[28], line 1\u001b[0m\n\u001b[1;32m----> 1\u001b[0m \u001b[38;5;28msorted\u001b[39m(iterable\u001b[38;5;241m=\u001b[39m\u001b[38;5;124m'\u001b[39m\u001b[38;5;124mpython\u001b[39m\u001b[38;5;124m'\u001b[39m)\n",
      "\u001b[1;31mTypeError\u001b[0m: sorted expected 1 argument, got 0"
     ]
    }
   ],
   "source": [
    "sorted(iterable='python')"
   ]
  },
  {
   "cell_type": "code",
   "execution_count": 27,
   "id": "115719c3-51d0-453b-afa6-4bbce6951ce9",
   "metadata": {},
   "outputs": [
    {
     "data": {
      "text/plain": [
       "['y', 't', 'p', 'o', 'n', 'h']"
      ]
     },
     "execution_count": 27,
     "metadata": {},
     "output_type": "execute_result"
    }
   ],
   "source": [
    "sorted('python',reverse=True)"
   ]
  },
  {
   "cell_type": "markdown",
   "id": "ec58d654-183d-42b3-ac2e-04e12595a048",
   "metadata": {},
   "source": [
    "***Note***\n",
    "- we have arguments before/ and after slash\n",
    "- we can use the argument names after/ only\n",
    "- for example sorted has two argumnets one is iterable and another one is reverse\n",
    "- iterable is mentioned before/symbol\n",
    "- reverse is mentioned after/symbol\n",
    "- so we can use only reverse argument name while we are doing the work\n",
    "- we can not use iterable argument name\n",
    "- instead of using iterable name , we can provide direct value at that position"
   ]
  },
  {
   "cell_type": "code",
   "execution_count": 6,
   "id": "70bae393-d2b7-43bc-a73a-66221c0df014",
   "metadata": {},
   "outputs": [
    {
     "data": {
      "text/plain": [
       "['h', 'n', 'o', 'p', 't', 'y']"
      ]
     },
     "execution_count": 6,
     "metadata": {},
     "output_type": "execute_result"
    }
   ],
   "source": [
    "str1='python'\n",
    "sorted(str1)"
   ]
  },
  {
   "cell_type": "code",
   "execution_count": null,
   "id": "8f1f8955-5269-4903-9639-a532fa66551b",
   "metadata": {},
   "outputs": [],
   "source": []
  },
  {
   "cell_type": "markdown",
   "id": "c0070add-c54b-4226-ab5c-82953832dbad",
   "metadata": {},
   "source": [
    "- sorted gives asceding order based on ascii numbers\n",
    "- sorted is kind of a funciton\n",
    "- every function we have arguments\n",
    "- in that aone default argument is **reversal=False**\n",
    "- by default sorted output give **asceding order**\n",
    "- we can change the order by providing reverse = True\n",
    "- if we do not mention m it will give the default answer"
   ]
  },
  {
   "cell_type": "code",
   "execution_count": 10,
   "id": "a473e468-13f0-4fc2-9f36-55f5ae6a9f2a",
   "metadata": {},
   "outputs": [
    {
     "data": {
      "text/plain": [
       "['h', 'n', 'o', 'p', 't', 'y']"
      ]
     },
     "execution_count": 10,
     "metadata": {},
     "output_type": "execute_result"
    }
   ],
   "source": [
    "sorted(str1)"
   ]
  },
  {
   "cell_type": "code",
   "execution_count": 36,
   "id": "ce8cfdc7-b5c4-4141-b246-f3530a05b25b",
   "metadata": {},
   "outputs": [
    {
     "data": {
      "text/plain": [
       "0j"
      ]
     },
     "execution_count": 36,
     "metadata": {},
     "output_type": "execute_result"
    }
   ],
   "source": [
    "complex () # 0+j"
   ]
  },
  {
   "cell_type": "code",
   "execution_count": 37,
   "id": "160c9cf3-2fe1-434e-8c6d-65d9f4e89247",
   "metadata": {},
   "outputs": [
    {
     "data": {
      "text/plain": [
       "(10+20j)"
      ]
     },
     "execution_count": 37,
     "metadata": {},
     "output_type": "execute_result"
    }
   ],
   "source": [
    "complex(10,20)"
   ]
  },
  {
   "cell_type": "code",
   "execution_count": null,
   "id": "f869002f-4613-4b76-a94a-dff1f1b28c7a",
   "metadata": {},
   "outputs": [],
   "source": [
    "import random\n",
    "random.randint()"
   ]
  },
  {
   "cell_type": "code",
   "execution_count": null,
   "id": "7ae7e5c5-ec5f-44fa-ab67-0fd0d82ef316",
   "metadata": {},
   "outputs": [],
   "source": [
    "function() # ans\n",
    "function(a,b) # this might retrun error , if we dont give the values\n",
    "function(a=10,b=20) # ans"
   ]
  },
  {
   "cell_type": "code",
   "execution_count": null,
   "id": "92a849ce-029c-47b6-8bce-5e0c4922284e",
   "metadata": {},
   "outputs": [],
   "source": [
    "function() # ans\n",
    "function(a,b) # \n",
    "function(a=10,b=20) #"
   ]
  },
  {
   "cell_type": "code",
   "execution_count": 38,
   "id": "7e8caada-7eea-43c6-a6bb-859e08f0a86b",
   "metadata": {},
   "outputs": [
    {
     "data": {
      "text/plain": [
       "0.18762525447248857"
      ]
     },
     "execution_count": 38,
     "metadata": {},
     "output_type": "execute_result"
    }
   ],
   "source": [
    "import random\n",
    "random.random() # we will get ans but ans is not in our hands"
   ]
  },
  {
   "cell_type": "code",
   "execution_count": 11,
   "id": "75bc9bac-73fe-4e3a-bb04-77c88004d5b7",
   "metadata": {},
   "outputs": [
    {
     "data": {
      "text/plain": [
       "0.8024696664448417"
      ]
     },
     "execution_count": 11,
     "metadata": {},
     "output_type": "execute_result"
    }
   ],
   "source": [
    "import random\n",
    "random.random()"
   ]
  },
  {
   "cell_type": "code",
   "execution_count": 12,
   "id": "0db9045e-892f-4d11-ada9-ff8798422f6f",
   "metadata": {},
   "outputs": [
    {
     "data": {
      "text/plain": [
       "17"
      ]
     },
     "execution_count": 12,
     "metadata": {},
     "output_type": "execute_result"
    }
   ],
   "source": [
    "import random\n",
    "random.randint(10,20) # ans we can change"
   ]
  },
  {
   "cell_type": "code",
   "execution_count": 39,
   "id": "e12bf36d-7510-4164-a926-06ed2f48b49c",
   "metadata": {},
   "outputs": [
    {
     "data": {
      "text/plain": [
       "0j"
      ]
     },
     "execution_count": 39,
     "metadata": {},
     "output_type": "execute_result"
    }
   ],
   "source": [
    "complex() # by default 0,0"
   ]
  },
  {
   "cell_type": "code",
   "execution_count": 15,
   "id": "e7167153-5945-4f72-bb09-67910832b2a5",
   "metadata": {},
   "outputs": [
    {
     "data": {
      "text/plain": [
       "(10+20j)"
      ]
     },
     "execution_count": 15,
     "metadata": {},
     "output_type": "execute_result"
    }
   ],
   "source": [
    "complex(10,20)"
   ]
  },
  {
   "cell_type": "code",
   "execution_count": 40,
   "id": "52beb755-1202-4209-9487-eb023261db5a",
   "metadata": {},
   "outputs": [
    {
     "data": {
      "text/plain": [
       "(10+20j)"
      ]
     },
     "execution_count": 40,
     "metadata": {},
     "output_type": "execute_result"
    }
   ],
   "source": [
    "complex(10,20)"
   ]
  },
  {
   "cell_type": "code",
   "execution_count": 17,
   "id": "8e02d502-bec5-40fe-a031-f1f051d074b5",
   "metadata": {},
   "outputs": [
    {
     "ename": "TypeError",
     "evalue": "sorted expected 1 argument, got 0",
     "output_type": "error",
     "traceback": [
      "\u001b[1;31m---------------------------------------------------------------------------\u001b[0m",
      "\u001b[1;31mTypeError\u001b[0m                                 Traceback (most recent call last)",
      "Cell \u001b[1;32mIn[17], line 1\u001b[0m\n\u001b[1;32m----> 1\u001b[0m \u001b[38;5;28msorted\u001b[39m()\n\u001b[0;32m      2\u001b[0m random\u001b[38;5;241m.\u001b[39mrandint(a\u001b[38;5;241m=\u001b[39m\u001b[38;5;241m10\u001b[39m,b\u001b[38;5;241m=\u001b[39m\u001b[38;5;241m20\u001b[39m)\n",
      "\u001b[1;31mTypeError\u001b[0m: sorted expected 1 argument, got 0"
     ]
    }
   ],
   "source": [
    "sorted()\n",
    "random.randint(a=10,b=20)"
   ]
  },
  {
   "cell_type": "code",
   "execution_count": 19,
   "id": "c76c7f56-3730-4221-bb50-e412beebf1b9",
   "metadata": {},
   "outputs": [
    {
     "ename": "TypeError",
     "evalue": "sorted expected 1 argument, got 2",
     "output_type": "error",
     "traceback": [
      "\u001b[1;31m---------------------------------------------------------------------------\u001b[0m",
      "\u001b[1;31mTypeError\u001b[0m                                 Traceback (most recent call last)",
      "Cell \u001b[1;32mIn[19], line 1\u001b[0m\n\u001b[1;32m----> 1\u001b[0m \u001b[38;5;28msorted\u001b[39m(\u001b[38;5;28mstr\u001b[39m,\u001b[38;5;28;01mFalse\u001b[39;00m)\n\u001b[0;32m      2\u001b[0m random\u001b[38;5;241m.\u001b[39mrandint(a\u001b[38;5;241m=\u001b[39m\u001b[38;5;241m29\u001b[39m,b\u001b[38;5;241m=\u001b[39m\u001b[38;5;241m56\u001b[39m)\n",
      "\u001b[1;31mTypeError\u001b[0m: sorted expected 1 argument, got 2"
     ]
    }
   ],
   "source": [
    "sorted(str,False)\n",
    "random.randint(a=29,b=56)"
   ]
  },
  {
   "cell_type": "code",
   "execution_count": 20,
   "id": "1849cc7c-5cb8-46b2-9195-ea1e5b4355bf",
   "metadata": {},
   "outputs": [
    {
     "ename": "TypeError",
     "evalue": "sorted expected 1 argument, got 0",
     "output_type": "error",
     "traceback": [
      "\u001b[1;31m---------------------------------------------------------------------------\u001b[0m",
      "\u001b[1;31mTypeError\u001b[0m                                 Traceback (most recent call last)",
      "Cell \u001b[1;32mIn[20], line 1\u001b[0m\n\u001b[1;32m----> 1\u001b[0m \u001b[38;5;28msorted\u001b[39m(iterable\u001b[38;5;241m=\u001b[39m\u001b[38;5;124m'\u001b[39m\u001b[38;5;124mpython\u001b[39m\u001b[38;5;124m'\u001b[39m)\n\u001b[0;32m      2\u001b[0m random\u001b[38;5;241m.\u001b[39mrandint(a\u001b[38;5;241m=\u001b[39m\u001b[38;5;241m10\u001b[39m,b\u001b[38;5;241m=\u001b[39m\u001b[38;5;241m20\u001b[39m)\n",
      "\u001b[1;31mTypeError\u001b[0m: sorted expected 1 argument, got 0"
     ]
    }
   ],
   "source": [
    "sorted(iterable='python')\n",
    "random.randint(a=10,b=20)"
   ]
  },
  {
   "cell_type": "markdown",
   "id": "b762de39-a0af-42f6-a4f0-ac4d4aa2dec3",
   "metadata": {},
   "source": [
    "***reversed***\n"
   ]
  },
  {
   "cell_type": "code",
   "execution_count": 1,
   "id": "4d6de074-a8df-440a-942b-996b496fcb00",
   "metadata": {},
   "outputs": [
    {
     "data": {
      "text/plain": [
       "<reversed at 0x1fe82a9f010>"
      ]
     },
     "execution_count": 1,
     "metadata": {},
     "output_type": "execute_result"
    }
   ],
   "source": [
    "reversed('python')"
   ]
  },
  {
   "cell_type": "code",
   "execution_count": 21,
   "id": "2a2449a3-ca52-4aaf-9315-2e92e0f61b81",
   "metadata": {},
   "outputs": [
    {
     "data": {
      "text/plain": [
       "<reversed at 0x16f12e2dfc0>"
      ]
     },
     "execution_count": 21,
     "metadata": {},
     "output_type": "execute_result"
    }
   ],
   "source": [
    "reversed('balaswamy')"
   ]
  },
  {
   "cell_type": "code",
   "execution_count": 23,
   "id": "4e82eea6-756c-4e25-ba2d-76d576399696",
   "metadata": {},
   "outputs": [
    {
     "name": "stdout",
     "output_type": "stream",
     "text": [
      "y m a w s a l a b "
     ]
    }
   ],
   "source": [
    "name='balaswamy'\n",
    "reversed_output=reversed(name)\n",
    "for i in reversed_output:\n",
    "    print(i,end=' ')"
   ]
  },
  {
   "cell_type": "markdown",
   "id": "d4cbde52-bd0b-4124-83ca-e1ae2f0a5fab",
   "metadata": {},
   "source": [
    "- i already done my work your output is stored in that memory location\n",
    "- whenever you see this kind of ans , less than and greater than symbol or memory,use for loop to see the answer"
   ]
  },
  {
   "cell_type": "code",
   "execution_count": 2,
   "id": "8672d48c-3ba2-41c6-a656-b1d42e4a2674",
   "metadata": {},
   "outputs": [
    {
     "name": "stdout",
     "output_type": "stream",
     "text": [
      "n\n",
      "o\n",
      "h\n",
      "t\n",
      "y\n",
      "p\n"
     ]
    }
   ],
   "source": [
    "str1='python'\n",
    "output=reversed(str1)\n",
    "for i in output:\n",
    "    print(i)"
   ]
  },
  {
   "cell_type": "code",
   "execution_count": 3,
   "id": "eab4bab6-cf6d-4e8c-84b5-1e20ff6efc38",
   "metadata": {},
   "outputs": [
    {
     "data": {
      "text/plain": [
       "['h', 'n', 'o', 'p', 't', 'y']"
      ]
     },
     "execution_count": 3,
     "metadata": {},
     "output_type": "execute_result"
    }
   ],
   "source": [
    "sorted('python')"
   ]
  },
  {
   "cell_type": "code",
   "execution_count": 4,
   "id": "f7261e21-d126-49e7-8975-fb1a46d193c2",
   "metadata": {},
   "outputs": [
    {
     "data": {
      "text/plain": [
       "['a', 'b', 'c', 'd', 'r', 's', 't', 'y', 'z']"
      ]
     },
     "execution_count": 4,
     "metadata": {},
     "output_type": "execute_result"
    }
   ],
   "source": [
    "sorted('azycdbrts')"
   ]
  },
  {
   "cell_type": "code",
   "execution_count": 24,
   "id": "0b65909d-ff40-444b-9c86-e0c784b00fca",
   "metadata": {},
   "outputs": [
    {
     "data": {
      "text/plain": [
       "['a', 'a', 'a', 'b', 'l', 'm', 's', 'w', 'y']"
      ]
     },
     "execution_count": 24,
     "metadata": {},
     "output_type": "execute_result"
    }
   ],
   "source": [
    "sorted('balaswamy')"
   ]
  },
  {
   "cell_type": "code",
   "execution_count": 25,
   "id": "cc87ecb1-6e27-4ceb-ba6c-371a1788edb1",
   "metadata": {},
   "outputs": [
    {
     "data": {
      "text/plain": [
       "['0', '2', '2', '3', '4', '4', '5', '6', '7', '8', '9']"
      ]
     },
     "execution_count": 25,
     "metadata": {},
     "output_type": "execute_result"
    }
   ],
   "source": [
    "sorted('54678902423')"
   ]
  },
  {
   "cell_type": "markdown",
   "id": "1a698110-6731-46a7-81ce-ffd852babd0d",
   "metadata": {},
   "source": [
    "**sorted**"
   ]
  },
  {
   "cell_type": "code",
   "execution_count": 31,
   "id": "5ea6a55b-c439-4170-ab02-100c1d06b0aa",
   "metadata": {},
   "outputs": [
    {
     "data": {
      "text/plain": [
       "['a', 'e', 'h', 'n', 'r', 's']"
      ]
     },
     "execution_count": 31,
     "metadata": {},
     "output_type": "execute_result"
    }
   ],
   "source": [
    "# it will provide the values either ascendingor descending order\n",
    "sorted('naresh')\n",
    "# when i run directly it will give one answer\n",
    "# the function has a default behaviour: ascending\n",
    "# how this default mentioned \n",
    "# we need to understand about arguments\n",
    "\n",
    "\n"
   ]
  },
  {
   "cell_type": "code",
   "execution_count": 32,
   "id": "09b40754-24de-478a-8a0e-5e0b2bf6baf2",
   "metadata": {},
   "outputs": [
    {
     "ename": "TypeError",
     "evalue": "sorted expected 1 argument, got 2",
     "output_type": "error",
     "traceback": [
      "\u001b[1;31m---------------------------------------------------------------------------\u001b[0m",
      "\u001b[1;31mTypeError\u001b[0m                                 Traceback (most recent call last)",
      "Cell \u001b[1;32mIn[32], line 1\u001b[0m\n\u001b[1;32m----> 1\u001b[0m \u001b[38;5;28msorted\u001b[39m(\u001b[38;5;124m'\u001b[39m\u001b[38;5;124mnarehs\u001b[39m\u001b[38;5;124m'\u001b[39m,\u001b[38;5;28;01mTrue\u001b[39;00m)\n",
      "\u001b[1;31mTypeError\u001b[0m: sorted expected 1 argument, got 2"
     ]
    }
   ],
   "source": [
    "sorted('narehs',True)\n",
    "\n",
    "# iterable\n",
    "# key\n",
    "# reverse"
   ]
  },
  {
   "cell_type": "code",
   "execution_count": 123,
   "id": "e4e43f6f-8c5e-4326-88ed-242a596bbb0d",
   "metadata": {},
   "outputs": [
    {
     "data": {
      "text/plain": [
       "['b', 'b', 'e', 'h', 'o', 'r', 'r', 'r', 's', 's', 't']"
      ]
     },
     "execution_count": 123,
     "metadata": {},
     "output_type": "execute_result"
    }
   ],
   "source": [
    "sorted('brsbrothers')"
   ]
  },
  {
   "cell_type": "code",
   "execution_count": 124,
   "id": "1326884e-0e86-4758-80e1-f07f7104848a",
   "metadata": {},
   "outputs": [
    {
     "data": {
      "text/plain": [
       "['t', 's', 's', 'r', 'r', 'r', 'o', 'h', 'e', 'b', 'b']"
      ]
     },
     "execution_count": 124,
     "metadata": {},
     "output_type": "execute_result"
    }
   ],
   "source": [
    "sorted('brsbrothers',reverse=True)"
   ]
  },
  {
   "cell_type": "code",
   "execution_count": 1,
   "id": "2d1d9b89-e755-499b-82ec-d47b66fc69d1",
   "metadata": {},
   "outputs": [
    {
     "data": {
      "text/plain": [
       "['y', 'w', 's', 'm', 'l', 'b', 'a', 'a', 'a']"
      ]
     },
     "execution_count": 1,
     "metadata": {},
     "output_type": "execute_result"
    }
   ],
   "source": [
    "sorted('balaswamy',reverse=True)"
   ]
  },
  {
   "cell_type": "code",
   "execution_count": 127,
   "id": "936bbf36-0030-4c26-91ce-47168b581b4a",
   "metadata": {},
   "outputs": [
    {
     "data": {
      "text/plain": [
       "(98, 97, 108, 97, 115, 119, 97, 109, 121)"
      ]
     },
     "execution_count": 127,
     "metadata": {},
     "output_type": "execute_result"
    }
   ],
   "source": [
    "ord('b'),ord('a'),ord('l'),ord('a'),ord('s'),ord('w'),ord('a'),ord('m'),ord('y')"
   ]
  },
  {
   "cell_type": "code",
   "execution_count": 33,
   "id": "98e9ad0f-75da-4033-a376-ecff62581914",
   "metadata": {},
   "outputs": [
    {
     "data": {
      "text/plain": [
       "['s', 'r', 'n', 'h', 'e', 'a']"
      ]
     },
     "execution_count": 33,
     "metadata": {},
     "output_type": "execute_result"
    }
   ],
   "source": [
    "sorted('narehs',reverse=True)"
   ]
  },
  {
   "cell_type": "code",
   "execution_count": 36,
   "id": "ddf4011c-8906-4fdb-ac58-ee06ecc25637",
   "metadata": {},
   "outputs": [
    {
     "name": "stdout",
     "output_type": "stream",
     "text": [
      "y m a w s a l a b "
     ]
    }
   ],
   "source": [
    "for i in reversed('balaswamy'):\n",
    "    print(i,end=' ')"
   ]
  },
  {
   "cell_type": "code",
   "execution_count": 131,
   "id": "6ad46bbf-bbe5-4ec8-bc2e-679bb0799430",
   "metadata": {},
   "outputs": [
    {
     "name": "stdout",
     "output_type": "stream",
     "text": [
      "ymawsalab"
     ]
    }
   ],
   "source": [
    "for i in reversed('balaswamy'):\n",
    "    print(i,end='')"
   ]
  },
  {
   "cell_type": "code",
   "execution_count": 37,
   "id": "f8907833-a3f7-4f03-9d96-726c6ea626c9",
   "metadata": {},
   "outputs": [
    {
     "data": {
      "text/plain": [
       "[1, 2, 4, 6, 7, 8]"
      ]
     },
     "execution_count": 37,
     "metadata": {},
     "output_type": "execute_result"
    }
   ],
   "source": [
    "sorted([1,2,7,4,8,6])"
   ]
  },
  {
   "cell_type": "code",
   "execution_count": 39,
   "id": "7432be54-b645-4601-a947-2d466bb0d13b",
   "metadata": {},
   "outputs": [
    {
     "data": {
      "text/plain": [
       "[8, 7, 6, 4, 2, 1]"
      ]
     },
     "execution_count": 39,
     "metadata": {},
     "output_type": "execute_result"
    }
   ],
   "source": [
    "sorted([1,2,7,4,8,6],reverse=True)"
   ]
  },
  {
   "cell_type": "markdown",
   "id": "dd8ce4b1-7c41-423d-bd56-fbd08a5cbc85",
   "metadata": {},
   "source": [
    "**In operator**"
   ]
  },
  {
   "cell_type": "code",
   "execution_count": 40,
   "id": "3d4dbe19-b94e-4b48-8b62-ba339ce47109",
   "metadata": {},
   "outputs": [
    {
     "data": {
      "text/plain": [
       "True"
      ]
     },
     "execution_count": 40,
     "metadata": {},
     "output_type": "execute_result"
    }
   ],
   "source": [
    "str1='bala'\n",
    "'l'in str1"
   ]
  },
  {
   "cell_type": "code",
   "execution_count": 132,
   "id": "fd32865f-e187-44f8-adb4-3e052740fe3c",
   "metadata": {},
   "outputs": [
    {
     "data": {
      "text/plain": [
       "True"
      ]
     },
     "execution_count": 132,
     "metadata": {},
     "output_type": "execute_result"
    }
   ],
   "source": [
    "str1='balaswamy'\n",
    "'l'in str1"
   ]
  },
  {
   "cell_type": "code",
   "execution_count": 41,
   "id": "28612d4a-08a6-4d3f-a74e-bf9a3a86e276",
   "metadata": {},
   "outputs": [
    {
     "data": {
      "text/plain": [
       "True"
      ]
     },
     "execution_count": 41,
     "metadata": {},
     "output_type": "execute_result"
    }
   ],
   "source": [
    "str1='bala'\n",
    "'e'not in str1"
   ]
  },
  {
   "cell_type": "code",
   "execution_count": 133,
   "id": "21c56291-d907-45bc-9c00-575025f56076",
   "metadata": {},
   "outputs": [
    {
     "data": {
      "text/plain": [
       "True"
      ]
     },
     "execution_count": 133,
     "metadata": {},
     "output_type": "execute_result"
    }
   ],
   "source": [
    "str='balasway'\n",
    "'h' not in str"
   ]
  },
  {
   "cell_type": "code",
   "execution_count": 42,
   "id": "311fd9e7-380f-4397-8a1d-dd22d57fa0e2",
   "metadata": {},
   "outputs": [
    {
     "name": "stdout",
     "output_type": "stream",
     "text": [
      "b\n",
      "a\n",
      "l\n",
      "a\n"
     ]
    }
   ],
   "source": [
    "for i in str1:\n",
    "    print(i)"
   ]
  },
  {
   "cell_type": "markdown",
   "id": "a8f68786-ac48-4fd9-ab99-c19c58d80ec1",
   "metadata": {},
   "source": [
    "**Note**\n",
    "- in operator derectly acceess the letters"
   ]
  },
  {
   "cell_type": "code",
   "execution_count": 47,
   "id": "1a38177c-4c32-4ea9-b305-636ac8d26a5f",
   "metadata": {},
   "outputs": [
    {
     "name": "stdout",
     "output_type": "stream",
     "text": [
      "3\n"
     ]
    }
   ],
   "source": [
    "# wap ask the user count how many a are present in given string\n",
    "# string= hai naresh how are you?\n",
    "# step=counter wraper\n",
    "# step2 using for loop in operator iterator through given string\n",
    "# apply the if condition\n",
    "\n",
    "\n",
    "string2='hai naresh how are you'\n",
    "count=0\n",
    "for i in string2:\n",
    "    if i=='a':\n",
    "            count=count+1\n",
    "print(count)\n",
    "        \n",
    "# step1: i =h if h==a False\n",
    "# step1: i =a if h==a True\n",
    "# step:3 i =i if h==a False\n",
    "#\n",
    "## step6: i =a if h==a True"
   ]
  },
  {
   "cell_type": "code",
   "execution_count": 135,
   "id": "f1209e08-e271-410d-aa56-272442d99ce2",
   "metadata": {},
   "outputs": [
    {
     "name": "stdout",
     "output_type": "stream",
     "text": [
      "3\n"
     ]
    }
   ],
   "source": [
    "str='balaswamy'\n",
    "count=0\n",
    "for i in str:\n",
    "    if i=='a':\n",
    "        \n",
    "        count=count+1\n",
    "print(count)"
   ]
  },
  {
   "cell_type": "code",
   "execution_count": 56,
   "id": "04b573af-a298-4cb8-b527-9592c9ee4a29",
   "metadata": {},
   "outputs": [
    {
     "name": "stdout",
     "output_type": "stream",
     "text": [
      "9\n"
     ]
    }
   ],
   "source": [
    "#q2 wap ask the user find how many vowels are ther in a given string\n",
    "# str1=hai how are you\n",
    "\n",
    "string3='hai naresh how are you'\n",
    "str3='aeiou'\n",
    "count=0\n",
    "for i in string3:\n",
    "        if i in 'aeiou':\n",
    "            count=count+1\n",
    "print(count)\n",
    "    "
   ]
  },
  {
   "cell_type": "code",
   "execution_count": 137,
   "id": "23705b95-3d3e-4949-ab16-f9967c82467f",
   "metadata": {},
   "outputs": [
    {
     "name": "stdout",
     "output_type": "stream",
     "text": [
      "10\n"
     ]
    }
   ],
   "source": [
    "count=0\n",
    "str='hello balaswamy how are you'\n",
    "for i in str:\n",
    "    if i in 'aeiou':\n",
    "        count=count+1\n",
    "print(count)"
   ]
  },
  {
   "cell_type": "code",
   "execution_count": 138,
   "id": "03eafc9c-293b-4ef6-bea5-0b718f12cd78",
   "metadata": {},
   "outputs": [
    {
     "name": "stdout",
     "output_type": "stream",
     "text": [
      "4\n",
      "eoau\n"
     ]
    }
   ],
   "source": [
    "count=0\n",
    "str='hello balaswamy how are you'\n",
    "empty=''\n",
    "for i in str:\n",
    "    if i not in empty:\n",
    "        if i in 'aeiou':\n",
    "            count=count+1\n",
    "            empty=empty+i\n",
    "print(count)\n",
    "print(empty)"
   ]
  },
  {
   "cell_type": "code",
   "execution_count": 57,
   "id": "50912c4a-b1cb-4067-8d70-39ee8e69225c",
   "metadata": {},
   "outputs": [
    {
     "name": "stdout",
     "output_type": "stream",
     "text": [
      "4\n"
     ]
    }
   ],
   "source": [
    "str1='balaswami'\n",
    "count=0\n",
    "st='aeiou'\n",
    "for i in str1:\n",
    "    if i in 'aeiou':\n",
    "        count=count+1\n",
    "print(count)"
   ]
  },
  {
   "cell_type": "code",
   "execution_count": 94,
   "id": "9a2d193e-a934-4522-b874-63acdc494b68",
   "metadata": {},
   "outputs": [
    {
     "name": "stdout",
     "output_type": "stream",
     "text": [
      "5\n",
      "aieou\n"
     ]
    }
   ],
   "source": [
    "#q3) home work\n",
    "# str1= 'hai naresh how are you'\n",
    "# repeated vowels are there\n",
    "# we dont want repeated vowels\n",
    "# count the vowels avoid the repeation : unique vowels\n",
    "# step1:count=0\n",
    "# step2 : take one more empty string s3=''\n",
    "# step3:using for loop in operator iterator through given string \n",
    "# step4 : condition -1 that letter should not avaiable in s2\n",
    "# step 5 :     condition2 vowel check\n",
    "# step 6:       count=count+1\n",
    "# step7:        update the s2=s2+<letter>\n",
    "str1='hai naresh how are you'\n",
    "str2=''\n",
    "count=0\n",
    "for i in str1:\n",
    "        if i not in str2:\n",
    "            if i in 'aeiou':\n",
    "                count=count+1\n",
    "                str2=str2+i\n",
    "            \n",
    "print(count)\n",
    "print(str2)\n",
    "        \n",
    "\n",
    "\n"
   ]
  },
  {
   "cell_type": "code",
   "execution_count": 95,
   "id": "ab91dee8-e877-4cfd-8b4e-751877ba3680",
   "metadata": {},
   "outputs": [
    {
     "name": "stdout",
     "output_type": "stream",
     "text": [
      "4\n",
      "aeiu\n"
     ]
    }
   ],
   "source": [
    "name='Balaswamy renaiah shiva kumar'\n",
    "empty=''\n",
    "count=0\n",
    "for i in name:\n",
    "    if i not in empty:\n",
    "        if i in 'aeiou':\n",
    "            count=count+1\n",
    "            empty=empty+i\n",
    "print(count)\n",
    "print(empty)"
   ]
  },
  {
   "cell_type": "code",
   "execution_count": 121,
   "id": "bb9e4eb7-269b-4e69-b015-8e82f59b6b78",
   "metadata": {},
   "outputs": [
    {
     "name": "stdout",
     "output_type": "stream",
     "text": [
      "aei\n",
      "3\n"
     ]
    }
   ],
   "source": [
    "name1='balaswamy renaih shiva'\n",
    "count=0\n",
    "store=''\n",
    "for i in name1:\n",
    "    if i not in store:\n",
    "        if i in 'aeiou':\n",
    "            count=count+1\n",
    "            store=store+i\n",
    "print(store)\n",
    "print(count)"
   ]
  },
  {
   "cell_type": "markdown",
   "id": "7e5b70d5-ca38-47f9-8399-f0546f23ecc5",
   "metadata": {},
   "source": [
    "**How to update the empty string**"
   ]
  },
  {
   "cell_type": "code",
   "execution_count": 58,
   "id": "7c2a0e08-8937-4d83-8f96-8bf039c38875",
   "metadata": {},
   "outputs": [
    {
     "data": {
      "text/plain": [
       "'python'"
      ]
     },
     "execution_count": 58,
     "metadata": {},
     "output_type": "execute_result"
    }
   ],
   "source": [
    "s1='python'\n",
    "s2=''\n",
    "for i in s1:\n",
    "    s2=s2+i #concatination\n",
    "s2"
   ]
  },
  {
   "cell_type": "code",
   "execution_count": 140,
   "id": "da2d472e-5845-46a8-a335-0de2b7e5bf92",
   "metadata": {},
   "outputs": [
    {
     "data": {
      "text/plain": [
       "'jknsdofjhkejoijeefkj'"
      ]
     },
     "execution_count": 140,
     "metadata": {},
     "output_type": "execute_result"
    }
   ],
   "source": [
    "s2='jknsdofjh'\n",
    "s3='kejoijeefkj'\n",
    "s6=s2+s3\n",
    "s6"
   ]
  },
  {
   "cell_type": "markdown",
   "id": "c03eba08-509a-422b-a52f-c3ee3607d5aa",
   "metadata": {},
   "source": [
    "**concatination**"
   ]
  },
  {
   "cell_type": "code",
   "execution_count": 60,
   "id": "55905f8f-a4c7-4dbe-871b-b084f843ffff",
   "metadata": {},
   "outputs": [
    {
     "data": {
      "text/plain": [
       "'hellobye'"
      ]
     },
     "execution_count": 60,
     "metadata": {},
     "output_type": "execute_result"
    }
   ],
   "source": [
    "s1='hello'\n",
    "s2='bye'\n",
    "s1+s2"
   ]
  },
  {
   "cell_type": "code",
   "execution_count": 61,
   "id": "cda3e33b-420c-4ebd-911e-46c3b7a817e0",
   "metadata": {},
   "outputs": [
    {
     "data": {
      "text/plain": [
       "'hello bye'"
      ]
     },
     "execution_count": 61,
     "metadata": {},
     "output_type": "execute_result"
    }
   ],
   "source": [
    "s1='hello'\n",
    "s2='bye'\n",
    "s3=' '\n",
    "s1+s3+s2"
   ]
  },
  {
   "cell_type": "code",
   "execution_count": 62,
   "id": "658bd156-2074-45f5-a726-135252d024bd",
   "metadata": {},
   "outputs": [
    {
     "data": {
      "text/plain": [
       "'hello  bye'"
      ]
     },
     "execution_count": 62,
     "metadata": {},
     "output_type": "execute_result"
    }
   ],
   "source": [
    "s1='hello '\n",
    "s2=' bye'\n",
    "s1+s2"
   ]
  },
  {
   "cell_type": "code",
   "execution_count": 66,
   "id": "81c8ce1a-d71a-4069-b6c4-b015ca9e553a",
   "metadata": {},
   "outputs": [
    {
     "ename": "TypeError",
     "evalue": "can't multiply sequence by non-int of type 'str'",
     "output_type": "error",
     "traceback": [
      "\u001b[1;31m---------------------------------------------------------------------------\u001b[0m",
      "\u001b[1;31mTypeError\u001b[0m                                 Traceback (most recent call last)",
      "Cell \u001b[1;32mIn[66], line 3\u001b[0m\n\u001b[0;32m      1\u001b[0m s1\u001b[38;5;241m=\u001b[39m\u001b[38;5;124m'\u001b[39m\u001b[38;5;124mhello\u001b[39m\u001b[38;5;124m'\u001b[39m\n\u001b[0;32m      2\u001b[0m s2\u001b[38;5;241m=\u001b[39m\u001b[38;5;124m'\u001b[39m\u001b[38;5;124mbye\u001b[39m\u001b[38;5;124m'\u001b[39m\n\u001b[1;32m----> 3\u001b[0m s1\u001b[38;5;241m*\u001b[39ms2\n",
      "\u001b[1;31mTypeError\u001b[0m: can't multiply sequence by non-int of type 'str'"
     ]
    }
   ],
   "source": [
    "s1='hello'\n",
    "s2='bye'\n",
    "s1*s2"
   ]
  },
  {
   "cell_type": "code",
   "execution_count": 67,
   "id": "1bca4548-2b72-4733-9986-c6cf2d3e686b",
   "metadata": {},
   "outputs": [
    {
     "ename": "TypeError",
     "evalue": "unsupported operand type(s) for /: 'str' and 'str'",
     "output_type": "error",
     "traceback": [
      "\u001b[1;31m---------------------------------------------------------------------------\u001b[0m",
      "\u001b[1;31mTypeError\u001b[0m                                 Traceback (most recent call last)",
      "Cell \u001b[1;32mIn[67], line 3\u001b[0m\n\u001b[0;32m      1\u001b[0m s1\u001b[38;5;241m=\u001b[39m\u001b[38;5;124m'\u001b[39m\u001b[38;5;124mhello\u001b[39m\u001b[38;5;124m'\u001b[39m\n\u001b[0;32m      2\u001b[0m s2\u001b[38;5;241m=\u001b[39m\u001b[38;5;124m'\u001b[39m\u001b[38;5;124mbye\u001b[39m\u001b[38;5;124m'\u001b[39m\n\u001b[1;32m----> 3\u001b[0m s1\u001b[38;5;241m/\u001b[39ms2\n",
      "\u001b[1;31mTypeError\u001b[0m: unsupported operand type(s) for /: 'str' and 'str'"
     ]
    }
   ],
   "source": [
    "s1='hello'\n",
    "s2='bye'\n",
    "s1/s2"
   ]
  },
  {
   "cell_type": "code",
   "execution_count": 68,
   "id": "0e2ea811-ec41-4534-9980-69c50fd42e43",
   "metadata": {},
   "outputs": [
    {
     "ename": "TypeError",
     "evalue": "unsupported operand type(s) for -: 'str' and 'str'",
     "output_type": "error",
     "traceback": [
      "\u001b[1;31m---------------------------------------------------------------------------\u001b[0m",
      "\u001b[1;31mTypeError\u001b[0m                                 Traceback (most recent call last)",
      "Cell \u001b[1;32mIn[68], line 3\u001b[0m\n\u001b[0;32m      1\u001b[0m s1\u001b[38;5;241m=\u001b[39m\u001b[38;5;124m'\u001b[39m\u001b[38;5;124mhello\u001b[39m\u001b[38;5;124m'\u001b[39m\n\u001b[0;32m      2\u001b[0m s2\u001b[38;5;241m=\u001b[39m\u001b[38;5;124m'\u001b[39m\u001b[38;5;124mbye\u001b[39m\u001b[38;5;124m'\u001b[39m\n\u001b[1;32m----> 3\u001b[0m s1\u001b[38;5;241m-\u001b[39ms2\n",
      "\u001b[1;31mTypeError\u001b[0m: unsupported operand type(s) for -: 'str' and 'str'"
     ]
    }
   ],
   "source": [
    "s1='hello'\n",
    "s2='bye'\n",
    "s1-s2"
   ]
  },
  {
   "cell_type": "code",
   "execution_count": 69,
   "id": "0899f8f2-e573-4b2f-b299-eaee0ca46f05",
   "metadata": {},
   "outputs": [
    {
     "data": {
      "text/plain": [
       "'hellobye'"
      ]
     },
     "execution_count": 69,
     "metadata": {},
     "output_type": "execute_result"
    }
   ],
   "source": [
    "s1='hello'\n",
    "s2='bye'\n",
    "s1+s2"
   ]
  },
  {
   "cell_type": "code",
   "execution_count": 142,
   "id": "9ef0609f-8d9b-4f3e-a95b-73782feab526",
   "metadata": {},
   "outputs": [
    {
     "data": {
      "text/plain": [
       "'brs brothersbrs brothersbrs brothers'"
      ]
     },
     "execution_count": 142,
     "metadata": {},
     "output_type": "execute_result"
    }
   ],
   "source": [
    "s1='brs brothers'\n",
    "s2=3\n",
    "s2*s1"
   ]
  },
  {
   "cell_type": "code",
   "execution_count": null,
   "id": "6e1eb3ac-06cd-471c-b54c-1d2c4f94e101",
   "metadata": {},
   "outputs": [],
   "source": [
    "# s1*s2 -can't multiply sequence by non-int of type 'str'\n",
    "# s1-s2 - unsupported operand type(s) for -: 'str' and 'str'\n",
    "# s1/s2 - unsupported operand type(s) for -: 'str' and 'str'"
   ]
  },
  {
   "cell_type": "code",
   "execution_count": 72,
   "id": "9b378811-2c05-4214-b4cf-38b2fc8037df",
   "metadata": {},
   "outputs": [
    {
     "data": {
      "text/plain": [
       "'hellohello'"
      ]
     },
     "execution_count": 72,
     "metadata": {},
     "output_type": "execute_result"
    }
   ],
   "source": [
    "s1='hello'\n",
    "s2=2\n",
    "s3=' '\n",
    "s1*s2"
   ]
  },
  {
   "cell_type": "markdown",
   "id": "a3846cca-da53-4e9a-ac1e-fe91780d4c40",
   "metadata": {},
   "source": [
    "**Index**\n",
    "- index meaning a number attach to a letter\n",
    "- in python indes starts with zero\n",
    "- we have two directionss\n",
    "      - positive directions\n",
    "          - positive numbers starts with zero\n",
    "      -Negative dircetion\n",
    "          - negative numbers starts with -1, applicble to last letter"
   ]
  },
  {
   "cell_type": "code",
   "execution_count": null,
   "id": "82f2733c-31ee-4018-9bee-7b71428d3a59",
   "metadata": {},
   "outputs": [],
   "source": [
    "s1='python'\n",
    "\n",
    "-6 -5 -4 -3 -2 -1\n",
    "p  y  t  h  o  n\n",
    "0  1  2  3  4  5\n"
   ]
  },
  {
   "cell_type": "code",
   "execution_count": 75,
   "id": "c575ab95-3019-42a4-9495-a170a3f8d5a7",
   "metadata": {},
   "outputs": [
    {
     "data": {
      "text/plain": [
       "('p', 'y', 't', 'h', 'o', 'n')"
      ]
     },
     "execution_count": 75,
     "metadata": {},
     "output_type": "execute_result"
    }
   ],
   "source": [
    "s1='python'\n",
    "s1[0],s1[1],s1[2],s1[3],s1[4],s1[5]"
   ]
  },
  {
   "cell_type": "code",
   "execution_count": 76,
   "id": "cc0acf85-84ca-4410-b451-e4a964c1f52a",
   "metadata": {},
   "outputs": [
    {
     "data": {
      "text/plain": [
       "('n', 'o', 'h', 't', 'y', 'p')"
      ]
     },
     "execution_count": 76,
     "metadata": {},
     "output_type": "execute_result"
    }
   ],
   "source": [
    "s1='python'\n",
    "s1[-1],s1[-2],s1[-3],s1[-4],s1[-5],s1[-6]"
   ]
  },
  {
   "cell_type": "markdown",
   "id": "3a7e7203-276c-4cf7-9478-e74fa5bf5f52",
   "metadata": {},
   "source": [
    "**mutable-immutable**\n",
    "- mutabel- it can change\n",
    "-       we can chnage using indexing\n",
    "- immutabel - can not change\n",
    "- we can not change using indexing"
   ]
  },
  {
   "cell_type": "code",
   "execution_count": 1,
   "id": "8211da4e-7680-4835-beff-4b996267de21",
   "metadata": {},
   "outputs": [
    {
     "ename": "TypeError",
     "evalue": "'str' object does not support item assignment",
     "output_type": "error",
     "traceback": [
      "\u001b[1;31m---------------------------------------------------------------------------\u001b[0m",
      "\u001b[1;31mTypeError\u001b[0m                                 Traceback (most recent call last)",
      "Cell \u001b[1;32mIn[1], line 2\u001b[0m\n\u001b[0;32m      1\u001b[0m s\u001b[38;5;241m=\u001b[39m\u001b[38;5;124m'\u001b[39m\u001b[38;5;124mwelcom\u001b[39m\u001b[38;5;124m'\u001b[39m\n\u001b[1;32m----> 2\u001b[0m s[\u001b[38;5;241m2\u001b[39m]\u001b[38;5;241m=\u001b[39m\u001b[38;5;124m'\u001b[39m\u001b[38;5;124mL\u001b[39m\u001b[38;5;124m'\u001b[39m\n",
      "\u001b[1;31mTypeError\u001b[0m: 'str' object does not support item assignment"
     ]
    }
   ],
   "source": [
    "s='welcom'\n",
    "s[2]='L'"
   ]
  },
  {
   "cell_type": "markdown",
   "id": "75bc2d87-af61-4b3a-9202-9a245e2f1ffe",
   "metadata": {},
   "source": [
    "**Note**\n",
    "- Strings are immutable which means we cant change in strings\n"
   ]
  },
  {
   "cell_type": "code",
   "execution_count": null,
   "id": "0a10ad12-9b7a-4e3d-9760-38976278d8a5",
   "metadata": {},
   "outputs": [],
   "source": [
    "s='welcome'\n",
    "# i want to replace l with L\n",
    "# possible\n",
    "# not posible"
   ]
  },
  {
   "cell_type": "code",
   "execution_count": 3,
   "id": "d4106720-b926-4209-82bc-44406e2b94e6",
   "metadata": {},
   "outputs": [
    {
     "data": {
      "text/plain": [
       "[1, 10, 3, 4, 5, 6]"
      ]
     },
     "execution_count": 3,
     "metadata": {},
     "output_type": "execute_result"
    }
   ],
   "source": [
    "l=[1,2,3,4,5,6]\n",
    "l[1]=10\n",
    "l"
   ]
  },
  {
   "cell_type": "code",
   "execution_count": 44,
   "id": "4a581d0d-cb72-4c13-a4f4-56d55f2cab0f",
   "metadata": {},
   "outputs": [
    {
     "data": {
      "text/plain": [
       "[123, 78654, 3678]"
      ]
     },
     "execution_count": 44,
     "metadata": {},
     "output_type": "execute_result"
    }
   ],
   "source": [
    "v=[123,2456,3678]\n",
    "v[1]=78654\n",
    "v"
   ]
  },
  {
   "cell_type": "markdown",
   "id": "3ea6f551-2357-4c3f-8ea8-79d1b06be2df",
   "metadata": {},
   "source": [
    "**Note**\n",
    "- lists are mutable"
   ]
  },
  {
   "cell_type": "code",
   "execution_count": 4,
   "id": "786e8a61-59b8-40df-b094-4aa53de3e4ab",
   "metadata": {},
   "outputs": [
    {
     "ename": "TypeError",
     "evalue": "'str' object does not support item assignment",
     "output_type": "error",
     "traceback": [
      "\u001b[1;31m---------------------------------------------------------------------------\u001b[0m",
      "\u001b[1;31mTypeError\u001b[0m                                 Traceback (most recent call last)",
      "Cell \u001b[1;32mIn[4], line 2\u001b[0m\n\u001b[0;32m      1\u001b[0m s\u001b[38;5;241m=\u001b[39m\u001b[38;5;124m'\u001b[39m\u001b[38;5;124mwelcom\u001b[39m\u001b[38;5;124m'\u001b[39m\n\u001b[1;32m----> 2\u001b[0m s[l]\u001b[38;5;241m=\u001b[39m\u001b[38;5;124m'\u001b[39m\u001b[38;5;124mL\u001b[39m\u001b[38;5;124m'\u001b[39m\n\u001b[0;32m      3\u001b[0m l\u001b[38;5;241m=\u001b[39m[\u001b[38;5;241m1\u001b[39m,\u001b[38;5;241m2\u001b[39m,\u001b[38;5;241m3\u001b[39m,\u001b[38;5;241m4\u001b[39m,\u001b[38;5;241m5\u001b[39m]\n\u001b[0;32m      4\u001b[0m l[\u001b[38;5;241m0\u001b[39m]\u001b[38;5;241m=\u001b[39m\u001b[38;5;241m1234\u001b[39m\n",
      "\u001b[1;31mTypeError\u001b[0m: 'str' object does not support item assignment"
     ]
    }
   ],
   "source": [
    "s='welcom'\n",
    "s[l]='L'\n",
    "l=[1,2,3,4,5]\n"
   ]
  },
  {
   "cell_type": "code",
   "execution_count": 5,
   "id": "161203b4-8065-406f-9708-6d3471ebfd82",
   "metadata": {},
   "outputs": [
    {
     "data": {
      "text/plain": [
       "[1234, 10, 3, 4, 5, 6]"
      ]
     },
     "execution_count": 5,
     "metadata": {},
     "output_type": "execute_result"
    }
   ],
   "source": [
    "l[0]=1234\n",
    "l"
   ]
  },
  {
   "cell_type": "code",
   "execution_count": 2,
   "id": "ded4950a-7a54-42fd-b5ee-d44327dfa66e",
   "metadata": {},
   "outputs": [
    {
     "name": "stdout",
     "output_type": "stream",
     "text": [
      "w\n",
      "e\n",
      "l\n",
      "c\n",
      "o\n",
      "m\n",
      "e\n"
     ]
    }
   ],
   "source": [
    "#q4 print each letter using for loop range \n",
    "# range belongs to which family - math\n",
    "# inside the bracket we need to privide- number\n",
    "s='welcome'\n",
    "# how many numbers we nee to provide a number- \n",
    "#      number of letters\n",
    "# how to access the letter using the number\n",
    "\n",
    "for i in range(len(s)):\n",
    "    print(s[i])"
   ]
  },
  {
   "cell_type": "code",
   "execution_count": 45,
   "id": "98c7fdf2-3983-47b4-b25f-067cb62a85d7",
   "metadata": {},
   "outputs": [
    {
     "name": "stdout",
     "output_type": "stream",
     "text": [
      "w\n",
      "e\n",
      "l\n",
      "c\n",
      "o\n",
      "m\n",
      "e\n"
     ]
    }
   ],
   "source": [
    "s='welcome'\n",
    "for i in range(len(s)):\n",
    "    print(s[i])"
   ]
  },
  {
   "cell_type": "code",
   "execution_count": 48,
   "id": "e0fc0881-0542-4622-8e53-aed143643f5e",
   "metadata": {},
   "outputs": [
    {
     "name": "stdout",
     "output_type": "stream",
     "text": [
      "w\n",
      "e\n",
      "l\n",
      "c\n",
      "o\n",
      "m\n",
      "e\n"
     ]
    }
   ],
   "source": [
    "s='welcome'\n",
    "for i in s:\n",
    "    print(i)"
   ]
  },
  {
   "cell_type": "code",
   "execution_count": 49,
   "id": "a6ac275a-f3d4-4a84-872b-5180c03d7dcd",
   "metadata": {},
   "outputs": [
    {
     "name": "stdout",
     "output_type": "stream",
     "text": [
      "b\n",
      "a\n",
      "l\n",
      "a\n",
      "s\n",
      "w\n",
      "a\n",
      "m\n",
      "y\n"
     ]
    }
   ],
   "source": [
    "b='balaswamy'\n",
    "for i in b:\n",
    "    print(i)"
   ]
  },
  {
   "cell_type": "code",
   "execution_count": 50,
   "id": "90533635-7baa-4562-a591-9e582663f5e7",
   "metadata": {},
   "outputs": [
    {
     "name": "stdout",
     "output_type": "stream",
     "text": [
      "b\n",
      "a\n",
      "l\n",
      "a\n",
      "s\n",
      "w\n",
      "a\n",
      "m\n",
      "y\n"
     ]
    }
   ],
   "source": [
    "b='balaswamy'\n",
    "for i in range(len(b)):\n",
    "    print(b[i])"
   ]
  },
  {
   "cell_type": "markdown",
   "id": "eb69e7a2-2a13-4189-a571-d785e6d7f51c",
   "metadata": {},
   "source": [
    "- for loop and in operator directly access the letter\n",
    "- for range will access using idnex"
   ]
  },
  {
   "cell_type": "code",
   "execution_count": 34,
   "id": "bab85677-31e6-450f-8e3d-5c3801ca3251",
   "metadata": {},
   "outputs": [
    {
     "name": "stdout",
     "output_type": "stream",
     "text": [
      "b\n",
      "a\n",
      "l\n",
      "a\n",
      "s\n",
      "w\n",
      "a\n",
      "m\n",
      "y\n"
     ]
    }
   ],
   "source": [
    "name='balaswamy'\n",
    "for i in name:\n",
    "    print(i)"
   ]
  },
  {
   "cell_type": "code",
   "execution_count": 51,
   "id": "b5a77046-be61-4afe-98b6-d1cc5ca52b08",
   "metadata": {},
   "outputs": [
    {
     "name": "stdout",
     "output_type": "stream",
     "text": [
      "b\n",
      "a\n",
      "l\n",
      "a\n",
      "s\n",
      "w\n",
      "a\n",
      "m\n",
      "y\n"
     ]
    }
   ],
   "source": [
    "name='balaswamy'\n",
    "for i in range (len(name)):\n",
    "    print(name[i])"
   ]
  },
  {
   "cell_type": "code",
   "execution_count": 10,
   "id": "bf5f09d2-1dbf-4318-aab4-1bfe456152a9",
   "metadata": {},
   "outputs": [
    {
     "name": "stdout",
     "output_type": "stream",
     "text": [
      "b\n",
      "a\n",
      "l\n",
      "a\n",
      "s\n",
      "w\n",
      "a\n",
      "m\n",
      "y\n"
     ]
    }
   ],
   "source": [
    "name='balaswamy'\n",
    "for i in range (len(name)):\n",
    "    print(name[i])"
   ]
  },
  {
   "cell_type": "code",
   "execution_count": null,
   "id": "d9f3bd04-5b39-4519-94bc-8a4f7978107e",
   "metadata": {},
   "outputs": [],
   "source": [
    "#q5 wap ask the user iterate using a string\n",
    "# string=welcom\n",
    "# print the positive index of w is 0\n",
    "# print positeve index of e is 1\n",
    "# the posive index of l is 1"
   ]
  },
  {
   "cell_type": "code",
   "execution_count": 55,
   "id": "675c2019-8daa-480f-bc88-70e7646f1a69",
   "metadata": {},
   "outputs": [
    {
     "name": "stdout",
     "output_type": "stream",
     "text": [
      "the postive index of the w is 0 \n",
      "the postive index of the e is 1 \n",
      "the postive index of the l is 2 \n",
      "the postive index of the c is 3 \n",
      "the postive index of the o is 4 \n",
      "the postive index of the m is 5 \n",
      "the postive index of the e is 6 \n"
     ]
    }
   ],
   "source": [
    "string='welcome'\n",
    "for i in range(len(string)):\n",
    "    print(f\"the postive index of the {string[i]} is {i} \")"
   ]
  },
  {
   "cell_type": "code",
   "execution_count": 56,
   "id": "bf17b468-c85d-4d50-9289-cc2b1fa3b831",
   "metadata": {},
   "outputs": [
    {
     "name": "stdout",
     "output_type": "stream",
     "text": [
      "the postive [i]\n",
      "the postive [i]\n",
      "the postive [i]\n",
      "the postive [i]\n",
      "the postive [i]\n",
      "the postive [i]\n",
      "the postive [i]\n"
     ]
    }
   ],
   "source": [
    "string='welcome'\n",
    "for i in range(len(string)):\n",
    "    print(f'the postive [i]')"
   ]
  },
  {
   "cell_type": "code",
   "execution_count": 21,
   "id": "2c8e1978-386b-4903-9742-e02ff5f63502",
   "metadata": {},
   "outputs": [
    {
     "name": "stdout",
     "output_type": "stream",
     "text": [
      "0 -7\n",
      "the negateive index of w is -7\n",
      "1 -6\n",
      "the negateive index of e is -6\n",
      "2 -5\n",
      "the negateive index of l is -5\n",
      "3 -4\n",
      "the negateive index of c is -4\n",
      "4 -3\n",
      "the negateive index of o is -3\n",
      "5 -2\n",
      "the negateive index of m is -2\n",
      "6 -1\n",
      "the negateive index of e is -1\n"
     ]
    }
   ],
   "source": [
    "string='welcome'\n",
    "for i in range(len(string)):\n",
    "    print(i,i-len(string))\n",
    "    print(f\"the negateive index of {string[i]} is {i-len(string)}\")"
   ]
  },
  {
   "cell_type": "code",
   "execution_count": 58,
   "id": "43a084dc-ec57-497e-868f-144100855659",
   "metadata": {},
   "outputs": [
    {
     "name": "stdout",
     "output_type": "stream",
     "text": [
      "the postive index of b is 0 and the negative index of b is -9\n",
      "the postive index of a is 1 and the negative index of a is -8\n",
      "the postive index of l is 2 and the negative index of l is -7\n",
      "the postive index of a is 3 and the negative index of a is -6\n",
      "the postive index of s is 4 and the negative index of s is -5\n",
      "the postive index of w is 5 and the negative index of w is -4\n",
      "the postive index of a is 6 and the negative index of a is -3\n",
      "the postive index of m is 7 and the negative index of m is -2\n",
      "the postive index of y is 8 and the negative index of y is -1\n"
     ]
    }
   ],
   "source": [
    "string='balaswamy'\n",
    "for i in range (len(string)):\n",
    "    print(f\"the postive index of {string[i]} is {i} and the negative index of {string[i]} is {i-len(string)}\" )"
   ]
  },
  {
   "cell_type": "code",
   "execution_count": 29,
   "id": "71d1d3eb-965d-4ed6-b46f-ac29748258ae",
   "metadata": {},
   "outputs": [
    {
     "name": "stdout",
     "output_type": "stream",
     "text": [
      "0 -7\n",
      "0 w\n",
      "the negateive index of w is -7 the postive index of w is w\n",
      "1 -6\n",
      "1 e\n",
      "the negateive index of e is -6 the postive index of e is e\n",
      "2 -5\n",
      "2 l\n",
      "the negateive index of l is -5 the postive index of l is l\n",
      "3 -4\n",
      "3 c\n",
      "the negateive index of c is -4 the postive index of c is c\n",
      "4 -3\n",
      "4 o\n",
      "the negateive index of o is -3 the postive index of o is o\n",
      "5 -2\n",
      "5 m\n",
      "the negateive index of m is -2 the postive index of m is m\n",
      "6 -1\n",
      "6 e\n",
      "the negateive index of e is -1 the postive index of e is e\n"
     ]
    }
   ],
   "source": [
    "#7 string='welcome'\n",
    "for i in range(len(string)):\n",
    "    print(i,i-len(string))\n",
    "    print(i,string[i])\n",
    "    print(f\"the negateive index of {string[i]} is {i-len(string)} the postive index of {string[i]} is {s[i]}\")\n",
    "    \n"
   ]
  },
  {
   "cell_type": "code",
   "execution_count": 11,
   "id": "87a701a1-a689-4c43-a86e-dca2367e9ab2",
   "metadata": {},
   "outputs": [
    {
     "name": "stdout",
     "output_type": "stream",
     "text": [
      "1\n",
      "8\n",
      "18\n"
     ]
    }
   ],
   "source": [
    "#8q wap ask the user get the index of each 'a' in a given string\n",
    "# s= 'hai how are you i am good'\n",
    "s='hai how are you i am good'\n",
    "for i in range(len(s)):\n",
    "    if s[i] in 'a':\n",
    "        print(i)\n"
   ]
  },
  {
   "cell_type": "code",
   "execution_count": 61,
   "id": "f84f0507-2f2d-4356-84cb-591c49b7f02e",
   "metadata": {},
   "outputs": [
    {
     "name": "stdout",
     "output_type": "stream",
     "text": [
      "1\n",
      "8\n",
      "18\n"
     ]
    }
   ],
   "source": [
    "s='hai how are you i am good'\n",
    "for i in range(len(s)):\n",
    "    if s[i] in 'a':\n",
    "        print(i)"
   ]
  },
  {
   "cell_type": "code",
   "execution_count": null,
   "id": "a3b3365d-0381-45db-bdec-25eae8a75966",
   "metadata": {},
   "outputs": [],
   "source": [
    "# 8q wap ask the user get the index of each in a given string\n",
    "# a=1 8 18\n",
    "\n",
    "# wap ask the user to get count of number of a in a given string\n",
    "# using  for - range \n",
    "# wap ask the user get the sum of all index number of a\n",
    "# "
   ]
  },
  {
   "cell_type": "code",
   "execution_count": 15,
   "id": "6110c3c5-2565-49e1-ba87-6303ef8c8696",
   "metadata": {},
   "outputs": [
    {
     "name": "stdout",
     "output_type": "stream",
     "text": [
      "1\n",
      "1 8\n",
      "2 18\n",
      "3 "
     ]
    }
   ],
   "source": [
    "# wap ask the user to get count of number of a in a given string\n",
    "s='hai how are you i am good'\n",
    "count=0\n",
    "for i in range(len(s)):\n",
    "    if s[i] in 'a':\n",
    "        count=count+1\n",
    "        print(i)\n",
    "        print(count,end=' ')"
   ]
  },
  {
   "cell_type": "code",
   "execution_count": 63,
   "id": "9f0d5bce-92b0-4cec-81f5-37c75a59fcc9",
   "metadata": {},
   "outputs": [
    {
     "name": "stdout",
     "output_type": "stream",
     "text": [
      "count of the a is 3\n"
     ]
    }
   ],
   "source": [
    "s='hai how are you i am good'\n",
    "count=0\n",
    "for i in range(len(s)):\n",
    "    if s[i] in 'a':\n",
    "        count=count+1\n",
    "print(f'count of the a is {count}')\n",
    "    "
   ]
  },
  {
   "cell_type": "code",
   "execution_count": 17,
   "id": "eac5e726-e8ef-427d-8773-604164a815f2",
   "metadata": {},
   "outputs": [
    {
     "name": "stdout",
     "output_type": "stream",
     "text": [
      "3 "
     ]
    }
   ],
   "source": [
    "# wap ask the user to get count of number of a in a given string\n",
    "s='hai how are you i am good'\n",
    "count=0\n",
    "for i in range(len(s)):\n",
    "    if s[i] in 'a':\n",
    "        count=count+1\n",
    "print(count,end=' ')"
   ]
  },
  {
   "cell_type": "code",
   "execution_count": 64,
   "id": "415cad92-823c-412c-b865-49fcfa85df2f",
   "metadata": {},
   "outputs": [
    {
     "name": "stdout",
     "output_type": "stream",
     "text": [
      "27\n"
     ]
    }
   ],
   "source": [
    "s='hai how are you i am doing good'\n",
    "count=0\n",
    "summ=0\n",
    "for i in range(len(s)):\n",
    "    if s[i] in 'a':\n",
    "        count=count+1\n",
    "        summ=summ+i\n",
    "print(summ)"
   ]
  },
  {
   "cell_type": "code",
   "execution_count": 18,
   "id": "aa01acef-77c0-4dbd-acb6-0438f3acbae8",
   "metadata": {},
   "outputs": [
    {
     "name": "stdout",
     "output_type": "stream",
     "text": [
      "27\n"
     ]
    }
   ],
   "source": [
    "# wap ask the user to get sum of number of a in a given string\n",
    "s='hai how are you i am good'\n",
    "sum=0\n",
    "for i in range(len(s)):\n",
    "    if s[i] in 'a':\n",
    "        sum=sum+i\n",
    "print(sum)"
   ]
  },
  {
   "cell_type": "code",
   "execution_count": 21,
   "id": "c925faf8-a520-46cf-9e59-db08db8b6b64",
   "metadata": {},
   "outputs": [
    {
     "name": "stdout",
     "output_type": "stream",
     "text": [
      "a i o a e o u i a o o the number of vowels are : 11\n"
     ]
    }
   ],
   "source": [
    "# wap ask the user get ythe vowels from a given strings\n",
    "s='hai how are you i am good'\n",
    "count=0\n",
    "for i in range (len(s)):\n",
    "    if s[i] in 'aeiou':\n",
    "        print(s[i],end=' ')\n",
    "        count=count+1\n",
    "print(f'the number of vowels are :',count)"
   ]
  },
  {
   "cell_type": "code",
   "execution_count": 74,
   "id": "a8c8d138-3d1f-4ab1-83cc-18a56b1d265c",
   "metadata": {},
   "outputs": [
    {
     "name": "stdout",
     "output_type": "stream",
     "text": [
      "a 1\n",
      "i 2\n",
      "o 3\n",
      "a 4\n",
      "e 5\n",
      "o 6\n",
      "u 7\n",
      "i 8\n",
      "a 9\n",
      "o 10\n",
      "o 11\n"
     ]
    }
   ],
   "source": [
    "s='hai how are you i am good'\n",
    "count=0\n",
    "for i in range(len(s)):\n",
    "    if s[i] in 'aeiou':\n",
    "        count=count+1\n",
    "        print(s[i],end=' ')\n",
    "        print(count)"
   ]
  },
  {
   "cell_type": "code",
   "execution_count": 26,
   "id": "de75352e-ce76-40fa-8fb9-0e10400ad264",
   "metadata": {},
   "outputs": [
    {
     "name": "stdout",
     "output_type": "stream",
     "text": [
      "a i o e u the number of vowels are : 5\n",
      "the number of uniq vowels are : aioeu\n"
     ]
    }
   ],
   "source": [
    "# wap ask the user get the uniq vowels from a given strings\n",
    "s='hai how are you i am good'\n",
    "count=0\n",
    "s1=''\n",
    "for i in range (len(s)):\n",
    "    if s[i] not in s1: # we are checkng the letter is availble in s1 (it shoud not)\n",
    "        if s[i] in 'aeiou': # we are cheicng vowel condition\n",
    "            print(s[i],end=' ')\n",
    "            count=count+1\n",
    "            s1=s1+s[i] # we nee to updat s1\n",
    "print(f'the number of vowels are :',count)\n",
    "print(f'the number of uniq vowels are :',s1)"
   ]
  },
  {
   "cell_type": "code",
   "execution_count": 78,
   "id": "7d909504-e97f-4321-9fd2-e3cfa2a27832",
   "metadata": {},
   "outputs": [
    {
     "data": {
      "text/plain": [
       "'aioeu'"
      ]
     },
     "execution_count": 78,
     "metadata": {},
     "output_type": "execute_result"
    }
   ],
   "source": [
    "s='hai how are you i am good'\n",
    "count=0\n",
    "empty=''\n",
    "for i in range(len(s)):\n",
    "    if s[i] not in empty:\n",
    "        if s[i] in 'aeiou':\n",
    "            empty=empty+s[i]\n",
    "            count=count+1\n",
    "empty"
   ]
  },
  {
   "cell_type": "code",
   "execution_count": 31,
   "id": "98b105af-1861-4e92-ab0f-c193d2a1950d",
   "metadata": {},
   "outputs": [
    {
     "name": "stdout",
     "output_type": "stream",
     "text": [
      "a\n",
      "i\n",
      "o\n",
      "e\n",
      "u\n",
      "the number of vowels are : 5\n",
      "the number of uniq vowels are : aioeu\n"
     ]
    }
   ],
   "source": [
    "s='hai how are you i am good'\n",
    "count=0\n",
    "s1=''\n",
    "for i in range (len(s)):\n",
    "    if s[i] not in s1 and s[i] in 'aeiou':\n",
    "        print(s[i],)\n",
    "        count=count+1\n",
    "        s1=s1+s[i] \n",
    "print(f'the number of vowels are :',count)\n",
    "print(f'the number of uniq vowels are :',s1)"
   ]
  },
  {
   "cell_type": "code",
   "execution_count": null,
   "id": "43b2267d-e182-4597-afdc-268ce83406af",
   "metadata": {},
   "outputs": [],
   "source": [
    "#q14 string = 'ola ola ola'\n",
    "# number of ola =3\n",
    "\n",
    "#q15 string1= 'hello hello hello  how hwo hwo hwo hwo are you'\n",
    "# what is the amost repeated word : how\n",
    "# q16 string1='helloooooo how aree u'\n",
    "# what is the maximum len of word: hellooooo\n",
    "# what is the minimum len fo word : u\n",
    "# without using sorted then sort the letters\n"
   ]
  },
  {
   "cell_type": "code",
   "execution_count": 80,
   "id": "51461c98-9cb8-459f-9bd2-92d00fbd5b47",
   "metadata": {},
   "outputs": [
    {
     "name": "stdout",
     "output_type": "stream",
     "text": [
      "9\n"
     ]
    }
   ],
   "source": [
    "#q14 string = 'ola ola ola'\n",
    "string='ola ola ola'\n",
    "count=0\n",
    "for i in range(len(string)):\n",
    "    if string[i] in 'ola':\n",
    "        count=count+1\n",
    "print(count)"
   ]
  },
  {
   "cell_type": "code",
   "execution_count": 91,
   "id": "d68bf0fd-e76b-4d8e-8e55-56983b6e4719",
   "metadata": {},
   "outputs": [
    {
     "name": "stdout",
     "output_type": "stream",
     "text": [
      "ola\n",
      "3\n"
     ]
    }
   ],
   "source": [
    "string='ola ola ola'\n",
    "count=0\n",
    "empty=''\n",
    "word='ola'\n",
    "for i in string:\n",
    "    if i not in empty:\n",
    "        if i in word:\n",
    "            count=count+1\n",
    "            empty=empty+i\n",
    "print(empty)\n",
    "print(count)"
   ]
  },
  {
   "cell_type": "code",
   "execution_count": 109,
   "id": "ab5fc2ad-b1a1-41a0-a779-097a785d8640",
   "metadata": {},
   "outputs": [
    {
     "name": "stdout",
     "output_type": "stream",
     "text": [
      "helo waryu\n"
     ]
    }
   ],
   "source": [
    "#q15 string1= 'hello hello hello  how hwo hwo hwo hwo are you'\n",
    "# what is the amost repeated word : how\n",
    "string1= 'hello hello hello  how how how how how are you'\n",
    "count=0\n",
    "empty=''\n",
    "for i in range(len(string1)):\n",
    "    string=string1.split(string1)\n",
    "    if string1[i] not in empty:\n",
    "        if string1[i] in string1:\n",
    "            empty=empty+string1[i]\n",
    "          \n",
    "print(empty)\n"
   ]
  },
  {
   "cell_type": "markdown",
   "id": "4a56239e-4329-4f9b-94b7-987cca367815",
   "metadata": {},
   "source": [
    "**Slice**"
   ]
  },
  {
   "cell_type": "markdown",
   "id": "96ea0914-1e7e-4ea9-8916-e3ffd61988e6",
   "metadata": {},
   "source": [
    "- we can cut into pieces\n",
    "- similar to range concept\n",
    "- start ,stop step here also"
   ]
  },
  {
   "cell_type": "code",
   "execution_count": 1,
   "id": "4aa002f7-4399-4310-bbb3-541a9d4aace5",
   "metadata": {},
   "outputs": [],
   "source": [
    "str1='hai how are you'"
   ]
  },
  {
   "cell_type": "code",
   "execution_count": 20,
   "id": "57a44bde-9e52-4382-87e2-7e38359bd46d",
   "metadata": {},
   "outputs": [],
   "source": [
    "#-15 -14 -13 -12  -11 -10 -9  -8   -7  -6  -5   -4   -3    -2    -1\n",
    "#h    a   i         h   o   w       a   r   e        y     o      y\n",
    "#0    1   2   3     4   5   6   7   8   9   10   11 12    13     14"
   ]
  },
  {
   "cell_type": "code",
   "execution_count": 21,
   "id": "66d0dedf-95b0-46e0-bb4a-e7060115bb92",
   "metadata": {},
   "outputs": [],
   "source": [
    "#str1[start:stop:step]"
   ]
  },
  {
   "cell_type": "markdown",
   "id": "e500a63f-1329-4017-a3ef-8a82c8929250",
   "metadata": {},
   "source": [
    "$ pattern-1$\n",
    "**str1[start]**\n",
    "- by default stat value =start only\n",
    "- last value=last only last value nothing means automatically it will go till = last only\n",
    "- step nothing metioned means  it is a postive direction and increment by 1\n"
   ]
  },
  {
   "cell_type": "code",
   "execution_count": 5,
   "id": "7b668e47-7604-499f-aab1-722d3fb51f4d",
   "metadata": {},
   "outputs": [
    {
     "data": {
      "text/plain": [
       "'ow are you'"
      ]
     },
     "execution_count": 5,
     "metadata": {},
     "output_type": "execute_result"
    }
   ],
   "source": [
    "str1='hai how are you'\n",
    "str1[5:]"
   ]
  },
  {
   "cell_type": "code",
   "execution_count": 5,
   "id": "2dc46e30-b67c-4200-acd2-b72cdb262618",
   "metadata": {},
   "outputs": [
    {
     "data": {
      "text/plain": [
       "'hai how are you'"
      ]
     },
     "execution_count": 5,
     "metadata": {},
     "output_type": "execute_result"
    }
   ],
   "source": [
    "str='hai how are you'\n",
    "str[-15:]"
   ]
  },
  {
   "cell_type": "code",
   "execution_count": 83,
   "id": "df2c46ae-7fe6-4944-bd70-e56bfe64eaca",
   "metadata": {},
   "outputs": [
    {
     "data": {
      "text/plain": [
       "'are you'"
      ]
     },
     "execution_count": 83,
     "metadata": {},
     "output_type": "execute_result"
    }
   ],
   "source": [
    "str1[8:]"
   ]
  },
  {
   "cell_type": "code",
   "execution_count": 6,
   "id": "5745a8d9-a003-456b-add9-25d315afdba5",
   "metadata": {},
   "outputs": [
    {
     "data": {
      "text/plain": [
       "'ai how are you'"
      ]
     },
     "execution_count": 6,
     "metadata": {},
     "output_type": "execute_result"
    }
   ],
   "source": [
    "str1='hai how are you'\n",
    "str1[1:]"
   ]
  },
  {
   "cell_type": "code",
   "execution_count": 7,
   "id": "a1bbdf70-1418-47ef-a426-0705830191c8",
   "metadata": {},
   "outputs": [
    {
     "data": {
      "text/plain": [
       "'ai how are you'"
      ]
     },
     "execution_count": 7,
     "metadata": {},
     "output_type": "execute_result"
    }
   ],
   "source": [
    "str1='hai how are you'\n",
    "str1[-14:]"
   ]
  },
  {
   "cell_type": "code",
   "execution_count": 12,
   "id": "8e9ab103-fe12-4f11-aba5-de3da5d0945d",
   "metadata": {},
   "outputs": [
    {
     "data": {
      "text/plain": [
       "'hihwae'"
      ]
     },
     "execution_count": 12,
     "metadata": {},
     "output_type": "execute_result"
    }
   ],
   "source": [
    "str1='hai how are you'\n",
    "str1[0:12:2]"
   ]
  },
  {
   "cell_type": "code",
   "execution_count": 10,
   "id": "a64f2143-27b4-4dec-83b3-6f7913dccc62",
   "metadata": {},
   "outputs": [
    {
     "data": {
      "text/plain": [
       "('hai i am v', 'hai i am')"
      ]
     },
     "execution_count": 10,
     "metadata": {},
     "output_type": "execute_result"
    }
   ],
   "source": [
    "str='hai i am velijal Balaswamy'\n",
    "str[0:10],str[0:8]"
   ]
  },
  {
   "cell_type": "code",
   "execution_count": 84,
   "id": "1458f235-0365-472e-b084-e3c7c682e452",
   "metadata": {},
   "outputs": [
    {
     "data": {
      "text/plain": [
       "'hai how are you'"
      ]
     },
     "execution_count": 84,
     "metadata": {},
     "output_type": "execute_result"
    }
   ],
   "source": [
    "str1[-15:]"
   ]
  },
  {
   "cell_type": "code",
   "execution_count": 13,
   "id": "58fb7499-b2fe-4bed-b9d8-17ba6933930a",
   "metadata": {},
   "outputs": [
    {
     "data": {
      "text/plain": [
       "'e you'"
      ]
     },
     "execution_count": 13,
     "metadata": {},
     "output_type": "execute_result"
    }
   ],
   "source": [
    "str1='hai how are you'\n",
    "str1[-5:]"
   ]
  },
  {
   "cell_type": "code",
   "execution_count": 87,
   "id": "3cad6127-49ac-4836-86e7-630c2f21529e",
   "metadata": {},
   "outputs": [
    {
     "data": {
      "text/plain": [
       "('hai how are you', 'hai how are you', 'ai how are you', 'ai how are you')"
      ]
     },
     "execution_count": 87,
     "metadata": {},
     "output_type": "execute_result"
    }
   ],
   "source": [
    "str1[0:],str1[-15:],str1[1:],str1[-14:]"
   ]
  },
  {
   "cell_type": "code",
   "execution_count": 88,
   "id": "ee72bd3b-e01c-4024-8a2d-bdd87c37f19c",
   "metadata": {},
   "outputs": [
    {
     "data": {
      "text/plain": [
       "('ow are you', 'ow are you')"
      ]
     },
     "execution_count": 88,
     "metadata": {},
     "output_type": "execute_result"
    }
   ],
   "source": [
    "str1[5:],str1[-10:]"
   ]
  },
  {
   "cell_type": "markdown",
   "id": "44488b6c-9a95-4c92-abc3-c296eb07b24f",
   "metadata": {},
   "source": [
    "$ Pattern-2$\n",
    "- str1[start:stop]\n",
    "- start value menas by default start only\n",
    "- step is not mentioned postive direction\n",
    "- last=stop-1"
   ]
  },
  {
   "cell_type": "code",
   "execution_count": 16,
   "id": "73d63fc1-bd93-4233-a56f-cd58ec9ce5a8",
   "metadata": {},
   "outputs": [
    {
     "data": {
      "text/plain": [
       "'hai how are yo'"
      ]
     },
     "execution_count": 16,
     "metadata": {},
     "output_type": "execute_result"
    }
   ],
   "source": [
    "str1[0:14:]"
   ]
  },
  {
   "cell_type": "code",
   "execution_count": 91,
   "id": "cb58445d-2269-4555-b854-f166a3331b62",
   "metadata": {},
   "outputs": [
    {
     "data": {
      "text/plain": [
       "'hai how are you'"
      ]
     },
     "execution_count": 91,
     "metadata": {},
     "output_type": "execute_result"
    }
   ],
   "source": [
    "str1[0:19:]"
   ]
  },
  {
   "cell_type": "code",
   "execution_count": 17,
   "id": "6a7e780b-5630-4c24-9781-dae63eb9b049",
   "metadata": {},
   "outputs": [
    {
     "data": {
      "text/plain": [
       "'ai h'"
      ]
     },
     "execution_count": 17,
     "metadata": {},
     "output_type": "execute_result"
    }
   ],
   "source": [
    "str1[1:-10:]"
   ]
  },
  {
   "cell_type": "code",
   "execution_count": 19,
   "id": "9daddada-26f3-455a-9bc2-474b0e73b5d1",
   "metadata": {},
   "outputs": [
    {
     "data": {
      "text/plain": [
       "'e yo'"
      ]
     },
     "execution_count": 19,
     "metadata": {},
     "output_type": "execute_result"
    }
   ],
   "source": [
    "str1[-5:14]"
   ]
  },
  {
   "cell_type": "code",
   "execution_count": 96,
   "id": "bc3765d1-7278-4f8a-ac90-8a37c2f6e53a",
   "metadata": {},
   "outputs": [
    {
     "data": {
      "text/plain": [
       "''"
      ]
     },
     "execution_count": 96,
     "metadata": {},
     "output_type": "execute_result"
    }
   ],
   "source": [
    "str1[3:-14]"
   ]
  },
  {
   "cell_type": "code",
   "execution_count": 24,
   "id": "f3357d5e-2906-491f-8993-dbe11362d23a",
   "metadata": {},
   "outputs": [
    {
     "data": {
      "text/plain": [
       "'e yo'"
      ]
     },
     "execution_count": 24,
     "metadata": {},
     "output_type": "execute_result"
    }
   ],
   "source": [
    "str1[-5:14:]"
   ]
  },
  {
   "cell_type": "code",
   "execution_count": 25,
   "id": "97ca759c-e5a8-4570-85bf-096cab3576e6",
   "metadata": {},
   "outputs": [
    {
     "data": {
      "text/plain": [
       "'ow are yo'"
      ]
     },
     "execution_count": 25,
     "metadata": {},
     "output_type": "execute_result"
    }
   ],
   "source": [
    "str1[5:14]"
   ]
  },
  {
   "cell_type": "code",
   "execution_count": 26,
   "id": "b6564118-f718-4031-9c14-13e862addb61",
   "metadata": {},
   "outputs": [
    {
     "data": {
      "text/plain": [
       "''"
      ]
     },
     "execution_count": 26,
     "metadata": {},
     "output_type": "execute_result"
    }
   ],
   "source": [
    "str1[5:-14]"
   ]
  },
  {
   "cell_type": "code",
   "execution_count": 27,
   "id": "2b11d33f-ad02-422a-b85e-7bb855dd7d22",
   "metadata": {},
   "outputs": [
    {
     "data": {
      "text/plain": [
       "''"
      ]
     },
     "execution_count": 27,
     "metadata": {},
     "output_type": "execute_result"
    }
   ],
   "source": [
    "str1[-5:-14]"
   ]
  },
  {
   "cell_type": "code",
   "execution_count": 28,
   "id": "10bf036e-68f8-438a-8e63-41b38f9d6f8e",
   "metadata": {},
   "outputs": [
    {
     "data": {
      "text/plain": [
       "'ow are you'"
      ]
     },
     "execution_count": 28,
     "metadata": {},
     "output_type": "execute_result"
    }
   ],
   "source": [
    "str1[5:500]"
   ]
  },
  {
   "cell_type": "code",
   "execution_count": 11,
   "id": "0bae2d9e-60f9-42da-b910-aa60e1ca3482",
   "metadata": {},
   "outputs": [
    {
     "data": {
      "text/plain": [
       "'hai i am velijal Balaswamy'"
      ]
     },
     "execution_count": 11,
     "metadata": {},
     "output_type": "execute_result"
    }
   ],
   "source": [
    "str[0:100]"
   ]
  },
  {
   "cell_type": "markdown",
   "id": "86408407-4811-4111-902e-fdbaa2b38654",
   "metadata": {},
   "source": [
    "***Truncation behaviour***\n",
    "- when ever string range is limited but we privided unlimited number then string will truncate till the range only\n",
    "- in the above example our range only 15 letters\n",
    "- we provided 500 ,then 500 will truncate till 15 letters only"
   ]
  },
  {
   "cell_type": "code",
   "execution_count": 30,
   "id": "23dcd89c-31b1-4a20-9475-038c0c64b208",
   "metadata": {},
   "outputs": [
    {
     "data": {
      "text/plain": [
       "'ow are you'"
      ]
     },
     "execution_count": 30,
     "metadata": {},
     "output_type": "execute_result"
    }
   ],
   "source": [
    "str1[5:500]"
   ]
  },
  {
   "cell_type": "code",
   "execution_count": null,
   "id": "132d1e0f-00ed-40df-b3ce-1a3b0a924ce4",
   "metadata": {},
   "outputs": [],
   "source": []
  },
  {
   "cell_type": "code",
   "execution_count": 31,
   "id": "14ce9314-a575-4d41-a1e1-34cb7c3d6245",
   "metadata": {},
   "outputs": [
    {
     "data": {
      "text/plain": [
       "'hai how are you'"
      ]
     },
     "execution_count": 31,
     "metadata": {},
     "output_type": "execute_result"
    }
   ],
   "source": [
    "str1[-500:500]"
   ]
  },
  {
   "cell_type": "code",
   "execution_count": 32,
   "id": "b9010611-f256-425c-a671-fd37f815e842",
   "metadata": {},
   "outputs": [
    {
     "data": {
      "text/plain": [
       "'u'"
      ]
     },
     "execution_count": 32,
     "metadata": {},
     "output_type": "execute_result"
    }
   ],
   "source": [
    "str1[-1:500]"
   ]
  },
  {
   "cell_type": "code",
   "execution_count": 34,
   "id": "b696971c-3846-4847-94b7-98f294f9bd4f",
   "metadata": {},
   "outputs": [
    {
     "data": {
      "text/plain": [
       "''"
      ]
     },
     "execution_count": 34,
     "metadata": {},
     "output_type": "execute_result"
    }
   ],
   "source": [
    "str1[500:]"
   ]
  },
  {
   "cell_type": "code",
   "execution_count": 35,
   "id": "a71b9b71-b31d-4252-9103-2c9cbd56b7b7",
   "metadata": {},
   "outputs": [
    {
     "data": {
      "text/plain": [
       "''"
      ]
     },
     "execution_count": 35,
     "metadata": {},
     "output_type": "execute_result"
    }
   ],
   "source": [
    "str1[50:500]"
   ]
  },
  {
   "cell_type": "code",
   "execution_count": 12,
   "id": "9c301727-9343-4395-9343-c010ae2635e7",
   "metadata": {},
   "outputs": [
    {
     "data": {
      "text/plain": [
       "'hai i am velijal Balaswamy'"
      ]
     },
     "execution_count": 12,
     "metadata": {},
     "output_type": "execute_result"
    }
   ],
   "source": [
    "str[-500:100]"
   ]
  },
  {
   "cell_type": "code",
   "execution_count": 37,
   "id": "84f2cf9d-5e43-4eba-8fef-d30a19072f27",
   "metadata": {},
   "outputs": [
    {
     "data": {
      "text/plain": [
       "''"
      ]
     },
     "execution_count": 37,
     "metadata": {},
     "output_type": "execute_result"
    }
   ],
   "source": [
    "str1[-500:-100]"
   ]
  },
  {
   "cell_type": "markdown",
   "id": "06c3b6ee-7a8b-433c-bd12-cab5c675059d",
   "metadata": {},
   "source": [
    "$pattern$"
   ]
  },
  {
   "cell_type": "markdown",
   "id": "95dd4e30-e1db-4f71-b376-1d08f4ce3bfe",
   "metadata": {},
   "source": [
    "#str1[strat:stop:step]\n",
    "- start value mens start only\n",
    "- if step value positive\n",
    "    - last valu=stop-1\n",
    "- if step value negative\n",
    "    - last value=step+1"
   ]
  },
  {
   "cell_type": "code",
   "execution_count": 39,
   "id": "35afc868-5f98-4e1b-9a9a-06ca40d4fee4",
   "metadata": {},
   "outputs": [
    {
     "data": {
      "text/plain": [
       "'ihwaey'"
      ]
     },
     "execution_count": 39,
     "metadata": {},
     "output_type": "execute_result"
    }
   ],
   "source": [
    "str1[2:13:2]"
   ]
  },
  {
   "cell_type": "code",
   "execution_count": 40,
   "id": "0f586345-23aa-4dd4-8b40-41249b8615ac",
   "metadata": {},
   "outputs": [
    {
     "data": {
      "text/plain": [
       "''"
      ]
     },
     "execution_count": 40,
     "metadata": {},
     "output_type": "execute_result"
    }
   ],
   "source": [
    "str1[2:13:-2]"
   ]
  },
  {
   "cell_type": "code",
   "execution_count": 41,
   "id": "9423ff45-9e80-47c1-8864-20b20d4ead69",
   "metadata": {},
   "outputs": [
    {
     "data": {
      "text/plain": [
       "''"
      ]
     },
     "execution_count": 41,
     "metadata": {},
     "output_type": "execute_result"
    }
   ],
   "source": [
    "str1[2:-13:2]"
   ]
  },
  {
   "cell_type": "code",
   "execution_count": 42,
   "id": "f6e823af-d957-46be-a2a4-64c6a93d8e62",
   "metadata": {},
   "outputs": [
    {
     "data": {
      "text/plain": [
       "''"
      ]
     },
     "execution_count": 42,
     "metadata": {},
     "output_type": "execute_result"
    }
   ],
   "source": [
    "str1[2:-13:-2]"
   ]
  },
  {
   "cell_type": "code",
   "execution_count": 43,
   "id": "ada27450-6bbd-499e-b49e-f9fcac5176c9",
   "metadata": {},
   "outputs": [
    {
     "data": {
      "text/plain": [
       "''"
      ]
     },
     "execution_count": 43,
     "metadata": {},
     "output_type": "execute_result"
    }
   ],
   "source": [
    "str1[-2:13:2]"
   ]
  },
  {
   "cell_type": "code",
   "execution_count": 45,
   "id": "bfe2eaf7-a83a-4d01-a2aa-01ef9dbfabea",
   "metadata": {},
   "outputs": [
    {
     "data": {
      "text/plain": [
       "''"
      ]
     },
     "execution_count": 45,
     "metadata": {},
     "output_type": "execute_result"
    }
   ],
   "source": [
    "str1[-2:-13:2]"
   ]
  },
  {
   "cell_type": "code",
   "execution_count": 46,
   "id": "4442437b-d950-4c1e-882a-4e88aa55512a",
   "metadata": {},
   "outputs": [
    {
     "data": {
      "text/plain": [
       "'o r o '"
      ]
     },
     "execution_count": 46,
     "metadata": {},
     "output_type": "execute_result"
    }
   ],
   "source": [
    "str1[-2:-13:-2]"
   ]
  },
  {
   "cell_type": "code",
   "execution_count": 47,
   "id": "5016135b-3d5e-410f-b02f-9efdff416725",
   "metadata": {},
   "outputs": [
    {
     "data": {
      "text/plain": [
       "''"
      ]
     },
     "execution_count": 47,
     "metadata": {},
     "output_type": "execute_result"
    }
   ],
   "source": [
    "str1[13:2:2]"
   ]
  },
  {
   "cell_type": "code",
   "execution_count": 48,
   "id": "2f5082c1-0f95-461c-a7d2-a9c9b8e23a89",
   "metadata": {},
   "outputs": [
    {
     "data": {
      "text/plain": [
       "''"
      ]
     },
     "execution_count": 48,
     "metadata": {},
     "output_type": "execute_result"
    }
   ],
   "source": [
    "str1[-13:2:2]"
   ]
  },
  {
   "cell_type": "code",
   "execution_count": 49,
   "id": "3cb6ee59-e6d9-4030-87ad-6662463de4e2",
   "metadata": {},
   "outputs": [
    {
     "data": {
      "text/plain": [
       "'ihwaey'"
      ]
     },
     "execution_count": 49,
     "metadata": {},
     "output_type": "execute_result"
    }
   ],
   "source": [
    "str1[-13:-2:2]"
   ]
  },
  {
   "cell_type": "code",
   "execution_count": 50,
   "id": "dfad97f2-bed7-4d18-a87e-4827c22f850d",
   "metadata": {},
   "outputs": [
    {
     "data": {
      "text/plain": [
       "''"
      ]
     },
     "execution_count": 50,
     "metadata": {},
     "output_type": "execute_result"
    }
   ],
   "source": [
    "str1[-13:-2:-2]"
   ]
  },
  {
   "cell_type": "code",
   "execution_count": 51,
   "id": "7dd934c3-6ea0-41dc-9e28-fbb742fc0c97",
   "metadata": {},
   "outputs": [
    {
     "data": {
      "text/plain": [
       "''"
      ]
     },
     "execution_count": 51,
     "metadata": {},
     "output_type": "execute_result"
    }
   ],
   "source": [
    "str1[-13:2:-2]"
   ]
  },
  {
   "cell_type": "code",
   "execution_count": 52,
   "id": "98522a91-12a9-4e90-a34e-0da97a73fedb",
   "metadata": {},
   "outputs": [
    {
     "data": {
      "text/plain": [
       "''"
      ]
     },
     "execution_count": 52,
     "metadata": {},
     "output_type": "execute_result"
    }
   ],
   "source": [
    "str1[2:-13]"
   ]
  },
  {
   "cell_type": "code",
   "execution_count": 53,
   "id": "30cc7a16-bc41-4a72-80a0-06497b7c5566",
   "metadata": {},
   "outputs": [
    {
     "data": {
      "text/plain": [
       "'i'"
      ]
     },
     "execution_count": 53,
     "metadata": {},
     "output_type": "execute_result"
    }
   ],
   "source": [
    "str1[2:3:1]"
   ]
  },
  {
   "cell_type": "code",
   "execution_count": 56,
   "id": "61d421e1-d46f-4ab9-b8a6-e498851dfe17",
   "metadata": {},
   "outputs": [
    {
     "data": {
      "text/plain": [
       "'hai how are you'"
      ]
     },
     "execution_count": 56,
     "metadata": {},
     "output_type": "execute_result"
    }
   ],
   "source": [
    "str1[:]"
   ]
  },
  {
   "cell_type": "code",
   "execution_count": 57,
   "id": "8a649072-9a7c-487c-aae3-562d759a930a",
   "metadata": {},
   "outputs": [
    {
     "data": {
      "text/plain": [
       "'hai how are you'"
      ]
     },
     "execution_count": 57,
     "metadata": {},
     "output_type": "execute_result"
    }
   ],
   "source": [
    "str1[::]"
   ]
  },
  {
   "cell_type": "code",
   "execution_count": 58,
   "id": "163995d3-6823-4a67-927a-0855913ef053",
   "metadata": {},
   "outputs": [
    {
     "data": {
      "text/plain": [
       "'uoy era woh iah'"
      ]
     },
     "execution_count": 58,
     "metadata": {},
     "output_type": "execute_result"
    }
   ],
   "source": [
    "str1[::-1]"
   ]
  },
  {
   "cell_type": "code",
   "execution_count": 59,
   "id": "c10b8d1e-e7af-4cbf-a64f-7b2a493b62e6",
   "metadata": {},
   "outputs": [
    {
     "data": {
      "text/plain": [
       "'uyeaw'"
      ]
     },
     "execution_count": 59,
     "metadata": {},
     "output_type": "execute_result"
    }
   ],
   "source": [
    "str1[:5:-2]"
   ]
  },
  {
   "cell_type": "code",
   "execution_count": 54,
   "id": "0679bfb3-2dc1-4023-8f5d-b75b0dc4b44e",
   "metadata": {},
   "outputs": [],
   "source": [
    "#======================Part 2======================="
   ]
  },
  {
   "cell_type": "markdown",
   "id": "ad0ebf58-4c51-45e7-aedf-d8f55c91144f",
   "metadata": {},
   "source": [
    "***Methods***\n",
    "- strings list tuple dictionary every data tyep has its own methods\n",
    "- we alredy see that packages has differenct method\n",
    "- for example random package: randint method\n",
    "- math package : sqrt\n",
    "- in the same way strings also we have methods\n",
    "- in order to see the methods for the packages\n",
    "          - we are importing the packages\n",
    "          - wer are appling dir\n",
    "- in the similar way in order to see the mithods of string, we need to apply dir only"
   ]
  },
  {
   "cell_type": "code",
   "execution_count": 64,
   "id": "8a0bd24e-afb7-427a-968f-e8a87b3d5d0e",
   "metadata": {},
   "outputs": [
    {
     "data": {
      "text/plain": [
       "['__add__',\n",
       " '__class__',\n",
       " '__contains__',\n",
       " '__delattr__',\n",
       " '__dir__',\n",
       " '__doc__',\n",
       " '__eq__',\n",
       " '__format__',\n",
       " '__ge__',\n",
       " '__getattribute__',\n",
       " '__getitem__',\n",
       " '__getnewargs__',\n",
       " '__getstate__',\n",
       " '__gt__',\n",
       " '__hash__',\n",
       " '__init__',\n",
       " '__init_subclass__',\n",
       " '__iter__',\n",
       " '__le__',\n",
       " '__len__',\n",
       " '__lt__',\n",
       " '__mod__',\n",
       " '__mul__',\n",
       " '__ne__',\n",
       " '__new__',\n",
       " '__reduce__',\n",
       " '__reduce_ex__',\n",
       " '__repr__',\n",
       " '__rmod__',\n",
       " '__rmul__',\n",
       " '__setattr__',\n",
       " '__sizeof__',\n",
       " '__str__',\n",
       " '__subclasshook__',\n",
       " 'capitalize',\n",
       " 'casefold',\n",
       " 'center',\n",
       " 'count',\n",
       " 'encode',\n",
       " 'endswith',\n",
       " 'expandtabs',\n",
       " 'find',\n",
       " 'format',\n",
       " 'format_map',\n",
       " 'index',\n",
       " 'isalnum',\n",
       " 'isalpha',\n",
       " 'isascii',\n",
       " 'isdecimal',\n",
       " 'isdigit',\n",
       " 'isidentifier',\n",
       " 'islower',\n",
       " 'isnumeric',\n",
       " 'isprintable',\n",
       " 'isspace',\n",
       " 'istitle',\n",
       " 'isupper',\n",
       " 'join',\n",
       " 'ljust',\n",
       " 'lower',\n",
       " 'lstrip',\n",
       " 'maketrans',\n",
       " 'partition',\n",
       " 'removeprefix',\n",
       " 'removesuffix',\n",
       " 'replace',\n",
       " 'rfind',\n",
       " 'rindex',\n",
       " 'rjust',\n",
       " 'rpartition',\n",
       " 'rsplit',\n",
       " 'rstrip',\n",
       " 'split',\n",
       " 'splitlines',\n",
       " 'startswith',\n",
       " 'strip',\n",
       " 'swapcase',\n",
       " 'title',\n",
       " 'translate',\n",
       " 'upper',\n",
       " 'zfill']"
      ]
     },
     "execution_count": 64,
     "metadata": {},
     "output_type": "execute_result"
    }
   ],
   "source": [
    "dir('')\n"
   ]
  },
  {
   "cell_type": "markdown",
   "id": "65d19836-8179-4e9f-8272-74ff237a9e2f",
   "metadata": {},
   "source": [
    "***upper***"
   ]
  },
  {
   "cell_type": "code",
   "execution_count": 1,
   "id": "ac29045b-2c3d-4041-a4e8-c8487a803cb8",
   "metadata": {},
   "outputs": [
    {
     "data": {
      "text/plain": [
       "'HAI HOW ARE YOU'"
      ]
     },
     "execution_count": 1,
     "metadata": {},
     "output_type": "execute_result"
    }
   ],
   "source": [
    "str1='hai how are you'\n",
    "str1.upper()"
   ]
  },
  {
   "cell_type": "code",
   "execution_count": 74,
   "id": "750140e1-b631-4435-845a-1ab2bf2b2aff",
   "metadata": {},
   "outputs": [
    {
     "data": {
      "text/plain": [
       "'HAI HOW ARE YOU'"
      ]
     },
     "execution_count": 74,
     "metadata": {},
     "output_type": "execute_result"
    }
   ],
   "source": [
    "str1.upper()"
   ]
  },
  {
   "cell_type": "code",
   "execution_count": 2,
   "id": "ad8d5e79-eb90-4c63-91af-3d42a662eaff",
   "metadata": {},
   "outputs": [
    {
     "data": {
      "text/plain": [
       "'hai how are you'"
      ]
     },
     "execution_count": 2,
     "metadata": {},
     "output_type": "execute_result"
    }
   ],
   "source": [
    "str1='hai how are you'\n",
    "str1.lower()"
   ]
  },
  {
   "cell_type": "code",
   "execution_count": 3,
   "id": "81d57ec9-fc77-4d71-8cab-f0fa03d7f50c",
   "metadata": {},
   "outputs": [
    {
     "data": {
      "text/plain": [
       "'Hai how are you'"
      ]
     },
     "execution_count": 3,
     "metadata": {},
     "output_type": "execute_result"
    }
   ],
   "source": [
    "str1='hai how are you'\n",
    "str1.capitalize()"
   ]
  },
  {
   "cell_type": "code",
   "execution_count": 77,
   "id": "295d788d-0a1b-4a31-b7f3-9d42f5744081",
   "metadata": {},
   "outputs": [
    {
     "data": {
      "text/plain": [
       "'hai how are you'"
      ]
     },
     "execution_count": 77,
     "metadata": {},
     "output_type": "execute_result"
    }
   ],
   "source": [
    "str1='hai how are you'\n",
    "str1.casefold()"
   ]
  },
  {
   "cell_type": "code",
   "execution_count": 79,
   "id": "0908b2c7-c8c2-4f9c-8d6d-66ef709c4fb6",
   "metadata": {},
   "outputs": [
    {
     "data": {
      "text/plain": [
       "'hai how are you'"
      ]
     },
     "execution_count": 79,
     "metadata": {},
     "output_type": "execute_result"
    }
   ],
   "source": [
    "str1='hai how are you'\n",
    "str1.center(1)"
   ]
  },
  {
   "cell_type": "code",
   "execution_count": 80,
   "id": "e97daa17-6cf0-47cc-ae38-1da7a08fc1e4",
   "metadata": {},
   "outputs": [
    {
     "data": {
      "text/plain": [
       "'Hai How Are You'"
      ]
     },
     "execution_count": 80,
     "metadata": {},
     "output_type": "execute_result"
    }
   ],
   "source": [
    "str1='hai how are you'\n",
    "str1.title()"
   ]
  },
  {
   "cell_type": "code",
   "execution_count": null,
   "id": "b22e9e30-0769-4aba-ac4b-1a5919fab1b9",
   "metadata": {},
   "outputs": [],
   "source": [
    "# str1='hai how are you'\n",
    "# output= 'Hai How Are You'\n",
    "# without using any method\n",
    "# one more level : iterate each letter apply capitalize\n",
    "# sctatch: ord"
   ]
  },
  {
   "cell_type": "markdown",
   "id": "3d774791-e4cc-468c-b38f-0b737750f458",
   "metadata": {},
   "source": [
    "- center has two arguments\n",
    "    - width\n",
    "    - fill char\n",
    "\n",
    "- original string already : 15 letters\n",
    "- we want to create a new string with 20 letters\n",
    "- remaining 5 letters by default empty\n",
    "- we can fill with charecters also\n"
   ]
  },
  {
   "cell_type": "code",
   "execution_count": 81,
   "id": "247a19dc-3074-405c-8284-3160dc0c68c2",
   "metadata": {},
   "outputs": [
    {
     "data": {
      "text/plain": [
       "',,,,,hai how are you,,,,,,'"
      ]
     },
     "execution_count": 81,
     "metadata": {},
     "output_type": "execute_result"
    }
   ],
   "source": [
    "str1.center(26,\",\")"
   ]
  },
  {
   "cell_type": "code",
   "execution_count": 99,
   "id": "c49ebff1-448d-44d6-affd-f5c587e7b45c",
   "metadata": {},
   "outputs": [
    {
     "data": {
      "text/plain": [
       "72"
      ]
     },
     "execution_count": 99,
     "metadata": {},
     "output_type": "execute_result"
    }
   ],
   "source": [
    "str='hai how are you'\n"
   ]
  },
  {
   "cell_type": "code",
   "execution_count": 102,
   "id": "5cc52cf3-114d-4bf3-a3b7-38823fc1b160",
   "metadata": {},
   "outputs": [
    {
     "name": "stdout",
     "output_type": "stream",
     "text": [
      "1 \u00012 \u00023 \u00034 \u00045 \u00056 \u00067 \u000789 \t10 \n",
      "14 \u000e15 \u000f16 \u001017 \u001118 \u001219 \u001320 \u001421 \u001522 \u001623 \u001724 \u001825 \u001926 \u001a27 \u001b28 \u001c",
      "29 \u001d",
      "30 \u001e",
      "31 \u001f32  33 !34 \"35 #36 $37 %38 &39 '40 (41 )42 *43 +44 ,45 -46 .47 /48 049 150 251 352 453 554 655 756 857 958 :59 ;60 <61 =62 >63 ?64 @65 A66 B67 C68 D69 E70 F71 G72 H73 I74 J75 K76 L77 M78 N79 O80 P81 Q82 R83 S84 T85 U86 V87 W88 X89 Y90 Z91 [92 \\93 ]94 ^95 _96 `97 a98 b99 c100 d101 e102 f103 g104 h105 i106 j107 k108 l109 m110 n111 o112 p113 q114 r115 s116 t117 u118 v119 w120 x121 y122 z123 {124 |125 }126 ~127 128 129 130 131 132 133 ",
      "134 135 136 137 138 139 140 141 142 143 144 145 146 147 148 149 "
     ]
    }
   ],
   "source": [
    "for i in range (1,150):\n",
    "    print(i,chr(i),end='')"
   ]
  },
  {
   "cell_type": "code",
   "execution_count": 109,
   "id": "60499991-8a3b-4b6f-82d9-b8f95479d85e",
   "metadata": {},
   "outputs": [
    {
     "data": {
      "text/plain": [
       "('H', 'a')"
      ]
     },
     "execution_count": 109,
     "metadata": {},
     "output_type": "execute_result"
    }
   ],
   "source": [
    "chr(72),chr(97)"
   ]
  },
  {
   "cell_type": "code",
   "execution_count": 113,
   "id": "f8ccafd7-617b-478b-9075-88b811996e40",
   "metadata": {},
   "outputs": [
    {
     "name": "stdout",
     "output_type": "stream",
     "text": [
      "h 104a 97i 105  32h 104o 111w 119  32a 97r 114e 101  32y 121o 111u 117"
     ]
    }
   ],
   "source": [
    "for i in str:\n",
    "    print(i,ord(i),end='')"
   ]
  },
  {
   "cell_type": "code",
   "execution_count": 114,
   "id": "be7761b6-11c6-4d31-9bd8-b9a3ce33ca98",
   "metadata": {},
   "outputs": [
    {
     "name": "stdin",
     "output_type": "stream",
     "text": [
      " hai how are you\n"
     ]
    },
    {
     "name": "stdout",
     "output_type": "stream",
     "text": [
      "Hai How Are You\n"
     ]
    }
   ],
   "source": [
    "str=input()\n",
    "s=''\n",
    "for i in range (len(str)):\n",
    "    if i==0 and ord(str[i])<=122 and ord(str[i])>97:\n",
    "        s=s+chr(ord(str[i])-32)\n",
    "    elif str[i-1]==' ':\n",
    "        s=s+chr(ord(str[i])-32)\n",
    "    else:\n",
    "        s=s+str[i]\n",
    "print(s)"
   ]
  },
  {
   "cell_type": "markdown",
   "id": "930baa10-20fd-4248-bcc5-cfa7e84e679c",
   "metadata": {},
   "source": [
    "**count**"
   ]
  },
  {
   "cell_type": "code",
   "execution_count": 115,
   "id": "b3d76d76-c2c6-4bf1-a055-daa5c29f2a89",
   "metadata": {},
   "outputs": [],
   "source": [
    "str='hai how are you'\n",
    "# hwo many 'a's are there\n",
    "count=0\n",
    "for i in str:\n",
    "    if i =='a':\n",
    "        count=count+1\n",
    "count=0"
   ]
  },
  {
   "cell_type": "code",
   "execution_count": 117,
   "id": "97b4dcf1-a4ec-4319-a041-be3a5c2b64bb",
   "metadata": {},
   "outputs": [
    {
     "data": {
      "text/plain": [
       "2"
      ]
     },
     "execution_count": 117,
     "metadata": {},
     "output_type": "execute_result"
    }
   ],
   "source": [
    "str.count('a')"
   ]
  },
  {
   "cell_type": "code",
   "execution_count": 119,
   "id": "19266d5f-6357-46f6-8cbc-bfde12e7364e",
   "metadata": {},
   "outputs": [
    {
     "data": {
      "text/plain": [
       "1"
      ]
     },
     "execution_count": 119,
     "metadata": {},
     "output_type": "execute_result"
    }
   ],
   "source": [
    "str.count('ha')"
   ]
  },
  {
   "cell_type": "code",
   "execution_count": 120,
   "id": "10ca2a4e-5674-4763-89b2-5b2795c23f77",
   "metadata": {},
   "outputs": [
    {
     "data": {
      "text/plain": [
       "3"
      ]
     },
     "execution_count": 120,
     "metadata": {},
     "output_type": "execute_result"
    }
   ],
   "source": [
    "str='hai hai hai hai'\n",
    "str.count('a',5)\n",
    "# 0   1   2   3  4  5  6  7  8   9    10\n",
    "# h   a   i     h   a  i     h   a   i"
   ]
  },
  {
   "cell_type": "code",
   "execution_count": null,
   "id": "c197a92b-ce16-419e-bbc0-4beb93b874b9",
   "metadata": {},
   "outputs": [],
   "source": [
    "- we want number of 'a' from a specific index"
   ]
  },
  {
   "cell_type": "code",
   "execution_count": 121,
   "id": "026f02b6-57e5-4cca-9e78-6808e8846497",
   "metadata": {},
   "outputs": [
    {
     "data": {
      "text/plain": [
       "1"
      ]
     },
     "execution_count": 121,
     "metadata": {},
     "output_type": "execute_result"
    }
   ],
   "source": [
    "str.count('a',4,8)"
   ]
  },
  {
   "cell_type": "code",
   "execution_count": 122,
   "id": "3c909bf7-66d6-4e6b-9741-78954a299d44",
   "metadata": {},
   "outputs": [
    {
     "data": {
      "text/plain": [
       "3"
      ]
     },
     "execution_count": 122,
     "metadata": {},
     "output_type": "execute_result"
    }
   ],
   "source": [
    "str.count('a',-10)"
   ]
  },
  {
   "cell_type": "code",
   "execution_count": 123,
   "id": "fe729d3f-bc90-4813-96ad-f38790cf54fe",
   "metadata": {},
   "outputs": [
    {
     "data": {
      "text/plain": [
       "1"
      ]
     },
     "execution_count": 123,
     "metadata": {},
     "output_type": "execute_result"
    }
   ],
   "source": [
    "str.count('a',-10,6)"
   ]
  },
  {
   "cell_type": "code",
   "execution_count": 124,
   "id": "2fa38a8d-5b94-4597-ac08-3b672cecca97",
   "metadata": {},
   "outputs": [
    {
     "data": {
      "text/plain": [
       "1"
      ]
     },
     "execution_count": 124,
     "metadata": {},
     "output_type": "execute_result"
    }
   ],
   "source": [
    "str.count('a',-10,-6)"
   ]
  },
  {
   "cell_type": "code",
   "execution_count": 125,
   "id": "3c0a5919-0b97-4bdb-80cb-c5c917b9f71f",
   "metadata": {},
   "outputs": [
    {
     "data": {
      "text/plain": [
       "4"
      ]
     },
     "execution_count": 125,
     "metadata": {},
     "output_type": "execute_result"
    }
   ],
   "source": [
    "str.count('hai')"
   ]
  },
  {
   "cell_type": "code",
   "execution_count": 126,
   "id": "beb26c93-c4af-4229-bb3c-4baa043b0c62",
   "metadata": {},
   "outputs": [
    {
     "data": {
      "text/plain": [
       "3"
      ]
     },
     "execution_count": 126,
     "metadata": {},
     "output_type": "execute_result"
    }
   ],
   "source": [
    "str='ola ola ola'\n",
    "str.count('ola')"
   ]
  },
  {
   "cell_type": "markdown",
   "id": "d52b1657-3ffb-4592-a9d0-272f2511d75b",
   "metadata": {},
   "source": [
    "***Window Method**"
   ]
  },
  {
   "cell_type": "code",
   "execution_count": 129,
   "id": "406cee4c-7716-4a3e-95e1-826e811fb2e9",
   "metadata": {},
   "outputs": [
    {
     "data": {
      "text/plain": [
       "3"
      ]
     },
     "execution_count": 129,
     "metadata": {},
     "output_type": "execute_result"
    }
   ],
   "source": [
    "count=0\n",
    "for i in range(len(str)):\n",
    "    if str[i:i+3]=='ola':\n",
    "        count=count+1\n",
    "count\n",
    "# step-1 = count=0   i=0 str1[0:3]== 'ola'   true  count=1\n",
    "# step-2             i=1 str[1:4]=='ola'      false"
   ]
  },
  {
   "cell_type": "code",
   "execution_count": 130,
   "id": "39dee6f3-b464-40a1-b1d0-7f607126aadb",
   "metadata": {},
   "outputs": [
    {
     "data": {
      "text/plain": [
       "1"
      ]
     },
     "execution_count": 130,
     "metadata": {},
     "output_type": "execute_result"
    }
   ],
   "source": [
    "str.count('ola ola ola')"
   ]
  },
  {
   "cell_type": "code",
   "execution_count": 131,
   "id": "1145cd29-ce6e-418f-bff3-08bd5a984e17",
   "metadata": {},
   "outputs": [
    {
     "data": {
      "text/plain": [
       "1"
      ]
     },
     "execution_count": 131,
     "metadata": {},
     "output_type": "execute_result"
    }
   ],
   "source": [
    "str.count(str)"
   ]
  },
  {
   "cell_type": "code",
   "execution_count": 132,
   "id": "708afecc-b808-4dec-b352-3fdf435fc5e7",
   "metadata": {},
   "outputs": [
    {
     "data": {
      "text/plain": [
       "0"
      ]
     },
     "execution_count": 132,
     "metadata": {},
     "output_type": "execute_result"
    }
   ],
   "source": [
    "str.count('z')"
   ]
  },
  {
   "cell_type": "markdown",
   "id": "403345ba-2e46-42ad-8120-12970971da3b",
   "metadata": {},
   "source": [
    "**Replace**"
   ]
  },
  {
   "cell_type": "code",
   "execution_count": 142,
   "id": "b136322e-f825-436c-b225-939c5159bf7d",
   "metadata": {},
   "outputs": [
    {
     "data": {
      "text/plain": [
       "'weLcome'"
      ]
     },
     "execution_count": 142,
     "metadata": {},
     "output_type": "execute_result"
    }
   ],
   "source": [
    "str='welcome'\n",
    "# i want to replace 'l' with 'L'\n",
    "# we know that stirngs are immutable\n",
    "# we can not use index operation also\n",
    "# slice and concatenation\n",
    "# devide welcome : we  come\n",
    "s=str[0:2]\n",
    "s\n",
    "s1=str[3:]\n",
    "s1\n",
    "output=s+'L'+s1\n",
    "output"
   ]
  },
  {
   "cell_type": "code",
   "execution_count": 143,
   "id": "95098e5b-3bd3-458e-bc86-5c3985a97c08",
   "metadata": {},
   "outputs": [
    {
     "data": {
      "text/plain": [
       "'L'"
      ]
     },
     "execution_count": 143,
     "metadata": {},
     "output_type": "execute_result"
    }
   ],
   "source": [
    "chr(ord('l')-32)"
   ]
  },
  {
   "cell_type": "code",
   "execution_count": 14,
   "id": "72e79bf9-3a74-4c5a-a805-fc0c32c23f0f",
   "metadata": {},
   "outputs": [
    {
     "data": {
      "text/plain": [
       "'hai i am veLijaL BaLaswamy'"
      ]
     },
     "execution_count": 14,
     "metadata": {},
     "output_type": "execute_result"
    }
   ],
   "source": [
    "str.replace('l','L')"
   ]
  },
  {
   "cell_type": "code",
   "execution_count": 13,
   "id": "eb960a42-2228-421b-9a05-3ccba0f116c3",
   "metadata": {},
   "outputs": [
    {
     "data": {
      "text/plain": [
       "'hai i am vebalaswamyijabalaswamy Babalaswamyaswamy'"
      ]
     },
     "execution_count": 13,
     "metadata": {},
     "output_type": "execute_result"
    }
   ],
   "source": [
    "str.replace('l','balaswamy')"
   ]
  },
  {
   "cell_type": "code",
   "execution_count": 150,
   "id": "39a58194-800d-4f04-941a-c8e6eea00299",
   "metadata": {},
   "outputs": [
    {
     "data": {
      "text/plain": [
       "'weLLcome'"
      ]
     },
     "execution_count": 150,
     "metadata": {},
     "output_type": "execute_result"
    }
   ],
   "source": [
    "str='wellcome'\n",
    "str.replace('l','L',2)"
   ]
  },
  {
   "cell_type": "markdown",
   "id": "d86f0bf2-cb6c-4626-901c-6902b113fb78",
   "metadata": {},
   "source": [
    "- by default replace will change all the occurences\n",
    "- count=-1 is responsble for that\n",
    "- which menas we can provide some count also  which how many i want to change\n",
    "- give welllcome and cange count=1 and count=2 explore\n"
   ]
  },
  {
   "cell_type": "code",
   "execution_count": 151,
   "id": "bd724197-df0b-4e6b-a67d-a2b2b27204ff",
   "metadata": {},
   "outputs": [
    {
     "data": {
      "text/plain": [
       "'weLlllllcome'"
      ]
     },
     "execution_count": 151,
     "metadata": {},
     "output_type": "execute_result"
    }
   ],
   "source": [
    "str='wellllllcome'\n",
    "str.replace('l','L',1)\n",
    "# when we write count=1\n",
    "# it will change only one letter\n",
    "# that to first occurence only\n"
   ]
  },
  {
   "cell_type": "code",
   "execution_count": 152,
   "id": "407291ab-c57a-41ba-ae70-1b0cc5dedf5d",
   "metadata": {},
   "outputs": [
    {
     "data": {
      "text/plain": [
       "'weLLllllcome'"
      ]
     },
     "execution_count": 152,
     "metadata": {},
     "output_type": "execute_result"
    }
   ],
   "source": [
    "str.replace('l','L',2)"
   ]
  },
  {
   "cell_type": "code",
   "execution_count": 153,
   "id": "bc447c28-42a8-49b0-9b29-500f81d67eff",
   "metadata": {},
   "outputs": [
    {
     "data": {
      "text/plain": [
       "'weLLLLLLcome'"
      ]
     },
     "execution_count": 153,
     "metadata": {},
     "output_type": "execute_result"
    }
   ],
   "source": [
    "str.replace('l','L',-2)"
   ]
  },
  {
   "cell_type": "code",
   "execution_count": 174,
   "id": "df218b05-0fb7-4532-aaed-1fec51aa5092",
   "metadata": {},
   "outputs": [
    {
     "data": {
      "text/plain": [
       "'$restart'"
      ]
     },
     "execution_count": 174,
     "metadata": {},
     "output_type": "execute_result"
    }
   ],
   "source": [
    "str='restart'\n",
    "str.replace(str[8:],'$',1)"
   ]
  },
  {
   "cell_type": "code",
   "execution_count": 171,
   "id": "23116de7-458a-4e7a-a0e5-0bf780488112",
   "metadata": {},
   "outputs": [
    {
     "data": {
      "text/plain": [
       "'resta$t'"
      ]
     },
     "execution_count": 171,
     "metadata": {},
     "output_type": "execute_result"
    }
   ],
   "source": [
    "str='restart'\n",
    "str[::-1].replace('r','$',1)[::-1]"
   ]
  },
  {
   "cell_type": "markdown",
   "id": "166e6524-2f74-403f-bf16-8e62308dac63",
   "metadata": {},
   "source": [
    "**Index - find**"
   ]
  },
  {
   "cell_type": "code",
   "execution_count": null,
   "id": "69aa887b-3bcb-4959-9ed1-0560703d81e8",
   "metadata": {},
   "outputs": [],
   "source": [
    "- Upper\n",
    "- lower\n",
    "- casefold\n",
    "- title\n",
    "- capitalize\n",
    "- count\n",
    "- replace\n",
    "- index-find\n",
    "- split\n",
    "- strip\n",
    "- startswitch\n"
   ]
  },
  {
   "cell_type": "code",
   "execution_count": 175,
   "id": "ab7f3e45-b58e-495a-a082-15d59c3c6854",
   "metadata": {},
   "outputs": [
    {
     "data": {
      "text/plain": [
       "['__add__',\n",
       " '__class__',\n",
       " '__contains__',\n",
       " '__delattr__',\n",
       " '__dir__',\n",
       " '__doc__',\n",
       " '__eq__',\n",
       " '__format__',\n",
       " '__ge__',\n",
       " '__getattribute__',\n",
       " '__getitem__',\n",
       " '__getnewargs__',\n",
       " '__getstate__',\n",
       " '__gt__',\n",
       " '__hash__',\n",
       " '__init__',\n",
       " '__init_subclass__',\n",
       " '__iter__',\n",
       " '__le__',\n",
       " '__len__',\n",
       " '__lt__',\n",
       " '__mod__',\n",
       " '__mul__',\n",
       " '__ne__',\n",
       " '__new__',\n",
       " '__reduce__',\n",
       " '__reduce_ex__',\n",
       " '__repr__',\n",
       " '__rmod__',\n",
       " '__rmul__',\n",
       " '__setattr__',\n",
       " '__sizeof__',\n",
       " '__str__',\n",
       " '__subclasshook__',\n",
       " 'capitalize',\n",
       " 'casefold',\n",
       " 'center',\n",
       " 'count',\n",
       " 'encode',\n",
       " 'endswith',\n",
       " 'expandtabs',\n",
       " 'find',\n",
       " 'format',\n",
       " 'format_map',\n",
       " 'index',\n",
       " 'isalnum',\n",
       " 'isalpha',\n",
       " 'isascii',\n",
       " 'isdecimal',\n",
       " 'isdigit',\n",
       " 'isidentifier',\n",
       " 'islower',\n",
       " 'isnumeric',\n",
       " 'isprintable',\n",
       " 'isspace',\n",
       " 'istitle',\n",
       " 'isupper',\n",
       " 'join',\n",
       " 'ljust',\n",
       " 'lower',\n",
       " 'lstrip',\n",
       " 'maketrans',\n",
       " 'partition',\n",
       " 'removeprefix',\n",
       " 'removesuffix',\n",
       " 'replace',\n",
       " 'rfind',\n",
       " 'rindex',\n",
       " 'rjust',\n",
       " 'rpartition',\n",
       " 'rsplit',\n",
       " 'rstrip',\n",
       " 'split',\n",
       " 'splitlines',\n",
       " 'startswith',\n",
       " 'strip',\n",
       " 'swapcase',\n",
       " 'title',\n",
       " 'translate',\n",
       " 'upper',\n",
       " 'zfill']"
      ]
     },
     "execution_count": 175,
     "metadata": {},
     "output_type": "execute_result"
    }
   ],
   "source": [
    "dir('')"
   ]
  },
  {
   "cell_type": "code",
   "execution_count": null,
   "id": "e6e03e9b-0d9a-4d6e-9242-bf5daa74b4f3",
   "metadata": {},
   "outputs": [],
   "source": [
    "'isalnum',\n",
    " 'isalpha',\n",
    " 'isascii',\n",
    " 'isdecimal',\n",
    " 'isdigit',\n",
    " 'isidentifier',\n",
    " 'islower',\n",
    " 'isnumeric',\n",
    " 'isprintable',\n",
    " 'isspace',\n",
    " 'istitle',\n",
    " 'isupper',"
   ]
  },
  {
   "cell_type": "code",
   "execution_count": 5,
   "id": "2d7e8da6-2759-4f3e-9a13-3b0d4b5477a6",
   "metadata": {},
   "outputs": [
    {
     "data": {
      "text/plain": [
       "True"
      ]
     },
     "execution_count": 5,
     "metadata": {},
     "output_type": "execute_result"
    }
   ],
   "source": [
    "str='12345'\n",
    "str.isalnum()"
   ]
  },
  {
   "cell_type": "markdown",
   "id": "da609987-97ae-4061-837b-a0d8d51e1f44",
   "metadata": {},
   "source": [
    "**Index**"
   ]
  },
  {
   "cell_type": "markdown",
   "id": "68bd2f41-8b4e-430f-b6dd-c08c9ee36d28",
   "metadata": {},
   "source": [
    "- index says that it will give the index of any letter in a given string.\n",
    "- we already see about count. count will give how mnay letters are there.\n",
    "    - at what index you want to count\n",
    "    - between indexes also we can count the letters\n",
    "- index meaning it will provide the index\n",
    "- imagin that there sam etters repeated\n",
    "- how can we find the next index"
   ]
  },
  {
   "cell_type": "code",
   "execution_count": 1,
   "id": "9124b02c-98c6-4cd9-9a29-30ae2c8d5a51",
   "metadata": {},
   "outputs": [
    {
     "data": {
      "text/plain": [
       "1"
      ]
     },
     "execution_count": 1,
     "metadata": {},
     "output_type": "execute_result"
    }
   ],
   "source": [
    "str='hai hai hai'\n",
    "str.index('a')"
   ]
  },
  {
   "cell_type": "code",
   "execution_count": 2,
   "id": "ff110db9-6e36-4031-8fb4-b013957dcc44",
   "metadata": {},
   "outputs": [
    {
     "data": {
      "text/plain": [
       "5"
      ]
     },
     "execution_count": 2,
     "metadata": {},
     "output_type": "execute_result"
    }
   ],
   "source": [
    "# i want to know 'a' index oater 3rd index\n",
    "str='hai hai hai'\n",
    "str.index('a',3)"
   ]
  },
  {
   "cell_type": "code",
   "execution_count": 3,
   "id": "bf52d24a-8402-40ee-84a7-98b3ac026ca7",
   "metadata": {},
   "outputs": [
    {
     "data": {
      "text/plain": [
       "5"
      ]
     },
     "execution_count": 3,
     "metadata": {},
     "output_type": "execute_result"
    }
   ],
   "source": [
    "# i want to know 3rd  and 7th index\n",
    "str='hai hai hai'\n",
    "str.index('a',3,7)"
   ]
  },
  {
   "cell_type": "code",
   "execution_count": 12,
   "id": "d5bb2ef3-97c1-4c13-950d-bfb5cca62916",
   "metadata": {},
   "outputs": [
    {
     "data": {
      "text/plain": [
       "8"
      ]
     },
     "execution_count": 12,
     "metadata": {},
     "output_type": "execute_result"
    }
   ],
   "source": [
    "str='hai hai hai'\n",
    "str.index('hai',5)"
   ]
  },
  {
   "cell_type": "code",
   "execution_count": 5,
   "id": "0aca19ff-c46a-4022-9b5b-8f11d02c04cd",
   "metadata": {},
   "outputs": [
    {
     "data": {
      "text/plain": [
       "0"
      ]
     },
     "execution_count": 5,
     "metadata": {},
     "output_type": "execute_result"
    }
   ],
   "source": [
    "str='hai hai hai'\n",
    "str.index('h')"
   ]
  },
  {
   "cell_type": "code",
   "execution_count": null,
   "id": "be8507be-f1ca-4ee6-a8b6-ccf0846879c2",
   "metadata": {},
   "outputs": [],
   "source": [
    "# i alway retun a lowest index only"
   ]
  },
  {
   "cell_type": "code",
   "execution_count": 16,
   "id": "9da5f441-f0be-4e1a-9f86-6610147af024",
   "metadata": {},
   "outputs": [
    {
     "data": {
      "text/plain": [
       "9"
      ]
     },
     "execution_count": 16,
     "metadata": {},
     "output_type": "execute_result"
    }
   ],
   "source": [
    "str='hai hai hai'\n",
    "str.index('a',-3,-1)"
   ]
  },
  {
   "cell_type": "code",
   "execution_count": 19,
   "id": "7b28e6b9-fba1-4de1-a72c-8af64f56ad3e",
   "metadata": {},
   "outputs": [
    {
     "data": {
      "text/plain": [
       "5"
      ]
     },
     "execution_count": 19,
     "metadata": {},
     "output_type": "execute_result"
    }
   ],
   "source": [
    "str='hai hai hai'\n",
    "str.index('a',-9,-4)"
   ]
  },
  {
   "cell_type": "code",
   "execution_count": 20,
   "id": "9a776b89-cb47-4ec7-b79c-7b4734d38830",
   "metadata": {},
   "outputs": [
    {
     "name": "stdout",
     "output_type": "stream",
     "text": [
      "1\n",
      "5\n",
      "5\n"
     ]
    }
   ],
   "source": [
    "str='hai hai hai'\n",
    "print(str.index('a'))\n",
    "print(str.index('a',3))\n",
    "print(str.index('a',3,7))\n"
   ]
  },
  {
   "cell_type": "code",
   "execution_count": 21,
   "id": "162ad155-1a33-48d4-b5f8-8a13b4c30499",
   "metadata": {},
   "outputs": [
    {
     "name": "stdout",
     "output_type": "stream",
     "text": [
      "3\n",
      "2\n",
      "1\n"
     ]
    }
   ],
   "source": [
    "str='hai hai hai'\n",
    "print(str.count('a'))\n",
    "print(str.count('a',3))\n",
    "print(str.count('a',3,7))"
   ]
  },
  {
   "cell_type": "code",
   "execution_count": 22,
   "id": "9c1d9435-b9ef-4970-91d2-08a20c20b1d3",
   "metadata": {},
   "outputs": [
    {
     "name": "stdout",
     "output_type": "stream",
     "text": [
      "1\n",
      "5\n",
      "9\n"
     ]
    }
   ],
   "source": [
    "srt='hai hai hai'\n",
    "# i want to know all the indexes of 'a'\n",
    "for i in range(len(str)):\n",
    "    if str[i]=='a':\n",
    "        print(i)"
   ]
  },
  {
   "cell_type": "code",
   "execution_count": 15,
   "id": "0e28c427-0230-47be-9fdb-cc77c6da2db1",
   "metadata": {},
   "outputs": [
    {
     "name": "stdout",
     "output_type": "stream",
     "text": [
      "1\n",
      "5\n",
      "9\n"
     ]
    }
   ],
   "source": [
    "str1='hai hai hai'\n",
    "for i in range (len(str1)):\n",
    "    if str1[i] in 'a':\n",
    "        print(i)"
   ]
  },
  {
   "cell_type": "code",
   "execution_count": null,
   "id": "7629af9e-0202-4d11-a1b8-ff69e4dd0854",
   "metadata": {},
   "outputs": [],
   "source": []
  },
  {
   "cell_type": "code",
   "execution_count": 32,
   "id": "4bd26ab5-116a-43c3-9bdf-e3fac8ecf157",
   "metadata": {},
   "outputs": [
    {
     "data": {
      "text/plain": [
       "9"
      ]
     },
     "execution_count": 32,
     "metadata": {},
     "output_type": "execute_result"
    }
   ],
   "source": [
    "str='hai hai hai hai'\n",
    "i1=str.index('a')\n",
    "i1\n",
    "i2=str.index('a',2)\n",
    "i2\n",
    "i3=str.index('a',6)\n",
    "i3"
   ]
  },
  {
   "cell_type": "code",
   "execution_count": 43,
   "id": "7d970ce0-946f-49a8-88ed-d6371b8f7eee",
   "metadata": {},
   "outputs": [
    {
     "name": "stdout",
     "output_type": "stream",
     "text": [
      "1\n",
      "4\n",
      "5\n",
      "9\n"
     ]
    }
   ],
   "source": [
    "str='hai hai hai hai'\n",
    "i1=str.index('a')\n",
    "print(i1)\n",
    "i2=str.index('hai',i1+1)\n",
    "print(i2)\n",
    "i3=str.index('a',i2+1)\n",
    "print(i3)\n",
    "i4=str.index('a',i3+1)\n",
    "print(i4)"
   ]
  },
  {
   "cell_type": "code",
   "execution_count": 16,
   "id": "b5ed8ac0-56e8-479d-a72e-27f50ab9ea6d",
   "metadata": {},
   "outputs": [],
   "source": [
    "# home work implement above logic to get all the indexes\n",
    "str='hai hai hai hai'\n",
    "for i in range(len(str)):\n",
    "    if str[i] =='hai':\n",
    "        print(str[i],i)"
   ]
  },
  {
   "cell_type": "code",
   "execution_count": 41,
   "id": "542ceaf9-12fe-42c3-a69e-f044f63252e4",
   "metadata": {},
   "outputs": [
    {
     "name": "stdout",
     "output_type": "stream",
     "text": [
      "h 0\n",
      "a 1\n",
      "i 2\n",
      "h 4\n",
      "a 5\n",
      "i 6\n",
      "h 8\n",
      "a 9\n",
      "i 10\n",
      "h 12\n",
      "a 13\n",
      "i 14\n"
     ]
    }
   ],
   "source": [
    "# home work implement above logic to get all the indexes\n",
    "str='hai hai hai hai'\n",
    "for i in range(len(str)):\n",
    "    if str[i] in 'hai':\n",
    "        print(str[i],i)"
   ]
  },
  {
   "cell_type": "markdown",
   "id": "476ea741-c5d3-4c5d-bd84-48f2b13d1c2e",
   "metadata": {},
   "source": [
    "**Find**"
   ]
  },
  {
   "cell_type": "code",
   "execution_count": 53,
   "id": "fce114da-e1e7-4a6b-b7e3-87538def8513",
   "metadata": {},
   "outputs": [
    {
     "name": "stdout",
     "output_type": "stream",
     "text": [
      "1\n",
      "5\n",
      "9\n",
      "-1\n"
     ]
    }
   ],
   "source": [
    "str='hai hai hai'\n",
    "i=str.find('a')\n",
    "print(i)\n",
    "i1=str.find('a',i+1)\n",
    "print(i1)\n",
    "i2=str.find('a',i1+1)\n",
    "print(i2)\n",
    "i3=str.find('a',i2+1)\n",
    "print(i3)"
   ]
  },
  {
   "cell_type": "code",
   "execution_count": 19,
   "id": "ac7d7155-62d2-4aaa-a959-9627d57aca7a",
   "metadata": {},
   "outputs": [
    {
     "name": "stdout",
     "output_type": "stream",
     "text": [
      "1\n",
      "5\n",
      "9\n"
     ]
    }
   ],
   "source": [
    "str2='hai hai hai'\n",
    "i=str2.find('a')\n",
    "print(i)\n",
    "i1=str2.find('a',i+1)\n",
    "print(i1)\n",
    "i2=str2.find('a',i1+1)\n",
    "print(i2)"
   ]
  },
  {
   "cell_type": "code",
   "execution_count": null,
   "id": "c8278040-2b49-4126-863d-0ac792293fe0",
   "metadata": {},
   "outputs": [],
   "source": [
    "str.index # Raises ValueError when the substring is not found.\n"
   ]
  },
  {
   "cell_type": "code",
   "execution_count": 54,
   "id": "cad6b9ea-fed2-42e5-9489-fe70e5a2c11a",
   "metadata": {},
   "outputs": [
    {
     "data": {
      "text/plain": [
       "0"
      ]
     },
     "execution_count": 54,
     "metadata": {},
     "output_type": "execute_result"
    }
   ],
   "source": [
    "str='hai hai hai'\n",
    "str.count('z')"
   ]
  },
  {
   "cell_type": "code",
   "execution_count": 55,
   "id": "9a1a0d33-315b-49f0-a8fd-3f2a89154f0b",
   "metadata": {},
   "outputs": [
    {
     "data": {
      "text/plain": [
       "'hai hai hai'"
      ]
     },
     "execution_count": 55,
     "metadata": {},
     "output_type": "execute_result"
    }
   ],
   "source": [
    "str='hai hai hai'\n",
    "str.replace('z','Z')"
   ]
  },
  {
   "cell_type": "code",
   "execution_count": null,
   "id": "23685273-6a0d-466c-9948-17999503541f",
   "metadata": {},
   "outputs": [],
   "source": []
  },
  {
   "cell_type": "markdown",
   "id": "8e794afc-1792-4c95-b506-fd5f92418888",
   "metadata": {},
   "source": [
    "- if substring not found \n",
    "- count method will give 0 \n",
    "- replace method will give original string\n",
    "- index will give *substing not found error*\n",
    "- find will give -1\n",
    "    "
   ]
  },
  {
   "cell_type": "code",
   "execution_count": null,
   "id": "0592c249-93a6-47d4-bef6-ded6ee0fc545",
   "metadata": {},
   "outputs": [],
   "source": [
    "str='omkar.nallgoni@gmail.com'\n",
    "# first name=omkar\n",
    "# second name= nallagoni\n",
    "# company= gmail\n",
    "str1='virat.kohli@rcb.com'\n",
    "str2='rohit.sharma@mi.com'\n",
    "# idea= find the trggers\n",
    "# for first name.\n",
    "# second name . and @\n",
    "# company name  @ and second.\n"
   ]
  },
  {
   "cell_type": "code",
   "execution_count": 83,
   "id": "3f8120ca-9610-4582-949f-79d829b7d751",
   "metadata": {},
   "outputs": [
    {
     "name": "stdout",
     "output_type": "stream",
     "text": [
      "5\n",
      "14\n",
      "20\n",
      "omkar\n",
      "nallgoni\n",
      "gmail\n"
     ]
    }
   ],
   "source": [
    "str='omkar.nallgoni@gmail.com'\n",
    "first=str.find('.')\n",
    "print(first)\n",
    "second=str.find('@')\n",
    "print(second)\n",
    "company=str.find('.',first+1)\n",
    "print(company)\n",
    "first_name=str[:first]\n",
    "print(first_name)\n",
    "second_name=str[first+1:second]\n",
    "print(second_name)\n",
    "comp=str[second+1:company]\n",
    "print(comp)"
   ]
  },
  {
   "cell_type": "code",
   "execution_count": 27,
   "id": "24aa332f-930f-4b04-943e-c128ecf10023",
   "metadata": {},
   "outputs": [
    {
     "name": "stdout",
     "output_type": "stream",
     "text": [
      "9\n",
      "balaswamy\n",
      "veliajala\n",
      "bnymellon\n"
     ]
    }
   ],
   "source": [
    "str='balaswamy.veliajala@bnymellon.com'\n",
    "first=str.find('.')\n",
    "print(first)\n",
    "fn=str[:first]\n",
    "print(fn)\n",
    "second=str.find('@')\n",
    "sn=str[first+1:second]\n",
    "print(sn)\n",
    "com=str.find('.',first+1)\n",
    "comp=str[second+1:com]\n",
    "print(comp)"
   ]
  },
  {
   "cell_type": "code",
   "execution_count": 86,
   "id": "39728e8c-b60e-4942-b289-8fdf42a49c2b",
   "metadata": {},
   "outputs": [
    {
     "name": "stdout",
     "output_type": "stream",
     "text": [
      "virat kohli rcb\n"
     ]
    }
   ],
   "source": [
    "str='virat.kohli@rcb.com'\n",
    "i1=str.find('.')\n",
    "i2=str.find('@')\n",
    "i3=str.find('.',i1+1)\n",
    "first=str[:i1]\n",
    "secon=str[i1+1:i2]\n",
    "company=str[i2+1:i3]\n",
    "print(first,secon,company)"
   ]
  },
  {
   "cell_type": "code",
   "execution_count": null,
   "id": "599dd38d-5f4d-49c9-89e7-c808ec0eacca",
   "metadata": {},
   "outputs": [],
   "source": [
    "- split\n",
    "- strip/lstip/rstrip\n",
    "- startswith/endswith\n"
   ]
  },
  {
   "cell_type": "code",
   "execution_count": 87,
   "id": "b3495d7f-effb-464f-8134-27aa404da87f",
   "metadata": {},
   "outputs": [
    {
     "data": {
      "text/plain": [
       "['velijala', 'balaswamy']"
      ]
     },
     "execution_count": 87,
     "metadata": {},
     "output_type": "execute_result"
    }
   ],
   "source": [
    "str='velijala balaswamy'\n",
    "str.split()"
   ]
  },
  {
   "cell_type": "code",
   "execution_count": 90,
   "id": "d0a1cbca-c4d4-44a3-b72b-c141f4c2f7d9",
   "metadata": {},
   "outputs": [
    {
     "data": {
      "text/plain": [
       "['', ' balaswamy']"
      ]
     },
     "execution_count": 90,
     "metadata": {},
     "output_type": "execute_result"
    }
   ],
   "source": [
    "str='velijala balaswamy'\n",
    "str.split('velijala')"
   ]
  },
  {
   "cell_type": "code",
   "execution_count": 92,
   "id": "4eca20c4-8236-457b-9fe9-281a362b23b6",
   "metadata": {},
   "outputs": [
    {
     "data": {
      "text/plain": [
       "'velijala balaswamy'"
      ]
     },
     "execution_count": 92,
     "metadata": {},
     "output_type": "execute_result"
    }
   ],
   "source": [
    "str='    velijala balaswamy     '\n",
    "str.strip()"
   ]
  },
  {
   "cell_type": "code",
   "execution_count": 93,
   "id": "d7d84622-105c-42f0-85ef-fdb3bb041aaa",
   "metadata": {},
   "outputs": [
    {
     "data": {
      "text/plain": [
       "'velijala balaswamy     '"
      ]
     },
     "execution_count": 93,
     "metadata": {},
     "output_type": "execute_result"
    }
   ],
   "source": [
    "str.lstrip()"
   ]
  },
  {
   "cell_type": "code",
   "execution_count": 94,
   "id": "56508292-45be-453b-a37c-8c2356913369",
   "metadata": {},
   "outputs": [
    {
     "data": {
      "text/plain": [
       "'    velijala balaswamy'"
      ]
     },
     "execution_count": 94,
     "metadata": {},
     "output_type": "execute_result"
    }
   ],
   "source": [
    "str.rstrip()"
   ]
  },
  {
   "cell_type": "code",
   "execution_count": 99,
   "id": "fa2ec28e-0945-4acf-b366-f053423b62c5",
   "metadata": {},
   "outputs": [
    {
     "data": {
      "text/plain": [
       "True"
      ]
     },
     "execution_count": 99,
     "metadata": {},
     "output_type": "execute_result"
    }
   ],
   "source": [
    "str.startswith(' ')"
   ]
  },
  {
   "cell_type": "code",
   "execution_count": 101,
   "id": "61245c4e-d255-4b20-89c7-c988d6fd8106",
   "metadata": {},
   "outputs": [
    {
     "data": {
      "text/plain": [
       "False"
      ]
     },
     "execution_count": 101,
     "metadata": {},
     "output_type": "execute_result"
    }
   ],
   "source": [
    "str.startswith('V')"
   ]
  },
  {
   "cell_type": "code",
   "execution_count": 100,
   "id": "56037ae9-2759-473f-a18c-2c6300453f85",
   "metadata": {},
   "outputs": [
    {
     "data": {
      "text/plain": [
       "True"
      ]
     },
     "execution_count": 100,
     "metadata": {},
     "output_type": "execute_result"
    }
   ],
   "source": [
    "str.endswith(' ')"
   ]
  },
  {
   "cell_type": "code",
   "execution_count": 102,
   "id": "2eafbb95-3f4b-44bb-a142-31af6c6056c4",
   "metadata": {},
   "outputs": [
    {
     "data": {
      "text/plain": [
       "False"
      ]
     },
     "execution_count": 102,
     "metadata": {},
     "output_type": "execute_result"
    }
   ],
   "source": [
    "str.endswith(' y')"
   ]
  },
  {
   "cell_type": "code",
   "execution_count": null,
   "id": "68aa52f1-d37a-4df4-8ada-acb0f8e55116",
   "metadata": {},
   "outputs": [],
   "source": []
  },
  {
   "cell_type": "code",
   "execution_count": null,
   "id": "50d8d2a7-4b3a-43b5-9310-3b34684dec5e",
   "metadata": {},
   "outputs": [],
   "source": []
  }
 ],
 "metadata": {
  "kernelspec": {
   "display_name": "Python 3 (ipykernel)",
   "language": "python",
   "name": "python3"
  },
  "language_info": {
   "codemirror_mode": {
    "name": "ipython",
    "version": 3
   },
   "file_extension": ".py",
   "mimetype": "text/x-python",
   "name": "python",
   "nbconvert_exporter": "python",
   "pygments_lexer": "ipython3",
   "version": "3.11.7"
  }
 },
 "nbformat": 4,
 "nbformat_minor": 5
}
