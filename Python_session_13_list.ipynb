{
 "cells": [
  {
   "cell_type": "markdown",
   "id": "d5e28c4d-b6c7-4e1a-9f37-7f54357fb5c4",
   "metadata": {},
   "source": [
    "- Repreentation\n",
    "- type\n",
    "- len\n",
    "- max\n",
    "- min\n",
    "- sorted\n",
    "- reversed\n",
    "- in\n",
    "- for loop using index\n",
    "- for loop using in\n",
    "- mutable\n",
    "- slicing\n",
    "- concatination\n",
    "- methods\n",
    "    "
   ]
  },
  {
   "cell_type": "markdown",
   "id": "e603718f-7efc-4a8f-8ec8-f97c7233cb40",
   "metadata": {},
   "source": [
    "**Representation**\n",
    "- string represent with quotes\n",
    "- list represent with square brackets[]"
   ]
  },
  {
   "cell_type": "code",
   "execution_count": 1,
   "id": "5cd99fac-be06-4367-83e5-3a93ff41b6c6",
   "metadata": {},
   "outputs": [
    {
     "data": {
      "text/plain": [
       "[1, 2, 3, 4, 5]"
      ]
     },
     "execution_count": 1,
     "metadata": {},
     "output_type": "execute_result"
    }
   ],
   "source": [
    "l1=[1,2,3,4,5]\n",
    "l1"
   ]
  },
  {
   "cell_type": "code",
   "execution_count": 1,
   "id": "9faafa82-e421-45e1-bfde-072fbd0daa18",
   "metadata": {},
   "outputs": [
    {
     "data": {
      "text/plain": [
       "[1, 2, 3, 4, 'f']"
      ]
     },
     "execution_count": 1,
     "metadata": {},
     "output_type": "execute_result"
    }
   ],
   "source": [
    "l=[1,2,3,4,'f']\n",
    "l"
   ]
  },
  {
   "cell_type": "code",
   "execution_count": 2,
   "id": "79794605-c36f-4125-bbdb-e1a38ab54c96",
   "metadata": {},
   "outputs": [
    {
     "data": {
      "text/plain": [
       "list"
      ]
     },
     "execution_count": 2,
     "metadata": {},
     "output_type": "execute_result"
    }
   ],
   "source": [
    "type(l1)"
   ]
  },
  {
   "cell_type": "code",
   "execution_count": 134,
   "id": "48f958e7-0154-4c7b-ab83-3f558ffc73b1",
   "metadata": {},
   "outputs": [
    {
     "data": {
      "text/plain": [
       "[1, 2, 3, 4, 5, 6]"
      ]
     },
     "execution_count": 134,
     "metadata": {},
     "output_type": "execute_result"
    }
   ],
   "source": [
    "l=[1,2,3,4,5,6]\n",
    "type(l)\n",
    "l"
   ]
  },
  {
   "cell_type": "code",
   "execution_count": 4,
   "id": "549c75fb-8a66-4f4c-a6ba-8c7a53018620",
   "metadata": {},
   "outputs": [
    {
     "data": {
      "text/plain": [
       "['A', 'B', 'C']"
      ]
     },
     "execution_count": 4,
     "metadata": {},
     "output_type": "execute_result"
    }
   ],
   "source": [
    "l2=['A','B','C']\n",
    "l2"
   ]
  },
  {
   "cell_type": "code",
   "execution_count": 5,
   "id": "3c8e4f27-fe4e-434b-9517-818b2cf1b6fc",
   "metadata": {},
   "outputs": [
    {
     "data": {
      "text/plain": [
       "[1, 2, 3, 4, 5, 'a', 'b', 'c']"
      ]
     },
     "execution_count": 5,
     "metadata": {},
     "output_type": "execute_result"
    }
   ],
   "source": [
    "l3=[1,2,3,4,5,'a','b','c']\n",
    "l3"
   ]
  },
  {
   "cell_type": "code",
   "execution_count": 135,
   "id": "74051643-638a-4472-9bd4-776d43e91088",
   "metadata": {},
   "outputs": [
    {
     "data": {
      "text/plain": [
       "[1, 2, 3, 4, 5, 6, 7, True, False, 'Apple']"
      ]
     },
     "execution_count": 135,
     "metadata": {},
     "output_type": "execute_result"
    }
   ],
   "source": [
    "l3=[1,2,3,4,5,6,7,True,False,'Apple']\n",
    "l3"
   ]
  },
  {
   "cell_type": "code",
   "execution_count": 134,
   "id": "a539efc9-2b21-42e0-b396-f818eb3d7d68",
   "metadata": {},
   "outputs": [
    {
     "data": {
      "text/plain": [
       "[1, 2, 3, 4, 5, 6, 7, 'a', 'A', 'D', 1.5, True]"
      ]
     },
     "execution_count": 134,
     "metadata": {},
     "output_type": "execute_result"
    }
   ],
   "source": [
    "b=[1,2,3,4,5,6,7,'a','A','D',1.5,True]\n",
    "b"
   ]
  },
  {
   "cell_type": "code",
   "execution_count": 6,
   "id": "dd77c477-32de-4e40-9f03-0a102eb8a026",
   "metadata": {},
   "outputs": [
    {
     "data": {
      "text/plain": [
       "[1, 2, 3, 4, 5, 'apple', True, False]"
      ]
     },
     "execution_count": 6,
     "metadata": {},
     "output_type": "execute_result"
    }
   ],
   "source": [
    "l4=[1,2,3,4,5,'apple',True,False]\n",
    "l4"
   ]
  },
  {
   "cell_type": "code",
   "execution_count": 8,
   "id": "2d9c6612-949f-460c-97d3-16d5987228c0",
   "metadata": {},
   "outputs": [
    {
     "data": {
      "text/plain": [
       "['balaswamy']"
      ]
     },
     "execution_count": 8,
     "metadata": {},
     "output_type": "execute_result"
    }
   ],
   "source": [
    "name='balaswamy'\n",
    "l5=[name]\n",
    "l5"
   ]
  },
  {
   "cell_type": "code",
   "execution_count": 99,
   "id": "cc2ba57d-2ae4-49cc-b99a-0ebb0673e678",
   "metadata": {},
   "outputs": [
    {
     "data": {
      "text/plain": [
       "[1, 2, 3, 10, 20, 'Apple', 30]"
      ]
     },
     "execution_count": 99,
     "metadata": {},
     "output_type": "execute_result"
    }
   ],
   "source": [
    "l1=[1,2,3,'Apple',10,20,'Apple',30]\n",
    "l1.remove('Apple')\n",
    "l1\n"
   ]
  },
  {
   "cell_type": "code",
   "execution_count": 135,
   "id": "428556b3-4f0a-4b66-8842-f305caf28a2d",
   "metadata": {},
   "outputs": [
    {
     "data": {
      "text/plain": [
       "['balaswamy']"
      ]
     },
     "execution_count": 135,
     "metadata": {},
     "output_type": "execute_result"
    }
   ],
   "source": [
    "name='balaswamy'\n",
    "l1=[name]\n",
    "l1"
   ]
  },
  {
   "cell_type": "code",
   "execution_count": 9,
   "id": "a98cd535-7326-46fa-9166-d11f737c63c5",
   "metadata": {},
   "outputs": [
    {
     "data": {
      "text/plain": [
       "[100, 100, 100]"
      ]
     },
     "execution_count": 9,
     "metadata": {},
     "output_type": "execute_result"
    }
   ],
   "source": [
    "l6=[100,100,100,]\n",
    "l6"
   ]
  },
  {
   "cell_type": "code",
   "execution_count": 10,
   "id": "269e2614-9b67-42b2-ac81-6b63a100027a",
   "metadata": {},
   "outputs": [
    {
     "data": {
      "text/plain": [
       "[100, 'apple', ['a', 2]]"
      ]
     },
     "execution_count": 10,
     "metadata": {},
     "output_type": "execute_result"
    }
   ],
   "source": [
    "l7=[100,'apple',['a',2]]\n",
    "l7"
   ]
  },
  {
   "cell_type": "code",
   "execution_count": 142,
   "id": "fc626dbb-51dd-4e5f-a943-4bee1def8f4e",
   "metadata": {},
   "outputs": [
    {
     "data": {
      "text/plain": [
       "7"
      ]
     },
     "execution_count": 142,
     "metadata": {},
     "output_type": "execute_result"
    }
   ],
   "source": [
    "l2=[100,'apple',['a',3],[1,4,7]]\n",
    "l2[3][2]"
   ]
  },
  {
   "cell_type": "markdown",
   "id": "78914681-e63a-40c6-9b62-718abe65b88e",
   "metadata": {},
   "source": [
    "- list are array of elements\n",
    "- list elements are heterogeneous all the data types we can represent in a list\n",
    "- list elements are allowed duplicates\n",
    "- list in list is possible\n",
    "- variable assignment also possble in the lit"
   ]
  },
  {
   "cell_type": "code",
   "execution_count": 11,
   "id": "1b3f5117-b316-433a-a1c2-5e8ba7ba5298",
   "metadata": {},
   "outputs": [
    {
     "data": {
      "text/plain": [
       "5"
      ]
     },
     "execution_count": 11,
     "metadata": {},
     "output_type": "execute_result"
    }
   ],
   "source": [
    "l1=[1,2,3,4,5]\n",
    "len(l1)"
   ]
  },
  {
   "cell_type": "code",
   "execution_count": 18,
   "id": "3504b98b-36e6-4ea2-bc2e-36dd9e6a6f5d",
   "metadata": {},
   "outputs": [
    {
     "data": {
      "text/plain": [
       "5"
      ]
     },
     "execution_count": 18,
     "metadata": {},
     "output_type": "execute_result"
    }
   ],
   "source": [
    "l1=[1,2,3,4,5]\n",
    "max(l1)"
   ]
  },
  {
   "cell_type": "code",
   "execution_count": 20,
   "id": "1d3c4562-6773-4227-a3f4-391b25d396b1",
   "metadata": {},
   "outputs": [
    {
     "data": {
      "text/plain": [
       "1"
      ]
     },
     "execution_count": 20,
     "metadata": {},
     "output_type": "execute_result"
    }
   ],
   "source": [
    "l1=[1,2,3,4,5]\n",
    "min(l1)"
   ]
  },
  {
   "cell_type": "code",
   "execution_count": 22,
   "id": "af567a08-4343-4e84-9252-b15389a6c17a",
   "metadata": {},
   "outputs": [
    {
     "data": {
      "text/plain": [
       "<list_reverseiterator at 0x1798b63d780>"
      ]
     },
     "execution_count": 22,
     "metadata": {},
     "output_type": "execute_result"
    }
   ],
   "source": [
    "l1=[1,2,3,4,5]\n",
    "reversed(l1)"
   ]
  },
  {
   "cell_type": "code",
   "execution_count": 144,
   "id": "f4c7f679-4483-4fc6-8c69-80d6ace0afa3",
   "metadata": {},
   "outputs": [
    {
     "name": "stdout",
     "output_type": "stream",
     "text": [
      "balaswamy 8 7 6 5 4 3 2 1 "
     ]
    }
   ],
   "source": [
    "b=[1,2,3,4,5,6,7,8,'balaswamy']\n",
    "for i in reversed(b):\n",
    "    print(i,end=' ')"
   ]
  },
  {
   "cell_type": "code",
   "execution_count": 140,
   "id": "f4ed39aa-7fe7-428a-a66f-2f9510f96838",
   "metadata": {},
   "outputs": [
    {
     "name": "stdout",
     "output_type": "stream",
     "text": [
      "45 6 5 4 3 2 1 "
     ]
    }
   ],
   "source": [
    "for i in reversed(l1):\n",
    "    print(i,end=' ')\n",
    "    "
   ]
  },
  {
   "cell_type": "code",
   "execution_count": 21,
   "id": "c4ab8ed5-79e8-40c1-9390-a5b67a513bf1",
   "metadata": {},
   "outputs": [
    {
     "data": {
      "text/plain": [
       "[1, 2, 3, 4, 5]"
      ]
     },
     "execution_count": 21,
     "metadata": {},
     "output_type": "execute_result"
    }
   ],
   "source": [
    "l1=[1,2,3,4,5]\n",
    "sorted(l1)"
   ]
  },
  {
   "cell_type": "code",
   "execution_count": 12,
   "id": "664eacac-51d6-48f6-871e-b37adffea7b1",
   "metadata": {},
   "outputs": [
    {
     "data": {
      "text/plain": [
       "3"
      ]
     },
     "execution_count": 12,
     "metadata": {},
     "output_type": "execute_result"
    }
   ],
   "source": [
    "l2=['A','B','C']\n",
    "len(l2)"
   ]
  },
  {
   "cell_type": "code",
   "execution_count": 19,
   "id": "0e08d776-5017-4306-8554-37b7bbed0e55",
   "metadata": {},
   "outputs": [
    {
     "data": {
      "text/plain": [
       "'C'"
      ]
     },
     "execution_count": 19,
     "metadata": {},
     "output_type": "execute_result"
    }
   ],
   "source": [
    "l2=['A','B','C']\n",
    "max(l2)"
   ]
  },
  {
   "cell_type": "code",
   "execution_count": 23,
   "id": "38e4e20c-041e-4eb7-b073-51e944886bfa",
   "metadata": {},
   "outputs": [
    {
     "data": {
      "text/plain": [
       "'A'"
      ]
     },
     "execution_count": 23,
     "metadata": {},
     "output_type": "execute_result"
    }
   ],
   "source": [
    "l2=['A','B','C']\n",
    "min(l2)"
   ]
  },
  {
   "cell_type": "code",
   "execution_count": 24,
   "id": "51531116-fe22-4018-9147-624572df8fc8",
   "metadata": {},
   "outputs": [
    {
     "data": {
      "text/plain": [
       "['A', 'B', 'C']"
      ]
     },
     "execution_count": 24,
     "metadata": {},
     "output_type": "execute_result"
    }
   ],
   "source": [
    "l2=['A','B','C']\n",
    "sorted(l2)"
   ]
  },
  {
   "cell_type": "code",
   "execution_count": 145,
   "id": "e2c5e5dc-89ff-4811-8746-f42cf28316a6",
   "metadata": {},
   "outputs": [
    {
     "name": "stdout",
     "output_type": "stream",
     "text": [
      "C\n",
      "B\n",
      "A\n"
     ]
    }
   ],
   "source": [
    "l2=['A','B','C']\n",
    "for i in reversed(l2):\n",
    "    print(i)"
   ]
  },
  {
   "cell_type": "code",
   "execution_count": 13,
   "id": "2dfe72f8-ab64-47e8-bfcc-d076223e0051",
   "metadata": {},
   "outputs": [
    {
     "data": {
      "text/plain": [
       "8"
      ]
     },
     "execution_count": 13,
     "metadata": {},
     "output_type": "execute_result"
    }
   ],
   "source": [
    "l3=[1,2,3,4,5,'a','b','c']\n",
    "len(l3)"
   ]
  },
  {
   "cell_type": "code",
   "execution_count": 26,
   "id": "dd49ef38-c5b3-49f2-8b4a-7fc52116aed8",
   "metadata": {},
   "outputs": [
    {
     "ename": "TypeError",
     "evalue": "'>' not supported between instances of 'str' and 'int'",
     "output_type": "error",
     "traceback": [
      "\u001b[1;31m---------------------------------------------------------------------------\u001b[0m",
      "\u001b[1;31mTypeError\u001b[0m                                 Traceback (most recent call last)",
      "Cell \u001b[1;32mIn[26], line 2\u001b[0m\n\u001b[0;32m      1\u001b[0m l3\u001b[38;5;241m=\u001b[39m[\u001b[38;5;241m1\u001b[39m,\u001b[38;5;241m2\u001b[39m,\u001b[38;5;241m3\u001b[39m,\u001b[38;5;241m4\u001b[39m,\u001b[38;5;241m5\u001b[39m,\u001b[38;5;124m'\u001b[39m\u001b[38;5;124ma\u001b[39m\u001b[38;5;124m'\u001b[39m,\u001b[38;5;124m'\u001b[39m\u001b[38;5;124mb\u001b[39m\u001b[38;5;124m'\u001b[39m,\u001b[38;5;124m'\u001b[39m\u001b[38;5;124mc\u001b[39m\u001b[38;5;124m'\u001b[39m]\n\u001b[1;32m----> 2\u001b[0m \u001b[38;5;28mmax\u001b[39m(l3)\n",
      "\u001b[1;31mTypeError\u001b[0m: '>' not supported between instances of 'str' and 'int'"
     ]
    }
   ],
   "source": [
    "l3=[1,2,3,4,5,'a','b','c']\n",
    "max(l3)"
   ]
  },
  {
   "cell_type": "code",
   "execution_count": 27,
   "id": "99a25b3c-9741-4d01-a830-943997adc2e4",
   "metadata": {},
   "outputs": [
    {
     "ename": "TypeError",
     "evalue": "'<' not supported between instances of 'str' and 'int'",
     "output_type": "error",
     "traceback": [
      "\u001b[1;31m---------------------------------------------------------------------------\u001b[0m",
      "\u001b[1;31mTypeError\u001b[0m                                 Traceback (most recent call last)",
      "Cell \u001b[1;32mIn[27], line 2\u001b[0m\n\u001b[0;32m      1\u001b[0m l3\u001b[38;5;241m=\u001b[39m[\u001b[38;5;241m1\u001b[39m,\u001b[38;5;241m2\u001b[39m,\u001b[38;5;241m3\u001b[39m,\u001b[38;5;241m4\u001b[39m,\u001b[38;5;241m5\u001b[39m,\u001b[38;5;124m'\u001b[39m\u001b[38;5;124ma\u001b[39m\u001b[38;5;124m'\u001b[39m,\u001b[38;5;124m'\u001b[39m\u001b[38;5;124mb\u001b[39m\u001b[38;5;124m'\u001b[39m,\u001b[38;5;124m'\u001b[39m\u001b[38;5;124mc\u001b[39m\u001b[38;5;124m'\u001b[39m]\n\u001b[1;32m----> 2\u001b[0m \u001b[38;5;28mmin\u001b[39m(l3)\n",
      "\u001b[1;31mTypeError\u001b[0m: '<' not supported between instances of 'str' and 'int'"
     ]
    }
   ],
   "source": [
    "l3=[1,2,3,4,5,'a','b','c']\n",
    "min(l3)"
   ]
  },
  {
   "cell_type": "code",
   "execution_count": 28,
   "id": "b13aa2da-814a-4419-9f23-7917d20be015",
   "metadata": {},
   "outputs": [
    {
     "ename": "TypeError",
     "evalue": "'<' not supported between instances of 'str' and 'int'",
     "output_type": "error",
     "traceback": [
      "\u001b[1;31m---------------------------------------------------------------------------\u001b[0m",
      "\u001b[1;31mTypeError\u001b[0m                                 Traceback (most recent call last)",
      "Cell \u001b[1;32mIn[28], line 2\u001b[0m\n\u001b[0;32m      1\u001b[0m l3\u001b[38;5;241m=\u001b[39m[\u001b[38;5;241m1\u001b[39m,\u001b[38;5;241m2\u001b[39m,\u001b[38;5;241m3\u001b[39m,\u001b[38;5;241m4\u001b[39m,\u001b[38;5;241m5\u001b[39m,\u001b[38;5;124m'\u001b[39m\u001b[38;5;124ma\u001b[39m\u001b[38;5;124m'\u001b[39m,\u001b[38;5;124m'\u001b[39m\u001b[38;5;124mb\u001b[39m\u001b[38;5;124m'\u001b[39m,\u001b[38;5;124m'\u001b[39m\u001b[38;5;124mc\u001b[39m\u001b[38;5;124m'\u001b[39m]\n\u001b[1;32m----> 2\u001b[0m \u001b[38;5;28msorted\u001b[39m(l3)\n",
      "\u001b[1;31mTypeError\u001b[0m: '<' not supported between instances of 'str' and 'int'"
     ]
    }
   ],
   "source": [
    "l3=[1,2,3,4,5,'a','b','c']\n",
    "sorted(l3)"
   ]
  },
  {
   "cell_type": "code",
   "execution_count": 147,
   "id": "5d517e25-9976-496c-8ad0-f9bda44660e8",
   "metadata": {},
   "outputs": [
    {
     "name": "stdout",
     "output_type": "stream",
     "text": [
      "c\n",
      "b\n",
      "a\n",
      "5\n",
      "4\n",
      "3\n",
      "2\n",
      "1\n"
     ]
    }
   ],
   "source": [
    "l3=[1,2,3,4,5,'a','b','c']\n",
    "for i in reversed(l3):\n",
    "    print(i)"
   ]
  },
  {
   "cell_type": "code",
   "execution_count": 14,
   "id": "98ac4320-9384-46d0-b451-d80674523822",
   "metadata": {},
   "outputs": [
    {
     "data": {
      "text/plain": [
       "8"
      ]
     },
     "execution_count": 14,
     "metadata": {},
     "output_type": "execute_result"
    }
   ],
   "source": [
    "l4=[1,2,3,4,5,'apple',True,False]\n",
    "len(l4)"
   ]
  },
  {
   "cell_type": "code",
   "execution_count": 30,
   "id": "59bbd2fa-558d-4e86-8ca8-545c2f2bf99a",
   "metadata": {},
   "outputs": [
    {
     "ename": "TypeError",
     "evalue": "'>' not supported between instances of 'str' and 'int'",
     "output_type": "error",
     "traceback": [
      "\u001b[1;31m---------------------------------------------------------------------------\u001b[0m",
      "\u001b[1;31mTypeError\u001b[0m                                 Traceback (most recent call last)",
      "Cell \u001b[1;32mIn[30], line 2\u001b[0m\n\u001b[0;32m      1\u001b[0m l4\u001b[38;5;241m=\u001b[39m[\u001b[38;5;241m1\u001b[39m,\u001b[38;5;241m2\u001b[39m,\u001b[38;5;241m3\u001b[39m,\u001b[38;5;241m4\u001b[39m,\u001b[38;5;241m5\u001b[39m,\u001b[38;5;124m'\u001b[39m\u001b[38;5;124mapple\u001b[39m\u001b[38;5;124m'\u001b[39m,\u001b[38;5;28;01mTrue\u001b[39;00m,\u001b[38;5;28;01mFalse\u001b[39;00m]\n\u001b[1;32m----> 2\u001b[0m \u001b[38;5;28mmax\u001b[39m(l4)\n",
      "\u001b[1;31mTypeError\u001b[0m: '>' not supported between instances of 'str' and 'int'"
     ]
    }
   ],
   "source": [
    "l4=[1,2,3,4,5,'apple',True,False]\n",
    "max(l4)"
   ]
  },
  {
   "cell_type": "code",
   "execution_count": 31,
   "id": "4dabec60-ab43-4c08-8fab-cd33b804f28e",
   "metadata": {},
   "outputs": [
    {
     "ename": "TypeError",
     "evalue": "'<' not supported between instances of 'str' and 'int'",
     "output_type": "error",
     "traceback": [
      "\u001b[1;31m---------------------------------------------------------------------------\u001b[0m",
      "\u001b[1;31mTypeError\u001b[0m                                 Traceback (most recent call last)",
      "Cell \u001b[1;32mIn[31], line 2\u001b[0m\n\u001b[0;32m      1\u001b[0m l4\u001b[38;5;241m=\u001b[39m[\u001b[38;5;241m1\u001b[39m,\u001b[38;5;241m2\u001b[39m,\u001b[38;5;241m3\u001b[39m,\u001b[38;5;241m4\u001b[39m,\u001b[38;5;241m5\u001b[39m,\u001b[38;5;124m'\u001b[39m\u001b[38;5;124mapple\u001b[39m\u001b[38;5;124m'\u001b[39m,\u001b[38;5;28;01mTrue\u001b[39;00m,\u001b[38;5;28;01mFalse\u001b[39;00m]\n\u001b[1;32m----> 2\u001b[0m \u001b[38;5;28mmin\u001b[39m(l4)\n",
      "\u001b[1;31mTypeError\u001b[0m: '<' not supported between instances of 'str' and 'int'"
     ]
    }
   ],
   "source": [
    "l4=[1,2,3,4,5,'apple',True,False]\n",
    "min(l4)"
   ]
  },
  {
   "cell_type": "code",
   "execution_count": 32,
   "id": "21be6c8c-b136-4ca3-9d77-7326a5f00d1c",
   "metadata": {},
   "outputs": [
    {
     "ename": "TypeError",
     "evalue": "'<' not supported between instances of 'str' and 'int'",
     "output_type": "error",
     "traceback": [
      "\u001b[1;31m---------------------------------------------------------------------------\u001b[0m",
      "\u001b[1;31mTypeError\u001b[0m                                 Traceback (most recent call last)",
      "Cell \u001b[1;32mIn[32], line 2\u001b[0m\n\u001b[0;32m      1\u001b[0m l4\u001b[38;5;241m=\u001b[39m[\u001b[38;5;241m1\u001b[39m,\u001b[38;5;241m2\u001b[39m,\u001b[38;5;241m3\u001b[39m,\u001b[38;5;241m4\u001b[39m,\u001b[38;5;241m5\u001b[39m,\u001b[38;5;124m'\u001b[39m\u001b[38;5;124mapple\u001b[39m\u001b[38;5;124m'\u001b[39m,\u001b[38;5;28;01mTrue\u001b[39;00m,\u001b[38;5;28;01mFalse\u001b[39;00m]\n\u001b[1;32m----> 2\u001b[0m \u001b[38;5;28msorted\u001b[39m(l4)\n",
      "\u001b[1;31mTypeError\u001b[0m: '<' not supported between instances of 'str' and 'int'"
     ]
    }
   ],
   "source": [
    "l4=[1,2,3,4,5,'apple',True,False]\n",
    "sorted(l4)"
   ]
  },
  {
   "cell_type": "code",
   "execution_count": 33,
   "id": "7532b04d-8116-4682-aefc-f9cd17cf0ea3",
   "metadata": {},
   "outputs": [
    {
     "data": {
      "text/plain": [
       "<list_reverseiterator at 0x1798b64c370>"
      ]
     },
     "execution_count": 33,
     "metadata": {},
     "output_type": "execute_result"
    }
   ],
   "source": [
    "l4=[1,2,3,4,5,'apple',True,False]\n",
    "reversed(l4)"
   ]
  },
  {
   "cell_type": "code",
   "execution_count": 15,
   "id": "f33ca61a-ec63-4372-95f1-026be897c31d",
   "metadata": {},
   "outputs": [
    {
     "data": {
      "text/plain": [
       "1"
      ]
     },
     "execution_count": 15,
     "metadata": {},
     "output_type": "execute_result"
    }
   ],
   "source": [
    "name='balaswamy'\n",
    "l5=[name]\n",
    "len(l5)"
   ]
  },
  {
   "cell_type": "code",
   "execution_count": 34,
   "id": "07094c4b-1e31-48a8-a07f-68fb00c730a9",
   "metadata": {},
   "outputs": [
    {
     "data": {
      "text/plain": [
       "'balaswamy'"
      ]
     },
     "execution_count": 34,
     "metadata": {},
     "output_type": "execute_result"
    }
   ],
   "source": [
    "name='balaswamy'\n",
    "l5=[name]\n",
    "max(l5)"
   ]
  },
  {
   "cell_type": "code",
   "execution_count": 149,
   "id": "d74536a2-9f5e-4b1d-a6e7-089f8407a207",
   "metadata": {},
   "outputs": [
    {
     "data": {
      "text/plain": [
       "'balaswamy'"
      ]
     },
     "execution_count": 149,
     "metadata": {},
     "output_type": "execute_result"
    }
   ],
   "source": [
    "max(['balaswamy'])"
   ]
  },
  {
   "cell_type": "code",
   "execution_count": 35,
   "id": "2e9f6c4e-3c81-4ca8-9d6a-c972c7749448",
   "metadata": {},
   "outputs": [
    {
     "data": {
      "text/plain": [
       "'balaswamy'"
      ]
     },
     "execution_count": 35,
     "metadata": {},
     "output_type": "execute_result"
    }
   ],
   "source": [
    "name='balaswamy'\n",
    "l5=[name]\n",
    "min(l5)"
   ]
  },
  {
   "cell_type": "code",
   "execution_count": 150,
   "id": "0df44bf8-6814-432b-a86e-2f735fb85093",
   "metadata": {},
   "outputs": [
    {
     "data": {
      "text/plain": [
       "['balaswamy']"
      ]
     },
     "execution_count": 150,
     "metadata": {},
     "output_type": "execute_result"
    }
   ],
   "source": [
    "name='balaswamy'\n",
    "l5=[name]\n",
    "sorted(l5)"
   ]
  },
  {
   "cell_type": "code",
   "execution_count": 151,
   "id": "ad92a08a-e388-4838-bae9-1745ec9a8fea",
   "metadata": {},
   "outputs": [
    {
     "data": {
      "text/plain": [
       "['a', 'a', 'a', 'b', 'l', 'm', 's', 'w', 'y']"
      ]
     },
     "execution_count": 151,
     "metadata": {},
     "output_type": "execute_result"
    }
   ],
   "source": [
    "sorted('balaswamy')"
   ]
  },
  {
   "cell_type": "code",
   "execution_count": 153,
   "id": "0726bd68-0269-4395-a48f-7db3689158a7",
   "metadata": {},
   "outputs": [
    {
     "name": "stdout",
     "output_type": "stream",
     "text": [
      "y\n",
      "m\n",
      "a\n",
      "w\n",
      "s\n",
      "a\n",
      "l\n",
      "a\n",
      "b\n"
     ]
    }
   ],
   "source": [
    "name='balaswamy'\n",
    "l5=[name]\n",
    "for i in reversed(name):\n",
    "    print(i)\n"
   ]
  },
  {
   "cell_type": "code",
   "execution_count": 6,
   "id": "330749db-8a22-4ca7-a32a-61d791004a3f",
   "metadata": {},
   "outputs": [
    {
     "data": {
      "text/plain": [
       "['y', 'm', 'a', 'w', 's', 'a', 'l', 'a', 'b']"
      ]
     },
     "execution_count": 6,
     "metadata": {},
     "output_type": "execute_result"
    }
   ],
   "source": [
    "name='balaswamy'\n",
    "l5=[name]\n",
    "list(reversed(name))"
   ]
  },
  {
   "cell_type": "code",
   "execution_count": 3,
   "id": "f53d40b3-158c-4c9d-a5ce-822519dff196",
   "metadata": {},
   "outputs": [
    {
     "data": {
      "text/plain": [
       "[100, 100, 100]"
      ]
     },
     "execution_count": 3,
     "metadata": {},
     "output_type": "execute_result"
    }
   ],
   "source": [
    "l6=[100,100,100,]\n",
    "list(reversed(l6))"
   ]
  },
  {
   "cell_type": "code",
   "execution_count": 38,
   "id": "ef5a7be8-4a64-4970-b54f-bc38b95bbed9",
   "metadata": {},
   "outputs": [
    {
     "data": {
      "text/plain": [
       "100"
      ]
     },
     "execution_count": 38,
     "metadata": {},
     "output_type": "execute_result"
    }
   ],
   "source": [
    "l6=[100,100,100,]\n",
    "max(l6)"
   ]
  },
  {
   "cell_type": "code",
   "execution_count": 39,
   "id": "3ee8eb12-1e50-47ab-bad0-7dcb461018fd",
   "metadata": {},
   "outputs": [
    {
     "data": {
      "text/plain": [
       "100"
      ]
     },
     "execution_count": 39,
     "metadata": {},
     "output_type": "execute_result"
    }
   ],
   "source": [
    "l6=[100,100,100,]\n",
    "min(l6)"
   ]
  },
  {
   "cell_type": "code",
   "execution_count": 40,
   "id": "24062c6f-3e6e-4ba2-8c47-f17e8bfdff76",
   "metadata": {},
   "outputs": [
    {
     "data": {
      "text/plain": [
       "[100, 100, 100]"
      ]
     },
     "execution_count": 40,
     "metadata": {},
     "output_type": "execute_result"
    }
   ],
   "source": [
    "l6=[100,100,100,]\n",
    "sorted(l6)"
   ]
  },
  {
   "cell_type": "code",
   "execution_count": 2,
   "id": "f3fcdac9-f8fd-42c0-a8e2-c3af95e11ed9",
   "metadata": {},
   "outputs": [
    {
     "ename": "TypeError",
     "evalue": "'type' object is not iterable",
     "output_type": "error",
     "traceback": [
      "\u001b[1;31m---------------------------------------------------------------------------\u001b[0m",
      "\u001b[1;31mTypeError\u001b[0m                                 Traceback (most recent call last)",
      "Cell \u001b[1;32mIn[2], line 2\u001b[0m\n\u001b[0;32m      1\u001b[0m l6\u001b[38;5;241m=\u001b[39m[\u001b[38;5;241m100\u001b[39m,\u001b[38;5;241m100\u001b[39m,\u001b[38;5;241m100\u001b[39m,]\n\u001b[1;32m----> 2\u001b[0m \u001b[38;5;28;01mfor\u001b[39;00m i \u001b[38;5;129;01min\u001b[39;00m \u001b[38;5;28mreversed\u001b[39m:\n\u001b[0;32m      3\u001b[0m     \u001b[38;5;28mprint\u001b[39m(i)\n",
      "\u001b[1;31mTypeError\u001b[0m: 'type' object is not iterable"
     ]
    }
   ],
   "source": [
    "l6=[100,100,100,]\n",
    "for i in reversed:\n",
    "    print(i)"
   ]
  },
  {
   "cell_type": "code",
   "execution_count": 17,
   "id": "31192a4d-c120-440e-af78-e6da6cd2be0c",
   "metadata": {},
   "outputs": [
    {
     "data": {
      "text/plain": [
       "3"
      ]
     },
     "execution_count": 17,
     "metadata": {},
     "output_type": "execute_result"
    }
   ],
   "source": [
    "l7=[100,'apple',['a',2]]\n",
    "len(l7)"
   ]
  },
  {
   "cell_type": "code",
   "execution_count": 42,
   "id": "b6cad6de-461e-4193-a9b5-61b4e0ad385a",
   "metadata": {},
   "outputs": [
    {
     "ename": "TypeError",
     "evalue": "'>' not supported between instances of 'str' and 'int'",
     "output_type": "error",
     "traceback": [
      "\u001b[1;31m---------------------------------------------------------------------------\u001b[0m",
      "\u001b[1;31mTypeError\u001b[0m                                 Traceback (most recent call last)",
      "Cell \u001b[1;32mIn[42], line 2\u001b[0m\n\u001b[0;32m      1\u001b[0m l7\u001b[38;5;241m=\u001b[39m[\u001b[38;5;241m100\u001b[39m,\u001b[38;5;124m'\u001b[39m\u001b[38;5;124mapple\u001b[39m\u001b[38;5;124m'\u001b[39m,[\u001b[38;5;124m'\u001b[39m\u001b[38;5;124ma\u001b[39m\u001b[38;5;124m'\u001b[39m,\u001b[38;5;241m2\u001b[39m]]\n\u001b[1;32m----> 2\u001b[0m \u001b[38;5;28mmax\u001b[39m(l7)\n",
      "\u001b[1;31mTypeError\u001b[0m: '>' not supported between instances of 'str' and 'int'"
     ]
    }
   ],
   "source": [
    "l7=[100,'apple',['a',2]]\n",
    "max(l7)"
   ]
  },
  {
   "cell_type": "code",
   "execution_count": 43,
   "id": "5058cafa-3236-4d15-ad2b-9ec7d7979736",
   "metadata": {},
   "outputs": [
    {
     "ename": "TypeError",
     "evalue": "'<' not supported between instances of 'str' and 'int'",
     "output_type": "error",
     "traceback": [
      "\u001b[1;31m---------------------------------------------------------------------------\u001b[0m",
      "\u001b[1;31mTypeError\u001b[0m                                 Traceback (most recent call last)",
      "Cell \u001b[1;32mIn[43], line 2\u001b[0m\n\u001b[0;32m      1\u001b[0m l7\u001b[38;5;241m=\u001b[39m[\u001b[38;5;241m100\u001b[39m,\u001b[38;5;124m'\u001b[39m\u001b[38;5;124mapple\u001b[39m\u001b[38;5;124m'\u001b[39m,[\u001b[38;5;124m'\u001b[39m\u001b[38;5;124ma\u001b[39m\u001b[38;5;124m'\u001b[39m,\u001b[38;5;241m2\u001b[39m]]\n\u001b[1;32m----> 2\u001b[0m \u001b[38;5;28mmin\u001b[39m(l7)\n",
      "\u001b[1;31mTypeError\u001b[0m: '<' not supported between instances of 'str' and 'int'"
     ]
    }
   ],
   "source": [
    "l7=[100,'apple',['a',2]]\n",
    "min(l7)"
   ]
  },
  {
   "cell_type": "code",
   "execution_count": 44,
   "id": "3242d76a-c73c-4297-a127-a246d9fd9015",
   "metadata": {},
   "outputs": [
    {
     "ename": "TypeError",
     "evalue": "'<' not supported between instances of 'str' and 'int'",
     "output_type": "error",
     "traceback": [
      "\u001b[1;31m---------------------------------------------------------------------------\u001b[0m",
      "\u001b[1;31mTypeError\u001b[0m                                 Traceback (most recent call last)",
      "Cell \u001b[1;32mIn[44], line 2\u001b[0m\n\u001b[0;32m      1\u001b[0m l7\u001b[38;5;241m=\u001b[39m[\u001b[38;5;241m100\u001b[39m,\u001b[38;5;124m'\u001b[39m\u001b[38;5;124mapple\u001b[39m\u001b[38;5;124m'\u001b[39m,[\u001b[38;5;124m'\u001b[39m\u001b[38;5;124ma\u001b[39m\u001b[38;5;124m'\u001b[39m,\u001b[38;5;241m2\u001b[39m]]\n\u001b[1;32m----> 2\u001b[0m \u001b[38;5;28msorted\u001b[39m(l7)\n",
      "\u001b[1;31mTypeError\u001b[0m: '<' not supported between instances of 'str' and 'int'"
     ]
    }
   ],
   "source": [
    "l7=[100,'apple',['a',2]]\n",
    "sorted(l7)"
   ]
  },
  {
   "cell_type": "code",
   "execution_count": 45,
   "id": "6419be43-5420-4fc7-902b-31ceab1e7138",
   "metadata": {},
   "outputs": [
    {
     "data": {
      "text/plain": [
       "<list_reverseiterator at 0x1798b64b430>"
      ]
     },
     "execution_count": 45,
     "metadata": {},
     "output_type": "execute_result"
    }
   ],
   "source": [
    "l7=[100,'apple',['a',2]]\n",
    "reversed(l7)"
   ]
  },
  {
   "cell_type": "code",
   "execution_count": 46,
   "id": "9856d6cc-9d51-4491-a4a6-838ab4a40d1a",
   "metadata": {},
   "outputs": [
    {
     "name": "stdout",
     "output_type": "stream",
     "text": [
      "False\n",
      "True\n",
      "apple\n",
      "5\n",
      "4\n",
      "3\n",
      "2\n",
      "1\n"
     ]
    }
   ],
   "source": [
    "for i in reversed (l4):\n",
    "    print(i)"
   ]
  },
  {
   "cell_type": "code",
   "execution_count": 47,
   "id": "0dd76c4c-ea7a-42de-840f-bec77fcb9848",
   "metadata": {},
   "outputs": [
    {
     "data": {
      "text/plain": [
       "[False, True, 'apple', 5, 4, 3, 2, 1]"
      ]
     },
     "execution_count": 47,
     "metadata": {},
     "output_type": "execute_result"
    }
   ],
   "source": [
    "l4=[1,2,3,4,5,'apple',True,False]\n",
    "list(reversed(l4))"
   ]
  },
  {
   "cell_type": "code",
   "execution_count": 155,
   "id": "5d77c4ec-6f53-40c1-b6b7-85ec34b7cde4",
   "metadata": {},
   "outputs": [
    {
     "data": {
      "text/plain": [
       "[10.5, True, 'apple', 6, 5, 4, 3, 2, 1]"
      ]
     },
     "execution_count": 155,
     "metadata": {},
     "output_type": "execute_result"
    }
   ],
   "source": [
    "l=[1,2,3,4,5,6,'apple',True,10.50]\n",
    "list(reversed(l))"
   ]
  },
  {
   "cell_type": "code",
   "execution_count": 48,
   "id": "91248e56-04ba-44f3-ab44-c0d8e09b2185",
   "metadata": {},
   "outputs": [
    {
     "data": {
      "text/plain": [
       "'Adithya'"
      ]
     },
     "execution_count": 48,
     "metadata": {},
     "output_type": "execute_result"
    }
   ],
   "source": [
    "name=['adithya','Adithya']\n",
    "min(name)"
   ]
  },
  {
   "cell_type": "code",
   "execution_count": 50,
   "id": "c8789056-668f-49e5-afe7-edc03f39cd34",
   "metadata": {},
   "outputs": [
    {
     "data": {
      "text/plain": [
       "'aadithya'"
      ]
     },
     "execution_count": 50,
     "metadata": {},
     "output_type": "execute_result"
    }
   ],
   "source": [
    "name=['adithya','aadithya','banu']\n",
    "min(name)\n",
    "# first compare all first letters\n",
    "# if all first letters ascii values same\n",
    "# then compare with second letters\n",
    "# continue the process\n"
   ]
  },
  {
   "cell_type": "code",
   "execution_count": 156,
   "id": "89b384fb-f979-4dde-8f8d-c76a253aaf1c",
   "metadata": {},
   "outputs": [
    {
     "data": {
      "text/plain": [
       "'aaditya'"
      ]
     },
     "execution_count": 156,
     "metadata": {},
     "output_type": "execute_result"
    }
   ],
   "source": [
    "name=['aditya','aaditya','bala']\n",
    "min(name)"
   ]
  },
  {
   "cell_type": "code",
   "execution_count": 51,
   "id": "cecf8480-ebc4-4d7e-b222-5e1675be05de",
   "metadata": {},
   "outputs": [
    {
     "data": {
      "text/plain": [
       "3"
      ]
     },
     "execution_count": 51,
     "metadata": {},
     "output_type": "execute_result"
    }
   ],
   "source": [
    "list1=['Apple',1,['Cherry','Banana']]\n",
    "len(list1)"
   ]
  },
  {
   "cell_type": "code",
   "execution_count": 164,
   "id": "0514ee3c-119a-4150-b4f9-8f887dc5dd55",
   "metadata": {},
   "outputs": [
    {
     "data": {
      "text/plain": [
       "98"
      ]
     },
     "execution_count": 164,
     "metadata": {},
     "output_type": "execute_result"
    }
   ],
   "source": [
    "l2=['Apple',2,4,['Cherry','Banana',['balaswamy','velijala',[12,98,['Mango','blue']]]]]\n",
    "l2[3][2][2][1]"
   ]
  },
  {
   "cell_type": "code",
   "execution_count": 52,
   "id": "61a44608-da64-460d-a014-0b8b46afbe2a",
   "metadata": {},
   "outputs": [
    {
     "ename": "TypeError",
     "evalue": "'>' not supported between instances of 'str' and 'int'",
     "output_type": "error",
     "traceback": [
      "\u001b[1;31m---------------------------------------------------------------------------\u001b[0m",
      "\u001b[1;31mTypeError\u001b[0m                                 Traceback (most recent call last)",
      "Cell \u001b[1;32mIn[52], line 2\u001b[0m\n\u001b[0;32m      1\u001b[0m \u001b[38;5;28mlist\u001b[39m\u001b[38;5;241m=\u001b[39m[\u001b[38;5;241m65\u001b[39m,\u001b[38;5;124m'\u001b[39m\u001b[38;5;124mA\u001b[39m\u001b[38;5;124m'\u001b[39m]\n\u001b[1;32m----> 2\u001b[0m \u001b[38;5;28mmax\u001b[39m(\u001b[38;5;28mlist\u001b[39m)\n",
      "\u001b[1;31mTypeError\u001b[0m: '>' not supported between instances of 'str' and 'int'"
     ]
    }
   ],
   "source": [
    "list=[65,'A']\n",
    "max(list)\n",
    "# same data type only comparable"
   ]
  },
  {
   "cell_type": "markdown",
   "id": "d737bd36-f99f-4d15-ad56-2c64adbd313e",
   "metadata": {},
   "source": [
    "**index**"
   ]
  },
  {
   "cell_type": "code",
   "execution_count": null,
   "id": "d74aff09-4e6b-4d0e-9101-091e4bc0587f",
   "metadata": {},
   "outputs": [],
   "source": [
    "l4=[1,2,3,4,'apple','Ball','cat',True,False]\n",
    "\n",
    " 1 2 3 4 5 apple  Ball  cat True False\n"
   ]
  },
  {
   "cell_type": "code",
   "execution_count": 59,
   "id": "cad79395-8bc1-4242-8194-e4412edaf1e2",
   "metadata": {},
   "outputs": [
    {
     "data": {
      "text/plain": [
       "(1, 'apple')"
      ]
     },
     "execution_count": 59,
     "metadata": {},
     "output_type": "execute_result"
    }
   ],
   "source": [
    "l4[0],l4[5]"
   ]
  },
  {
   "cell_type": "code",
   "execution_count": 57,
   "id": "39a7cf7e-fb69-4416-9631-bf6b4e50dbbc",
   "metadata": {},
   "outputs": [
    {
     "data": {
      "text/plain": [
       "2"
      ]
     },
     "execution_count": 57,
     "metadata": {},
     "output_type": "execute_result"
    }
   ],
   "source": [
    "l1=[1,[2]]\n",
    "l1[1][0]"
   ]
  },
  {
   "cell_type": "code",
   "execution_count": 60,
   "id": "3acf20c8-c954-4edb-b85d-d0dd57780e1e",
   "metadata": {},
   "outputs": [
    {
     "data": {
      "text/plain": [
       "'A'"
      ]
     },
     "execution_count": 60,
     "metadata": {},
     "output_type": "execute_result"
    }
   ],
   "source": [
    "l1=[1,[2,\"A\"]]\n",
    "l1[1][1]\n",
    "\n",
    "# 'A' is presented at index 1\n",
    "# so we given l1[1] :[2,A] its also a list\n",
    "# the list has two elements\n",
    "# 'A' at 1st index\n",
    "# l1[1][1]"
   ]
  },
  {
   "cell_type": "code",
   "execution_count": 65,
   "id": "916562fe-f13f-48ae-9bfc-8536943db59e",
   "metadata": {},
   "outputs": [
    {
     "data": {
      "text/plain": [
       "'A'"
      ]
     },
     "execution_count": 65,
     "metadata": {},
     "output_type": "execute_result"
    }
   ],
   "source": [
    "# how to get 'A'\n",
    "l1=[1,[2,'A']]\n",
    "# Q 1 .. how many elements are ther in a list:2\n",
    "# Q2 .. A is at which index:\n",
    "l1[1][1]"
   ]
  },
  {
   "cell_type": "code",
   "execution_count": 66,
   "id": "9f023d8c-8e47-4c11-a620-30504b91db9f",
   "metadata": {},
   "outputs": [],
   "source": [
    "l1=[1,[2,['a','b']]]"
   ]
  },
  {
   "cell_type": "code",
   "execution_count": 71,
   "id": "e6d6fe0c-2f93-4c5f-9d12-06a16a101233",
   "metadata": {},
   "outputs": [
    {
     "data": {
      "text/plain": [
       "'b'"
      ]
     },
     "execution_count": 71,
     "metadata": {},
     "output_type": "execute_result"
    }
   ],
   "source": [
    "l1[1][1][1]"
   ]
  },
  {
   "cell_type": "code",
   "execution_count": 74,
   "id": "8afcd970-9e36-4100-95fc-432760ee1231",
   "metadata": {},
   "outputs": [
    {
     "data": {
      "text/plain": [
       "'b'"
      ]
     },
     "execution_count": 74,
     "metadata": {},
     "output_type": "execute_result"
    }
   ],
   "source": [
    "l1=[1,[2,['a','b']]]\n",
    "l1[1][1][1]"
   ]
  },
  {
   "cell_type": "code",
   "execution_count": 76,
   "id": "d603227a-fd83-4266-8b6e-8efe970b65d4",
   "metadata": {},
   "outputs": [],
   "source": [
    "l=[1,2,[3,[4,[5,['Apple']]]]]"
   ]
  },
  {
   "cell_type": "code",
   "execution_count": 77,
   "id": "64169a21-1f5d-4a9c-99e4-0e869fc4de87",
   "metadata": {},
   "outputs": [
    {
     "data": {
      "text/plain": [
       "3"
      ]
     },
     "execution_count": 77,
     "metadata": {},
     "output_type": "execute_result"
    }
   ],
   "source": [
    "len(l)"
   ]
  },
  {
   "cell_type": "code",
   "execution_count": 88,
   "id": "06ff5c84-483d-4dc6-81db-40cd39762433",
   "metadata": {},
   "outputs": [
    {
     "data": {
      "text/plain": [
       "'Apple'"
      ]
     },
     "execution_count": 88,
     "metadata": {},
     "output_type": "execute_result"
    }
   ],
   "source": [
    "l[2][1][1][1][0]"
   ]
  },
  {
   "cell_type": "code",
   "execution_count": 171,
   "id": "572b4b0a-3e0d-47be-aa07-f98c7eab3908",
   "metadata": {},
   "outputs": [
    {
     "data": {
      "text/plain": [
       "'tomato'"
      ]
     },
     "execution_count": 171,
     "metadata": {},
     "output_type": "execute_result"
    }
   ],
   "source": [
    "list1=['Apple',1,'Solapur',['cherry','papaya',70,[123,'Banana'],'tomato'],'python'] #get banana\n",
    "list1[3][4]"
   ]
  },
  {
   "cell_type": "code",
   "execution_count": 147,
   "id": "bac44891-a892-4e8f-b9fd-cb35ebeb4108",
   "metadata": {},
   "outputs": [
    {
     "data": {
      "text/plain": [
       "'Banana'"
      ]
     },
     "execution_count": 147,
     "metadata": {},
     "output_type": "execute_result"
    }
   ],
   "source": [
    "list1=['Apple',1,'Solapur',['cherry','papaya',70,[123,'Banana'],'tomato'],'python']\n",
    "list1[3][3][1]"
   ]
  },
  {
   "cell_type": "code",
   "execution_count": 91,
   "id": "984b5f9e-875c-4c6d-a85e-e5790c8bb6be",
   "metadata": {},
   "outputs": [
    {
     "data": {
      "text/plain": [
       "'Banana'"
      ]
     },
     "execution_count": 91,
     "metadata": {},
     "output_type": "execute_result"
    }
   ],
   "source": [
    "list1[3][3][1]"
   ]
  },
  {
   "cell_type": "code",
   "execution_count": 95,
   "id": "154ea08c-ad69-4b9b-98f3-62502c0dc13f",
   "metadata": {},
   "outputs": [
    {
     "data": {
      "text/plain": [
       "'Cherry'"
      ]
     },
     "execution_count": 95,
     "metadata": {},
     "output_type": "execute_result"
    }
   ],
   "source": [
    "list1=[[[[[[[1,'Cherry']]]]]]]\n",
    "len(list1)\n",
    "list1[0][0][0][0][0][0][1]"
   ]
  },
  {
   "cell_type": "code",
   "execution_count": 172,
   "id": "383cd556-0971-4f18-9703-42d65531159e",
   "metadata": {},
   "outputs": [
    {
     "data": {
      "text/plain": [
       "'Cherry'"
      ]
     },
     "execution_count": 172,
     "metadata": {},
     "output_type": "execute_result"
    }
   ],
   "source": [
    "list1=[[[[[[[1,'Cherry']]]]]]]\n",
    "list1[0][0][0][0][0][0][1]"
   ]
  },
  {
   "cell_type": "code",
   "execution_count": 181,
   "id": "face48ed-0e69-43e8-9020-31ae7d7d52ad",
   "metadata": {},
   "outputs": [
    {
     "data": {
      "text/plain": [
       "'shambaji'"
      ]
     },
     "execution_count": 181,
     "metadata": {},
     "output_type": "execute_result"
    }
   ],
   "source": [
    "l=['MH',['Nagpur',['Orange',['likes',['shivaji',['son',['shambaji']]]]]]]\n",
    "l[1][1][1][1][1][1][0]"
   ]
  },
  {
   "cell_type": "code",
   "execution_count": 174,
   "id": "30afb490-4462-4427-a019-304315e33ff0",
   "metadata": {},
   "outputs": [
    {
     "data": {
      "text/plain": [
       "2"
      ]
     },
     "execution_count": 174,
     "metadata": {},
     "output_type": "execute_result"
    }
   ],
   "source": []
  },
  {
   "cell_type": "code",
   "execution_count": 107,
   "id": "753366fd-db9c-48f4-bc56-e275076a274b",
   "metadata": {},
   "outputs": [
    {
     "data": {
      "text/plain": [
       "'shambaji'"
      ]
     },
     "execution_count": 107,
     "metadata": {},
     "output_type": "execute_result"
    }
   ],
   "source": [
    "l[1][1][1][1][1][1][0]"
   ]
  },
  {
   "cell_type": "code",
   "execution_count": null,
   "id": "4a52b0ef-e73c-4bb9-8d0b-125cc0884acc",
   "metadata": {},
   "outputs": [],
   "source": [
    "# in iperator\n",
    "# index\n",
    "# mutable\n",
    "# slicing"
   ]
  },
  {
   "cell_type": "markdown",
   "id": "29ead0ef-ee61-4a83-94ea-35ad6ecf56fa",
   "metadata": {},
   "source": [
    "**Append**\n",
    "- adding elements in a list at last index\n",
    "- append method is very important\n",
    "- most of the time we will use append in real time\n",
    "- when you add the value the original list will be overwrite\n"
   ]
  },
  {
   "cell_type": "code",
   "execution_count": 116,
   "id": "9c3541ac-fbff-42dd-91c8-5257805dbb54",
   "metadata": {},
   "outputs": [
    {
     "data": {
      "text/plain": [
       "['apple', 'Ball', 'Cat']"
      ]
     },
     "execution_count": 116,
     "metadata": {},
     "output_type": "execute_result"
    }
   ],
   "source": [
    "l=['apple','Ball','Cat']\n",
    "l"
   ]
  },
  {
   "cell_type": "code",
   "execution_count": 117,
   "id": "7f81c557-2046-4161-ac99-521aabf2e730",
   "metadata": {},
   "outputs": [],
   "source": [
    "l.append('doll')"
   ]
  },
  {
   "cell_type": "code",
   "execution_count": 118,
   "id": "f03cfdff-7eef-4200-aa26-f4c532d4c062",
   "metadata": {},
   "outputs": [
    {
     "data": {
      "text/plain": [
       "['apple', 'Ball', 'Cat', 'doll']"
      ]
     },
     "execution_count": 118,
     "metadata": {},
     "output_type": "execute_result"
    }
   ],
   "source": [
    "l"
   ]
  },
  {
   "cell_type": "code",
   "execution_count": 119,
   "id": "e9deb6f2-c169-4ffe-8e93-c197e931a5c1",
   "metadata": {},
   "outputs": [
    {
     "data": {
      "text/plain": [
       "[1, 2, 3, 4, 5, 6, 45]"
      ]
     },
     "execution_count": 119,
     "metadata": {},
     "output_type": "execute_result"
    }
   ],
   "source": [
    "l1=[1,2,3,4,5,6]\n",
    "l1.append(45)\n",
    "l1"
   ]
  },
  {
   "cell_type": "code",
   "execution_count": 149,
   "id": "ef3c1284-d4e4-422f-af9b-44290862006a",
   "metadata": {},
   "outputs": [
    {
     "data": {
      "text/plain": [
       "[10, 20, 'apple', ['A', 1], True, 10.5, 'Balaswamy']"
      ]
     },
     "execution_count": 149,
     "metadata": {},
     "output_type": "execute_result"
    }
   ],
   "source": [
    "l2=[]\n",
    "l2.append(10)\n",
    "l2.append(20)\n",
    "l2.append('apple')\n",
    "l2.append(['A',1])\n",
    "l2.append(True)\n",
    "l2.append(10.5)\n",
    "l2.append('Balaswamy')\n",
    "l2"
   ]
  },
  {
   "cell_type": "code",
   "execution_count": null,
   "id": "3c50ee4c-1a73-4ce1-b73a-2173d4b0f05e",
   "metadata": {},
   "outputs": [],
   "source": [
    "#q1 "
   ]
  },
  {
   "cell_type": "code",
   "execution_count": 122,
   "id": "ee256bf6-95c0-49c9-8e5e-d5d3537fbc1d",
   "metadata": {},
   "outputs": [
    {
     "name": "stdout",
     "output_type": "stream",
     "text": [
      "1\n",
      "4\n",
      "9\n",
      "16\n",
      "25\n"
     ]
    }
   ],
   "source": [
    "for i in range(1,6):\n",
    "    print(i*i)"
   ]
  },
  {
   "cell_type": "code",
   "execution_count": 183,
   "id": "54c06e90-f8a4-49ea-84da-9a1aa762cbda",
   "metadata": {},
   "outputs": [
    {
     "name": "stdout",
     "output_type": "stream",
     "text": [
      "1 4 9 16 25 36 49 "
     ]
    }
   ],
   "source": [
    "for i in range(1,8):\n",
    "    print(i*i,end=' ')"
   ]
  },
  {
   "cell_type": "code",
   "execution_count": 184,
   "id": "91b53ebe-bf92-4169-a8d8-cef68dc9b4ee",
   "metadata": {},
   "outputs": [
    {
     "data": {
      "text/plain": [
       "[1, 4, 9, 16, 25, 36, 49, 64, 81]"
      ]
     },
     "execution_count": 184,
     "metadata": {},
     "output_type": "execute_result"
    }
   ],
   "source": [
    "sqr=[]\n",
    "for i in range(1,10):\n",
    "    sqr.append(i*i)\n",
    "sqr\n",
    "    "
   ]
  },
  {
   "cell_type": "code",
   "execution_count": 127,
   "id": "a1a98a8f-6553-4e93-a96c-5d53b54e36ed",
   "metadata": {},
   "outputs": [
    {
     "data": {
      "text/plain": [
       "[1, 4, 9, 16, 25]"
      ]
     },
     "execution_count": 127,
     "metadata": {},
     "output_type": "execute_result"
    }
   ],
   "source": [
    "sqr_list=[]\n",
    "for i in range (1,6):\n",
    "    sqr_list.append(i*i)\n",
    "sqr_list"
   ]
  },
  {
   "cell_type": "code",
   "execution_count": 187,
   "id": "fad3f3cd-be4c-46a1-a933-6b3b95118c5f",
   "metadata": {},
   "outputs": [
    {
     "name": "stdout",
     "output_type": "stream",
     "text": [
      "[25, 100, 225, 400, 625, 900, 1225, 1600, 2025, 2500, 3025, 3600, 4225, 4900, 5625, 6400, 7225, 8100, 9025]\n"
     ]
    }
   ],
   "source": [
    "sq=[]\n",
    "for i in range(5,100,5):\n",
    "    sq.append(i*i)\n",
    "print(sq)"
   ]
  },
  {
   "cell_type": "code",
   "execution_count": null,
   "id": "efe4f657-9da0-4726-81a3-0aaca218b7db",
   "metadata": {},
   "outputs": [],
   "source": [
    "str='hai hai hai'\n",
    "str1=[]\n",
    "# what are the ids of a\n",
    "# save the index numbers in list\n",
    "for i in range(len(str)):\n",
    "    if str[i] in 'a':\n",
    "        str1.append(i)\n",
    "str1,sum(str1)"
   ]
  },
  {
   "cell_type": "code",
   "execution_count": 196,
   "id": "dfe75884-9fd2-45cd-8899-cf599a5e3ad7",
   "metadata": {},
   "outputs": [
    {
     "data": {
      "text/plain": [
       "([1, 5, 9], 15)"
      ]
     },
     "execution_count": 196,
     "metadata": {},
     "output_type": "execute_result"
    }
   ],
   "source": [
    "str='hai hai hai'\n",
    "str1=[]\n",
    "for i in range(len(str)):\n",
    "    if str[i] in 'a':\n",
    "        str1.append(i)\n",
    "str1,sum(str1)\n"
   ]
  },
  {
   "cell_type": "code",
   "execution_count": 150,
   "id": "92268f89-7775-4117-996d-6e2942d6ad74",
   "metadata": {},
   "outputs": [
    {
     "data": {
      "text/plain": [
       "['Mumbai', 'Chennai']"
      ]
     },
     "execution_count": 150,
     "metadata": {},
     "output_type": "execute_result"
    }
   ],
   "source": [
    "# Q2)l1=['Hyd','Mumbai','Chennai','blr']\n",
    "#  ans=['Mumbai','Chennai']  \n",
    "#  we want lements which are len of element >4\n",
    "l1=['Hyd','Mumbai','Chennai','blr']\n",
    "ans=[]\n",
    "for i in l1:\n",
    "    if len(i)>4:\n",
    "        ans.append(i)\n",
    "ans"
   ]
  },
  {
   "cell_type": "code",
   "execution_count": 200,
   "id": "8b3f794b-bba7-4f0d-b2c6-e823dcc55ea0",
   "metadata": {},
   "outputs": [
    {
     "data": {
      "text/plain": [
       "['Mumbai', 'Chennai']"
      ]
     },
     "execution_count": 200,
     "metadata": {},
     "output_type": "execute_result"
    }
   ],
   "source": [
    "l1=['Hyd','Mumbai','Chennai','blr']\n",
    "ans=[]\n",
    "for i in l1:\n",
    "    if len(i)>4:\n",
    "        ans.append(i)\n",
    "ans "
   ]
  },
  {
   "cell_type": "code",
   "execution_count": 202,
   "id": "e5ec90e9-080f-4d6c-8936-10243c0948bf",
   "metadata": {},
   "outputs": [
    {
     "data": {
      "text/plain": [
       "['Mum#bai', 'Chen#nai']"
      ]
     },
     "execution_count": 202,
     "metadata": {},
     "output_type": "execute_result"
    }
   ],
   "source": [
    "# Q3)l1=['Hyd','Mum#bai','Chen#nai','blr']\n",
    "#  ans=['Mum#bai'',Chen#nai']  \n",
    "#  we want lements which are having '#'\n",
    "l=['Hyd','Mum#bai','Chen#nai','blr']\n",
    "a=[]\n",
    "for i in l:\n",
    "    if '#' in i :\n",
    "        a.append(i)\n",
    "a"
   ]
  },
  {
   "cell_type": "code",
   "execution_count": 151,
   "id": "b888188e-5d6e-4677-b728-e11ea1b50215",
   "metadata": {},
   "outputs": [
    {
     "data": {
      "text/plain": [
       "['Mum#bai', 'Chen#nai']"
      ]
     },
     "execution_count": 151,
     "metadata": {},
     "output_type": "execute_result"
    }
   ],
   "source": [
    "# Q3)l1=['Hyd','Mum#bai','Chen#nai','blr']\n",
    "#  ans=['Mum#bai'',Chen#nai']  \n",
    "#  we want lements which are having '#'\n",
    "l1=['Hyd','Mum#bai','Chen#nai','blr']\n",
    "ans=[]\n",
    "for i in l1:\n",
    "    if '#' in i:\n",
    "        ans.append(i)\n",
    "ans"
   ]
  },
  {
   "cell_type": "code",
   "execution_count": 205,
   "id": "97086f86-6b84-4804-9001-7aabe17774c0",
   "metadata": {},
   "outputs": [
    {
     "data": {
      "text/plain": [
       "['HYD', 'MUMBAI', 'CHENNAI', 'BLR']"
      ]
     },
     "execution_count": 205,
     "metadata": {},
     "output_type": "execute_result"
    }
   ],
   "source": [
    "# Q5)l1=['Hyd','Mumbai','chennai','blr']\n",
    "#  ans= ['Hyd','Mumbai']\n",
    "#  we want lements which are having first letter capital\n",
    "l1=['Hyd','Mumbai','chennai','blr']\n",
    "a=[]\n",
    "for i in l1:\n",
    "    a.append(i.upper())\n",
    "a        "
   ]
  },
  {
   "cell_type": "code",
   "execution_count": 206,
   "id": "fac0710c-aa62-4666-b5a3-1f2867c3a242",
   "metadata": {},
   "outputs": [
    {
     "data": {
      "text/plain": [
       "['HYD', 'MUMBAI', 'CHENNAI', 'BLR']"
      ]
     },
     "execution_count": 206,
     "metadata": {},
     "output_type": "execute_result"
    }
   ],
   "source": [
    "# Q5)l1=['Hyd','Mumbai','chennai','blr']\n",
    "#  ans= ['Hyd','Mumbai']\n",
    "#  we want lements which are having first letter capital\n",
    "l1=['Hyd','Mumbai','chennai','blr']\n",
    "ans=[]\n",
    "for i in l1:\n",
    "    ans.append(i.upper())\n",
    "ans"
   ]
  },
  {
   "cell_type": "code",
   "execution_count": 156,
   "id": "f9ef84cb-a6cc-4c16-b071-3b359830e39f",
   "metadata": {},
   "outputs": [
    {
     "data": {
      "text/plain": [
       "['Hyd', 'Mumbai', 'Chennai', 'Blr']"
      ]
     },
     "execution_count": 156,
     "metadata": {},
     "output_type": "execute_result"
    }
   ],
   "source": [
    "# Q5)l1=['Hyd','Mumbai','chennai','blr']\n",
    "#  ans= ['Hyd','Mumbai']\n",
    "#  we want lements which are having first letter capital\n",
    "l1=['Hyd','Mumbai','chennai','blr']\n",
    "ans=[]\n",
    "for i in l1:\n",
    "    ans.append(i.title())\n",
    "ans\n"
   ]
  },
  {
   "cell_type": "code",
   "execution_count": 157,
   "id": "17c4f80d-7972-4115-9b7d-497fb814dc3e",
   "metadata": {},
   "outputs": [
    {
     "data": {
      "text/plain": [
       "['Hyd', 'Mumbai', 'Chennai', 'Blr']"
      ]
     },
     "execution_count": 157,
     "metadata": {},
     "output_type": "execute_result"
    }
   ],
   "source": [
    "# Q5)l1=['Hyd','Mumbai','chennai','blr']\n",
    "#  ans= ['Hyd','Mumbai']\n",
    "#  we want lements which are having first letter capital\n",
    "l1=['Hyd','Mumbai','chennai','blr']\n",
    "ans=[]\n",
    "for i in l1:\n",
    "    ans.append(i.capitalize())\n",
    "ans"
   ]
  },
  {
   "cell_type": "code",
   "execution_count": 160,
   "id": "2277c7c1-184b-47d1-b7b2-88a255ae7521",
   "metadata": {},
   "outputs": [
    {
     "ename": "AttributeError",
     "evalue": "'tuple' object has no attribute 'split'",
     "output_type": "error",
     "traceback": [
      "\u001b[1;31m---------------------------------------------------------------------------\u001b[0m",
      "\u001b[1;31mAttributeError\u001b[0m                            Traceback (most recent call last)",
      "Cell \u001b[1;32mIn[160], line 2\u001b[0m\n\u001b[0;32m      1\u001b[0m l1\u001b[38;5;241m=\u001b[39m\u001b[38;5;124m'\u001b[39m\u001b[38;5;124mHyd\u001b[39m\u001b[38;5;124m'\u001b[39m,\u001b[38;5;124m'\u001b[39m\u001b[38;5;124mMumbai\u001b[39m\u001b[38;5;124m'\u001b[39m,\u001b[38;5;124m'\u001b[39m\u001b[38;5;124mchennai\u001b[39m\u001b[38;5;124m'\u001b[39m,\u001b[38;5;124m'\u001b[39m\u001b[38;5;124mblr\u001b[39m\u001b[38;5;124m'\u001b[39m\n\u001b[1;32m----> 2\u001b[0m l1\u001b[38;5;241m.\u001b[39msplit()\n",
      "\u001b[1;31mAttributeError\u001b[0m: 'tuple' object has no attribute 'split'"
     ]
    }
   ],
   "source": [
    "l1='Hyd','Mumbai','chennai','blr'\n",
    "l1.split()"
   ]
  },
  {
   "cell_type": "markdown",
   "id": "988019ba-b632-4c22-b32d-ec1bfbe4534e",
   "metadata": {},
   "source": [
    "**Split-Join**\n",
    "- split will apply for string , to divide the words or charecters when we split the elements will be stored in a list format.\n",
    "- join is used to combine the elements of the list in string format\n",
    "- **split for strings**\n",
    "- ***join for list***"
   ]
  },
  {
   "cell_type": "code",
   "execution_count": 165,
   "id": "ebb41549-afaf-4b61-99a6-63b0ff1f4574",
   "metadata": {},
   "outputs": [
    {
     "data": {
      "text/plain": [
       "'Hello I Am Learning Python'"
      ]
     },
     "execution_count": 165,
     "metadata": {},
     "output_type": "execute_result"
    }
   ],
   "source": [
    "str='Hello i am learning python'\n",
    "words=str.split()\n",
    "new_words=[]\n",
    "for i in words:\n",
    "    new_words.append(i.capitalize())\n",
    "new_words\n",
    "' '.join(new_words)"
   ]
  },
  {
   "cell_type": "code",
   "execution_count": 207,
   "id": "9770ecf7-4c65-4034-8f64-41720fd00c20",
   "metadata": {},
   "outputs": [
    {
     "data": {
      "text/plain": [
       "['Hello', 'i', 'am', 'learning', 'Python']"
      ]
     },
     "execution_count": 207,
     "metadata": {},
     "output_type": "execute_result"
    }
   ],
   "source": [
    "str='Hello i am learning Python'\n",
    "str.split()"
   ]
  },
  {
   "cell_type": "code",
   "execution_count": 170,
   "id": "b2f5a891-1571-45e4-9e7f-14ca0218f9a4",
   "metadata": {},
   "outputs": [
    {
     "ename": "SyntaxError",
     "evalue": "cannot assign to expression (1066940802.py, line 7)",
     "output_type": "error",
     "traceback": [
      "\u001b[1;36m  Cell \u001b[1;32mIn[170], line 7\u001b[1;36m\u001b[0m\n\u001b[1;33m    v1=x2-x1=a[2]-a[1]\u001b[0m\n\u001b[1;37m       ^\u001b[0m\n\u001b[1;31mSyntaxError\u001b[0m\u001b[1;31m:\u001b[0m cannot assign to expression\n"
     ]
    }
   ],
   "source": [
    "# calculate the distance between two points\n",
    "a=[1,2]\n",
    "b=[4,5]\n",
    "#a=[x1,x2]\n",
    "#b=[y1,y2]\n",
    "import math\n",
    "v1=x2-x1=a[2]-a[1]\n",
    "v2=y2-y1=b[2]-b[1]\n",
    "v11=v1**2\n",
    "v22=v2**2\n",
    "ans=math.sqrt(v11+v22)\n",
    "\n"
   ]
  },
  {
   "cell_type": "code",
   "execution_count": 174,
   "id": "dde1d5bc-67da-4566-83b7-d663c4981f59",
   "metadata": {},
   "outputs": [
    {
     "name": "stdout",
     "output_type": "stream",
     "text": [
      "1.4142135623730951\n"
     ]
    }
   ],
   "source": [
    "# calculate the distance between two points\n",
    "a=[1,2]\n",
    "b=[4,5]\n",
    "#a=[x1,x2]\n",
    "#b=[y1,y2]\n",
    "import math\n",
    "v1=a[1]-a[0]\n",
    "v2=b[1]-b[0]\n",
    "v11=v1**2\n",
    "v22=v2**2\n",
    "ans=math.sqrt(v11+v22)\n",
    "print(ans)\n"
   ]
  },
  {
   "cell_type": "code",
   "execution_count": 178,
   "id": "6d7a3e8f-d421-4a60-9262-69a7b888f7b7",
   "metadata": {},
   "outputs": [
    {
     "name": "stdout",
     "output_type": "stream",
     "text": [
      "1 2\n",
      "2 3\n",
      "========================\n",
      "2 3\n",
      "2 3\n",
      "========================\n",
      "3 4\n",
      "2 3\n",
      "========================\n"
     ]
    }
   ],
   "source": [
    "points=[[1,2],[2,3],[3,4]]\n",
    "val=[2,3]\n",
    "for i in points:\n",
    "    print(i[0],i[1])\n",
    "    print(val[0],val[1])\n",
    "    o1=val[0]-i[0]\n",
    "    o2=val[1]-i[1]\n",
    "    print(f'')\n",
    "    print('========================')"
   ]
  },
  {
   "cell_type": "code",
   "execution_count": 180,
   "id": "81f1ac57-e78a-448b-aae8-8ddf7c55a14d",
   "metadata": {},
   "outputs": [
    {
     "name": "stdout",
     "output_type": "stream",
     "text": [
      "hello\n"
     ]
    }
   ],
   "source": [
    "# Q8) str='hello hai how are you'\n",
    "# Maximum len of word using split and max method\n",
    "# sum of all the indexes of the maximum len of word using append\n",
    "str='hello hai how are you'\n",
    "words=str.split()\n",
    "len_words=[]\n",
    "for i in words:\n",
    "    x=len(i)\n",
    "    len_words.append(x)\n",
    "max_len=max(len_words)\n",
    "for i in words:\n",
    "    if len(i)==max_len:\n",
    "        print(i)"
   ]
  },
  {
   "cell_type": "code",
   "execution_count": 215,
   "id": "8617012b-457f-471c-85bb-26c712b59b56",
   "metadata": {},
   "outputs": [
    {
     "name": "stdout",
     "output_type": "stream",
     "text": [
      "hello\n",
      "5\n",
      "3\n"
     ]
    }
   ],
   "source": [
    "# Q8) str='hello hai how are you'\n",
    "# Maximum len of word using split and max method\n",
    "# sum of all the indexes of the maximum len of word using append\n",
    "str='hello hai how are you'\n",
    "words=str.split()\n",
    "len_words=[]\n",
    "for i in range(len(words)):\n",
    "    l=len(words[i])\n",
    "    len_words.append(l)\n",
    "max_len=max(len_words)\n",
    "\n",
    "for i in words:\n",
    "    if len(i)==max_len:\n",
    "        print(i)\n",
    "        print(max_len)\n",
    "        print(l)\n",
    "    "
   ]
  },
  {
   "cell_type": "code",
   "execution_count": 227,
   "id": "0b4621ec-b510-40d2-be8e-8cd108536d5c",
   "metadata": {},
   "outputs": [
    {
     "name": "stdout",
     "output_type": "stream",
     "text": [
      "['hello']\n"
     ]
    }
   ],
   "source": [
    "str='hello hai how are you'\n",
    "ans=[]\n",
    "words=str.split()\n",
    "max_len_word=max(words,key=len)\n",
    "for i in words:\n",
    "    if i==max_len_word:\n",
    "        ans.append(i)\n",
    "print(ans)\n",
    "        "
   ]
  },
  {
   "cell_type": "code",
   "execution_count": 15,
   "id": "ef9071e8-f058-4eb5-9b73-cc5106084bdf",
   "metadata": {},
   "outputs": [
    {
     "name": "stdout",
     "output_type": "stream",
     "text": [
      "hello\n"
     ]
    }
   ],
   "source": [
    "str='hello hai how are you'\n",
    "words=str.split()\n",
    "len_words=[]\n",
    "for i in words:\n",
    "    l=len(i)\n",
    "    len_words.append(l)\n",
    "max_len=max(len_words)\n",
    "for i in words:\n",
    "    if len(i)==max_len:\n",
    "        print(i)\n",
    "    "
   ]
  },
  {
   "cell_type": "code",
   "execution_count": 17,
   "id": "4470c0c0-73e6-4306-98db-c0119ddb0d88",
   "metadata": {},
   "outputs": [
    {
     "name": "stdin",
     "output_type": "stream",
     "text": [
      "What is capital of India Delhi\n",
      "Who is PM of india Modi\n",
      "Who is ICT ODI captian Rohit\n"
     ]
    },
    {
     "name": "stdout",
     "output_type": "stream",
     "text": [
      "the total marks are: 3\n"
     ]
    }
   ],
   "source": [
    "# 10 )\n",
    "#  You have two lists\n",
    "# qns=['What is capital of India',\n",
    "       #'Who is PM of india',\n",
    "        #'Who is ICT ODI captian']\n",
    "# ans = ['Delhi','Modi','Rohit']\n",
    "\n",
    "qns_list=['What is capital of India',\n",
    "       'Who is PM of india',\n",
    "        'Who is ICT ODI captian']\n",
    "ans_list=['Delhi','Modi','Rohit']\n",
    "marks=0\n",
    "for i in range (len(qns_list)):\n",
    "    ans=input(qns_list[i])\n",
    "    if ans.lower()==ans_list[i].lower():\n",
    "        marks=marks+1\n",
    "print('the total marks are:',marks)"
   ]
  },
  {
   "cell_type": "code",
   "execution_count": 87,
   "id": "953ae490-e85f-4fae-9d04-1b677ba5a162",
   "metadata": {},
   "outputs": [
    {
     "name": "stdin",
     "output_type": "stream",
     "text": [
      "What is the capital of India: Delhi\n",
      "Who is the PM of India : Modi\n",
      "Who is ICT ODI captain: \n"
     ]
    },
    {
     "name": "stdout",
     "output_type": "stream",
     "text": [
      "2\n"
     ]
    }
   ],
   "source": [
    "qns=['What is the capital of India:','Who is the PM of India :','Who is ICT ODI captain:']\n",
    "ans1=['Delhi','Modi','Rohit']\n",
    "marks=0\n",
    "for i in range (len(qns)):\n",
    "    ans=input(qns[i])\n",
    "    if ans.lower()==ans1[i].lower():\n",
    "        marks=marks+1\n",
    "print(marks)\n",
    "        "
   ]
  },
  {
   "cell_type": "code",
   "execution_count": 234,
   "id": "5c8b9ed6-bf90-48c3-8f97-3c496e67051f",
   "metadata": {},
   "outputs": [
    {
     "name": "stdin",
     "output_type": "stream",
     "text": [
      "What is the capital of India: delhi\n",
      "Who is the PM of India : modi\n",
      "Who is ICT ODI captain: Rohit\n"
     ]
    },
    {
     "name": "stdout",
     "output_type": "stream",
     "text": [
      "3\n"
     ]
    }
   ],
   "source": [
    "qns=['What is the capital of India:','Who is the PM of India :','Who is ICT ODI captain:']\n",
    "ans1=['Delhi','Modi','Rohit']\n",
    "marks=0\n",
    "for i in range(len(qns)):\n",
    "    ans=input(qns[i])\n",
    "    if ans.capitalize()==ans1[i].capitalize():\n",
    "        marks=marks+1\n",
    "print(marks)\n"
   ]
  },
  {
   "cell_type": "code",
   "execution_count": 20,
   "id": "6f797f2f-29a8-4133-9d4b-a94a828cf6a8",
   "metadata": {},
   "outputs": [
    {
     "data": {
      "text/plain": [
       "['__add__',\n",
       " '__class__',\n",
       " '__class_getitem__',\n",
       " '__contains__',\n",
       " '__delattr__',\n",
       " '__delitem__',\n",
       " '__dir__',\n",
       " '__doc__',\n",
       " '__eq__',\n",
       " '__format__',\n",
       " '__ge__',\n",
       " '__getattribute__',\n",
       " '__getitem__',\n",
       " '__getstate__',\n",
       " '__gt__',\n",
       " '__hash__',\n",
       " '__iadd__',\n",
       " '__imul__',\n",
       " '__init__',\n",
       " '__init_subclass__',\n",
       " '__iter__',\n",
       " '__le__',\n",
       " '__len__',\n",
       " '__lt__',\n",
       " '__mul__',\n",
       " '__ne__',\n",
       " '__new__',\n",
       " '__reduce__',\n",
       " '__reduce_ex__',\n",
       " '__repr__',\n",
       " '__reversed__',\n",
       " '__rmul__',\n",
       " '__setattr__',\n",
       " '__setitem__',\n",
       " '__sizeof__',\n",
       " '__str__',\n",
       " '__subclasshook__',\n",
       " 'append',\n",
       " 'clear',\n",
       " 'copy',\n",
       " 'count',\n",
       " 'extend',\n",
       " 'index',\n",
       " 'insert',\n",
       " 'pop',\n",
       " 'remove',\n",
       " 'reverse',\n",
       " 'sort']"
      ]
     },
     "execution_count": 20,
     "metadata": {},
     "output_type": "execute_result"
    }
   ],
   "source": [
    "dir([])"
   ]
  },
  {
   "cell_type": "code",
   "execution_count": 22,
   "id": "58d93292-b64f-46b1-b239-3becc7243e17",
   "metadata": {},
   "outputs": [
    {
     "data": {
      "text/plain": [
       "['bala', 'swamy', 93, 15, ['velijala']]"
      ]
     },
     "execution_count": 22,
     "metadata": {},
     "output_type": "execute_result"
    }
   ],
   "source": [
    "# Append vs extend vs concatination vs insert\n",
    "# pop vs remove\n",
    "# reverse vs reversed\n",
    "# srot vs sorted\n",
    "# index\n",
    "# clear and copy\n",
    "l=['bala','swamy',93,15]\n",
    "l1=['velijala']\n",
    "l.append(l1)\n",
    "l\n",
    "# "
   ]
  },
  {
   "cell_type": "code",
   "execution_count": 251,
   "id": "a3d11264-eab9-4c40-9679-4db394590001",
   "metadata": {},
   "outputs": [
    {
     "data": {
      "text/plain": [
       "1"
      ]
     },
     "execution_count": 251,
     "metadata": {},
     "output_type": "execute_result"
    }
   ],
   "source": [
    "l=[12,13,23,34,45,56,67,90]\n",
    "l1=['a,s,d,f,g,h,j']\n",
    "l.append(l1)\n",
    "l.index(13)"
   ]
  },
  {
   "cell_type": "code",
   "execution_count": 244,
   "id": "0172a09e-4f0a-4c7e-96e7-b264b536c631",
   "metadata": {},
   "outputs": [
    {
     "name": "stdout",
     "output_type": "stream",
     "text": [
      "9\n"
     ]
    },
    {
     "data": {
      "text/plain": [
       "[12, 13, 23, 34, 45, 56, 67, 90, 'a,s,d,f,g,h,j']"
      ]
     },
     "execution_count": 244,
     "metadata": {},
     "output_type": "execute_result"
    }
   ],
   "source": [
    "l=[12,13,23,34,45,56,67,90]\n",
    "l1=['a,s,d,f,g,h,j']\n",
    "l.extend(l1)\n",
    "print(len(l))\n",
    "l"
   ]
  },
  {
   "cell_type": "code",
   "execution_count": 91,
   "id": "ec0888d8-ad4d-4e16-9c5b-ea1001e8f094",
   "metadata": {},
   "outputs": [
    {
     "name": "stdout",
     "output_type": "stream",
     "text": [
      "[1, 2, 3, 4, 5, 6, 7, ['A', 'B', 'C', 'D']]\n"
     ]
    },
    {
     "data": {
      "text/plain": [
       "8"
      ]
     },
     "execution_count": 91,
     "metadata": {},
     "output_type": "execute_result"
    }
   ],
   "source": [
    "l1=[1,2,3,4,5,6,7]\n",
    "l2=['A','B','C','D']\n",
    "l1.append(l2)\n",
    "print(l1)\n",
    "len(l1)"
   ]
  },
  {
   "cell_type": "code",
   "execution_count": 93,
   "id": "b0e65e72-afe2-4480-8511-000c13c146ce",
   "metadata": {},
   "outputs": [
    {
     "name": "stdout",
     "output_type": "stream",
     "text": [
      "[1, 2, 3, 4, 5, 6, 7, 'A', 'B', 'C', 'D']\n"
     ]
    },
    {
     "data": {
      "text/plain": [
       "11"
      ]
     },
     "execution_count": 93,
     "metadata": {},
     "output_type": "execute_result"
    }
   ],
   "source": [
    "l1=[1,2,3,4,5,6,7]\n",
    "l2=['A','B','C','D']\n",
    "l1.extend(l2)\n",
    "print(l1)\n",
    "len(l1)\n"
   ]
  },
  {
   "cell_type": "code",
   "execution_count": 97,
   "id": "86cfde81-cb4d-4f61-a106-7cb6a2a6663c",
   "metadata": {},
   "outputs": [
    {
     "name": "stdout",
     "output_type": "stream",
     "text": [
      "[1, 2, 3, 4, 5, 6, 7, 'a', 'p', 'p', 'l', 'e']\n"
     ]
    },
    {
     "data": {
      "text/plain": [
       "[1, 3, 5, 7]"
      ]
     },
     "execution_count": 97,
     "metadata": {},
     "output_type": "execute_result"
    }
   ],
   "source": [
    "l1=[1,2,3,4,5,6,7]\n",
    "l1.extend('apple')\n",
    "print(l1)\n",
    "l1[0:7:2]"
   ]
  },
  {
   "cell_type": "code",
   "execution_count": 245,
   "id": "b8457613-e684-4096-9fe6-b0a4080f1259",
   "metadata": {},
   "outputs": [
    {
     "data": {
      "text/plain": [
       "[1, 2, 3, 4, 4, 5, 6, 'a', 'p', 'p', 'l', 'e']"
      ]
     },
     "execution_count": 245,
     "metadata": {},
     "output_type": "execute_result"
    }
   ],
   "source": [
    "l1=[1,2,3,4,4,5,6]\n",
    "l1.extend('apple')\n",
    "l1"
   ]
  },
  {
   "cell_type": "code",
   "execution_count": 247,
   "id": "bbdc6c62-6cfe-4bd7-87e9-b13de44fab34",
   "metadata": {},
   "outputs": [
    {
     "data": {
      "text/plain": [
       "[1, 2, 3, 4, 4, 5, 6, 12, 34, 56, 78, 89]"
      ]
     },
     "execution_count": 247,
     "metadata": {},
     "output_type": "execute_result"
    }
   ],
   "source": [
    "l1=[1,2,3,4,4,5,6]\n",
    "l1.extend([12,34,56,78,89])\n",
    "l1"
   ]
  },
  {
   "cell_type": "code",
   "execution_count": 248,
   "id": "c3cf7156-1064-4f6d-a5b4-4f1308700039",
   "metadata": {},
   "outputs": [
    {
     "data": {
      "text/plain": [
       "[1, 2, 3, 4, 4, 5, 6, 12, 34, 56, 78, 89]"
      ]
     },
     "execution_count": 248,
     "metadata": {},
     "output_type": "execute_result"
    }
   ],
   "source": [
    "l1=[1,2,3,4,4,5,6]\n",
    "l1.extend((12,34,56,78,89))\n",
    "l1"
   ]
  },
  {
   "cell_type": "code",
   "execution_count": 98,
   "id": "7f07a891-d4ba-4d00-a037-c04a01d1db50",
   "metadata": {},
   "outputs": [
    {
     "data": {
      "text/plain": [
       "[1, 2, 3, 4, 5, 6, 7, 123, 234, 567, 890]"
      ]
     },
     "execution_count": 98,
     "metadata": {},
     "output_type": "execute_result"
    }
   ],
   "source": [
    "l1=[1,2,3,4,5,6,7]\n",
    "l1.extend((123,234,567,890))\n",
    "l1"
   ]
  },
  {
   "cell_type": "code",
   "execution_count": 100,
   "id": "5dbaaf00-2717-4a1e-bf9b-7833aae229ee",
   "metadata": {},
   "outputs": [
    {
     "data": {
      "text/plain": [
       "[1, 2, 3, 4, 5, 6, 7, 1, 2, 3, 4, 5]"
      ]
     },
     "execution_count": 100,
     "metadata": {},
     "output_type": "execute_result"
    }
   ],
   "source": [
    "l1=[1,2,3,4,5,6,7]\n",
    "l1.extend([1,2,3,4,5])\n",
    "l1"
   ]
  },
  {
   "cell_type": "code",
   "execution_count": 65,
   "id": "6e882468-dfdd-4705-860d-5673c08acd50",
   "metadata": {},
   "outputs": [
    {
     "name": "stdout",
     "output_type": "stream",
     "text": [
      "['bala', 'swamy', 93, 15, 'velijala']\n",
      "['velijala']\n"
     ]
    }
   ],
   "source": [
    "l=['bala','swamy',93,15]\n",
    "l1=['velijala']\n",
    "l.extend(l1)\n",
    "print(l)\n",
    "print(l1)\n",
    "# l1 is overwriting the with l2 values\n"
   ]
  },
  {
   "cell_type": "code",
   "execution_count": 66,
   "id": "5abc05b5-9018-40b9-a57f-e3a46f1f4ef1",
   "metadata": {},
   "outputs": [
    {
     "data": {
      "text/plain": [
       "[1, 2, 3, 4, 'b', 'a', 'l', 'a']"
      ]
     },
     "execution_count": 66,
     "metadata": {},
     "output_type": "execute_result"
    }
   ],
   "source": [
    "l1=[1,2,3,4,]\n",
    "l1.extend('bala')\n",
    "l1"
   ]
  },
  {
   "cell_type": "code",
   "execution_count": 67,
   "id": "ff88234a-fbaf-4ef0-8793-17351a74adc0",
   "metadata": {},
   "outputs": [
    {
     "ename": "TypeError",
     "evalue": "list.extend() takes exactly one argument (3 given)",
     "output_type": "error",
     "traceback": [
      "\u001b[1;31m---------------------------------------------------------------------------\u001b[0m",
      "\u001b[1;31mTypeError\u001b[0m                                 Traceback (most recent call last)",
      "Cell \u001b[1;32mIn[67], line 2\u001b[0m\n\u001b[0;32m      1\u001b[0m l1\u001b[38;5;241m=\u001b[39m[\u001b[38;5;241m1\u001b[39m,\u001b[38;5;241m2\u001b[39m,\u001b[38;5;241m3\u001b[39m,\u001b[38;5;241m4\u001b[39m,]\n\u001b[1;32m----> 2\u001b[0m l1\u001b[38;5;241m.\u001b[39mextend(\u001b[38;5;241m10\u001b[39m,\u001b[38;5;241m23\u001b[39m,\u001b[38;5;241m45\u001b[39m)\n\u001b[0;32m      3\u001b[0m l1\n",
      "\u001b[1;31mTypeError\u001b[0m: list.extend() takes exactly one argument (3 given)"
     ]
    }
   ],
   "source": [
    "l1=[1,2,3,4,]\n",
    "l1.extend(10,23,45)\n",
    "l1"
   ]
  },
  {
   "cell_type": "code",
   "execution_count": 68,
   "id": "8ccff8cd-9a84-400f-86be-ce7dd3bea2ac",
   "metadata": {},
   "outputs": [
    {
     "data": {
      "text/plain": [
       "[1, 2, 3, 4, 10, 23, 45]"
      ]
     },
     "execution_count": 68,
     "metadata": {},
     "output_type": "execute_result"
    }
   ],
   "source": [
    "l1=[1,2,3,4,]\n",
    "l1.extend([10,23,45])\n",
    "l1"
   ]
  },
  {
   "cell_type": "code",
   "execution_count": 69,
   "id": "93a2b00b-396c-4ef1-a104-98bb46d02861",
   "metadata": {},
   "outputs": [
    {
     "data": {
      "text/plain": [
       "[1, 2, 3, 4, 10, 23, 45]"
      ]
     },
     "execution_count": 69,
     "metadata": {},
     "output_type": "execute_result"
    }
   ],
   "source": [
    "l1=[1,2,3,4,]\n",
    "l1.extend((10,23,45))\n",
    "l1"
   ]
  },
  {
   "cell_type": "code",
   "execution_count": 64,
   "id": "6fe76e0a-fcad-4ce3-b8af-fddf8b8f5997",
   "metadata": {},
   "outputs": [
    {
     "name": "stdout",
     "output_type": "stream",
     "text": [
      "['bala', 'swamy', 93, 15]\n",
      "['velijala']\n",
      "['bala', 'swamy', 93, 15, 'velijala']\n"
     ]
    }
   ],
   "source": [
    "l=['bala','swamy',93,15]\n",
    "l1=['velijala']\n",
    "con=l+l1\n",
    "con\n",
    "print(l)\n",
    "print(l1)\n",
    "print(con)\n",
    "# l1 l2 are not changing.\n"
   ]
  },
  {
   "cell_type": "code",
   "execution_count": 102,
   "id": "e5a9baf4-61f3-44bd-87d1-8efddd232591",
   "metadata": {},
   "outputs": [
    {
     "data": {
      "text/plain": [
       "[1, 2, 3, 4, 5, 6, 7, 2, 3, 4, 5, 6, 7]"
      ]
     },
     "execution_count": 102,
     "metadata": {},
     "output_type": "execute_result"
    }
   ],
   "source": [
    "l1=[1,2,3,4,5,6,7]\n",
    "l2=[2,3,4,5,6,7]\n",
    "con=l1+l2\n",
    "con"
   ]
  },
  {
   "cell_type": "markdown",
   "id": "7d14fb01-95ee-4852-9f28-ff9d915ca50b",
   "metadata": {},
   "source": [
    "- append just append the value with base data type \n",
    "- extend is concatinate the value, and the list will be overwirte with new values\n",
    "- extend can take any iterabel format type ..ex ..string,list,tuple\n",
    "- extend and concatination both are same.\n",
    "- the list will not overwrite in concatenation"
   ]
  },
  {
   "cell_type": "code",
   "execution_count": 51,
   "id": "bb6d0c96-2842-462c-9aeb-30e43b731df2",
   "metadata": {},
   "outputs": [
    {
     "ename": "TypeError",
     "evalue": "insert expected 2 arguments, got 1",
     "output_type": "error",
     "traceback": [
      "\u001b[1;31m---------------------------------------------------------------------------\u001b[0m",
      "\u001b[1;31mTypeError\u001b[0m                                 Traceback (most recent call last)",
      "Cell \u001b[1;32mIn[51], line 3\u001b[0m\n\u001b[0;32m      1\u001b[0m l\u001b[38;5;241m=\u001b[39m[\u001b[38;5;124m'\u001b[39m\u001b[38;5;124mbala\u001b[39m\u001b[38;5;124m'\u001b[39m,\u001b[38;5;124m'\u001b[39m\u001b[38;5;124mswamy\u001b[39m\u001b[38;5;124m'\u001b[39m,\u001b[38;5;241m93\u001b[39m,\u001b[38;5;241m15\u001b[39m]\n\u001b[0;32m      2\u001b[0m l1\u001b[38;5;241m=\u001b[39m[\u001b[38;5;124m'\u001b[39m\u001b[38;5;124mvelijala\u001b[39m\u001b[38;5;124m'\u001b[39m]\n\u001b[1;32m----> 3\u001b[0m l\u001b[38;5;241m.\u001b[39minsert([\u001b[38;5;241m1\u001b[39m])\n\u001b[0;32m      4\u001b[0m l\n",
      "\u001b[1;31mTypeError\u001b[0m: insert expected 2 arguments, got 1"
     ]
    }
   ],
   "source": [
    "l=['bala','swamy',93,15]\n",
    "l1=['velijala']\n",
    "l.insert([1])\n",
    "l"
   ]
  },
  {
   "cell_type": "code",
   "execution_count": 47,
   "id": "3259e586-1ac3-4b3d-ac9c-b0280514ac0f",
   "metadata": {},
   "outputs": [
    {
     "data": {
      "text/plain": [
       "93"
      ]
     },
     "execution_count": 47,
     "metadata": {},
     "output_type": "execute_result"
    }
   ],
   "source": [
    "l=['bala','swamy',93,15]\n",
    "l1=['velijala']\n",
    "l.pop([2][-1])"
   ]
  },
  {
   "cell_type": "code",
   "execution_count": 103,
   "id": "eb80595e-a642-4abd-80c5-e6d7c9f40221",
   "metadata": {},
   "outputs": [
    {
     "data": {
      "text/plain": [
       "67"
      ]
     },
     "execution_count": 103,
     "metadata": {},
     "output_type": "execute_result"
    }
   ],
   "source": [
    "l1=['balaswamy','velijala',67,90,23]\n",
    "l1.pop([2][-1])"
   ]
  },
  {
   "cell_type": "code",
   "execution_count": 109,
   "id": "48cd0bb4-13f5-476c-8fd5-3517a180b0d9",
   "metadata": {},
   "outputs": [
    {
     "data": {
      "text/plain": [
       "['balaswamy', 'velijala', 90, 23]"
      ]
     },
     "execution_count": 109,
     "metadata": {},
     "output_type": "execute_result"
    }
   ],
   "source": [
    "l1=['balaswamy','velijala',67,90,23]\n",
    "l1.remove(67)\n",
    "l1"
   ]
  },
  {
   "cell_type": "code",
   "execution_count": 43,
   "id": "ffb1dc08-0b75-4e0e-9c3a-be4a3bdb71a3",
   "metadata": {},
   "outputs": [
    {
     "data": {
      "text/plain": [
       "['swamy', 93, 15]"
      ]
     },
     "execution_count": 43,
     "metadata": {},
     "output_type": "execute_result"
    }
   ],
   "source": [
    "l=['bala','swamy',93,15]\n",
    "l1=['velijala']\n",
    "l.remove('bala')\n",
    "l"
   ]
  },
  {
   "cell_type": "code",
   "execution_count": 53,
   "id": "43da4bea-d494-48da-8c02-b950bb025400",
   "metadata": {},
   "outputs": [
    {
     "data": {
      "text/plain": [
       "[15, 93, 'swamy', 'bala']"
      ]
     },
     "execution_count": 53,
     "metadata": {},
     "output_type": "execute_result"
    }
   ],
   "source": [
    "l=['bala','swamy',93,15]\n",
    "l1=['velijala']\n",
    "l.reverse()\n",
    "l"
   ]
  },
  {
   "cell_type": "code",
   "execution_count": 255,
   "id": "65510592-5a52-4285-94d1-450ae0c4231b",
   "metadata": {},
   "outputs": [
    {
     "data": {
      "text/plain": [
       "[56, 34, 'balaswamy']"
      ]
     },
     "execution_count": 255,
     "metadata": {},
     "output_type": "execute_result"
    }
   ],
   "source": [
    "l=['balaswamy',34,56]\n",
    "l.reverse()\n",
    "l"
   ]
  },
  {
   "cell_type": "markdown",
   "id": "13b41cda-313a-415f-b445-ec42dca16a41",
   "metadata": {},
   "source": [
    "*copy*"
   ]
  },
  {
   "cell_type": "code",
   "execution_count": 60,
   "id": "3ea1aff1-3aaf-441b-8989-5886ab412627",
   "metadata": {},
   "outputs": [
    {
     "data": {
      "text/plain": [
       "[1, 2, 3, 4, 5, 678, 67, 54, 32]"
      ]
     },
     "execution_count": 60,
     "metadata": {},
     "output_type": "execute_result"
    }
   ],
   "source": [
    "l1=[1,2,3,4,5,678,67,54,32]\n",
    "l2=l1.copy()\n",
    "l2"
   ]
  },
  {
   "cell_type": "code",
   "execution_count": 115,
   "id": "802334be-e4e3-481f-8ba9-74042c79ff78",
   "metadata": {},
   "outputs": [
    {
     "name": "stdout",
     "output_type": "stream",
     "text": [
      "[1, 3, 5, 6, 7, 9, 0]\n",
      "[1, 3, 5, 6, 7, 9, 0]\n"
     ]
    }
   ],
   "source": [
    "l1=[1,3,5,6,7,9,0]\n",
    "l2=l1.copy()\n",
    "print(l1)\n",
    "print(l2)"
   ]
  },
  {
   "cell_type": "markdown",
   "id": "a3af6d01-daa4-4f84-b008-4ee2f6ec36eb",
   "metadata": {},
   "source": [
    "**Clear**"
   ]
  },
  {
   "cell_type": "code",
   "execution_count": 61,
   "id": "8b23b3e2-c5c7-4180-ad7c-0821705d0683",
   "metadata": {},
   "outputs": [
    {
     "data": {
      "text/plain": [
       "[]"
      ]
     },
     "execution_count": 61,
     "metadata": {},
     "output_type": "execute_result"
    }
   ],
   "source": [
    "l1.clear()\n",
    "l1"
   ]
  },
  {
   "cell_type": "code",
   "execution_count": 118,
   "id": "0f6b97ba-04e3-4473-8165-dc1ea9d0a833",
   "metadata": {},
   "outputs": [
    {
     "data": {
      "text/plain": [
       "[]"
      ]
     },
     "execution_count": 118,
     "metadata": {},
     "output_type": "execute_result"
    }
   ],
   "source": [
    "l1.clear()\n",
    "l1"
   ]
  },
  {
   "cell_type": "code",
   "execution_count": 62,
   "id": "9f7ad71b-0e1f-41aa-80da-6392a167397e",
   "metadata": {},
   "outputs": [
    {
     "data": {
      "text/plain": [
       "[1, 2, 3, 4, 5, 678, 67, 54, 32]"
      ]
     },
     "execution_count": 62,
     "metadata": {},
     "output_type": "execute_result"
    }
   ],
   "source": [
    "l2"
   ]
  },
  {
   "cell_type": "markdown",
   "id": "4f21cd7a-2bf1-4194-ac11-36ac8ea15e39",
   "metadata": {},
   "source": [
    "**Index**\n",
    "- same like strings only"
   ]
  },
  {
   "cell_type": "code",
   "execution_count": 79,
   "id": "8f5b31ee-4efa-46fd-85c9-3376b75f771d",
   "metadata": {},
   "outputs": [
    {
     "data": {
      "text/plain": [
       "6"
      ]
     },
     "execution_count": 79,
     "metadata": {},
     "output_type": "execute_result"
    }
   ],
   "source": [
    "l1=[1,2,3,4,5,6,'apple',7,'apple']\n",
    "l1.index(2)\n",
    "l1.index('apple')\n",
    "i1=l1.index('apple')\n",
    "i2=l1.index('apple',i1+1)\n",
    "i3=l1.index('apple',2,8)\n",
    "i3"
   ]
  },
  {
   "cell_type": "code",
   "execution_count": 133,
   "id": "99da620a-66e8-4356-b323-f665399fac2e",
   "metadata": {},
   "outputs": [
    {
     "data": {
      "text/plain": [
       "3"
      ]
     },
     "execution_count": 133,
     "metadata": {},
     "output_type": "execute_result"
    }
   ],
   "source": [
    "l1=[1,2,3,4,5,'bala',2,4,8,'bala',6,4,2,8,'bala']\n",
    "l1.index(3)\n",
    "l1.index('bala')\n",
    "i1=l1.index('bala')\n",
    "i2=l1.index('bala',i1+1)\n",
    "i3=l1.index('bala',i2+1)\n",
    "count=0\n",
    "for i in range(len(l1)):\n",
    "    if l1[i]== 'bala':\n",
    "        count=count+1\n",
    "count\n",
    "    "
   ]
  },
  {
   "cell_type": "code",
   "execution_count": 260,
   "id": "e9b9aa39-7037-4f90-8fa3-a83a30312a15",
   "metadata": {},
   "outputs": [
    {
     "data": {
      "text/plain": [
       "14"
      ]
     },
     "execution_count": 260,
     "metadata": {},
     "output_type": "execute_result"
    }
   ],
   "source": [
    "l1=[1,2,3,4,5,'bala',2,4,8,'bala',6,4,2,8,'bala']\n",
    "l1.index(4)\n",
    "i=l1.index('bala')\n",
    "i1=l1.index('bala',i+1)\n",
    "i2=l1.index('bala',i1+1)\n",
    "i2"
   ]
  },
  {
   "cell_type": "code",
   "execution_count": null,
   "id": "07991200-acdd-4c84-80da-3a47641c4685",
   "metadata": {},
   "outputs": [],
   "source": [
    "- case-1: directly get the index\n",
    "- case-2: next value index, by providing start value\n",
    "- case-3: Between the values"
   ]
  },
  {
   "cell_type": "markdown",
   "id": "8f15eea3-7443-4bc2-a9bc-f98426d18dae",
   "metadata": {},
   "source": [
    "**Insert**\n",
    "- insert will insert the element based on index\n",
    "- append will add the eliment at last only"
   ]
  },
  {
   "cell_type": "code",
   "execution_count": 2,
   "id": "7f1da261-c0df-4e64-8dbf-4ebb18436c81",
   "metadata": {},
   "outputs": [
    {
     "data": {
      "text/plain": [
       "[1, 2, 3, 'banana', 'Apple', 10, 20, 'Apple', 30]"
      ]
     },
     "execution_count": 2,
     "metadata": {},
     "output_type": "execute_result"
    }
   ],
   "source": [
    "l1=[1,2,3,'Apple',10,20,'Apple',30]\n",
    "i1=l1.index('Apple') # apple index\n",
    "l1.insert(i1,'banana') # insert banana before indexi1(3)\n",
    "l1"
   ]
  },
  {
   "cell_type": "code",
   "execution_count": 3,
   "id": "dc881e23-fbb4-45ee-ad1f-3d60e3c64202",
   "metadata": {},
   "outputs": [
    {
     "data": {
      "text/plain": [
       "[1, 2, 3, 'Apple', 10, 20, 'Apple', 'banana', 30]"
      ]
     },
     "execution_count": 3,
     "metadata": {},
     "output_type": "execute_result"
    }
   ],
   "source": [
    "l1=[1,2,3,'Apple',10,20,'Apple',30]\n",
    "i1=l1.index(30) # apple index\n",
    "l1.insert(i1,'banana') # insert banana before indexi1(3)\n",
    "l1"
   ]
  },
  {
   "cell_type": "code",
   "execution_count": 4,
   "id": "a9736bd6-9157-49fa-9c11-7e7621eadc24",
   "metadata": {},
   "outputs": [
    {
     "data": {
      "text/plain": [
       "[1, 2, 3, 'Apple', 10, 20, 'Apple', 'Cherry', 30]"
      ]
     },
     "execution_count": 4,
     "metadata": {},
     "output_type": "execute_result"
    }
   ],
   "source": [
    "l1=[1,2,3,'Apple',10,20,'Apple',30]\n",
    "i1=l1.index(30)\n",
    "l1.insert(i1,'Cherry') \n",
    "l1"
   ]
  },
  {
   "cell_type": "code",
   "execution_count": 5,
   "id": "1441e2ec-8cf8-42a0-8732-ef84ad8d3001",
   "metadata": {},
   "outputs": [
    {
     "data": {
      "text/plain": [
       "[1, 2, 3, 'Apple', 10, 20, 'Cherry', 'Apple', 30]"
      ]
     },
     "execution_count": 5,
     "metadata": {},
     "output_type": "execute_result"
    }
   ],
   "source": [
    "l1=[1,2,3,'Apple',10,20,'Apple',30]\n",
    "#step:1 we wnat to find the index of 2nd 'apple'\n",
    "#step:2 how to find the second apple index\n",
    "i1=l1.index('Apple')\n",
    "i2=l1.index('Apple',i1+1)\n",
    "l1.insert(i2,'Cherry')\n",
    "l1"
   ]
  },
  {
   "cell_type": "markdown",
   "id": "47339a59-dac6-4d54-a496-4208b06313f1",
   "metadata": {},
   "source": [
    "**Pop**\n",
    "- pop will remove the item\n",
    "- pop also display the item which is removing\n",
    "- pop will take one orgument:index\n",
    "- pop will remove the item based on index\n",
    "- if you dont provide any index , by default it will remove last value\n",
    "- becuase the default index value is -1"
   ]
  },
  {
   "cell_type": "code",
   "execution_count": 6,
   "id": "8d992df8-7002-4e7d-8d49-566fb97e2a59",
   "metadata": {},
   "outputs": [
    {
     "data": {
      "text/plain": [
       "[1, 2, 3, 'Apple', 10, 20, 'Apple']"
      ]
     },
     "execution_count": 6,
     "metadata": {},
     "output_type": "execute_result"
    }
   ],
   "source": [
    "l1=[1,2,3,'Apple',10,20,'Apple',30]\n",
    "l1.pop()\n",
    "l1\n"
   ]
  },
  {
   "cell_type": "code",
   "execution_count": 7,
   "id": "ed814b72-ec7e-4481-aa7b-4d759ce96f59",
   "metadata": {},
   "outputs": [
    {
     "data": {
      "text/plain": [
       "'Apple'"
      ]
     },
     "execution_count": 7,
     "metadata": {},
     "output_type": "execute_result"
    }
   ],
   "source": [
    "l1=[1,2,3,'Apple',10,20,'Apple',30]\n",
    "i1=l1.index('Apple')\n",
    "l1.pop(i1)"
   ]
  },
  {
   "cell_type": "code",
   "execution_count": 8,
   "id": "11b217aa-4936-41a5-b4ea-0498c853d736",
   "metadata": {},
   "outputs": [
    {
     "data": {
      "text/plain": [
       "'Apple'"
      ]
     },
     "execution_count": 8,
     "metadata": {},
     "output_type": "execute_result"
    }
   ],
   "source": [
    "l1=[1,2,3,'Apple',10,20,'Apple',30]\n",
    "i1=l1.index('Apple')\n",
    "i2=l1.index('Apple',i1+1)\n",
    "l1.pop(i2)"
   ]
  },
  {
   "cell_type": "code",
   "execution_count": 18,
   "id": "48c4f3c1-9abb-4050-b83f-bf12065d0bf2",
   "metadata": {},
   "outputs": [
    {
     "data": {
      "text/plain": [
       "[1, 2, 3, 'Apple', 10, 20, 'balaswamy', 'Apple', 30]"
      ]
     },
     "execution_count": 18,
     "metadata": {},
     "output_type": "execute_result"
    }
   ],
   "source": [
    "l1=[1,2,3,'Apple',10,20,'Apple',30]\n",
    "i1=l1.index('Apple')\n",
    "i2=l1.index('Apple',i1+1)\n",
    "l1.insert(i2,'balaswamy')\n",
    "\n",
    "\n"
   ]
  },
  {
   "cell_type": "code",
   "execution_count": 20,
   "id": "0f625c2e-c255-49ad-afe6-a6bdec2cd716",
   "metadata": {},
   "outputs": [
    {
     "data": {
      "text/plain": [
       "[1, 2, 3, 10, 20, 30]"
      ]
     },
     "execution_count": 20,
     "metadata": {},
     "output_type": "execute_result"
    }
   ],
   "source": [
    "l1=[1,2,3,'Apple',10,20,'Apple',30]\n",
    "i1=l1.index('Apple')\n",
    "l1.pop(i1)\n",
    "###########################\n",
    "i1=l1.index('Apple')\n",
    "l1.pop(i1)\n",
    "l1\n"
   ]
  },
  {
   "cell_type": "code",
   "execution_count": 6,
   "id": "8ce2273a-5c20-4bb4-84fc-502155c032e9",
   "metadata": {},
   "outputs": [
    {
     "data": {
      "text/plain": [
       "'hai how are you i am good thank you'"
      ]
     },
     "execution_count": 6,
     "metadata": {},
     "output_type": "execute_result"
    }
   ],
   "source": [
    "str='hai apple how are you apple i am good apple thank you apple'\n",
    "# o/p= \n",
    "# step1: split\n",
    "# iterate it \n",
    "# pop it\n",
    "# joint it\n",
    "l1=str.split()\n",
    "count=l1.count('apple')\n",
    "for i in range (count):\n",
    "    i1=l1.index('apple')\n",
    "    l1.pop(i1)\n",
    "' '.join(l1)"
   ]
  },
  {
   "cell_type": "code",
   "execution_count": 4,
   "id": "03e29bef-ebff-4fc6-a565-a8de969375ed",
   "metadata": {},
   "outputs": [
    {
     "data": {
      "text/plain": [
       "'hai how are you i am good thank you'"
      ]
     },
     "execution_count": 4,
     "metadata": {},
     "output_type": "execute_result"
    }
   ],
   "source": [
    "str='hai apple how are you apple i am good apple thank you apple'\n",
    "l1=str.split()\n",
    "count=l1.count('apple')\n",
    "for i in range(count):\n",
    "    l1.remove('apple')\n",
    "' '.join(l1)"
   ]
  },
  {
   "cell_type": "markdown",
   "id": "75f27b20-2ae3-441a-94c2-dc38e849353d",
   "metadata": {},
   "source": [
    "**Remove**\n",
    "- pop will take the index\n",
    "- remove will take the value\n",
    "- remove will delete the first occurence of element\n"
   ]
  },
  {
   "cell_type": "code",
   "execution_count": 38,
   "id": "1db83795-3d1f-4cc2-8118-78ca60b0b3e6",
   "metadata": {},
   "outputs": [
    {
     "data": {
      "text/plain": [
       "[1, 2, 3, 10, 20, 'Apple', 30]"
      ]
     },
     "execution_count": 38,
     "metadata": {},
     "output_type": "execute_result"
    }
   ],
   "source": [
    "l1=[1,2,3,'Apple',10,20,'Apple',30]\n",
    "l1.remove('Apple')\n",
    "l1"
   ]
  },
  {
   "cell_type": "markdown",
   "id": "ce394263-da70-4fa0-976f-248cfe304b18",
   "metadata": {},
   "source": [
    "**Del**"
   ]
  },
  {
   "cell_type": "code",
   "execution_count": 52,
   "id": "b9c151fa-27be-4c2a-84dc-a0626f6642a1",
   "metadata": {},
   "outputs": [
    {
     "data": {
      "text/plain": [
       "[1, 2, 3, 10, 20, 'Apple', 30]"
      ]
     },
     "execution_count": 52,
     "metadata": {},
     "output_type": "execute_result"
    }
   ],
   "source": [
    "l1=[1,2,3,'Apple',10,20,'Apple',30]\n",
    "del(l1[3])\n",
    "l1"
   ]
  },
  {
   "cell_type": "markdown",
   "id": "a1e38823-21d8-4bd4-83a0-53ff840bf65d",
   "metadata": {},
   "source": [
    "***Tuple***"
   ]
  },
  {
   "cell_type": "markdown",
   "id": "b7dea27d-7369-4be3-94a0-3cfb573026cf",
   "metadata": {},
   "source": [
    "- representation\n",
    "- type\n",
    "- len\n",
    "- max\n",
    "- min\n",
    "- sum\n",
    "- sorted\n",
    "- reversed\n",
    "- in\n",
    "- for loop withi in\n",
    "- index\n",
    "- for loo with index\n",
    "- mutable and immutable\n",
    "- sliceing\n",
    "- caoncatenation\n",
    "- Methods\n",
    "- tuples"
   ]
  },
  {
   "cell_type": "markdown",
   "id": "49e1d4f8-000a-4c78-9e29-74ef51c6ad11",
   "metadata": {},
   "source": [
    "**representation**"
   ]
  },
  {
   "cell_type": "code",
   "execution_count": 7,
   "id": "6e80d3b7-a7b7-433c-93a4-331a7264802c",
   "metadata": {},
   "outputs": [
    {
     "data": {
      "text/plain": [
       "(1, 2, 3, 4, 5)"
      ]
     },
     "execution_count": 7,
     "metadata": {},
     "output_type": "execute_result"
    }
   ],
   "source": [
    "t=(1,2,3,4,5)\n",
    "t"
   ]
  },
  {
   "cell_type": "code",
   "execution_count": 8,
   "id": "6fb43e9f-487a-4a8f-bc2b-0297ce8126f6",
   "metadata": {},
   "outputs": [
    {
     "data": {
      "text/plain": [
       "('balaswamy', 'velijala', 'BRS', 'brothers')"
      ]
     },
     "execution_count": 8,
     "metadata": {},
     "output_type": "execute_result"
    }
   ],
   "source": [
    "t=('balaswamy','velijala','BRS','brothers')\n",
    "t"
   ]
  },
  {
   "cell_type": "code",
   "execution_count": 10,
   "id": "380c3f72-b77f-4ec2-bfe1-4f51fae756a1",
   "metadata": {},
   "outputs": [
    {
     "data": {
      "text/plain": [
       "(1, 2, 3, 4, 'A', 'B')"
      ]
     },
     "execution_count": 10,
     "metadata": {},
     "output_type": "execute_result"
    }
   ],
   "source": [
    "t=(1,2,3,4,'A','B')\n",
    "t"
   ]
  },
  {
   "cell_type": "code",
   "execution_count": 12,
   "id": "21e291bd-427a-43cd-89ef-6d83b0f12687",
   "metadata": {},
   "outputs": [
    {
     "data": {
      "text/plain": [
       "tuple"
      ]
     },
     "execution_count": 12,
     "metadata": {},
     "output_type": "execute_result"
    }
   ],
   "source": [
    "t=(1,2,3,4,5.6,7.5,'bala',True)\n",
    "type(t)"
   ]
  },
  {
   "cell_type": "code",
   "execution_count": 14,
   "id": "a3644fc8-c2dc-49bc-9913-9eac73331900",
   "metadata": {},
   "outputs": [
    {
     "data": {
      "text/plain": [
       "6"
      ]
     },
     "execution_count": 14,
     "metadata": {},
     "output_type": "execute_result"
    }
   ],
   "source": [
    "t1=(1,2,3,4,('bala','swamy'),True)\n",
    "len(t1)"
   ]
  },
  {
   "cell_type": "code",
   "execution_count": 16,
   "id": "3d5a021d-efc9-4434-9ff6-51e4db62ba6e",
   "metadata": {},
   "outputs": [
    {
     "data": {
      "text/plain": [
       "5"
      ]
     },
     "execution_count": 16,
     "metadata": {},
     "output_type": "execute_result"
    }
   ],
   "source": [
    "t=(1,2,3,4,5)\n",
    "max(t)"
   ]
  },
  {
   "cell_type": "code",
   "execution_count": 17,
   "id": "1505bfca-234b-43d8-89c5-1c1f2ccd3df4",
   "metadata": {},
   "outputs": [
    {
     "data": {
      "text/plain": [
       "'y'"
      ]
     },
     "execution_count": 17,
     "metadata": {},
     "output_type": "execute_result"
    }
   ],
   "source": [
    "t=('A','d','t','y')\n",
    "max(t)"
   ]
  },
  {
   "cell_type": "code",
   "execution_count": 18,
   "id": "b57d8f01-a286-449a-b45a-bb6bb37df488",
   "metadata": {},
   "outputs": [
    {
     "data": {
      "text/plain": [
       "'y'"
      ]
     },
     "execution_count": 18,
     "metadata": {},
     "output_type": "execute_result"
    }
   ],
   "source": [
    "t=('balaswamy')\n",
    "max(t)"
   ]
  },
  {
   "cell_type": "code",
   "execution_count": 19,
   "id": "32d150e9-4ab0-4ade-a516-8c195026fd8c",
   "metadata": {},
   "outputs": [
    {
     "data": {
      "text/plain": [
       "'a'"
      ]
     },
     "execution_count": 19,
     "metadata": {},
     "output_type": "execute_result"
    }
   ],
   "source": [
    "t=('balaswamy')\n",
    "min(t)"
   ]
  },
  {
   "cell_type": "code",
   "execution_count": 27,
   "id": "9959dff7-ff0a-432d-a934-5419799ee357",
   "metadata": {},
   "outputs": [
    {
     "data": {
      "text/plain": [
       "False"
      ]
     },
     "execution_count": 27,
     "metadata": {},
     "output_type": "execute_result"
    }
   ],
   "source": [
    "t=('balaswamy') \n",
    "'a' not in t"
   ]
  },
  {
   "cell_type": "code",
   "execution_count": 25,
   "id": "d421c184-391c-4d06-a3fe-19fee87daef7",
   "metadata": {},
   "outputs": [
    {
     "data": {
      "text/plain": [
       "True"
      ]
     },
     "execution_count": 25,
     "metadata": {},
     "output_type": "execute_result"
    }
   ],
   "source": [
    "t=('a','b','c')\n",
    "'a' in t"
   ]
  },
  {
   "cell_type": "code",
   "execution_count": 28,
   "id": "af04f72e-7591-4e1f-ba0e-58aabce32c39",
   "metadata": {},
   "outputs": [
    {
     "data": {
      "text/plain": [
       "15"
      ]
     },
     "execution_count": 28,
     "metadata": {},
     "output_type": "execute_result"
    }
   ],
   "source": [
    "t=(1,2,3,4,5)\n",
    "sum(t)"
   ]
  },
  {
   "cell_type": "code",
   "execution_count": 29,
   "id": "3c46fe35-c208-429c-b259-b032232f1b32",
   "metadata": {},
   "outputs": [
    {
     "data": {
      "text/plain": [
       "270.57"
      ]
     },
     "execution_count": 29,
     "metadata": {},
     "output_type": "execute_result"
    }
   ],
   "source": [
    "t=(12,34,56,78.9,89.67)\n",
    "sum(t)"
   ]
  },
  {
   "cell_type": "code",
   "execution_count": 30,
   "id": "4c1851ed-2972-4666-b658-d0e5d09926cf",
   "metadata": {},
   "outputs": [
    {
     "data": {
      "text/plain": [
       "['a', 'a', 'a', 'b', 'l', 'm', 's', 'w', 'y']"
      ]
     },
     "execution_count": 30,
     "metadata": {},
     "output_type": "execute_result"
    }
   ],
   "source": [
    "t=('balaswamy')\n",
    "sorted(t)"
   ]
  },
  {
   "cell_type": "code",
   "execution_count": 31,
   "id": "700f3e5d-19ca-46dc-9643-4fc1f01d5624",
   "metadata": {},
   "outputs": [
    {
     "data": {
      "text/plain": [
       "[0, 1, 2, 3, 4, 4, 6, 7, 8, 9]"
      ]
     },
     "execution_count": 31,
     "metadata": {},
     "output_type": "execute_result"
    }
   ],
   "source": [
    "t=(3,4,8,1,2,7,4,6,9,0)\n",
    "sorted(t)"
   ]
  },
  {
   "cell_type": "code",
   "execution_count": 34,
   "id": "bbefbb24-f177-4253-bc82-0994f6bd3b39",
   "metadata": {},
   "outputs": [
    {
     "name": "stdout",
     "output_type": "stream",
     "text": [
      "ymawsalab"
     ]
    }
   ],
   "source": [
    "t=('balaswamy')\n",
    "for i in reversed(t):\n",
    "    print(i,end='')"
   ]
  },
  {
   "cell_type": "code",
   "execution_count": 36,
   "id": "00ac0444-833e-47e6-85f2-ffbe7adcdf2a",
   "metadata": {},
   "outputs": [
    {
     "name": "stdout",
     "output_type": "stream",
     "text": [
      "1 89 54 23 67 45 "
     ]
    }
   ],
   "source": [
    "t=(45,67,23,54,89,1)\n",
    "for i in reversed(t):\n",
    "    print(i,end=' ')"
   ]
  },
  {
   "cell_type": "code",
   "execution_count": 37,
   "id": "767fa004-94ef-4ac3-a2dd-e97e3418354d",
   "metadata": {},
   "outputs": [
    {
     "name": "stdout",
     "output_type": "stream",
     "text": [
      "a\n"
     ]
    }
   ],
   "source": [
    "t=('hello how are you')\n",
    "for i in t:\n",
    "    if i in 'a':\n",
    "        print(i)"
   ]
  },
  {
   "cell_type": "code",
   "execution_count": 38,
   "id": "0b17d676-107c-4fb4-a6d1-936933b21589",
   "metadata": {},
   "outputs": [
    {
     "name": "stdout",
     "output_type": "stream",
     "text": [
      "10\n"
     ]
    }
   ],
   "source": [
    "t=('hello how are you')\n",
    "for i in range(len(t)):\n",
    "    if t[i]=='a':\n",
    "        print(i)"
   ]
  },
  {
   "cell_type": "code",
   "execution_count": 56,
   "id": "a62d73bd-21d0-4061-84cc-814da9980018",
   "metadata": {},
   "outputs": [
    {
     "name": "stdout",
     "output_type": "stream",
     "text": [
      "e\n",
      "o\n",
      "o\n",
      "a\n",
      "e\n",
      "o\n",
      "u\n"
     ]
    }
   ],
   "source": [
    "t=('hello how are you')\n",
    "vowels=()\n",
    "for i in t:\n",
    "    if i in'aeiou':\n",
    "        print(i)\n",
    "        \n"
   ]
  },
  {
   "cell_type": "code",
   "execution_count": 65,
   "id": "7853160c-3f71-4533-aa70-789cbcb9e466",
   "metadata": {},
   "outputs": [
    {
     "data": {
      "text/plain": [
       "'eooaeou'"
      ]
     },
     "execution_count": 65,
     "metadata": {},
     "output_type": "execute_result"
    }
   ],
   "source": [
    "t=('hello how are you')\n",
    "vowel=('')\n",
    "for i in range(len(t)):\n",
    "    if t[i] in 'aeiou':\n",
    "        vowel=vowel+t[i]\n",
    "vowel"
   ]
  },
  {
   "cell_type": "code",
   "execution_count": 73,
   "id": "74f6b56f-f6f4-4e91-9e5c-41f8fc67c0ae",
   "metadata": {},
   "outputs": [
    {
     "name": "stdout",
     "output_type": "stream",
     "text": [
      "1\n",
      "4\n",
      "10\n",
      "16\n"
     ]
    },
    {
     "data": {
      "text/plain": [
       "31"
      ]
     },
     "execution_count": 73,
     "metadata": {},
     "output_type": "execute_result"
    }
   ],
   "source": [
    "t=('hello how are you')\n",
    "vowel=('')\n",
    "count=0\n",
    "summ=0\n",
    "for i in range(len(t)):\n",
    "    if t[i] not in vowel:\n",
    "        if t[i] in 'aeiou':\n",
    "            count=count+1\n",
    "            summ=summ+i\n",
    "            vowel=vowel+t[i]\n",
    "            print(i)\n",
    "vowel\n",
    "count\n",
    "summ"
   ]
  },
  {
   "cell_type": "code",
   "execution_count": null,
   "id": "0da5da29-9aa7-42f1-be14-403911675dc9",
   "metadata": {},
   "outputs": [],
   "source": []
  },
  {
   "cell_type": "code",
   "execution_count": 68,
   "id": "a51faa6f-313d-4f00-b5fd-776e3fb4ed1f",
   "metadata": {},
   "outputs": [
    {
     "data": {
      "text/plain": [
       "0"
      ]
     },
     "execution_count": 68,
     "metadata": {},
     "output_type": "execute_result"
    }
   ],
   "source": [
    "t=('Hello how are you')\n",
    "t.index('H')"
   ]
  },
  {
   "cell_type": "code",
   "execution_count": 77,
   "id": "6430b7a5-2aa3-4432-bbbd-5dec528b2625",
   "metadata": {},
   "outputs": [
    {
     "ename": "TypeError",
     "evalue": "'str' object is not callable",
     "output_type": "error",
     "traceback": [
      "\u001b[1;31m---------------------------------------------------------------------------\u001b[0m",
      "\u001b[1;31mTypeError\u001b[0m                                 Traceback (most recent call last)",
      "Cell \u001b[1;32mIn[77], line 2\u001b[0m\n\u001b[0;32m      1\u001b[0m t\u001b[38;5;241m=\u001b[39m(\u001b[38;5;124m'\u001b[39m\u001b[38;5;124mhello how are you\u001b[39m\u001b[38;5;124m'\u001b[39m)\n\u001b[1;32m----> 2\u001b[0m t([\u001b[38;5;241m2\u001b[39m])\u001b[38;5;241m==\u001b[39m\u001b[38;5;124m'\u001b[39m\u001b[38;5;124mk\u001b[39m\u001b[38;5;124m'\u001b[39m\n",
      "\u001b[1;31mTypeError\u001b[0m: 'str' object is not callable"
     ]
    }
   ],
   "source": [
    "t=('hello how are you')\n",
    "t([2])=='k'"
   ]
  },
  {
   "cell_type": "markdown",
   "id": "574ddc72-af45-45c6-8195-a9248affb664",
   "metadata": {},
   "source": [
    "**Slicing**"
   ]
  },
  {
   "cell_type": "code",
   "execution_count": 78,
   "id": "6aad3d64-d1be-4b5a-afe0-61c127375f2e",
   "metadata": {},
   "outputs": [
    {
     "data": {
      "text/plain": [
       "'hello team how are you'"
      ]
     },
     "execution_count": 78,
     "metadata": {},
     "output_type": "execute_result"
    }
   ],
   "source": [
    "t=('hello team how are you')\n",
    "t[0:]"
   ]
  },
  {
   "cell_type": "code",
   "execution_count": 84,
   "id": "b146ef9c-4325-4a65-a43b-f951d00d3bb4",
   "metadata": {},
   "outputs": [
    {
     "data": {
      "text/plain": [
       "'hello team how ar'"
      ]
     },
     "execution_count": 84,
     "metadata": {},
     "output_type": "execute_result"
    }
   ],
   "source": [
    "t=('hello team how are you')\n",
    "index=len(t)\n",
    "t[-index:-5]"
   ]
  },
  {
   "cell_type": "code",
   "execution_count": 86,
   "id": "dc7f2f10-71ff-4221-b026-4920ec043bf6",
   "metadata": {},
   "outputs": [
    {
     "data": {
      "text/plain": [
       "(1, 2, 3, 4, 5, 6, 'a', 'b', 'c')"
      ]
     },
     "execution_count": 86,
     "metadata": {},
     "output_type": "execute_result"
    }
   ],
   "source": [
    "a=(1,2,3,4,5,6)\n",
    "b=('a','b','c')\n",
    "c=a+b\n",
    "c"
   ]
  },
  {
   "cell_type": "code",
   "execution_count": 88,
   "id": "5cd08754-7765-4a74-9091-fc4d8f2f3005",
   "metadata": {},
   "outputs": [
    {
     "data": {
      "text/plain": [
       "2"
      ]
     },
     "execution_count": 88,
     "metadata": {},
     "output_type": "execute_result"
    }
   ],
   "source": [
    "t=('hello team how are you')\n",
    "c=t.count('h')\n",
    "c"
   ]
  },
  {
   "cell_type": "code",
   "execution_count": 93,
   "id": "10684e6c-b49a-44eb-b596-d2c11c356ce4",
   "metadata": {},
   "outputs": [
    {
     "data": {
      "text/plain": [
       "['__add__',\n",
       " '__class__',\n",
       " '__class_getitem__',\n",
       " '__contains__',\n",
       " '__delattr__',\n",
       " '__dir__',\n",
       " '__doc__',\n",
       " '__eq__',\n",
       " '__format__',\n",
       " '__ge__',\n",
       " '__getattribute__',\n",
       " '__getitem__',\n",
       " '__getnewargs__',\n",
       " '__getstate__',\n",
       " '__gt__',\n",
       " '__hash__',\n",
       " '__init__',\n",
       " '__init_subclass__',\n",
       " '__iter__',\n",
       " '__le__',\n",
       " '__len__',\n",
       " '__lt__',\n",
       " '__mul__',\n",
       " '__ne__',\n",
       " '__new__',\n",
       " '__reduce__',\n",
       " '__reduce_ex__',\n",
       " '__repr__',\n",
       " '__rmul__',\n",
       " '__setattr__',\n",
       " '__sizeof__',\n",
       " '__str__',\n",
       " '__subclasshook__',\n",
       " 'count',\n",
       " 'index']"
      ]
     },
     "execution_count": 93,
     "metadata": {},
     "output_type": "execute_result"
    }
   ],
   "source": [
    "dir(tuple)"
   ]
  },
  {
   "cell_type": "code",
   "execution_count": 3,
   "id": "51234e18-d787-40d5-886e-73c74c1edbbc",
   "metadata": {},
   "outputs": [
    {
     "ename": "AttributeError",
     "evalue": "'str' object has no attribute 'remove'",
     "output_type": "error",
     "traceback": [
      "\u001b[1;31m---------------------------------------------------------------------------\u001b[0m",
      "\u001b[1;31mAttributeError\u001b[0m                            Traceback (most recent call last)",
      "Cell \u001b[1;32mIn[3], line 5\u001b[0m\n\u001b[0;32m      3\u001b[0m i2\u001b[38;5;241m=\u001b[39mt\u001b[38;5;241m.\u001b[39mindex(\u001b[38;5;124m'\u001b[39m\u001b[38;5;124me\u001b[39m\u001b[38;5;124m'\u001b[39m,i1\u001b[38;5;241m+\u001b[39m\u001b[38;5;241m1\u001b[39m)\n\u001b[0;32m      4\u001b[0m i3\u001b[38;5;241m=\u001b[39mt\u001b[38;5;241m.\u001b[39mindex(\u001b[38;5;124m'\u001b[39m\u001b[38;5;124me\u001b[39m\u001b[38;5;124m'\u001b[39m,i2\u001b[38;5;241m+\u001b[39m\u001b[38;5;241m1\u001b[39m)\n\u001b[1;32m----> 5\u001b[0m t\u001b[38;5;241m.\u001b[39mremove(\u001b[38;5;124m'\u001b[39m\u001b[38;5;124mh\u001b[39m\u001b[38;5;124m'\u001b[39m)\n",
      "\u001b[1;31mAttributeError\u001b[0m: 'str' object has no attribute 'remove'"
     ]
    }
   ],
   "source": [
    "t=('hello team how are you')\n",
    "i1=t.index('e')\n",
    "i2=t.index('e',i1+1)\n",
    "i3=t.index('e',i2+1)"
   ]
  },
  {
   "cell_type": "code",
   "execution_count": 98,
   "id": "35f6007d-755e-415b-9eec-d13bfe709c24",
   "metadata": {},
   "outputs": [
    {
     "data": {
      "text/plain": [
       "3"
      ]
     },
     "execution_count": 98,
     "metadata": {},
     "output_type": "execute_result"
    }
   ],
   "source": [
    "t=('hello team how are you')\n",
    "t.count('e')"
   ]
  },
  {
   "cell_type": "code",
   "execution_count": 4,
   "id": "24d8afeb-14ba-412d-85f3-b3240212d5b4",
   "metadata": {},
   "outputs": [
    {
     "name": "stdout",
     "output_type": "stream",
     "text": [
      "{0, 9, 'a1'}\n"
     ]
    }
   ],
   "source": [
    "set = {0, 0, \"a1\", 0, 9}\n",
    "print(set)"
   ]
  },
  {
   "cell_type": "code",
   "execution_count": 5,
   "id": "183a2459-7eed-48ef-81c1-9133ee9c0134",
   "metadata": {},
   "outputs": [
    {
     "name": "stdout",
     "output_type": "stream",
     "text": [
      "33\n"
     ]
    }
   ],
   "source": [
    "print (0xA + 0xB + 0xC)"
   ]
  },
  {
   "cell_type": "code",
   "execution_count": 6,
   "id": "9334c7fb-36e2-4afe-a3f3-f12715b8a619",
   "metadata": {},
   "outputs": [
    {
     "data": {
      "text/plain": [
       "True"
      ]
     },
     "execution_count": 6,
     "metadata": {},
     "output_type": "execute_result"
    }
   ],
   "source": [
    "2==2"
   ]
  },
  {
   "cell_type": "code",
   "execution_count": 8,
   "id": "5d30c8a4-3be5-4a9f-915e-24e19323bee5",
   "metadata": {},
   "outputs": [
    {
     "data": {
      "text/plain": [
       "{'x': 0, 'y': 1}"
      ]
     },
     "execution_count": 8,
     "metadata": {},
     "output_type": "execute_result"
    }
   ],
   "source": [
    "z = {\"x\":0, \"y\":1}\n",
    "z"
   ]
  },
  {
   "cell_type": "code",
   "execution_count": 9,
   "id": "adb29dd4-def9-48a3-a5bc-d9dc3fc8c430",
   "metadata": {},
   "outputs": [
    {
     "ename": "NameError",
     "evalue": "name 'APPLE' is not defined",
     "output_type": "error",
     "traceback": [
      "\u001b[1;31m---------------------------------------------------------------------------\u001b[0m",
      "\u001b[1;31mNameError\u001b[0m                                 Traceback (most recent call last)",
      "Cell \u001b[1;32mIn[9], line 1\u001b[0m\n\u001b[1;32m----> 1\u001b[0m MANGO \u001b[38;5;241m=\u001b[39m APPLE\n",
      "\u001b[1;31mNameError\u001b[0m: name 'APPLE' is not defined"
     ]
    }
   ],
   "source": [
    "MANGO = APPLE"
   ]
  },
  {
   "cell_type": "code",
   "execution_count": 11,
   "id": "eaf85aef-756c-43cc-97bd-0e49938dceab",
   "metadata": {},
   "outputs": [
    {
     "ename": "IndexError",
     "evalue": "list index out of range",
     "output_type": "error",
     "traceback": [
      "\u001b[1;31m---------------------------------------------------------------------------\u001b[0m",
      "\u001b[1;31mIndexError\u001b[0m                                Traceback (most recent call last)",
      "Cell \u001b[1;32mIn[11], line 2\u001b[0m\n\u001b[0;32m      1\u001b[0m my_list \u001b[38;5;241m=\u001b[39m [\u001b[38;5;241m1\u001b[39m, \u001b[38;5;241m2\u001b[39m, \u001b[38;5;241m3\u001b[39m] \n\u001b[1;32m----> 2\u001b[0m \u001b[38;5;28mprint\u001b[39m(my_list[\u001b[38;5;241m3\u001b[39m])\n",
      "\u001b[1;31mIndexError\u001b[0m: list index out of range"
     ]
    }
   ],
   "source": [
    "my_list = [1, 2, 3] \n",
    "print(my_list[3])"
   ]
  },
  {
   "cell_type": "code",
   "execution_count": 12,
   "id": "880a35e0-6c35-4808-aa9b-04ae55660284",
   "metadata": {},
   "outputs": [
    {
     "ename": "ValueError",
     "evalue": "list.remove(x): x not in list",
     "output_type": "error",
     "traceback": [
      "\u001b[1;31m---------------------------------------------------------------------------\u001b[0m",
      "\u001b[1;31mValueError\u001b[0m                                Traceback (most recent call last)",
      "Cell \u001b[1;32mIn[12], line 2\u001b[0m\n\u001b[0;32m      1\u001b[0m my_list \u001b[38;5;241m=\u001b[39m [\u001b[38;5;241m1\u001b[39m, \u001b[38;5;241m2\u001b[39m, \u001b[38;5;241m3\u001b[39m]\n\u001b[1;32m----> 2\u001b[0m my_list\u001b[38;5;241m.\u001b[39mremove(\u001b[38;5;241m4\u001b[39m)\n",
      "\u001b[1;31mValueError\u001b[0m: list.remove(x): x not in list"
     ]
    }
   ],
   "source": [
    "my_list = [1, 2, 3]\n",
    "my_list.remove(4)"
   ]
  },
  {
   "cell_type": "code",
   "execution_count": 13,
   "id": "b51828f7-0b41-42a6-bdfa-192ef9305140",
   "metadata": {},
   "outputs": [
    {
     "ename": "KeyError",
     "evalue": "'address'",
     "output_type": "error",
     "traceback": [
      "\u001b[1;31m---------------------------------------------------------------------------\u001b[0m",
      "\u001b[1;31mKeyError\u001b[0m                                  Traceback (most recent call last)",
      "Cell \u001b[1;32mIn[13], line 2\u001b[0m\n\u001b[0;32m      1\u001b[0m my_dict \u001b[38;5;241m=\u001b[39m{\u001b[38;5;124m'\u001b[39m\u001b[38;5;124mname\u001b[39m\u001b[38;5;124m'\u001b[39m: \u001b[38;5;124m'\u001b[39m\u001b[38;5;124mAlice\u001b[39m\u001b[38;5;124m'\u001b[39m, \u001b[38;5;124m'\u001b[39m\u001b[38;5;124mage\u001b[39m\u001b[38;5;124m'\u001b[39m:\u001b[38;5;241m23\u001b[39m}\n\u001b[1;32m----> 2\u001b[0m \u001b[38;5;28mprint\u001b[39m(my_dict[\u001b[38;5;124m'\u001b[39m\u001b[38;5;124maddress\u001b[39m\u001b[38;5;124m'\u001b[39m])\n",
      "\u001b[1;31mKeyError\u001b[0m: 'address'"
     ]
    }
   ],
   "source": [
    "my_dict ={'name': 'Alice', 'age':23}\n",
    "print(my_dict['address'])\n"
   ]
  },
  {
   "cell_type": "code",
   "execution_count": 14,
   "id": "fce174c1-d810-42aa-850d-15cb78dbdf4e",
   "metadata": {},
   "outputs": [
    {
     "ename": "SyntaxError",
     "evalue": "unterminated string literal (detected at line 1) (1968309874.py, line 1)",
     "output_type": "error",
     "traceback": [
      "\u001b[1;36m  Cell \u001b[1;32mIn[14], line 1\u001b[1;36m\u001b[0m\n\u001b[1;33m    print (\"Hello World)\u001b[0m\n\u001b[1;37m           ^\u001b[0m\n\u001b[1;31mSyntaxError\u001b[0m\u001b[1;31m:\u001b[0m unterminated string literal (detected at line 1)\n"
     ]
    }
   ],
   "source": [
    "print (\"Hello World)"
   ]
  },
  {
   "cell_type": "code",
   "execution_count": null,
   "id": "d9233f2e-e3e3-4d84-8f17-4b3e876def60",
   "metadata": {},
   "outputs": [],
   "source": []
  }
 ],
 "metadata": {
  "kernelspec": {
   "display_name": "Python 3 (ipykernel)",
   "language": "python",
   "name": "python3"
  },
  "language_info": {
   "codemirror_mode": {
    "name": "ipython",
    "version": 3
   },
   "file_extension": ".py",
   "mimetype": "text/x-python",
   "name": "python",
   "nbconvert_exporter": "python",
   "pygments_lexer": "ipython3",
   "version": "3.11.7"
  }
 },
 "nbformat": 4,
 "nbformat_minor": 5
}
