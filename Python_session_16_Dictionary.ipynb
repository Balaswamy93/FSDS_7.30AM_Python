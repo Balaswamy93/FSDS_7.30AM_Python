{
 "cells": [
  {
   "cell_type": "code",
   "execution_count": null,
   "id": "e6448b48-89ec-4779-82c4-c88102767e29",
   "metadata": {},
   "outputs": [],
   "source": [
    "# In lambda frumction\n",
    "# write if -else\n"
   ]
  },
  {
   "cell_type": "markdown",
   "id": "8b6fd037-92a8-491e-b3db-8706f468ce8b",
   "metadata": {},
   "source": [
    "**Dictionary**\n",
    "- we have already seen many data types\n",
    "- strings\n",
    "- list\n",
    "- tuple\n",
    "- set\n",
    "- dictionay"
   ]
  },
  {
   "cell_type": "code",
   "execution_count": null,
   "id": "7597c361-13aa-4b74-ac2b-719b84d763d5",
   "metadata": {},
   "outputs": [],
   "source": [
    "dictionary={key:value}\n",
    "set={}\n",
    "str=''\n",
    "list=[]\n",
    "tuple=()"
   ]
  },
  {
   "cell_type": "markdown",
   "id": "4eca5b67-0512-49ac-949a-fca92c7189f3",
   "metadata": {},
   "source": [
    "**zip**"
   ]
  },
  {
   "cell_type": "code",
   "execution_count": 1,
   "id": "3f27dbe7-68bc-4dcc-975f-db6cc7647b9b",
   "metadata": {},
   "outputs": [
    {
     "name": "stdout",
     "output_type": "stream",
     "text": [
      "Ramesh 20\n",
      "suresh 25\n",
      "sathish 30\n"
     ]
    }
   ],
   "source": [
    "names=['Ramesh','suresh','sathish']\n",
    "age=[20,25,30]\n",
    "for i,j in zip(names,age):\n",
    "    print(i,j)"
   ]
  },
  {
   "cell_type": "code",
   "execution_count": 52,
   "id": "dfaba2fc-58c0-419e-b572-1997177a67be",
   "metadata": {},
   "outputs": [
    {
     "name": "stdout",
     "output_type": "stream",
     "text": [
      "Ramesh 20\n",
      "suresh 25\n",
      "sathish 30\n"
     ]
    }
   ],
   "source": [
    "names=['Ramesh','suresh','sathish']\n",
    "age=[20,25,30]\n",
    "for i,j in zip(names,age):\n",
    "    print(i,j)\n",
    "    "
   ]
  },
  {
   "cell_type": "code",
   "execution_count": 2,
   "id": "fd4fa7fb-4410-4d74-a161-333c3643a054",
   "metadata": {},
   "outputs": [
    {
     "data": {
      "text/plain": [
       "<zip at 0x17989f57380>"
      ]
     },
     "execution_count": 2,
     "metadata": {},
     "output_type": "execute_result"
    }
   ],
   "source": [
    "zip(names,age)"
   ]
  },
  {
   "cell_type": "code",
   "execution_count": 55,
   "id": "18c8f320-344d-42b8-a182-aa183e245d4c",
   "metadata": {},
   "outputs": [
    {
     "data": {
      "text/plain": [
       "(('Ramesh', 20), ('suresh', 25), ('sathish', 30))"
      ]
     },
     "execution_count": 55,
     "metadata": {},
     "output_type": "execute_result"
    }
   ],
   "source": [
    "tuple(zip(names,age))"
   ]
  },
  {
   "cell_type": "code",
   "execution_count": 3,
   "id": "c75d9780-5660-41c5-9f18-6ca677725722",
   "metadata": {},
   "outputs": [
    {
     "data": {
      "text/plain": [
       "[('Ramesh', 20), ('suresh', 25), ('sathish', 30)]"
      ]
     },
     "execution_count": 3,
     "metadata": {},
     "output_type": "execute_result"
    }
   ],
   "source": [
    "list(zip(names,age))"
   ]
  },
  {
   "cell_type": "code",
   "execution_count": null,
   "id": "214041c5-3685-439d-90e1-436996e45c42",
   "metadata": {},
   "outputs": [],
   "source": [
    "dict={<key>:<value>}\n",
    "names=['Ramesh','suresh','sathish']\n",
    "age=[20,25,30]\n",
    "'Ramesh' is the key ==== 20 is its relate value\n",
    "dict={'Ramesh':20,'suresh':25,'sathis':30}\n"
   ]
  },
  {
   "cell_type": "code",
   "execution_count": 6,
   "id": "8b324727-2e4d-435f-b8b5-67cba69be557",
   "metadata": {},
   "outputs": [
    {
     "data": {
      "text/plain": [
       "dict"
      ]
     },
     "execution_count": 6,
     "metadata": {},
     "output_type": "execute_result"
    }
   ],
   "source": [
    "dict1={'Ramesh':20,'suresh':25,'sathis':30}\n",
    "type(dict1)"
   ]
  },
  {
   "cell_type": "code",
   "execution_count": 56,
   "id": "d9513be2-5721-4508-827e-4bbdc9660336",
   "metadata": {},
   "outputs": [
    {
     "data": {
      "text/plain": [
       "{'Balaswamy': 31, 'Renaiah': 28, 'shiva kumar': 26}"
      ]
     },
     "execution_count": 56,
     "metadata": {},
     "output_type": "execute_result"
    }
   ],
   "source": [
    "d1={'Balaswamy':31,'Renaiah':28,'shiva kumar':26}\n",
    "d1"
   ]
  },
  {
   "cell_type": "code",
   "execution_count": null,
   "id": "dcfad8fc-89f1-4e76-8f8a-4ac5cfc11fe9",
   "metadata": {},
   "outputs": [],
   "source": [
    "# if the list are of different length?\n",
    "# if both list are different\n",
    "# zip will not work\n"
   ]
  },
  {
   "cell_type": "markdown",
   "id": "916957d8-016e-4232-9da6-c0e534da2d28",
   "metadata": {},
   "source": [
    "**Initialization**"
   ]
  },
  {
   "cell_type": "markdown",
   "id": "f1c2ad04-71a4-4d0f-b9b4-46a6271aaf66",
   "metadata": {},
   "source": [
    "**Int to string**"
   ]
  },
  {
   "cell_type": "code",
   "execution_count": 7,
   "id": "548022a3-b67f-42b6-92bb-5affbfd0d3e9",
   "metadata": {},
   "outputs": [],
   "source": [
    "dict1={1993:'balaswamy',1995:'Renaiah',1999:'Shiva kumar'}"
   ]
  },
  {
   "cell_type": "code",
   "execution_count": 8,
   "id": "8d31be99-afac-4590-bb27-a7aee1b119c3",
   "metadata": {},
   "outputs": [
    {
     "data": {
      "text/plain": [
       "{1993: 'balaswamy', 1995: 'Renaiah', 1999: 'Shiva kumar'}"
      ]
     },
     "execution_count": 8,
     "metadata": {},
     "output_type": "execute_result"
    }
   ],
   "source": [
    "dict1"
   ]
  },
  {
   "cell_type": "markdown",
   "id": "14043989-62e5-45f2-a3ad-e03a32351e4f",
   "metadata": {},
   "source": [
    "**List to String**\n",
    "- list is mutable so we can not use the list as the keys"
   ]
  },
  {
   "cell_type": "code",
   "execution_count": 10,
   "id": "3e22a1fe-3cac-4b52-89b5-d1d1304a2c1e",
   "metadata": {},
   "outputs": [
    {
     "ename": "TypeError",
     "evalue": "unhashable type: 'list'",
     "output_type": "error",
     "traceback": [
      "\u001b[1;31m---------------------------------------------------------------------------\u001b[0m",
      "\u001b[1;31mTypeError\u001b[0m                                 Traceback (most recent call last)",
      "Cell \u001b[1;32mIn[10], line 1\u001b[0m\n\u001b[1;32m----> 1\u001b[0m dict2\u001b[38;5;241m=\u001b[39m{[\u001b[38;5;241m123\u001b[39m]:\u001b[38;5;124m'\u001b[39m\u001b[38;5;124mBRS\u001b[39m\u001b[38;5;124m'\u001b[39m,[\u001b[38;5;241m345\u001b[39m]:\u001b[38;5;124m'\u001b[39m\u001b[38;5;124mrsb\u001b[39m\u001b[38;5;124m'\u001b[39m}\n",
      "\u001b[1;31mTypeError\u001b[0m: unhashable type: 'list'"
     ]
    }
   ],
   "source": [
    "dict2={[123]:'BRS',}"
   ]
  },
  {
   "cell_type": "code",
   "execution_count": 12,
   "id": "356a773c-1c4e-4dac-be46-cddc4a896b48",
   "metadata": {},
   "outputs": [],
   "source": [
    "dict2={'BRS':[123]}"
   ]
  },
  {
   "cell_type": "code",
   "execution_count": 13,
   "id": "d408d79c-2b2f-49fb-ab81-b907b50d76c3",
   "metadata": {},
   "outputs": [
    {
     "data": {
      "text/plain": [
       "{'BRS': [123]}"
      ]
     },
     "execution_count": 13,
     "metadata": {},
     "output_type": "execute_result"
    }
   ],
   "source": [
    "dict2"
   ]
  },
  {
   "cell_type": "code",
   "execution_count": 15,
   "id": "28692548-e750-4434-ac3b-29af3508a67c",
   "metadata": {},
   "outputs": [
    {
     "data": {
      "text/plain": [
       "{'BRS': 'brs'}"
      ]
     },
     "execution_count": 15,
     "metadata": {},
     "output_type": "execute_result"
    }
   ],
   "source": [
    "d2={'BRS':'brs'}\n",
    "d2"
   ]
  },
  {
   "cell_type": "code",
   "execution_count": 16,
   "id": "49a969ed-9f47-4cff-90e7-a14a5905980b",
   "metadata": {},
   "outputs": [
    {
     "data": {
      "text/plain": [
       "{25: 36}"
      ]
     },
     "execution_count": 16,
     "metadata": {},
     "output_type": "execute_result"
    }
   ],
   "source": [
    "d3={25:36}\n",
    "d3"
   ]
  },
  {
   "cell_type": "code",
   "execution_count": 18,
   "id": "a5e87eca-a77d-49cb-b710-d0f043f4c1ba",
   "metadata": {},
   "outputs": [
    {
     "data": {
      "text/plain": [
       "{23: ['brs']}"
      ]
     },
     "execution_count": 18,
     "metadata": {},
     "output_type": "execute_result"
    }
   ],
   "source": [
    "d4={23:['brs']}\n",
    "d4"
   ]
  },
  {
   "cell_type": "code",
   "execution_count": 19,
   "id": "5b54ddf8-de36-4e55-a1c7-dd525cbbfc68",
   "metadata": {},
   "outputs": [
    {
     "data": {
      "text/plain": [
       "{'Apple': 'Fruit'}"
      ]
     },
     "execution_count": 19,
     "metadata": {},
     "output_type": "execute_result"
    }
   ],
   "source": [
    "d4={('Apple'):'Fruit'}\n",
    "d4"
   ]
  },
  {
   "cell_type": "code",
   "execution_count": 20,
   "id": "d2631bf8-ac6a-4b16-91b6-9e8075b17f96",
   "metadata": {},
   "outputs": [
    {
     "data": {
      "text/plain": [
       "{'bala': 36}"
      ]
     },
     "execution_count": 20,
     "metadata": {},
     "output_type": "execute_result"
    }
   ],
   "source": [
    "d5={'bala':30,'bala':36}\n",
    "d5"
   ]
  },
  {
   "cell_type": "code",
   "execution_count": 22,
   "id": "0e059fb8-9923-48dc-8008-9a14e3c91147",
   "metadata": {},
   "outputs": [
    {
     "data": {
      "text/plain": [
       "{30: 'bala', 36: 'bala'}"
      ]
     },
     "execution_count": 22,
     "metadata": {},
     "output_type": "execute_result"
    }
   ],
   "source": [
    "d6={30:'bala',36:'bala'}\n",
    "d6"
   ]
  },
  {
   "cell_type": "code",
   "execution_count": 23,
   "id": "7991dd30-3e5c-4e0c-9e6d-7be8196173e3",
   "metadata": {},
   "outputs": [
    {
     "data": {
      "text/plain": [
       "{'fruit': {'Apple'}}"
      ]
     },
     "execution_count": 23,
     "metadata": {},
     "output_type": "execute_result"
    }
   ],
   "source": [
    "d7={'fruit':{'Apple'}}\n",
    "d7"
   ]
  },
  {
   "cell_type": "markdown",
   "id": "0befb5eb-4f11-4438-abb1-10e21dd0089b",
   "metadata": {},
   "source": [
    "**Key are Important**\n",
    "- keys should be only one\n",
    "- keys have only latest value\n",
    "- no duplicate keys\n",
    "- value can be duplicate\n",
    "- which means different keys can have same value\n",
    "- list can not be a key, because list are mutable\n",
    "- tuple can be a key,because tuple are immutable"
   ]
  },
  {
   "cell_type": "code",
   "execution_count": 27,
   "id": "09941988-57e7-46c5-b975-2da91866d45a",
   "metadata": {},
   "outputs": [
    {
     "data": {
      "text/plain": [
       "'suresh'"
      ]
     },
     "execution_count": 27,
     "metadata": {},
     "output_type": "execute_result"
    }
   ],
   "source": [
    "d1={'Ramesh':20,'suresh':25,'sathis':30}\n",
    "max(d1)\n",
    "# Operation apply on key"
   ]
  },
  {
   "cell_type": "code",
   "execution_count": 26,
   "id": "6434f69b-1554-44c2-a14d-d9c8c4de4326",
   "metadata": {},
   "outputs": [
    {
     "data": {
      "text/plain": [
       "'suresh'"
      ]
     },
     "execution_count": 26,
     "metadata": {},
     "output_type": "execute_result"
    }
   ],
   "source": []
  },
  {
   "cell_type": "code",
   "execution_count": 59,
   "id": "e5aee379-daaa-4e07-b920-9cb2ddd3fc43",
   "metadata": {},
   "outputs": [],
   "source": [
    "d1={'Ramesh':20,'suresh':25,'sathis':30}\n",
    "d2={20:'Ramesh',25:'suresh',30:'sathis'}\n",
    "d3={20:'Ramesh',20:'suresh',20:'sathis'}\n",
    "d4={20:'Ramesh','20':'suresh',20:'sathis'}\n",
    "d5={'20':'Ramesh','20':'suresh','20':'sathis'}\n",
    "d6={20:'Ramesh','20':'suresh',20:'sathis'}\n"
   ]
  },
  {
   "cell_type": "code",
   "execution_count": 44,
   "id": "ba31a748-22b2-4037-b1b5-bcf4a355c02c",
   "metadata": {},
   "outputs": [
    {
     "data": {
      "text/plain": [
       "['Ramesh', 'sathis', 'suresh']"
      ]
     },
     "execution_count": 44,
     "metadata": {},
     "output_type": "execute_result"
    }
   ],
   "source": [
    "d1={'Ramesh':20,'suresh':25,'sathis':30}\n",
    "sorted(d1)"
   ]
  },
  {
   "cell_type": "code",
   "execution_count": 43,
   "id": "4568a9d3-90d5-46c6-ad5d-469dca121315",
   "metadata": {},
   "outputs": [
    {
     "data": {
      "text/plain": [
       "['sathis', 'suresh', 'Ramesh']"
      ]
     },
     "execution_count": 43,
     "metadata": {},
     "output_type": "execute_result"
    }
   ],
   "source": [
    "d1={'Ramesh':20,'suresh':25,'sathis':30}\n",
    "list(reversed(d1))"
   ]
  },
  {
   "cell_type": "code",
   "execution_count": 61,
   "id": "6da844c4-bdb9-4186-a574-8c0f09a968fc",
   "metadata": {},
   "outputs": [
    {
     "data": {
      "text/plain": [
       "['sathis', 'suresh', 'Ramesh']"
      ]
     },
     "execution_count": 61,
     "metadata": {},
     "output_type": "execute_result"
    }
   ],
   "source": [
    "d1={'Ramesh':20,'suresh':25,'sathis':30}\n",
    "list(reversed(d1))"
   ]
  },
  {
   "cell_type": "code",
   "execution_count": 46,
   "id": "e9feb96b-ae82-4ea4-afb5-0e19ae6de9ba",
   "metadata": {},
   "outputs": [
    {
     "name": "stdout",
     "output_type": "stream",
     "text": [
      "Ramesh\n",
      "suresh\n",
      "sathis\n"
     ]
    }
   ],
   "source": [
    "d1={'Ramesh':20,'suresh':25,'sathis':30}\n",
    "for i in d1:\n",
    "    print(i)"
   ]
  },
  {
   "cell_type": "markdown",
   "id": "9b9b3c9b-195e-440e-9107-ee459b876ffe",
   "metadata": {},
   "source": [
    "**Index**"
   ]
  },
  {
   "cell_type": "code",
   "execution_count": 255,
   "id": "2b4d581b-caca-4734-95c8-e4aeff68d6b9",
   "metadata": {},
   "outputs": [
    {
     "data": {
      "text/plain": [
       "20"
      ]
     },
     "execution_count": 255,
     "metadata": {},
     "output_type": "execute_result"
    }
   ],
   "source": [
    "d1={'Ramesh':20,'suresh':25,'sathis':30}\n",
    "# if you want retrive the values\n",
    "# python will never give 'Ramesh':20\n",
    "d1['Ramesh']"
   ]
  },
  {
   "cell_type": "code",
   "execution_count": 49,
   "id": "d859d95d-7d3f-47c2-8b82-5366d34e9b34",
   "metadata": {},
   "outputs": [
    {
     "data": {
      "text/plain": [
       "20"
      ]
     },
     "execution_count": 49,
     "metadata": {},
     "output_type": "execute_result"
    }
   ],
   "source": [
    "d1={'Ramesh':20,'suresh':25,'sathis':30}\n",
    "d1['Ramesh']"
   ]
  },
  {
   "cell_type": "code",
   "execution_count": 47,
   "id": "cc696983-982d-4e97-9fd3-624557e134db",
   "metadata": {},
   "outputs": [
    {
     "data": {
      "text/plain": [
       "True"
      ]
     },
     "execution_count": 47,
     "metadata": {},
     "output_type": "execute_result"
    }
   ],
   "source": [
    "'Ramesh' in d1"
   ]
  },
  {
   "cell_type": "code",
   "execution_count": 41,
   "id": "d93df42f-8415-49d7-902b-20faa6bdab66",
   "metadata": {},
   "outputs": [
    {
     "data": {
      "text/plain": [
       "'20'"
      ]
     },
     "execution_count": 41,
     "metadata": {},
     "output_type": "execute_result"
    }
   ],
   "source": [
    "min(d5)"
   ]
  },
  {
   "cell_type": "code",
   "execution_count": null,
   "id": "75ebad90-1c32-4cb9-8582-f205f79ce29e",
   "metadata": {},
   "outputs": [],
   "source": []
  },
  {
   "cell_type": "code",
   "execution_count": 42,
   "id": "8f5eba9b-a53e-43ce-b1dd-a4db632b18e5",
   "metadata": {},
   "outputs": [
    {
     "ename": "TypeError",
     "evalue": "'<' not supported between instances of 'str' and 'int'",
     "output_type": "error",
     "traceback": [
      "\u001b[1;31m---------------------------------------------------------------------------\u001b[0m",
      "\u001b[1;31mTypeError\u001b[0m                                 Traceback (most recent call last)",
      "Cell \u001b[1;32mIn[42], line 1\u001b[0m\n\u001b[1;32m----> 1\u001b[0m \u001b[38;5;28mmin\u001b[39m(d4)\n",
      "\u001b[1;31mTypeError\u001b[0m: '<' not supported between instances of 'str' and 'int'"
     ]
    }
   ],
   "source": [
    "min(d4)"
   ]
  },
  {
   "cell_type": "code",
   "execution_count": 39,
   "id": "73032460-ffe1-42da-b804-feca9b95866c",
   "metadata": {},
   "outputs": [
    {
     "data": {
      "text/plain": [
       "'Ramesh'"
      ]
     },
     "execution_count": 39,
     "metadata": {},
     "output_type": "execute_result"
    }
   ],
   "source": [
    "min(d3)"
   ]
  },
  {
   "cell_type": "code",
   "execution_count": 38,
   "id": "d77ee6fb-8ea3-4c49-af04-1341837652e0",
   "metadata": {},
   "outputs": [
    {
     "data": {
      "text/plain": [
       "20"
      ]
     },
     "execution_count": 38,
     "metadata": {},
     "output_type": "execute_result"
    }
   ],
   "source": [
    "min(d2)"
   ]
  },
  {
   "cell_type": "code",
   "execution_count": 37,
   "id": "bc31a413-30f8-4e71-8a7f-b7e51219e54c",
   "metadata": {},
   "outputs": [
    {
     "data": {
      "text/plain": [
       "'Ramesh'"
      ]
     },
     "execution_count": 37,
     "metadata": {},
     "output_type": "execute_result"
    }
   ],
   "source": [
    "min(d1)"
   ]
  },
  {
   "cell_type": "code",
   "execution_count": 36,
   "id": "6538e2e2-f44d-4543-9fa1-18e514b90307",
   "metadata": {},
   "outputs": [
    {
     "ename": "TypeError",
     "evalue": "'>' not supported between instances of 'str' and 'int'",
     "output_type": "error",
     "traceback": [
      "\u001b[1;31m---------------------------------------------------------------------------\u001b[0m",
      "\u001b[1;31mTypeError\u001b[0m                                 Traceback (most recent call last)",
      "Cell \u001b[1;32mIn[36], line 2\u001b[0m\n\u001b[0;32m      1\u001b[0m d6\u001b[38;5;241m=\u001b[39m{\u001b[38;5;241m20\u001b[39m:\u001b[38;5;124m'\u001b[39m\u001b[38;5;124mRamesh\u001b[39m\u001b[38;5;124m'\u001b[39m,\u001b[38;5;124m'\u001b[39m\u001b[38;5;124m20\u001b[39m\u001b[38;5;124m'\u001b[39m:\u001b[38;5;124m'\u001b[39m\u001b[38;5;124msuresh\u001b[39m\u001b[38;5;124m'\u001b[39m,\u001b[38;5;241m20\u001b[39m:\u001b[38;5;124m'\u001b[39m\u001b[38;5;124msathis\u001b[39m\u001b[38;5;124m'\u001b[39m}\n\u001b[1;32m----> 2\u001b[0m \u001b[38;5;28mmax\u001b[39m(d6)\n",
      "\u001b[1;31mTypeError\u001b[0m: '>' not supported between instances of 'str' and 'int'"
     ]
    }
   ],
   "source": [
    "d6={20:'Ramesh','20':'suresh',20:'sathis'}\n",
    "max(d6)"
   ]
  },
  {
   "cell_type": "code",
   "execution_count": null,
   "id": "87cd23db-aacc-40fa-b8cf-7d2680683037",
   "metadata": {},
   "outputs": [],
   "source": []
  },
  {
   "cell_type": "code",
   "execution_count": 35,
   "id": "cada267e-3fa9-476c-8e5f-fc70bb334326",
   "metadata": {},
   "outputs": [
    {
     "data": {
      "text/plain": [
       "'20'"
      ]
     },
     "execution_count": 35,
     "metadata": {},
     "output_type": "execute_result"
    }
   ],
   "source": [
    "d5={'20':'Ramesh','20':'suresh','20':'sathis'}\n",
    "max(d5)"
   ]
  },
  {
   "cell_type": "code",
   "execution_count": 34,
   "id": "620a97f6-72a7-46ae-b8a6-db57c3f0243b",
   "metadata": {},
   "outputs": [
    {
     "ename": "TypeError",
     "evalue": "'>' not supported between instances of 'str' and 'int'",
     "output_type": "error",
     "traceback": [
      "\u001b[1;31m---------------------------------------------------------------------------\u001b[0m",
      "\u001b[1;31mTypeError\u001b[0m                                 Traceback (most recent call last)",
      "Cell \u001b[1;32mIn[34], line 2\u001b[0m\n\u001b[0;32m      1\u001b[0m d4\u001b[38;5;241m=\u001b[39m{\u001b[38;5;241m20\u001b[39m:\u001b[38;5;124m'\u001b[39m\u001b[38;5;124mRamesh\u001b[39m\u001b[38;5;124m'\u001b[39m,\u001b[38;5;124m'\u001b[39m\u001b[38;5;124m20\u001b[39m\u001b[38;5;124m'\u001b[39m:\u001b[38;5;124m'\u001b[39m\u001b[38;5;124msuresh\u001b[39m\u001b[38;5;124m'\u001b[39m,\u001b[38;5;241m20\u001b[39m:\u001b[38;5;124m'\u001b[39m\u001b[38;5;124msathis\u001b[39m\u001b[38;5;124m'\u001b[39m}\n\u001b[1;32m----> 2\u001b[0m \u001b[38;5;28mmax\u001b[39m(d4)\n",
      "\u001b[1;31mTypeError\u001b[0m: '>' not supported between instances of 'str' and 'int'"
     ]
    }
   ],
   "source": [
    "d4={20:'Ramesh','20':'suresh',20:'sathis'}\n",
    "max(d4)"
   ]
  },
  {
   "cell_type": "code",
   "execution_count": 29,
   "id": "8625567e-53e2-45b6-86b4-587ae1a9b6a4",
   "metadata": {},
   "outputs": [
    {
     "data": {
      "text/plain": [
       "30"
      ]
     },
     "execution_count": 29,
     "metadata": {},
     "output_type": "execute_result"
    }
   ],
   "source": [
    "d2={20:'Ramesh',25:'suresh',30:'sathis'}\n",
    "max(d2)"
   ]
  },
  {
   "cell_type": "code",
   "execution_count": 30,
   "id": "abcc217f-4020-4018-864f-6cad5db85f8e",
   "metadata": {},
   "outputs": [
    {
     "data": {
      "text/plain": [
       "'suresh'"
      ]
     },
     "execution_count": 30,
     "metadata": {},
     "output_type": "execute_result"
    }
   ],
   "source": [
    "d3={'Ramesh':20,'suresh':20,'sathis':20}\n",
    "max(d3)"
   ]
  },
  {
   "cell_type": "code",
   "execution_count": 32,
   "id": "46812ae3-c918-4739-bc44-2c883be749e2",
   "metadata": {},
   "outputs": [
    {
     "data": {
      "text/plain": [
       "20"
      ]
     },
     "execution_count": 32,
     "metadata": {},
     "output_type": "execute_result"
    }
   ],
   "source": [
    "d2={20:'Ramesh',20:'suresh',20:'sathis'}\n",
    "max(d2)"
   ]
  },
  {
   "cell_type": "code",
   "execution_count": 33,
   "id": "1e9b0725-4e90-4faa-aa12-adda12416825",
   "metadata": {},
   "outputs": [
    {
     "data": {
      "text/plain": [
       "{20: 'sathis'}"
      ]
     },
     "execution_count": 33,
     "metadata": {},
     "output_type": "execute_result"
    }
   ],
   "source": [
    "d2"
   ]
  },
  {
   "cell_type": "code",
   "execution_count": 62,
   "id": "34201555-36db-41d9-98df-a9f7c697c2aa",
   "metadata": {},
   "outputs": [
    {
     "data": {
      "text/plain": [
       "20"
      ]
     },
     "execution_count": 62,
     "metadata": {},
     "output_type": "execute_result"
    }
   ],
   "source": [
    "d3={'Ramesh':20,'suresh':20,'sathis':20}\n",
    "# Dictionary is a key:value pair\n",
    "# we can not use index directly\n",
    "# whenever you want to call a value,we will use key\n",
    "d3['Ramesh']"
   ]
  },
  {
   "cell_type": "code",
   "execution_count": 64,
   "id": "fdcd8b84-9ea3-481b-90fb-97948125b09c",
   "metadata": {},
   "outputs": [
    {
     "name": "stdout",
     "output_type": "stream",
     "text": [
      "Ramesh has age 20\n",
      "suresh has age 25\n",
      "sathis has age 30\n"
     ]
    }
   ],
   "source": [
    "for i in d3:\n",
    "    print(f'{i} has age {d1[i]}')"
   ]
  },
  {
   "cell_type": "code",
   "execution_count": 66,
   "id": "e8e8857c-8408-4a45-a1ac-1b0b7fb81590",
   "metadata": {},
   "outputs": [
    {
     "name": "stdout",
     "output_type": "stream",
     "text": [
      "Vignesh has age 20\n",
      "Mohith has age 25\n",
      "Nagesh has age 30\n"
     ]
    }
   ],
   "source": [
    "name=['Vignesh','Mohith','Nagesh']\n",
    "age=[20,25,30]\n",
    "for i,j in zip(name,age):\n",
    "    print(f'{i} has age {j}')"
   ]
  },
  {
   "cell_type": "markdown",
   "id": "340bb10d-d682-4897-90f8-ecfae3e358c4",
   "metadata": {},
   "source": [
    "**Dictionary to list**"
   ]
  },
  {
   "cell_type": "code",
   "execution_count": 68,
   "id": "69913c53-7a87-49b5-ac69-ededf9395131",
   "metadata": {},
   "outputs": [
    {
     "data": {
      "text/plain": [
       "[20, 20, 20]"
      ]
     },
     "execution_count": 68,
     "metadata": {},
     "output_type": "execute_result"
    }
   ],
   "source": [
    "d3={'Ramesh':20,'suresh':20,'sathis':20}\n",
    "key,value=[],[]\n",
    "for i in d3:\n",
    "    key.append(i)\n",
    "    value.append(d3[i])\n",
    "value"
   ]
  },
  {
   "cell_type": "code",
   "execution_count": 254,
   "id": "8a411b28-bb9f-4536-a220-bb8c27c3c984",
   "metadata": {},
   "outputs": [
    {
     "data": {
      "text/plain": [
       "list"
      ]
     },
     "execution_count": 254,
     "metadata": {},
     "output_type": "execute_result"
    }
   ],
   "source": [
    "dd={'Ramesh':20,'suresh':20,'sathis':20}\n",
    "key,value=[],[]\n",
    "for i in dd:\n",
    "    key.append(i)\n",
    "    value.append(dd[i])\n",
    "type(key)"
   ]
  },
  {
   "cell_type": "code",
   "execution_count": 69,
   "id": "93f3f26c-b3f3-471e-8038-fba037d233a1",
   "metadata": {},
   "outputs": [],
   "source": [
    "keys=[i for i in d3]\n",
    "values=[d3[i] ]"
   ]
  },
  {
   "cell_type": "code",
   "execution_count": null,
   "id": "acb0c521-2d90-43c5-81a3-31154fafe47b",
   "metadata": {},
   "outputs": [],
   "source": [
    "**how to\n"
   ]
  },
  {
   "cell_type": "code",
   "execution_count": 70,
   "id": "9883abfd-769b-4573-a8fe-4aa90c976038",
   "metadata": {},
   "outputs": [
    {
     "data": {
      "text/plain": [
       "[20]"
      ]
     },
     "execution_count": 70,
     "metadata": {},
     "output_type": "execute_result"
    }
   ],
   "source": [
    "l=[]\n",
    "l.append(20)\n",
    "l"
   ]
  },
  {
   "cell_type": "code",
   "execution_count": null,
   "id": "93f5d5e2-a42f-4424-960e-996e3becdc33",
   "metadata": {},
   "outputs": [],
   "source": [
    "*empty string*"
   ]
  },
  {
   "cell_type": "code",
   "execution_count": 71,
   "id": "06e8e749-990e-45e1-bfbc-af94a6e9e5b5",
   "metadata": {},
   "outputs": [
    {
     "data": {
      "text/plain": [
       "'a'"
      ]
     },
     "execution_count": 71,
     "metadata": {},
     "output_type": "execute_result"
    }
   ],
   "source": [
    "s=''\n",
    "s=s+'a'\n",
    "s"
   ]
  },
  {
   "cell_type": "code",
   "execution_count": null,
   "id": "652f1f97-c8c6-46b1-88e3-f3796fd5938d",
   "metadata": {},
   "outputs": [],
   "source": [
    "*empty dictionary*"
   ]
  },
  {
   "cell_type": "code",
   "execution_count": null,
   "id": "edd47fda-3531-4e21-840c-0793ff5fcdf9",
   "metadata": {},
   "outputs": [],
   "source": [
    "d={}\n",
    "d[{<key>}]=<values>"
   ]
  },
  {
   "cell_type": "code",
   "execution_count": 74,
   "id": "5d76b6ca-09ac-4599-8c90-03bffd02a9de",
   "metadata": {},
   "outputs": [
    {
     "data": {
      "text/plain": [
       "{'B': 30, 'R': 20, 'S': 20}"
      ]
     },
     "execution_count": 74,
     "metadata": {},
     "output_type": "execute_result"
    }
   ],
   "source": [
    "d={}\n",
    "d['B']=30\n",
    "d['R']=20\n",
    "d['S']=20\n"
   ]
  },
  {
   "cell_type": "code",
   "execution_count": 76,
   "id": "616cebc4-ca95-46a5-aabb-ee77bf67edb9",
   "metadata": {},
   "outputs": [
    {
     "data": {
      "text/plain": [
       "{'Vignesh': 20, 'Mohith': 25, 'Nagesh': 30}"
      ]
     },
     "execution_count": 76,
     "metadata": {},
     "output_type": "execute_result"
    }
   ],
   "source": [
    "name=['Vignesh','Mohith','Nagesh']\n",
    "age=[20,25,30]\n",
    "names={}\n",
    "for i,j in zip(name,age):\n",
    "    names[i]=j\n",
    "names"
   ]
  },
  {
   "cell_type": "markdown",
   "id": "3b9e0a0d-a03e-495e-98c5-4571020edfa7",
   "metadata": {},
   "source": [
    "**String to list**"
   ]
  },
  {
   "cell_type": "code",
   "execution_count": 78,
   "id": "152518ed-552a-42cd-aaeb-3a8d25ce406d",
   "metadata": {},
   "outputs": [
    {
     "data": {
      "text/plain": [
       "['Hello', 'hai', 'hai', 'how', 'how', 'are', 'you']"
      ]
     },
     "execution_count": 78,
     "metadata": {},
     "output_type": "execute_result"
    }
   ],
   "source": [
    "s='Hello hai hai how how are you'\n",
    "s.split()"
   ]
  },
  {
   "cell_type": "markdown",
   "id": "79cc522e-3fab-4fe3-ac01-e7893b05c7d0",
   "metadata": {},
   "source": [
    "**Word frequency**"
   ]
  },
  {
   "cell_type": "code",
   "execution_count": 81,
   "id": "921c1848-f7b7-4fff-905f-fd469b9cfe30",
   "metadata": {},
   "outputs": [
    {
     "data": {
      "text/plain": [
       "{'Hello': 1, 'hai': 2, 'how': 2, 'are': 1, 'you': 1}"
      ]
     },
     "execution_count": 81,
     "metadata": {},
     "output_type": "execute_result"
    }
   ],
   "source": [
    "s='Hello hai hai how how are you'\n",
    "# o/p:{'hello':1,'hai':2,how:2,'are':1,'you':1}\n",
    "# step1:split the string: list of words\n",
    "# step2: Iterate using the list\n",
    "#        each word will come apply the count\n",
    "#        wordlist=[],countlist=[]\n",
    "#        make dict\n",
    "words_list=s.split()\n",
    "dict1={}\n",
    "for word in words_list:\n",
    "    dict1[word]=s.count(word)\n",
    "dict1"
   ]
  },
  {
   "cell_type": "code",
   "execution_count": 241,
   "id": "ff73b3eb-4a98-4c1e-b75f-a83a16bf794d",
   "metadata": {},
   "outputs": [
    {
     "data": {
      "text/plain": [
       "{'Hello': 1, 'hai': 4, 'how': 3, 'hwo': 1, 'are': 3, 'you': 3}"
      ]
     },
     "execution_count": 241,
     "metadata": {},
     "output_type": "execute_result"
    }
   ],
   "source": [
    "s='Hello hai hai hai hai how how how hwo are are are you you you'\n",
    "words=s.split()\n",
    "d1={}\n",
    "for word in words:\n",
    "    d1[word]=s.count(word)\n",
    "d1"
   ]
  },
  {
   "cell_type": "code",
   "execution_count": 251,
   "id": "2db0aa52-c9a1-4500-8600-6e6f86fae27d",
   "metadata": {},
   "outputs": [
    {
     "data": {
      "text/plain": [
       "{'Hello': 1, 'hai': 4, 'how': 3, 'hwo': 1, 'are': 3, 'you': 3}"
      ]
     },
     "execution_count": 251,
     "metadata": {},
     "output_type": "execute_result"
    }
   ],
   "source": [
    "s='Hello hai hai hai hai how how how hwo are are are you you you'\n",
    "wordss=s.split()\n",
    "l={}\n",
    "for word in wordss:\n",
    "    l[word]=s.count(word)\n",
    "l"
   ]
  },
  {
   "cell_type": "markdown",
   "id": "3b060a94-2f22-45f3-a850-950cc41818a9",
   "metadata": {},
   "source": [
    "**Mutable-Immutable**\n",
    "- change the elements using index\n",
    "- but in dictionary there is not index\n",
    "- In dictionary we will change the value base on key only\n",
    "- instead of using the index chnage the values using key\n",
    "- if it is changing it is mmutable\n",
    "- if it is not change it is immutable"
   ]
  },
  {
   "cell_type": "code",
   "execution_count": 82,
   "id": "b38751ff-ab4b-4737-8518-bba378e20011",
   "metadata": {},
   "outputs": [
    {
     "data": {
      "text/plain": [
       "{'Ramesh': 22, 'suresh': 25, 'sathis': 30}"
      ]
     },
     "execution_count": 82,
     "metadata": {},
     "output_type": "execute_result"
    }
   ],
   "source": [
    "d1={'Ramesh':20,'suresh':25,'sathis':30}\n",
    "d1['Ramesh']=22\n",
    "d1"
   ]
  },
  {
   "cell_type": "markdown",
   "id": "bd322103-2733-4a0b-b128-3472c41b9d7d",
   "metadata": {},
   "source": [
    "- list and dictionary are mutable\n",
    "- tuple and strings are immutable\n",
    "- difference between list and tuple\n"
   ]
  },
  {
   "cell_type": "code",
   "execution_count": 84,
   "id": "0febf6b3-654c-4ebb-a887-da95ae1f1b36",
   "metadata": {},
   "outputs": [
    {
     "data": {
      "text/plain": [
       "'Mango'"
      ]
     },
     "execution_count": 84,
     "metadata": {},
     "output_type": "execute_result"
    }
   ],
   "source": [
    "d={'Fruites':['Mango']}\n",
    "d['Fruites'][0]"
   ]
  },
  {
   "cell_type": "code",
   "execution_count": 86,
   "id": "e58a459c-ee86-440f-9b49-909b092d724a",
   "metadata": {},
   "outputs": [
    {
     "data": {
      "text/plain": [
       "{'Fruites': [{'apple': ['kashmir']}]}"
      ]
     },
     "execution_count": 86,
     "metadata": {},
     "output_type": "execute_result"
    }
   ],
   "source": [
    "d={'Fruites':[{'apple':['kashmir']}]}\n",
    "d"
   ]
  },
  {
   "cell_type": "code",
   "execution_count": 94,
   "id": "c2d14a9f-5f48-4f92-b7fd-58f0f92f8006",
   "metadata": {},
   "outputs": [
    {
     "data": {
      "text/plain": [
       "'kashmir'"
      ]
     },
     "execution_count": 94,
     "metadata": {},
     "output_type": "execute_result"
    }
   ],
   "source": [
    "d['Fruites'][0]['apple'][0]"
   ]
  },
  {
   "cell_type": "code",
   "execution_count": 233,
   "id": "2bb4db60-c7ba-4470-87ad-55c10f1d0577",
   "metadata": {},
   "outputs": [
    {
     "data": {
      "text/plain": [
       "'india'"
      ]
     },
     "execution_count": 233,
     "metadata": {},
     "output_type": "execute_result"
    }
   ],
   "source": [
    "d={'Fruites':[\n",
    "    {'apple':\n",
    "    {'kashmir':\n",
    "     ['india']\n",
    "     }\n",
    "    }\n",
    "   ]\n",
    "  }\n",
    "d\n",
    "d['Fruites'][0]['apple']['kashmir'][0]"
   ]
  },
  {
   "cell_type": "code",
   "execution_count": 228,
   "id": "8bb4fa42-676e-4100-b5fe-8c074e4bc717",
   "metadata": {},
   "outputs": [
    {
     "data": {
      "text/plain": [
       "{'Fruits': {'Benganpally': {'Mango': {'Nagpur': {'MH': {'Shivaji': {'Shambaji'}}}}}}}"
      ]
     },
     "execution_count": 228,
     "metadata": {},
     "output_type": "execute_result"
    }
   ],
   "source": [
    "d={'Fruits':{'Benganpally':{'Mango':{'Nagpur':{'MH':{'Shivaji':{'Shambaji'}}}}}}}\n",
    "d"
   ]
  },
  {
   "cell_type": "code",
   "execution_count": 112,
   "id": "bf661ee7-5f76-4464-9f05-50ee1034103b",
   "metadata": {},
   "outputs": [
    {
     "data": {
      "text/plain": [
       "{'Shambaji'}"
      ]
     },
     "execution_count": 112,
     "metadata": {},
     "output_type": "execute_result"
    }
   ],
   "source": [
    "d['Fruits']['Benganpally']['Mango']['Nagpur']['MH']['Shivaji']"
   ]
  },
  {
   "cell_type": "markdown",
   "id": "364248a8-adb7-4d28-85cd-c2e343f51b62",
   "metadata": {},
   "source": [
    "**Dictionary Methods**"
   ]
  },
  {
   "cell_type": "code",
   "execution_count": null,
   "id": "25fff232-1450-44d5-9f30-7fa64c16fa20",
   "metadata": {},
   "outputs": [],
   "source": [
    "dir ('') # string methods\n",
    "dir([]) # List methods\n",
    "dir(()) # tuple methods\n",
    "dir({}) # Dictionary methods"
   ]
  },
  {
   "cell_type": "code",
   "execution_count": null,
   "id": "9302934f-fd1d-4ecf-99fa-208a1d711deb",
   "metadata": {},
   "outputs": [],
   "source": [
    "strings\n",
    "list\n",
    "tuple\n",
    "dictionary all are class objects\n"
   ]
  },
  {
   "cell_type": "code",
   "execution_count": 118,
   "id": "71f69351-576f-47f6-ad5a-cf965a08bb06",
   "metadata": {},
   "outputs": [
    {
     "name": "stdout",
     "output_type": "stream",
     "text": [
      "<class 'str'>\n"
     ]
    }
   ],
   "source": [
    "print(type(''))"
   ]
  },
  {
   "cell_type": "markdown",
   "id": "2200bb2b-7cca-4d36-827b-07fb61d11c86",
   "metadata": {},
   "source": [
    "**Items-keys-values**"
   ]
  },
  {
   "cell_type": "code",
   "execution_count": 120,
   "id": "9839849a-a2ae-4a81-ad02-78f934e9f44b",
   "metadata": {},
   "outputs": [],
   "source": [
    "d={'Vignesh':30,'Mohith':35,'Nagesh':40}"
   ]
  },
  {
   "cell_type": "code",
   "execution_count": 121,
   "id": "d00d8118-b083-4c42-950f-94ba3264ca72",
   "metadata": {},
   "outputs": [
    {
     "data": {
      "text/plain": [
       "dict_items([('Vignesh', 30), ('Mohith', 35), ('Nagesh', 40)])"
      ]
     },
     "execution_count": 121,
     "metadata": {},
     "output_type": "execute_result"
    }
   ],
   "source": [
    "d.items()"
   ]
  },
  {
   "cell_type": "code",
   "execution_count": 122,
   "id": "96ab2235-d991-47ea-ab20-17aeae211260",
   "metadata": {},
   "outputs": [
    {
     "data": {
      "text/plain": [
       "dict_keys(['Vignesh', 'Mohith', 'Nagesh'])"
      ]
     },
     "execution_count": 122,
     "metadata": {},
     "output_type": "execute_result"
    }
   ],
   "source": [
    "d.keys()"
   ]
  },
  {
   "cell_type": "code",
   "execution_count": 123,
   "id": "e0882da6-5093-44b8-905a-d1fb405c5ad7",
   "metadata": {},
   "outputs": [
    {
     "data": {
      "text/plain": [
       "dict_values([30, 35, 40])"
      ]
     },
     "execution_count": 123,
     "metadata": {},
     "output_type": "execute_result"
    }
   ],
   "source": [
    "d.values()"
   ]
  },
  {
   "cell_type": "code",
   "execution_count": 134,
   "id": "e211e713-9665-406a-9daf-a2ae6bd06bfe",
   "metadata": {},
   "outputs": [
    {
     "name": "stdout",
     "output_type": "stream",
     "text": [
      "Vignesh 30\n",
      "Mohith 35\n",
      "Nagesh 40\n"
     ]
    },
    {
     "data": {
      "text/plain": [
       "[20, 20, 20]"
      ]
     },
     "execution_count": 134,
     "metadata": {},
     "output_type": "execute_result"
    }
   ],
   "source": [
    "# we already lean how to make a list from dictionary\n",
    "d={'Vignesh':30,'Mohith':35,'Nagesh':40}\n",
    "key,vlues=[],[]\n",
    "for i in d:\n",
    "    print(i,d[i])\n",
    "    keys.append(i)\n",
    "    values.append(d[i])\n",
    "value"
   ]
  },
  {
   "cell_type": "code",
   "execution_count": 128,
   "id": "f32c1f60-dd0a-4863-9b97-29b4bd04b2ae",
   "metadata": {},
   "outputs": [
    {
     "data": {
      "text/plain": [
       "dict_keys(['Vignesh', 'Mohith', 'Nagesh'])"
      ]
     },
     "execution_count": 128,
     "metadata": {},
     "output_type": "execute_result"
    }
   ],
   "source": [
    "d.keys()"
   ]
  },
  {
   "cell_type": "code",
   "execution_count": 130,
   "id": "90717f0c-de2d-4e86-86d4-7dfd72332361",
   "metadata": {},
   "outputs": [
    {
     "data": {
      "text/plain": [
       "dict_keys"
      ]
     },
     "execution_count": 130,
     "metadata": {},
     "output_type": "execute_result"
    }
   ],
   "source": [
    "type(d.keys())"
   ]
  },
  {
   "cell_type": "code",
   "execution_count": 135,
   "id": "337f2169-d3e2-413d-84f4-5f7cc4f2f5e3",
   "metadata": {},
   "outputs": [
    {
     "data": {
      "text/plain": [
       "(['Vignesh', 'Mohith', 'Nagesh'], [30, 35, 40])"
      ]
     },
     "execution_count": 135,
     "metadata": {},
     "output_type": "execute_result"
    }
   ],
   "source": [
    "d={'Vignesh':30,'Mohith':35,'Nagesh':40}\n",
    "list(d.keys()),list(d.values())"
   ]
  },
  {
   "cell_type": "markdown",
   "id": "89643096-c09d-4429-a840-dbdc3343379a",
   "metadata": {},
   "source": [
    "- Dictionary keys will give dictionary keys  items in a list\n",
    "- it looks like a list , but it is not a list\n",
    "- which means we can not apply list methods\n",
    "- so we need to convert into list type by using the list type casting"
   ]
  },
  {
   "cell_type": "code",
   "execution_count": 136,
   "id": "8cc8368b-a175-4ccb-a019-e8afaa2e6768",
   "metadata": {},
   "outputs": [
    {
     "data": {
      "text/plain": [
       "([23, 25, 30], ['python', 'ml', 'dl'])"
      ]
     },
     "execution_count": 136,
     "metadata": {},
     "output_type": "execute_result"
    }
   ],
   "source": [
    "d1={23:'python',25:'ml',30:'dl'}\n",
    "list(d1.keys()),list(d1.values())"
   ]
  },
  {
   "cell_type": "code",
   "execution_count": 137,
   "id": "6273837a-465b-43c5-9452-e41f65516b5f",
   "metadata": {},
   "outputs": [
    {
     "data": {
      "text/plain": [
       "types.GenericAlias"
      ]
     },
     "execution_count": 137,
     "metadata": {},
     "output_type": "execute_result"
    }
   ],
   "source": [
    "type(list[d.keys()])"
   ]
  },
  {
   "cell_type": "markdown",
   "id": "5bfb5fb2-c781-4e2f-8e62-0b6e91ecd48d",
   "metadata": {},
   "source": [
    "**Method-1**"
   ]
  },
  {
   "cell_type": "code",
   "execution_count": 138,
   "id": "4d3e0f7b-5fcf-4b65-9e99-9cd4d353f905",
   "metadata": {},
   "outputs": [
    {
     "name": "stdout",
     "output_type": "stream",
     "text": [
      "Vignesh 30\n",
      "Mohith 35\n",
      "Nagesh 40\n"
     ]
    },
    {
     "data": {
      "text/plain": [
       "[20, 20, 20]"
      ]
     },
     "execution_count": 138,
     "metadata": {},
     "output_type": "execute_result"
    }
   ],
   "source": [
    "d={'Vignesh':30,'Mohith':35,'Nagesh':40}\n",
    "key,vlues=[],[]\n",
    "for i in d:\n",
    "    print(i,d[i])\n",
    "    keys.append(i)\n",
    "    values.append(d[i])\n",
    "value"
   ]
  },
  {
   "cell_type": "code",
   "execution_count": 222,
   "id": "21eda9b2-8449-4cf6-adfa-57f0ac0780f0",
   "metadata": {},
   "outputs": [
    {
     "name": "stdout",
     "output_type": "stream",
     "text": [
      "Vignesh 30\n",
      "Mohith 35\n",
      "Nagesh 40\n"
     ]
    },
    {
     "data": {
      "text/plain": [
       "[30, 35, 40]"
      ]
     },
     "execution_count": 222,
     "metadata": {},
     "output_type": "execute_result"
    }
   ],
   "source": [
    "d={'Vignesh':30,'Mohith':35,'Nagesh':40}\n",
    "key,values=[],[]\n",
    "for i in d:\n",
    "    print(i,d[i])\n",
    "    keys.append(i)\n",
    "    values.append(d[i])\n",
    "keys\n",
    "values"
   ]
  },
  {
   "cell_type": "markdown",
   "id": "d46f9969-56cd-42f5-9ac1-870ef24c6052",
   "metadata": {},
   "source": [
    "**Method-2**"
   ]
  },
  {
   "cell_type": "code",
   "execution_count": 147,
   "id": "63df078e-a9c8-4d24-8894-65933fa432f1",
   "metadata": {},
   "outputs": [
    {
     "data": {
      "text/plain": [
       "[30, 35, 40]"
      ]
     },
     "execution_count": 147,
     "metadata": {},
     "output_type": "execute_result"
    }
   ],
   "source": [
    "d={'Vignesh':30,'Mohith':35,'Nagesh':40}\n",
    "keys=list(d.keys())\n",
    "values=list(d.values())\n",
    "keys\n",
    "values"
   ]
  },
  {
   "cell_type": "markdown",
   "id": "51562810-20a0-4558-8010-3e46baa6dfff",
   "metadata": {},
   "source": [
    "**Method-3**"
   ]
  },
  {
   "cell_type": "code",
   "execution_count": 140,
   "id": "bd88d9c8-e292-4fd2-b193-377cfddd31fa",
   "metadata": {},
   "outputs": [
    {
     "data": {
      "text/plain": [
       "dict_items([('Vignesh', 30), ('Mohith', 35), ('Nagesh', 40)])"
      ]
     },
     "execution_count": 140,
     "metadata": {},
     "output_type": "execute_result"
    }
   ],
   "source": [
    "d.items()"
   ]
  },
  {
   "cell_type": "code",
   "execution_count": 142,
   "id": "51ad0f97-15cd-4990-a0e3-65d3c95abe11",
   "metadata": {},
   "outputs": [
    {
     "name": "stdout",
     "output_type": "stream",
     "text": [
      "('Vignesh', 30)\n",
      "('Mohith', 35)\n",
      "('Nagesh', 40)\n"
     ]
    }
   ],
   "source": [
    "for i in d.items():\n",
    "    print(i)"
   ]
  },
  {
   "cell_type": "code",
   "execution_count": null,
   "id": "a333e609-b5bd-4615-9143-6786c9b3a918",
   "metadata": {},
   "outputs": [],
   "source": [
    "a=10,20 # works\n",
    "a,b=10,20 # works\n",
    "a,b=10 # Fail"
   ]
  },
  {
   "cell_type": "code",
   "execution_count": 143,
   "id": "3930858d-e55f-40a1-a4d8-22ab7846f586",
   "metadata": {},
   "outputs": [
    {
     "name": "stdout",
     "output_type": "stream",
     "text": [
      "Vignesh 30\n",
      "Mohith 35\n",
      "Nagesh 40\n"
     ]
    }
   ],
   "source": [
    "for i,j in d.items():\n",
    "    print(i,j)"
   ]
  },
  {
   "cell_type": "code",
   "execution_count": 144,
   "id": "11719c35-fe05-476d-8182-c76e7ace924a",
   "metadata": {},
   "outputs": [
    {
     "name": "stdout",
     "output_type": "stream",
     "text": [
      "Vignesh 30\n",
      "Mohith 35\n",
      "Nagesh 40\n"
     ]
    },
    {
     "data": {
      "text/plain": [
       "(['Vignesh', 'Mohith', 'Nagesh'], [30, 35, 40, 30, 35, 40])"
      ]
     },
     "execution_count": 144,
     "metadata": {},
     "output_type": "execute_result"
    }
   ],
   "source": [
    "keys,value=[],[]\n",
    "for i ,j in d.items():\n",
    "    print(i,j)\n",
    "    keys.append(i)\n",
    "    values.append(j)\n",
    "keys,values"
   ]
  },
  {
   "cell_type": "code",
   "execution_count": 145,
   "id": "87332f82-25d1-4881-b065-0255575debd2",
   "metadata": {},
   "outputs": [
    {
     "data": {
      "text/plain": [
       "['__class__',\n",
       " '__class_getitem__',\n",
       " '__contains__',\n",
       " '__delattr__',\n",
       " '__delitem__',\n",
       " '__dir__',\n",
       " '__doc__',\n",
       " '__eq__',\n",
       " '__format__',\n",
       " '__ge__',\n",
       " '__getattribute__',\n",
       " '__getitem__',\n",
       " '__getstate__',\n",
       " '__gt__',\n",
       " '__hash__',\n",
       " '__init__',\n",
       " '__init_subclass__',\n",
       " '__ior__',\n",
       " '__iter__',\n",
       " '__le__',\n",
       " '__len__',\n",
       " '__lt__',\n",
       " '__ne__',\n",
       " '__new__',\n",
       " '__or__',\n",
       " '__reduce__',\n",
       " '__reduce_ex__',\n",
       " '__repr__',\n",
       " '__reversed__',\n",
       " '__ror__',\n",
       " '__setattr__',\n",
       " '__setitem__',\n",
       " '__sizeof__',\n",
       " '__str__',\n",
       " '__subclasshook__',\n",
       " 'clear',\n",
       " 'copy',\n",
       " 'fromkeys',\n",
       " 'get',\n",
       " 'items',\n",
       " 'keys',\n",
       " 'pop',\n",
       " 'popitem',\n",
       " 'setdefault',\n",
       " 'update',\n",
       " 'values']"
      ]
     },
     "execution_count": 145,
     "metadata": {},
     "output_type": "execute_result"
    }
   ],
   "source": [
    "dir({})"
   ]
  },
  {
   "cell_type": "code",
   "execution_count": 154,
   "id": "eb13f56d-33a2-4294-8921-b0ccda8dfe35",
   "metadata": {},
   "outputs": [],
   "source": [
    "d={'Vignesh':30,'Mohith':35,'Nagesh':40}\n",
    "d.clear()"
   ]
  },
  {
   "cell_type": "code",
   "execution_count": 155,
   "id": "571ff198-21e5-476e-afed-6c4bc5a982f5",
   "metadata": {},
   "outputs": [
    {
     "data": {
      "text/plain": [
       "{}"
      ]
     },
     "execution_count": 155,
     "metadata": {},
     "output_type": "execute_result"
    }
   ],
   "source": [
    "d"
   ]
  },
  {
   "cell_type": "code",
   "execution_count": 159,
   "id": "4e277559-821a-4a40-b472-73984a65a8be",
   "metadata": {},
   "outputs": [
    {
     "data": {
      "text/plain": [
       "{'Vignesh': 30, 'Mohith': 35, 'Nagesh': 40}"
      ]
     },
     "execution_count": 159,
     "metadata": {},
     "output_type": "execute_result"
    }
   ],
   "source": [
    "d={'Vignesh':30,'Mohith':35,'Nagesh':40}\n",
    "d.copy()\n"
   ]
  },
  {
   "cell_type": "code",
   "execution_count": 163,
   "id": "1c07076b-d61d-49bb-8383-9def7702e92f",
   "metadata": {},
   "outputs": [
    {
     "data": {
      "text/plain": [
       "{'V': 30, 'i': 30, 'g': 30, 'n': 30, 'e': 30, 's': 30, 'h': 30}"
      ]
     },
     "execution_count": 163,
     "metadata": {},
     "output_type": "execute_result"
    }
   ],
   "source": [
    "d={'Vignesh':30,'Mohith':35,'Nagesh':40}\n",
    "d.fromkeys('Vignesh',30)"
   ]
  },
  {
   "cell_type": "code",
   "execution_count": 164,
   "id": "0b6c57ed-5fa5-4403-b2ad-8e090124371d",
   "metadata": {},
   "outputs": [
    {
     "data": {
      "text/plain": [
       "35"
      ]
     },
     "execution_count": 164,
     "metadata": {},
     "output_type": "execute_result"
    }
   ],
   "source": [
    "d={'Vignesh':30,'Mohith':35,'Nagesh':40}\n",
    "d.get('Mohith')"
   ]
  },
  {
   "cell_type": "code",
   "execution_count": 166,
   "id": "6c14a43d-306b-4849-b079-088a1bad3add",
   "metadata": {},
   "outputs": [
    {
     "data": {
      "text/plain": [
       "40"
      ]
     },
     "execution_count": 166,
     "metadata": {},
     "output_type": "execute_result"
    }
   ],
   "source": [
    "d={'Vignesh':30,'Mohith':35,'Nagesh':40}\n",
    "d.get('Nagesh')"
   ]
  },
  {
   "cell_type": "code",
   "execution_count": 167,
   "id": "e86add60-2658-4b4c-9d13-20ca8ad8d942",
   "metadata": {},
   "outputs": [
    {
     "data": {
      "text/plain": [
       "dict_items([('Vignesh', 30), ('Mohith', 35), ('Nagesh', 40)])"
      ]
     },
     "execution_count": 167,
     "metadata": {},
     "output_type": "execute_result"
    }
   ],
   "source": [
    "d={'Vignesh':30,'Mohith':35,'Nagesh':40}\n",
    "d.items()"
   ]
  },
  {
   "cell_type": "code",
   "execution_count": 171,
   "id": "70606d5c-4c60-48cb-9ad7-b2e272646b0e",
   "metadata": {},
   "outputs": [
    {
     "data": {
      "text/plain": [
       "{'Mohith': 35, 'Nagesh': 40}"
      ]
     },
     "execution_count": 171,
     "metadata": {},
     "output_type": "execute_result"
    }
   ],
   "source": [
    "d={'Vignesh':30,'Mohith':35,'Nagesh':40}\n",
    "d.pop('Vignesh')\n",
    "d"
   ]
  },
  {
   "cell_type": "code",
   "execution_count": 178,
   "id": "40089fee-7eae-4d3e-8aef-e7ffe5996c87",
   "metadata": {},
   "outputs": [
    {
     "data": {
      "text/plain": [
       "('Nagesh', 40)"
      ]
     },
     "execution_count": 178,
     "metadata": {},
     "output_type": "execute_result"
    }
   ],
   "source": [
    "d={'Vignesh':30,'Mohith':35,'Nagesh':40}\n",
    "d.popitem()"
   ]
  },
  {
   "cell_type": "code",
   "execution_count": 180,
   "id": "fc38757b-a3b1-458d-9ba1-cdeb01cecd19",
   "metadata": {},
   "outputs": [
    {
     "data": {
      "text/plain": [
       "30"
      ]
     },
     "execution_count": 180,
     "metadata": {},
     "output_type": "execute_result"
    }
   ],
   "source": [
    "d={'Vignesh':30,'Mohith':35,'Nagesh':40}\n",
    "d.setdefault('Vignesh',30)"
   ]
  },
  {
   "cell_type": "code",
   "execution_count": 181,
   "id": "eb27923d-f888-4d47-bb64-6c55596db705",
   "metadata": {},
   "outputs": [
    {
     "data": {
      "text/plain": [
       "{'Vignesh': 30, 'Mohith': 35, 'Nagesh': 40}"
      ]
     },
     "execution_count": 181,
     "metadata": {},
     "output_type": "execute_result"
    }
   ],
   "source": [
    "d"
   ]
  },
  {
   "cell_type": "code",
   "execution_count": 237,
   "id": "f1703ae8-984c-4f69-8996-2bdcbd1a0256",
   "metadata": {},
   "outputs": [
    {
     "ename": "ValueError",
     "evalue": "dictionary update sequence element #0 has length 7; 2 is required",
     "output_type": "error",
     "traceback": [
      "\u001b[1;31m---------------------------------------------------------------------------\u001b[0m",
      "\u001b[1;31mValueError\u001b[0m                                Traceback (most recent call last)",
      "Cell \u001b[1;32mIn[237], line 3\u001b[0m\n\u001b[0;32m      1\u001b[0m d\u001b[38;5;241m=\u001b[39m{\u001b[38;5;124m'\u001b[39m\u001b[38;5;124mVignesh\u001b[39m\u001b[38;5;124m'\u001b[39m:\u001b[38;5;241m30\u001b[39m,\u001b[38;5;124m'\u001b[39m\u001b[38;5;124mMohith\u001b[39m\u001b[38;5;124m'\u001b[39m:\u001b[38;5;241m35\u001b[39m,\u001b[38;5;124m'\u001b[39m\u001b[38;5;124mNagesh\u001b[39m\u001b[38;5;124m'\u001b[39m:\u001b[38;5;241m40\u001b[39m}\n\u001b[0;32m      2\u001b[0m \u001b[38;5;28mlen\u001b[39m(d)\n\u001b[1;32m----> 3\u001b[0m d\u001b[38;5;241m.\u001b[39mupdate([\u001b[38;5;124m'\u001b[39m\u001b[38;5;124mVignesh\u001b[39m\u001b[38;5;124m'\u001b[39m,\u001b[38;5;241m45\u001b[39m])\n",
      "\u001b[1;31mValueError\u001b[0m: dictionary update sequence element #0 has length 7; 2 is required"
     ]
    }
   ],
   "source": [
    "d={'Vignesh':30,'Mohith':35,'Nagesh':40}\n",
    "len(d)\n",
    "d.update(['Vignesh',45])\n"
   ]
  },
  {
   "cell_type": "code",
   "execution_count": null,
   "id": "70f2c3c8-debb-4590-902a-019670577328",
   "metadata": {},
   "outputs": [],
   "source": []
  }
 ],
 "metadata": {
  "kernelspec": {
   "display_name": "Python 3 (ipykernel)",
   "language": "python",
   "name": "python3"
  },
  "language_info": {
   "codemirror_mode": {
    "name": "ipython",
    "version": 3
   },
   "file_extension": ".py",
   "mimetype": "text/x-python",
   "name": "python",
   "nbconvert_exporter": "python",
   "pygments_lexer": "ipython3",
   "version": "3.11.7"
  }
 },
 "nbformat": 4,
 "nbformat_minor": 5
}
