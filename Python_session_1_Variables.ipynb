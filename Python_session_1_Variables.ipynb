{
 "cells": [
  {
   "cell_type": "markdown",
   "id": "8afa010c-fc5f-45f8-be91-2093187d1dcd",
   "metadata": {},
   "source": [
    "## Variables\n",
    "\n",
    "- variables are used to store the value\n",
    "- and the values can be change"
   ]
  },
  {
   "cell_type": "code",
   "execution_count": 1,
   "id": "9bcae3e1-feec-4e31-9d37-9fe833de262c",
   "metadata": {},
   "outputs": [],
   "source": [
    "number=100 # value 100 stored in variable name called 'number'"
   ]
  },
  {
   "cell_type": "code",
   "execution_count": 2,
   "id": "06a17903-4938-4bb1-862a-50c96825b8fc",
   "metadata": {},
   "outputs": [
    {
     "data": {
      "text/plain": [
       "100"
      ]
     },
     "execution_count": 2,
     "metadata": {},
     "output_type": "execute_result"
    }
   ],
   "source": [
    "number"
   ]
  },
  {
   "cell_type": "code",
   "execution_count": 1,
   "id": "f02592b9-3b73-4f82-b797-d4b4dd044dbb",
   "metadata": {},
   "outputs": [
    {
     "data": {
      "text/plain": [
       "234"
      ]
     },
     "execution_count": 1,
     "metadata": {},
     "output_type": "execute_result"
    }
   ],
   "source": [
    "number=234\n",
    "number"
   ]
  },
  {
   "cell_type": "code",
   "execution_count": 3,
   "id": "e1f12f12-dc6a-4168-8535-10f2253e26ef",
   "metadata": {},
   "outputs": [
    {
     "data": {
      "text/plain": [
       "200"
      ]
     },
     "execution_count": 3,
     "metadata": {},
     "output_type": "execute_result"
    }
   ],
   "source": [
    "number=200 # value 200 stored in variable name called 'number' \n",
    "number"
   ]
  },
  {
   "cell_type": "markdown",
   "id": "fdc12d03-34ed-4366-9856-e3292ba1ce1b",
   "metadata": {},
   "source": [
    "**Note**\n",
    "- python is setp by step process\n",
    "- python will take last output as the latest value\n",
    "- in above code we are using same variable : number\n",
    "- but number value changed two times\n",
    "- first time 100\n",
    "- second time 200\n",
    "- latest value 200"
   ]
  },
  {
   "cell_type": "code",
   "execution_count": 4,
   "id": "905d67fe-2b0d-4ad9-a012-907b2d629ecc",
   "metadata": {},
   "outputs": [
    {
     "data": {
      "text/plain": [
       "200"
      ]
     },
     "execution_count": 4,
     "metadata": {},
     "output_type": "execute_result"
    }
   ],
   "source": [
    "NUMBER=200\n",
    "NUMBER"
   ]
  },
  {
   "cell_type": "code",
   "execution_count": 5,
   "id": "dc404ae7-72c3-46c2-85d9-9daaa1122819",
   "metadata": {},
   "outputs": [
    {
     "data": {
      "text/plain": [
       "(200, 200)"
      ]
     },
     "execution_count": 5,
     "metadata": {},
     "output_type": "execute_result"
    }
   ],
   "source": [
    "number,NUMBER"
   ]
  },
  {
   "cell_type": "code",
   "execution_count": 2,
   "id": "6e01d3c2-45fd-4fe2-a2b4-82ec2ac236ef",
   "metadata": {},
   "outputs": [
    {
     "data": {
      "text/plain": [
       "354"
      ]
     },
     "execution_count": 2,
     "metadata": {},
     "output_type": "execute_result"
    }
   ],
   "source": [
    "number=100\n",
    "Number=354\n",
    "number\n",
    "Number"
   ]
  },
  {
   "cell_type": "code",
   "execution_count": 6,
   "id": "0ab37d10-cdff-4f2e-95f8-b3b97648e0f1",
   "metadata": {},
   "outputs": [
    {
     "data": {
      "text/plain": [
       "300"
      ]
     },
     "execution_count": 6,
     "metadata": {},
     "output_type": "execute_result"
    }
   ],
   "source": [
    "NUMber=300\n",
    "NUMber"
   ]
  },
  {
   "cell_type": "code",
   "execution_count": 7,
   "id": "7021b648-a5b9-4177-9092-3e108c04ef0d",
   "metadata": {},
   "outputs": [
    {
     "data": {
      "text/plain": [
       "400"
      ]
     },
     "execution_count": 7,
     "metadata": {},
     "output_type": "execute_result"
    }
   ],
   "source": [
    "number123=400\n",
    "number123"
   ]
  },
  {
   "cell_type": "code",
   "execution_count": 8,
   "id": "fd5c795d-2b64-4ee3-99d9-edae718056eb",
   "metadata": {},
   "outputs": [
    {
     "ename": "SyntaxError",
     "evalue": "invalid decimal literal (1181908654.py, line 1)",
     "output_type": "error",
     "traceback": [
      "\u001b[1;36m  Cell \u001b[1;32mIn[8], line 1\u001b[1;36m\u001b[0m\n\u001b[1;33m    123number=500\u001b[0m\n\u001b[1;37m      ^\u001b[0m\n\u001b[1;31mSyntaxError\u001b[0m\u001b[1;31m:\u001b[0m invalid decimal literal\n"
     ]
    }
   ],
   "source": [
    "123number=500\n",
    "123number"
   ]
  },
  {
   "cell_type": "code",
   "execution_count": 9,
   "id": "71b08aff-1fc1-4c84-9348-1b81b2cf767f",
   "metadata": {},
   "outputs": [
    {
     "ename": "SyntaxError",
     "evalue": "cannot assign to expression here. Maybe you meant '==' instead of '='? (1823274275.py, line 1)",
     "output_type": "error",
     "traceback": [
      "\u001b[1;36m  Cell \u001b[1;32mIn[9], line 1\u001b[1;36m\u001b[0m\n\u001b[1;33m    numb%er=600\u001b[0m\n\u001b[1;37m    ^\u001b[0m\n\u001b[1;31mSyntaxError\u001b[0m\u001b[1;31m:\u001b[0m cannot assign to expression here. Maybe you meant '==' instead of '='?\n"
     ]
    }
   ],
   "source": [
    "numb%er=600\n",
    "numb%er"
   ]
  },
  {
   "cell_type": "code",
   "execution_count": 10,
   "id": "80d2b1a6-7af2-47c3-bd4c-adb1b27e73b0",
   "metadata": {},
   "outputs": [
    {
     "ename": "SyntaxError",
     "evalue": "invalid syntax (2656576567.py, line 1)",
     "output_type": "error",
     "traceback": [
      "\u001b[1;36m  Cell \u001b[1;32mIn[10], line 1\u001b[1;36m\u001b[0m\n\u001b[1;33m    number one=800\u001b[0m\n\u001b[1;37m           ^\u001b[0m\n\u001b[1;31mSyntaxError\u001b[0m\u001b[1;31m:\u001b[0m invalid syntax\n"
     ]
    }
   ],
   "source": [
    "number one=800\n",
    "number one"
   ]
  },
  {
   "cell_type": "code",
   "execution_count": 11,
   "id": "c39acee5-259b-448e-add3-31092039c61c",
   "metadata": {},
   "outputs": [
    {
     "data": {
      "text/plain": [
       "900"
      ]
     },
     "execution_count": 11,
     "metadata": {},
     "output_type": "execute_result"
    }
   ],
   "source": [
    "number_one=900\n",
    "number_one"
   ]
  },
  {
   "cell_type": "code",
   "execution_count": 13,
   "id": "d015011b-c858-4e95-ba39-cbafb58940c6",
   "metadata": {},
   "outputs": [
    {
     "data": {
      "text/plain": [
       "1000"
      ]
     },
     "execution_count": 13,
     "metadata": {},
     "output_type": "execute_result"
    }
   ],
   "source": [
    "_=1000\n",
    "_"
   ]
  },
  {
   "cell_type": "code",
   "execution_count": 14,
   "id": "84f41a01-6e4f-4e16-80de-f1ed9235b9b9",
   "metadata": {},
   "outputs": [
    {
     "data": {
      "text/plain": [
       "(100, 200)"
      ]
     },
     "execution_count": 14,
     "metadata": {},
     "output_type": "execute_result"
    }
   ],
   "source": [
    "n1=100,200\n",
    "n1"
   ]
  },
  {
   "cell_type": "code",
   "execution_count": 15,
   "id": "4cd523bc-f4dc-4979-a52d-ea30b7ab6337",
   "metadata": {},
   "outputs": [
    {
     "ename": "TypeError",
     "evalue": "cannot unpack non-iterable int object",
     "output_type": "error",
     "traceback": [
      "\u001b[1;31m---------------------------------------------------------------------------\u001b[0m",
      "\u001b[1;31mTypeError\u001b[0m                                 Traceback (most recent call last)",
      "Cell \u001b[1;32mIn[15], line 1\u001b[0m\n\u001b[1;32m----> 1\u001b[0m n2,n3 \u001b[38;5;241m=\u001b[39m\u001b[38;5;241m200\u001b[39m\n\u001b[0;32m      2\u001b[0m n2,n3\n",
      "\u001b[1;31mTypeError\u001b[0m: cannot unpack non-iterable int object"
     ]
    }
   ],
   "source": [
    "n2,n3 =200\n",
    "n2,n3"
   ]
  },
  {
   "cell_type": "code",
   "execution_count": 16,
   "id": "0dd162ab-510d-4571-90e6-b6bf17010b2a",
   "metadata": {},
   "outputs": [
    {
     "data": {
      "text/plain": [
       "(100, 200)"
      ]
     },
     "execution_count": 16,
     "metadata": {},
     "output_type": "execute_result"
    }
   ],
   "source": [
    "n4,n5=100,200\n",
    "n4,n5"
   ]
  },
  {
   "cell_type": "code",
   "execution_count": 17,
   "id": "14cfecd1-e114-4184-a556-aa9cb6c0e4fc",
   "metadata": {},
   "outputs": [
    {
     "data": {
      "text/plain": [
       "100"
      ]
     },
     "execution_count": 17,
     "metadata": {},
     "output_type": "execute_result"
    }
   ],
   "source": [
    "n4"
   ]
  },
  {
   "cell_type": "code",
   "execution_count": 18,
   "id": "2dc40130-ba0f-4422-ab02-d6d93ce023a3",
   "metadata": {},
   "outputs": [
    {
     "name": "stdout",
     "output_type": "stream",
     "text": [
      "100\n",
      "200\n"
     ]
    }
   ],
   "source": [
    "print(n4)\n",
    "print(n5)"
   ]
  },
  {
   "cell_type": "code",
   "execution_count": null,
   "id": "d0770346-f976-4756-a8d2-057c81be66b8",
   "metadata": {},
   "outputs": [],
   "source": [
    "number=200\n",
    "NUMBER=300\n",
    "NUMber=400\n",
    "num%ber=500\n",
    "number one=600\n",
    "number_one=700\n",
    "_= 800\n",
    "n1=100,200\n",
    "n1,n2=100\n"
   ]
  },
  {
   "cell_type": "markdown",
   "id": "79ebc081-9acd-4a16-aca1-2aa94bcd9433",
   "metadata": {},
   "source": [
    "- python variables are case senstive\n",
    "- Variables can be declare as capital letters\n",
    "- Variables can be declare as small letters\n",
    "- Variable can not start with Numbers\n",
    "- Number can be suffix of the variables\n",
    "- Variables cant not have special charecters except *Underscore*\n",
    "- Variables does not have space between the names\n",
    "- Only _ is allowed in between two names\n",
    "- Key words cannot used as variables(if,else,for)\n",
    "- one value can not assign to asingel variable\n",
    "- two values can be assigned to single variable\n",
    "- one value can not assign to two variables\n",
    "\n",
    "\n"
   ]
  },
  {
   "cell_type": "code",
   "execution_count": null,
   "id": "ae96699a-b94e-456f-8913-d4ab6355460a",
   "metadata": {},
   "outputs": [],
   "source": []
  }
 ],
 "metadata": {
  "kernelspec": {
   "display_name": "Python 3 (ipykernel)",
   "language": "python",
   "name": "python3"
  },
  "language_info": {
   "codemirror_mode": {
    "name": "ipython",
    "version": 3
   },
   "file_extension": ".py",
   "mimetype": "text/x-python",
   "name": "python",
   "nbconvert_exporter": "python",
   "pygments_lexer": "ipython3",
   "version": "3.11.7"
  }
 },
 "nbformat": 4,
 "nbformat_minor": 5
}
