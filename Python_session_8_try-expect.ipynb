{
 "cells": [
  {
   "cell_type": "markdown",
   "id": "0918e4d4-7570-4010-8323-02eae58b83e4",
   "metadata": {},
   "source": [
    "***try -except**\n",
    "\n",
    "- generally is real time we will write n number of python lines\n",
    "- there is a stituation we might get an error, that error might be unknown.\n",
    "- this unknown error does not cause any harm\n",
    "- even though wer getting error we need to proceed further\n",
    "- also we need to catch that error\n",
    "- because we already known python is a sequential process\n",
    "- means the lines will execute step by step\n",
    "- suppose you have an error at particular line , thwe code execution will stop at that line only\n",
    "- but you know that error is not "
   ]
  },
  {
   "cell_type": "markdown",
   "id": "a7969b1d-a2b7-4434-b9f4-e9e51082b0eb",
   "metadata": {},
   "source": [
    "- try -except has two bocks\n",
    "- try block as actual code\n",
    "- except block will catch the error"
   ]
  },
  {
   "cell_type": "code",
   "execution_count": 4,
   "id": "ec5336c0-c437-4fd6-91fa-6b57971d8f34",
   "metadata": {},
   "outputs": [
    {
     "name": "stdin",
     "output_type": "stream",
     "text": [
      "Enter the number1: 45\n",
      "Enter the number2: 56\n"
     ]
    },
    {
     "name": "stdout",
     "output_type": "stream",
     "text": [
      "101\n"
     ]
    }
   ],
   "source": [
    "n1=eval(input(\"Enter the number1:\"))\n",
    "n2=eval(input(\"Enter the number2:\"))\n",
    "add=n1+n2\n",
    "print(add)"
   ]
  },
  {
   "cell_type": "code",
   "execution_count": 3,
   "id": "24491b00-ba56-480f-ab79-b4049d4c9591",
   "metadata": {},
   "outputs": [
    {
     "name": "stdin",
     "output_type": "stream",
     "text": [
      "Enter the number1: 23\n",
      "Enter the number2: fg\n"
     ]
    },
    {
     "name": "stdout",
     "output_type": "stream",
     "text": [
      "hell\n",
      "you are getting error\n",
      "check the code properly\n"
     ]
    }
   ],
   "source": [
    "try:\n",
    "    n1=eval(input(\"Enter the number1:\"))\n",
    "    n2=eval(input(\"Enter the number2:\"))\n",
    "    add=n1+n2\n",
    "    print(add)\n",
    "except:\n",
    "    print(\"hell\")\n",
    "    print(\"you are getting error\")\n",
    "    print(\"check the code properly\")\n",
    "        "
   ]
  },
  {
   "cell_type": "code",
   "execution_count": 1,
   "id": "ceb1d36a-9729-4756-8488-58d0afd262b1",
   "metadata": {},
   "outputs": [
    {
     "name": "stdin",
     "output_type": "stream",
     "text": [
      "Enter the number1 23\n",
      "Enter the number2 dfg\n"
     ]
    },
    {
     "name": "stdout",
     "output_type": "stream",
     "text": [
      "Hello\n",
      "you are getting error\n",
      "check the code properly\n"
     ]
    }
   ],
   "source": [
    "try:\n",
    "    n1=eval(input(\"Enter the number1\"))\n",
    "    n2=eval(input(\"Enter the number2\"))\n",
    "except:\n",
    "    print(\"Hello\")\n",
    "    print(\"you are getting error\")\n",
    "    print(\"check the code properly\")"
   ]
  },
  {
   "cell_type": "markdown",
   "id": "6920564c-2464-4dff-9f45-df1d3347b56d",
   "metadata": {},
   "source": [
    "**Note**\n",
    "- generally try except block will use to catch the errors"
   ]
  },
  {
   "cell_type": "code",
   "execution_count": 9,
   "id": "7349a923-faa8-4f2e-b4fb-8efa8ad5c0a9",
   "metadata": {},
   "outputs": [
    {
     "name": "stdin",
     "output_type": "stream",
     "text": [
      "Enter the number1: 10\n",
      "Enter the number2: 0\n"
     ]
    },
    {
     "name": "stdout",
     "output_type": "stream",
     "text": [
      " the error is division by zero\n"
     ]
    }
   ],
   "source": [
    "try:\n",
    "    n1=eval(input(\"Enter the number1:\"))\n",
    "    n2=eval(input(\"Enter the number2:\"))\n",
    "    add=n1/n2\n",
    "    print(add)\n",
    "except Exception as e:\n",
    "    print(f\" the error is {e}\")\n",
    "      "
   ]
  },
  {
   "cell_type": "code",
   "execution_count": 2,
   "id": "5752d341-a3de-4eb5-8b8e-966c5e97b027",
   "metadata": {},
   "outputs": [
    {
     "name": "stdin",
     "output_type": "stream",
     "text": [
      "enter the number1 23\n",
      "enter the number2 ed\n"
     ]
    },
    {
     "name": "stdout",
     "output_type": "stream",
     "text": [
      "the error is name 'ed' is not defined\n"
     ]
    }
   ],
   "source": [
    "try:\n",
    "    n1=eval(input(\"enter the number1\"))\n",
    "    n2=eval(input(\"enter the number2\"))\n",
    "except Exception as e:\n",
    "    print(f\"the error is {e}\")"
   ]
  },
  {
   "cell_type": "code",
   "execution_count": 10,
   "id": "cd46178f-2901-48bc-bceb-4c1195f9956f",
   "metadata": {},
   "outputs": [
    {
     "name": "stdin",
     "output_type": "stream",
     "text": [
      "Enter the number1: 23\n",
      "Enter the number2: 45\n"
     ]
    },
    {
     "name": "stdout",
     "output_type": "stream",
     "text": [
      " the error is name 'n2332' is not defined\n"
     ]
    }
   ],
   "source": [
    "try:\n",
    "    n1=eval(input(\"Enter the number1:\"))\n",
    "    n2=eval(input(\"Enter the number2:\"))\n",
    "    add=n1+n2332\n",
    "    print(add)\n",
    "except Exception as e:\n",
    "    print(f\" the error is {e}\")"
   ]
  },
  {
   "cell_type": "code",
   "execution_count": 13,
   "id": "e51e138b-2be1-42d3-8511-f9d30fde92e8",
   "metadata": {},
   "outputs": [
    {
     "name": "stdin",
     "output_type": "stream",
     "text": [
      "Enter the number1: 45\n",
      "Enter the number2: 56\n"
     ]
    },
    {
     "name": "stdout",
     "output_type": "stream",
     "text": [
      "101\n"
     ]
    }
   ],
   "source": [
    "try:\n",
    "    n1=eval(input(\"Enter the number1:\"))\n",
    "    n2=eval(input(\"Enter the number2:\"))\n",
    "    add=n1+n2\n",
    "    print(add)\n",
    "except Exception as e:\n",
    "    print(f\" the error is {e}\")"
   ]
  },
  {
   "cell_type": "code",
   "execution_count": 20,
   "id": "ca516bfb-6e86-447e-a034-58a9a6d69bc8",
   "metadata": {},
   "outputs": [
    {
     "name": "stdin",
     "output_type": "stream",
     "text": [
      " 34\n"
     ]
    },
    {
     "name": "stdout",
     "output_type": "stream",
     "text": [
      "the number is 34 even\n"
     ]
    }
   ],
   "source": [
    "# now onwards every code need to use try-except\n",
    "try:\n",
    "    num=eval(input())\n",
    "    if num%2==0:\n",
    "        print(f\"the number is {num} even\")\n",
    "    else:\n",
    "        print(f\"the number is {num} odd\")\n",
    "except Exception as e:\n",
    "    print(e)\n"
   ]
  },
  {
   "cell_type": "code",
   "execution_count": 10,
   "id": "d775978e-59ea-458c-a865-4b4845189939",
   "metadata": {},
   "outputs": [
    {
     "name": "stdin",
     "output_type": "stream",
     "text": [
      "enter the distance: qwe\n"
     ]
    },
    {
     "name": "stdout",
     "output_type": "stream",
     "text": [
      "name 'qwe' is not defined\n"
     ]
    }
   ],
   "source": [
    "#.2\n",
    "\n",
    "# wap ask the user enter the distance\n",
    "# if distance greater than 25km\n",
    "# then enter the charge\n",
    "# print the total cost\n",
    "#otherwise\n",
    "#print free ride\n",
    "try:\n",
    "    distance=eval(input(\"enter the distance:\"))\n",
    "    if distance>25:\n",
    "        charge=eval(input(\"Enter the charge:\"))\n",
    "        total_cost=distance*charge\n",
    "        print(f\"the total cost of the raid is :{total_cost}\")\n",
    "    else:\n",
    "        print(\"its a free raid\")\n",
    "except Exception as e:\n",
    "    print(e)\n",
    "    "
   ]
  },
  {
   "cell_type": "code",
   "execution_count": 14,
   "id": "47bfa95a-3da0-4469-b887-88f8e7fcf207",
   "metadata": {},
   "outputs": [
    {
     "name": "stdin",
     "output_type": "stream",
     "text": [
      "Enter the distance 45\n",
      "Entere the cutoff distance : 25\n",
      "Enter the charge: 5\n"
     ]
    },
    {
     "name": "stdout",
     "output_type": "stream",
     "text": [
      "good news your charge is applicable for only remining of -13 and the total payble amount is -65\n"
     ]
    }
   ],
   "source": [
    "#.3\n",
    "# wap ask the user enter the distance\n",
    "# cutoff distance enter 25\n",
    "# if distance greater than 25km\n",
    "#      print(\"good news your charge is aplicable for only remaining of 25\")\n",
    "#      chargeble distance= distance-cutoff\n",
    "#      then enter the charge\n",
    "#      print the total cost\n",
    "#otherwise\n",
    "#      print free ride\n",
    "\n",
    "try:\n",
    "    dinstance=eval(input(\"Enter the distance\"))\n",
    "    if dinstance>25:\n",
    "        cutoff_distance=eval(input(\"Entere the cutoff distance :\"))\n",
    "        chargable_distance=(distance-cutoff_distance)\n",
    "        charge=eval(input(\"Enter the charge:\"))\n",
    "        total_cost=chargable_distance*charge\n",
    "        print(f\"good news your charge is applicable for only remining of {chargable_distance} and the total payble amount is {total_cost}\")\n",
    "    else:\n",
    "        print(\"enjoy the free raid\")\n",
    "except Excption as e:\n",
    "    print(e)\n",
    "\n"
   ]
  },
  {
   "cell_type": "code",
   "execution_count": 15,
   "id": "aff37b51-d0fe-40ed-a89b-f151df6393b2",
   "metadata": {},
   "outputs": [
    {
     "name": "stdin",
     "output_type": "stream",
     "text": [
      "Enter your current learning course : data science\n",
      "Enter your institute name : nareshit\n",
      "Enter your faculty omkar\n"
     ]
    },
    {
     "name": "stdout",
     "output_type": "stream",
     "text": [
      "you are good\n"
     ]
    }
   ],
   "source": [
    "#.4\n",
    "# wap ask the user enter the course\n",
    "# ask the user enter the Institute\n",
    "# if the course equal to data science and institute equal to naresh it\n",
    "#     then you are good\n",
    "# otherwise\n",
    "#     you are bad\n",
    "try:\n",
    "    course=input(\"Enter your current learning course :\")\n",
    "    if course==\"data science\":\n",
    "        institue=input(\"Enter your institute name :\")\n",
    "        faculty=input(\"Enter your faculty\")\n",
    "        institue==\"nareshit\"\n",
    "        faculty==\"omkar\"\n",
    "        print(\"you are good\")\n",
    "    else:\n",
    "        print(\"you are bad\")\n",
    "except Exception as e:\n",
    "    print(e)\n",
    "        \n",
    "            \n",
    "        \n",
    "    \n",
    "    \n",
    "\n"
   ]
  },
  {
   "cell_type": "code",
   "execution_count": 19,
   "id": "0ef19e92-b195-4cfe-a5fe-59ad54560110",
   "metadata": {},
   "outputs": [],
   "source": [
    "import random"
   ]
  },
  {
   "cell_type": "code",
   "execution_count": 22,
   "id": "0e14b914-181a-417b-aa45-c832d023cbb9",
   "metadata": {},
   "outputs": [
    {
     "name": "stdin",
     "output_type": "stream",
     "text": [
      "Enter any number 5\n"
     ]
    },
    {
     "name": "stdout",
     "output_type": "stream",
     "text": [
      "you loss\n"
     ]
    }
   ],
   "source": [
    "#.5\n",
    "# wap ask the user enter a random number between 1 to 10, treat this as number1\n",
    "# ask the user enter another number from keyboard, treat this as number2\n",
    "# if number1 equal to number2\n",
    "#     print you won\n",
    "# otherwise\n",
    "#     print you lost\n",
    "\n",
    "try:\n",
    "    number1=random.randint(1,10)\n",
    "    number2=eval(input(\"Enter any number\"))\n",
    "    if number1==number2:\n",
    "        print(\"you won\")\n",
    "    else:\n",
    "        print(\"you loss\")\n",
    "except Exception as e:\n",
    "    print(e)\n",
    "        "
   ]
  },
  {
   "cell_type": "code",
   "execution_count": 24,
   "id": "b4c9ea74-6f24-4b95-b567-a166106de53d",
   "metadata": {},
   "outputs": [
    {
     "name": "stdin",
     "output_type": "stream",
     "text": [
      "Enter the number: hj\n"
     ]
    },
    {
     "name": "stdout",
     "output_type": "stream",
     "text": [
      "name 'hj' is not defined\n"
     ]
    }
   ],
   "source": [
    "#.6 # wap ask the user enter number\n",
    "# if number equal to 1 then print one\n",
    "# if number equal to 2 then print two\n",
    "# if number equal to 3 then print three\n",
    "# otherwise  print enter a valid number\n",
    "try:\n",
    "    number=eval(input(\"Enter the number:\"))\n",
    "    if number==1:\n",
    "        print(\"one\")\n",
    "    elif number==2:\n",
    "        print(\"two\")\n",
    "    elif number==3:\n",
    "        print(\"three\")\n",
    "    else:\n",
    "        print(\"enter a valid number\")\n",
    "except Exception as e:\n",
    "    print(e)"
   ]
  },
  {
   "cell_type": "code",
   "execution_count": 26,
   "id": "8f4f9936-24cf-421a-9b97-de6dcc76aa38",
   "metadata": {},
   "outputs": [
    {
     "name": "stdin",
     "output_type": "stream",
     "text": [
      "Enter the number ddg\n"
     ]
    },
    {
     "name": "stdout",
     "output_type": "stream",
     "text": [
      "name 'ddg' is not defined\n"
     ]
    }
   ],
   "source": [
    "#.7 # wap ask the user enter a number\n",
    "# if that number greater than zero print postive\n",
    "# if that number less than zero print negative\n",
    "# otherwise print zero\n",
    "try:\n",
    "    num=eval(input(\"Enter the number\"))\n",
    "    if num>0:\n",
    "        print(\"postive\")\n",
    "    else:\n",
    "        print(\"Negative\")\n",
    "except Exception as e:\n",
    "    print(e)"
   ]
  },
  {
   "cell_type": "code",
   "execution_count": 28,
   "id": "8136a926-a610-4521-87dd-0265f51eb337",
   "metadata": {},
   "outputs": [
    {
     "name": "stdin",
     "output_type": "stream",
     "text": [
      "Enter the percentage of marks edf\n"
     ]
    },
    {
     "name": "stdout",
     "output_type": "stream",
     "text": [
      "the name of the error is name 'edf' is not defined\n"
     ]
    }
   ],
   "source": [
    "#.8 # WAP ask the user enter the percentage of marks 0 to 100\n",
    "# if percentagw gretaer than 90  print A garde\n",
    "# if percentage between 75 to 90 print B garde\n",
    "# if percentage between 50 to 75 print C grade\n",
    "# if percentage between 35 to 50 print D grade\n",
    "# if percentage less than 35 print Fail\n",
    "try:\n",
    "    percentage_marks=eval(input(\"Enter the percentage of marks\"))\n",
    "    if percentage_marks>90: print(\"A grade\")\n",
    "    elif percentage_marks>=75: print(\"B grade\")\n",
    "    elif percentage_marks>=50: print(\"C grade\")\n",
    "    elif percentage_marks>=35: print(\"D grade\")\n",
    "    else:\n",
    "        print(\"Fail\")\n",
    "except Exception as e:\n",
    "    print(f\"the name of the error is {e}\")\n",
    "   "
   ]
  },
  {
   "cell_type": "code",
   "execution_count": 29,
   "id": "a2a23bfa-1b79-46ff-a157-2b315df98cd1",
   "metadata": {},
   "outputs": [
    {
     "name": "stdin",
     "output_type": "stream",
     "text": [
      "Enter the age : 76\n"
     ]
    },
    {
     "name": "stdout",
     "output_type": "stream",
     "text": [
      "Old age\n"
     ]
    }
   ],
   "source": [
    "# 9.\n",
    "# WAP ask the user enter the age\n",
    "# if the age greater tahn 100 print you are lucky\n",
    "# if the age gretaer than 75 print old age\n",
    "# if the age  between 50 to 75 print ss\n",
    "# if the age between  30 tp 50 print MA\n",
    "# if the age between  15 to 30 print young age\n",
    "# if the afe between less than 15 print kid\n",
    "try:\n",
    "    age=eval(input(\"Enter the age :\"))\n",
    "    if age>100: print(\"you are lucky\")\n",
    "    elif age>75: print(\"Old age\")\n",
    "    elif age>=50: print(\"ss\")\n",
    "    elif age>=30: print(\"ma\")\n",
    "    elif age>=15: print(\"young age\")\n",
    "    else:\n",
    "        print(\"Kid\")\n",
    "except Exception as e:\n",
    "    print(e)"
   ]
  },
  {
   "cell_type": "code",
   "execution_count": 34,
   "id": "a01f4427-cd72-4247-9afa-d141308e1d80",
   "metadata": {},
   "outputs": [
    {
     "name": "stdin",
     "output_type": "stream",
     "text": [
      "Enter the operation value: 1\n"
     ]
    },
    {
     "name": "stdout",
     "output_type": "stream",
     "text": [
      "Operation 1 is for addition\n",
      "Operation 2 is for multiply\n",
      "Operation 3 is for subtraction\n",
      "Opration 4 is for division\n",
      "the addition of two numbers is5 \n"
     ]
    }
   ],
   "source": [
    "# wap ask the auser enter 2 numbers\n",
    "# num1\n",
    "# num2\n",
    "#you need to print\n",
    "# enter opration 1 for addition\n",
    "# enter operation 2 for mulitiply\n",
    "# enter oper 3 for sub\n",
    "# enter oper4 div\n",
    "\n",
    "# enter the opration between 1to 4\n",
    "# if operation equal to 1 then do add\n",
    "# if operation equal to 2 the do mul\n",
    "# if opration equal to 3 then do sub\n",
    "# if operation equal to 4 then do div\n",
    "# otherwise print enter a valid number\n",
    "\n",
    "import random\n",
    "try:\n",
    "    num1=random.randint(1,4)\n",
    "    num2=random.randint(1,4)\n",
    "    operation=eval(input(\"Enter the operation value:\"))\n",
    "    print(\"Operation 1 is for addition\")\n",
    "    print(\"Operation 2 is for multiply\")\n",
    "    print(\"Operation 3 is for subtraction\")\n",
    "    print(\"Opration 4 is for division\")\n",
    "    if operation==1:\n",
    "        sum=(num1+num2) \n",
    "        print(f\"the addition of two numbers is{sum} \")\n",
    "    elif operation==2:\n",
    "        print(num1*num2)\n",
    "    elif operation==3:\n",
    "        print(num1-num2)\n",
    "    elif operation==4:\n",
    "        print(num1/num2)\n",
    "    else:print(\"Enter the valid number\")\n",
    "except Exception as e:\n",
    "    print(e)\n"
   ]
  },
  {
   "cell_type": "code",
   "execution_count": 38,
   "id": "2c3b330c-1315-43cd-9267-85d4e3fa75f7",
   "metadata": {},
   "outputs": [
    {
     "name": "stdin",
     "output_type": "stream",
     "text": [
      "enter the gender Female\n",
      "enter the age kgjfhf\n"
     ]
    },
    {
     "name": "stdout",
     "output_type": "stream",
     "text": [
      "name 'kgjfhf' is not defined\n"
     ]
    }
   ],
   "source": [
    "# wap asd the user the enter the gender\n",
    "# if gender equal to male\n",
    "#    ask the user the age\n",
    "# if the age greater than 60 print ss\n",
    "# if the age between 30 60 print mama\n",
    "# if the age between 15 to 30 print young man\n",
    "# other wise print boy\n",
    "\n",
    "try:\n",
    "    gender=input(\"enter the gender\")\n",
    "    if gender=='male':\n",
    "        age=eval(input(\"enter the age :\"))\n",
    "        if age>=60:\n",
    "            print(\"Senior citizen\")\n",
    "        elif age>=30:\n",
    "            print(\"Middle aged man\")\n",
    "        elif age>=15:\n",
    "            print(\"Young man\")\n",
    "        else:\n",
    "            print(\"boy\")\n",
    "    elif gender==\"Female\":\n",
    "        age=eval(input(\"enter the age\"))\n",
    "        if age>=60:\n",
    "            print(\"Senior citizen\")\n",
    "        elif age>=30:\n",
    "            print(\"Middle aged woman\")\n",
    "        elif age>=15:\n",
    "            print(\"Young girl\")\n",
    "        else:\n",
    "            print(\"baby girl\")\n",
    "    else:\n",
    "        print(\"Enter a valid gender\")\n",
    "except Exception as e:\n",
    "    print(e)\n",
    "            \n",
    "\n",
    "    "
   ]
  },
  {
   "cell_type": "code",
   "execution_count": null,
   "id": "21e2536f-9f29-48ab-84e9-462ddff8ce3b",
   "metadata": {},
   "outputs": [],
   "source": []
  }
 ],
 "metadata": {
  "kernelspec": {
   "display_name": "Python 3 (ipykernel)",
   "language": "python",
   "name": "python3"
  },
  "language_info": {
   "codemirror_mode": {
    "name": "ipython",
    "version": 3
   },
   "file_extension": ".py",
   "mimetype": "text/x-python",
   "name": "python",
   "nbconvert_exporter": "python",
   "pygments_lexer": "ipython3",
   "version": "3.11.7"
  }
 },
 "nbformat": 4,
 "nbformat_minor": 5
}
