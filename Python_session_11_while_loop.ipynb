{
 "cells": [
  {
   "cell_type": "markdown",
   "id": "e9de9496-bde2-4f7b-81b7-72b29de3227b",
   "metadata": {},
   "source": [
    "**Loops**\n",
    "- for loop\n",
    "- while loop: if yo want to run the infinite iteration will choose shile loop\n",
    "-  every loop we need three things\n",
    "    - initial point\n",
    "    - increment or decrement\n",
    "    - condition(stop point)\n"
   ]
  },
  {
   "cell_type": "code",
   "execution_count": null,
   "id": "64aedb6f-251e-48fe-8bc9-42a5cc5b8e18",
   "metadata": {},
   "outputs": [],
   "source": [
    "for i in range(1,10,2):\n",
    "    print(i,end=\"  \")\n",
    "\n"
   ]
  },
  {
   "cell_type": "markdown",
   "id": "5463d8b1-875c-498f-8af5-a9eb74fc25c5",
   "metadata": {},
   "source": [
    "- in for loop all three things mentioned in a single line (start,stop,increment)\n",
    "- in while loop we will use these three things,in as a three line"
   ]
  },
  {
   "cell_type": "code",
   "execution_count": null,
   "id": "df253c56-e0c9-4cbe-9c6f-7188af5ccfb1",
   "metadata": {},
   "outputs": [],
   "source": [
    "# start point\n",
    "while <how to stop>:\n",
    "    codeline1\n",
    "    codeline2\n",
    "    <increment or decrement>"
   ]
  },
  {
   "cell_type": "code",
   "execution_count": null,
   "id": "2af36459-8c7c-453c-a33d-299b1ea4fe3d",
   "metadata": {},
   "outputs": [],
   "source": [
    "# start point i =1\n",
    "# while <conditon to stop>\n",
    "# increment i=i+1"
   ]
  },
  {
   "cell_type": "code",
   "execution_count": null,
   "id": "9458b710-133c-45f0-a901-2d88f246c41d",
   "metadata": {},
   "outputs": [],
   "source": [
    "i=1\n",
    "while i<5:\n",
    "    print(i,end=' ')\n",
    "    i=i+1"
   ]
  },
  {
   "cell_type": "code",
   "execution_count": null,
   "id": "281d7279-00bb-43c6-896f-ee761e8b23bd",
   "metadata": {},
   "outputs": [],
   "source": [
    "i=1\n",
    "while i<2:\n",
    "    print(i,end=' ')\n",
    "    i=i+1"
   ]
  },
  {
   "cell_type": "code",
   "execution_count": null,
   "id": "1f62b706-fa17-4a59-af5a-b4ff1665961d",
   "metadata": {},
   "outputs": [],
   "source": [
    "i=1\n",
    "while i<=13:\n",
    "    print(i,end=' ')\n",
    "    i=i+1"
   ]
  },
  {
   "cell_type": "code",
   "execution_count": null,
   "id": "bb887d1d-838e-4a8b-8cc7-0b37ede4bda9",
   "metadata": {},
   "outputs": [],
   "source": [
    "i=4\n",
    "while i<=13:\n",
    "    print(i,end=' ')\n",
    "    i=i+1"
   ]
  },
  {
   "cell_type": "code",
   "execution_count": null,
   "id": "d2d48608-9a8f-4217-ba5d-89fa498da68d",
   "metadata": {},
   "outputs": [],
   "source": [
    "i=1\n",
    "while i==10:\n",
    "    print(i,end=' ')\n",
    "    i=i+1\n",
    "##########################################################\n",
    "i=4\n",
    "while i<=13:\n",
    "    print(i,end=' ')\n",
    "    i=i+1\n",
    "############################################################\n",
    "i=1\n",
    "while i<10:\n",
    "    print(i,end=' ')\n",
    "    i=i-1\n",
    "    if i==-10:\n",
    "        break\n",
    "#######################################################\n",
    "i=20\n",
    "while i>0:\n",
    "    print(i,end=' ')\n",
    "    i=i-1\n",
    "    if i==0:\n",
    "        break"
   ]
  },
  {
   "cell_type": "code",
   "execution_count": null,
   "id": "66fcd648-cf67-4e4d-a5bb-27868df65cb7",
   "metadata": {},
   "outputs": [],
   "source": [
    "i=1\n",
    "while i<10:\n",
    "    print(i,end=' ')\n",
    "    i=i-1\n",
    "    if i==-10:\n",
    "        break\n",
    "# step-1 : i=1, while 1<10, True print (1) i=1-1=0\n",
    "# step-2 : i=0 while 0<11  True print (0) i = 0-1=-1\n"
   ]
  },
  {
   "cell_type": "code",
   "execution_count": null,
   "id": "a767a922-8d7b-439c-97d7-d400ccc9f615",
   "metadata": {},
   "outputs": [],
   "source": [
    "# 20 to 1\n",
    "# -20 to 0\n",
    "\n",
    "i=20\n",
    "while i>0:\n",
    "    print(i,end=' ')\n",
    "    i=i-1\n",
    "    if i==0:\n",
    "        break"
   ]
  },
  {
   "cell_type": "code",
   "execution_count": null,
   "id": "c9b14f17-c1af-40da-bc7e-0ccd5c4b6e9c",
   "metadata": {},
   "outputs": [],
   "source": [
    "i=-20\n",
    "while i<1:\n",
    "    print(i,end=' ')\n",
    "    i=i+1\n",
    "    if i==1:\n",
    "        break"
   ]
  },
  {
   "cell_type": "markdown",
   "id": "4df949b9-a967-41ab-8c00-dc6236174f9e",
   "metadata": {},
   "source": [
    "**True**\n",
    "- if you dont know about valid condition to enter inside while loop\n",
    "- then use **True**\n",
    "- True will give entry pass irrespective of the condition\n",
    "-  but if you wnat to come out we need toapply if condtion and break inside the while loop\n",
    "- if you dont apply the break inside , then it becomes infinite loop\n",
    "    "
   ]
  },
  {
   "cell_type": "code",
   "execution_count": null,
   "id": "a222ec6b-2375-4d18-8290-142aae0995b1",
   "metadata": {},
   "outputs": [],
   "source": [
    "i=1\n",
    "while i==10:\n",
    "    print(i,end=' ')\n",
    "    i=i+1\n",
    "##########################################################\n",
    "i=4\n",
    "while i<=13:\n",
    "    print(i,end=' ')\n",
    "    i=i+1\n",
    "############################################################\n",
    "i=1\n",
    "while i<10:\n",
    "    print(i,end=' ')\n",
    "    i=i-1\n",
    "    if i==-10:\n",
    "        break\n",
    "#######################################################\n",
    "i=20\n",
    "while i>0:\n",
    "    print(i,end=' ')\n",
    "    i=i-1\n",
    "    if i==0:\n",
    "        break"
   ]
  },
  {
   "cell_type": "code",
   "execution_count": null,
   "id": "7a6a76fb-6981-42e7-8bd1-5657fa9d300c",
   "metadata": {},
   "outputs": [],
   "source": [
    "i=1\n",
    "while True:\n",
    "    print(i,end=' ')\n",
    "    i=i+1\n",
    "    if i==10:\n",
    "        break\n",
    "    "
   ]
  },
  {
   "cell_type": "code",
   "execution_count": null,
   "id": "31c9ab4a-d343-49cd-a34e-19d49aaabab0",
   "metadata": {},
   "outputs": [],
   "source": [
    "i=20\n",
    "while True:\n",
    "    print(i,end=' ')\n",
    "    i=i-1\n",
    "    if i==0:\n",
    "        break"
   ]
  },
  {
   "cell_type": "code",
   "execution_count": null,
   "id": "4f8b58e8-ba35-4ba4-ab14-8c42e41e8381",
   "metadata": {},
   "outputs": [],
   "source": [
    "i=-20\n",
    "while True:\n",
    "    print(i,end=' ')\n",
    "    i=i+1\n",
    "    if i==0:\n",
    "        break"
   ]
  },
  {
   "cell_type": "code",
   "execution_count": null,
   "id": "4aec2ad5-b160-49d0-8e1e-f54f3d991e90",
   "metadata": {},
   "outputs": [],
   "source": [
    "i=-20\n",
    "while i<1:\n",
    "    i=i+1\n",
    "    print(i,end=' ')"
   ]
  },
  {
   "cell_type": "code",
   "execution_count": null,
   "id": "cc1dae14-413d-4d35-9ac8-f43148781e18",
   "metadata": {},
   "outputs": [],
   "source": [
    "### all for loop \n"
   ]
  },
  {
   "cell_type": "code",
   "execution_count": 2,
   "id": "486b6b8e-0911-4dd4-b3e5-10d861e82440",
   "metadata": {},
   "outputs": [
    {
     "name": "stdout",
     "output_type": "stream",
     "text": [
      "100 is even number\n",
      "85 is odd number\n",
      "79 is odd number\n"
     ]
    }
   ],
   "source": [
    "#1Q) For example\n",
    "# take a random number between  1 to 100\n",
    "# print it is a even number and odd number\n",
    "# you need to generate 3 random number\n",
    "\n",
    "import random\n",
    "for i in range (3):\n",
    "    num=random.randint(1,100)\n",
    "    if num%2==0:\n",
    "        print(f\"{num} is even number\")\n",
    "    else:\n",
    "        print(f\"{num} is odd number\")"
   ]
  },
  {
   "cell_type": "code",
   "execution_count": 5,
   "id": "ddbba907-a0e6-4451-aa09-3d97ee9a4f69",
   "metadata": {},
   "outputs": [
    {
     "name": "stdout",
     "output_type": "stream",
     "text": [
      "41 is even number\n",
      "15 is even number\n",
      "65 is even number\n"
     ]
    }
   ],
   "source": [
    "# range 3 lines\n",
    "i=1\n",
    "while i<4:\n",
    "    num=random.randint(1,100)\n",
    "    if num%2==1:\n",
    "        print(f\"{num} is even number\")\n",
    "    else:\n",
    "        print(f\"{num} is odd number\")\n",
    "    i=i+1"
   ]
  },
  {
   "cell_type": "code",
   "execution_count": 7,
   "id": "5519ad37-83ef-41c3-94a4-5cf99d94135b",
   "metadata": {},
   "outputs": [
    {
     "name": "stdin",
     "output_type": "stream",
     "text": [
      "enter the value between 10,20 15\n"
     ]
    },
    {
     "name": "stdout",
     "output_type": "stream",
     "text": [
      "15 is odd number\n"
     ]
    }
   ],
   "source": [
    "#2Q) wap ask the user print the number is even or odd between 10 to 20\n",
    "for i in range (1):\n",
    "    num1=eval(input(\"enter the value between 10,20\"))\n",
    "    if num1%2==0:\n",
    "        print(f\"{num1} is even number\")\n",
    "    else:\n",
    "        print(f\"{num1} is odd number\")\n"
   ]
  },
  {
   "cell_type": "code",
   "execution_count": 9,
   "id": "36576837-019d-4572-af75-b9fc20b5602e",
   "metadata": {},
   "outputs": [
    {
     "name": "stdin",
     "output_type": "stream",
     "text": [
      "enter the value between 10,20 3\n"
     ]
    },
    {
     "name": "stdout",
     "output_type": "stream",
     "text": [
      "3 is odd number\n"
     ]
    }
   ],
   "source": [
    "#2Q) wap ask the user print the number is even or odd between 10 to 20\n",
    "i=1\n",
    "while i<2:\n",
    "    num1=eval(input(\"enter the value between 10,20\"))\n",
    "    if num1%2==0:\n",
    "        print(f\"{num1} is even number\")\n",
    "    else:\n",
    "        print(f\"{num1} is odd number\")\n",
    "\n",
    "    i=i+1"
   ]
  },
  {
   "cell_type": "code",
   "execution_count": 11,
   "id": "2845d42a-28b9-4c68-8602-21e142d3f0dc",
   "metadata": {},
   "outputs": [
    {
     "name": "stdout",
     "output_type": "stream",
     "text": [
      "20 square is 400,21 square is 441,22 square is 484,23 square is 529,24 square is 576,"
     ]
    }
   ],
   "source": [
    "#3Q) wap ask the user print the square of the number between\n",
    "# 20 to 25\n",
    "for i in range(20,25):\n",
    "    print(f\"{i} square is {i*i}\",end=',')\n",
    "    "
   ]
  },
  {
   "cell_type": "code",
   "execution_count": 12,
   "id": "0bf3f239-2303-4b43-9398-87754cdf120b",
   "metadata": {},
   "outputs": [
    {
     "name": "stdout",
     "output_type": "stream",
     "text": [
      "20 square is 400,21 square is 441,22 square is 484,23 square is 529,24 square is 576,25 square is 625,"
     ]
    }
   ],
   "source": [
    "i=20\n",
    "while i<26:\n",
    "    print(f\"{i} square is {i*i}\",end=',')\n",
    "    i=i+1"
   ]
  },
  {
   "cell_type": "code",
   "execution_count": 18,
   "id": "d4e2a229-82ed-4918-903d-8b99b50280b9",
   "metadata": {},
   "outputs": [
    {
     "name": "stdin",
     "output_type": "stream",
     "text": [
      "enter a number 3\n"
     ]
    },
    {
     "name": "stdout",
     "output_type": "stream",
     "text": [
      "Square or the 3 is : 9\n",
      "the loop should run 1 times\n"
     ]
    },
    {
     "name": "stdin",
     "output_type": "stream",
     "text": [
      "enter a number 5\n"
     ]
    },
    {
     "name": "stdout",
     "output_type": "stream",
     "text": [
      "Square or the 5 is : 25\n",
      "the loop should run 2 times\n"
     ]
    },
    {
     "name": "stdin",
     "output_type": "stream",
     "text": [
      "enter a number 6\n"
     ]
    },
    {
     "name": "stdout",
     "output_type": "stream",
     "text": [
      "Square or the 6 is : 36\n",
      "the loop should run 3 times\n"
     ]
    }
   ],
   "source": [
    "#4Q) WAP ask the user enter number three times find the square of the number\n",
    "# How many times loop should run\n",
    "count=0\n",
    "for i in range (3):\n",
    "    num2=eval(input(\"enter a number\"))\n",
    "    count=count+1\n",
    "    sqr=num2*num2\n",
    "    print(f\"Square or the {num2} is : {sqr}\")\n",
    "    print(f\"the loop should run {count} times\")"
   ]
  },
  {
   "cell_type": "code",
   "execution_count": 19,
   "id": "dcab0c0a-deec-453a-b41f-da6825670c9f",
   "metadata": {},
   "outputs": [
    {
     "name": "stdin",
     "output_type": "stream",
     "text": [
      "enter a number 5\n"
     ]
    },
    {
     "name": "stdout",
     "output_type": "stream",
     "text": [
      "Square or the 5 is : 25\n",
      "the loop should run 1 times\n"
     ]
    },
    {
     "name": "stdin",
     "output_type": "stream",
     "text": [
      "enter a number 6\n"
     ]
    },
    {
     "name": "stdout",
     "output_type": "stream",
     "text": [
      "Square or the 6 is : 36\n",
      "the loop should run 2 times\n"
     ]
    },
    {
     "name": "stdin",
     "output_type": "stream",
     "text": [
      "enter a number 7\n"
     ]
    },
    {
     "name": "stdout",
     "output_type": "stream",
     "text": [
      "Square or the 7 is : 49\n",
      "the loop should run 3 times\n"
     ]
    }
   ],
   "source": [
    "#4Q) WAP ask the user enter number three times find the square of the number\n",
    "# How many times loop should run\n",
    "i=0\n",
    "count=0\n",
    "while i<3:\n",
    "    num2=eval(input(\"enter a number\"))\n",
    "    sqr=num2*num2\n",
    "    count=count+1\n",
    "    print(f\"Square or the {num2} is : {sqr}\")\n",
    "    print(f\"the loop should run {count} times\")\n",
    "    i=i+1"
   ]
  },
  {
   "cell_type": "code",
   "execution_count": 24,
   "id": "19c4740e-c930-430a-93ca-da2ddb41d577",
   "metadata": {},
   "outputs": [
    {
     "name": "stdin",
     "output_type": "stream",
     "text": [
      "Enter the number that which table you want 14\n"
     ]
    },
    {
     "name": "stdout",
     "output_type": "stream",
     "text": [
      "14 * 1 = 14\n",
      "14 * 2 = 28\n",
      "14 * 3 = 42\n",
      "14 * 4 = 56\n",
      "14 * 5 = 70\n",
      "14 * 6 = 84\n",
      "14 * 7 = 98\n",
      "14 * 8 = 112\n",
      "14 * 9 = 126\n",
      "14 * 10 = 140\n",
      "loop ran total 10 times\n"
     ]
    }
   ],
   "source": [
    "#5Q) Print the 14th table\n",
    "# ans:   14 x 1 = 14\n",
    "#        14 x 2 = 28\n",
    "#        14 x 3 = 42\n",
    "#\n",
    "#\n",
    "#        14 x10 = 140\n",
    "# How many times 10\n",
    "num3=eval(input(\"Enter the number that which table you want\"))\n",
    "count=0\n",
    "for i in range(1,11):\n",
    "    count=count+1\n",
    "    value=num3*i\n",
    "    print(f\"{num3} * {i} = {value}\")\n",
    "print(f\"loop ran total {count} times\")"
   ]
  },
  {
   "cell_type": "code",
   "execution_count": 44,
   "id": "4263ee0e-2623-40c6-9a5f-296b3770d01e",
   "metadata": {},
   "outputs": [
    {
     "name": "stdin",
     "output_type": "stream",
     "text": [
      "Enter the number that which table you want 14\n"
     ]
    },
    {
     "name": "stdout",
     "output_type": "stream",
     "text": [
      "14 * 1 = 14\n",
      "14 * 2 = 28\n",
      "14 * 3 = 42\n",
      "14 * 4 = 56\n",
      "14 * 5 = 70\n",
      "14 * 6 = 84\n",
      "14 * 7 = 98\n",
      "14 * 8 = 112\n",
      "14 * 9 = 126\n",
      "14 * 10 = 140\n",
      "loop ran total 10 times\n"
     ]
    }
   ],
   "source": [
    "i=1\n",
    "num3=eval(input(\"Enter the number that which table you want\"))\n",
    "count=0\n",
    "while i<11:\n",
    "    count=count+1\n",
    "    value=num3*i\n",
    "    print(f\"{num3} * {i} = {value}\")\n",
    "    i=i+1\n",
    "print(f\"loop ran total {count} times\")"
   ]
  },
  {
   "cell_type": "code",
   "execution_count": 30,
   "id": "c64b5531-e210-4255-a699-997bfe303104",
   "metadata": {},
   "outputs": [
    {
     "name": "stdin",
     "output_type": "stream",
     "text": [
      "enter the value which factor you want : 75\n"
     ]
    },
    {
     "name": "stdout",
     "output_type": "stream",
     "text": [
      "1,3,5,15,25,"
     ]
    }
   ],
   "source": [
    "#6 Q) Find the factors of 75\n",
    "# step-1: Iterate the loop = which numbers factor you want\n",
    "# step-2: Apply the if condition\n",
    "#         cond= divide the number with each i\n",
    "num=eval(input(\"enter the value which factor you want :\"))\n",
    "for i in range(1,75):\n",
    "    if num%i==0:\n",
    "        print(i,end=',')\n",
    "        "
   ]
  },
  {
   "cell_type": "code",
   "execution_count": 33,
   "id": "68d3fe1c-700f-466e-bef1-6fb0df5c5d50",
   "metadata": {},
   "outputs": [
    {
     "name": "stdin",
     "output_type": "stream",
     "text": [
      "enter the value which factor you want : 75\n"
     ]
    },
    {
     "name": "stdout",
     "output_type": "stream",
     "text": [
      "1,3,5,15,25,"
     ]
    }
   ],
   "source": [
    "#6 Q) Find the factors of 75\n",
    "# step-1: Iterate the loop = which numbers factor you want\n",
    "# step-2: Apply the if condition\n",
    "#         cond= divide the number with each i\n",
    "i=1\n",
    "num=eval(input(\"enter the value which factor you want :\"))\n",
    "while i<75:\n",
    "    \n",
    "    if num%i==0:\n",
    "        print(i,end=',')\n",
    "    i=i+1\n"
   ]
  },
  {
   "cell_type": "code",
   "execution_count": 35,
   "id": "12f1da22-9b1a-4e4c-9b7b-80b06e5b580a",
   "metadata": {},
   "outputs": [
    {
     "name": "stdout",
     "output_type": "stream",
     "text": [
      "55\n"
     ]
    }
   ],
   "source": [
    "#7Q) Write the sum of first 10 Natural numbers\n",
    "# 1 to 10\n",
    "# 1+2+3+4+5+6+7+8+9+10=55\n",
    "summ=0\n",
    "for i in range (1,11):\n",
    "    summ=summ+i\n",
    "print(summ)\n",
    "    "
   ]
  },
  {
   "cell_type": "code",
   "execution_count": 39,
   "id": "16a57483-fe88-4926-a5cc-f7bd701c4341",
   "metadata": {},
   "outputs": [
    {
     "name": "stdout",
     "output_type": "stream",
     "text": [
      "55\n"
     ]
    }
   ],
   "source": [
    "#7Q) Write the sum of first 10 Natural numbers\n",
    "# 1 to 10\n",
    "# 1+2+3+4+5+6+7+8+9+10=55\n",
    "summ=0\n",
    "i=1\n",
    "while True:\n",
    "    summ=summ+i\n",
    "    i=i+1\n",
    "    if i==11:\n",
    "        break\n",
    "print(summ)"
   ]
  },
  {
   "cell_type": "code",
   "execution_count": 42,
   "id": "ddc56221-d3e0-4313-bca6-0ef35ddefcf2",
   "metadata": {},
   "outputs": [
    {
     "name": "stdout",
     "output_type": "stream",
     "text": [
      "an average of N numbers is : 5.0\n"
     ]
    }
   ],
   "source": [
    "# 8Q) Average first 1 to 10 numbers\n",
    "# avg= summation of all the numbers/total number\n",
    "#Wap to find the average of ' N ' numbers in Python.\n",
    "\n",
    "summ1=0\n",
    "for i in range(1,10):\n",
    "    summ1=summ1+i\n",
    "    avg=summ1/i\n",
    "print(f\"an average of N numbers is : {avg}\")\n",
    "    \n",
    "    \n",
    "    "
   ]
  },
  {
   "cell_type": "code",
   "execution_count": 43,
   "id": "af4aff4e-0881-4bba-b25f-9b9b7927638b",
   "metadata": {},
   "outputs": [
    {
     "name": "stdout",
     "output_type": "stream",
     "text": [
      "an average of N numbers is : 10.0\n"
     ]
    }
   ],
   "source": [
    "summ2=0\n",
    "i=1\n",
    "while True:\n",
    "    summ1=summ1+i\n",
    "    avg=summ1/i\n",
    "    i=i+1\n",
    "    if i==10:\n",
    "        break\n",
    "print(f\"an average of N numbers is : {avg}\")"
   ]
  },
  {
   "cell_type": "code",
   "execution_count": null,
   "id": "d17f7269-6519-4dec-b10b-4c46a15d9f2d",
   "metadata": {},
   "outputs": [],
   "source": []
  }
 ],
 "metadata": {
  "kernelspec": {
   "display_name": "Python 3 (ipykernel)",
   "language": "python",
   "name": "python3"
  },
  "language_info": {
   "codemirror_mode": {
    "name": "ipython",
    "version": 3
   },
   "file_extension": ".py",
   "mimetype": "text/x-python",
   "name": "python",
   "nbconvert_exporter": "python",
   "pygments_lexer": "ipython3",
   "version": "3.11.7"
  }
 },
 "nbformat": 4,
 "nbformat_minor": 5
}
