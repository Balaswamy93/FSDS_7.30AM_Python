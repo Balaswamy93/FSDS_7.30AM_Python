{
 "cells": [
  {
   "cell_type": "markdown",
   "id": "d117af15-e5d9-44d7-a144-f3b47c62d3fa",
   "metadata": {},
   "source": [
    "## Conditional statements ##"
   ]
  },
  {
   "cell_type": "markdown",
   "id": "e3978c00-9bff-45a7-a7d5-f15a83bc6f28",
   "metadata": {},
   "source": [
    "- Conditional statements means we want to run the code lines based on condition\n",
    "- if ranin comes i will not go to school other wise i will go to movie\n",
    "- rain is there will effect one process\n",
    "- rain is not there it will effect another process\n",
    "- if\n",
    "- elif\n",
    "- else"
   ]
  },
  {
   "cell_type": "markdown",
   "id": "099673d1-3839-4d02-9068-f26f2b33189a",
   "metadata": {},
   "source": [
    "**If**"
   ]
  },
  {
   "cell_type": "markdown",
   "id": "6fa870b7-290c-4e4a-86bf-046301fce460",
   "metadata": {},
   "source": [
    "#Syntax#\n",
    "if <condition>:\n",
    "    <codeline1>\n",
    "    <codeline2>\n"
   ]
  },
  {
   "cell_type": "markdown",
   "id": "6a0e6dc3-9556-4059-b9fd-79a63ea83f99",
   "metadata": {},
   "source": [
    "- whenever any line start with keyword(green) at the end of the line we will have :\n",
    "- whenever we have a colon(:) the next lines starts with some gap and this gap is caled as **Indentation**\n",
    "- how many lines we are maintianing gap (indentation) that all are undr one area"
   ]
  },
  {
   "cell_type": "markdown",
   "id": "7c309bed-70bf-4cdd-9a90-d756b3971ac0",
   "metadata": {},
   "source": [
    "- if is a conditional statement , it will chek the condtion is True or False\n",
    "- if that condition will True then only it will enter inside the if area\n",
    "- and execute those code lines\n",
    "- if that condition will False, then it will not enter inside the if area\n",
    "- and it will not execute those code lines\n"
   ]
  },
  {
   "cell_type": "code",
   "execution_count": 3,
   "id": "853efed9-69b2-4856-8b70-29479b75e1f4",
   "metadata": {},
   "outputs": [
    {
     "data": {
      "text/plain": [
       "True"
      ]
     },
     "execution_count": 3,
     "metadata": {},
     "output_type": "execute_result"
    }
   ],
   "source": [
    "100>10"
   ]
  },
  {
   "cell_type": "code",
   "execution_count": 57,
   "id": "f30bc36a-991d-4cbf-bde7-bb97aec4fe4a",
   "metadata": {},
   "outputs": [
    {
     "name": "stdout",
     "output_type": "stream",
     "text": [
      "Hello world\n"
     ]
    }
   ],
   "source": [
    "if 45>12:\n",
    "    print(\"Hello world\")"
   ]
  },
  {
   "cell_type": "code",
   "execution_count": 5,
   "id": "398eb11b-d4dc-4415-8ea9-45d806234036",
   "metadata": {},
   "outputs": [
    {
     "name": "stdout",
     "output_type": "stream",
     "text": [
      "Hello\n"
     ]
    }
   ],
   "source": [
    "if 100>10:      # if True\n",
    "    print(\"Hello\")"
   ]
  },
  {
   "cell_type": "code",
   "execution_count": 6,
   "id": "5bdbf368-2a0d-4730-8053-e9fbbeaf604e",
   "metadata": {},
   "outputs": [
    {
     "ename": "IndentationError",
     "evalue": "expected an indented block after 'if' statement on line 1 (2877297396.py, line 2)",
     "output_type": "error",
     "traceback": [
      "\u001b[1;36m  Cell \u001b[1;32mIn[6], line 2\u001b[1;36m\u001b[0m\n\u001b[1;33m    print(\"Hello\")\u001b[0m\n\u001b[1;37m    ^\u001b[0m\n\u001b[1;31mIndentationError\u001b[0m\u001b[1;31m:\u001b[0m expected an indented block after 'if' statement on line 1\n"
     ]
    }
   ],
   "source": [
    "if 100>10:\n",
    "print(\"Hello\")"
   ]
  },
  {
   "cell_type": "code",
   "execution_count": 7,
   "id": "f239ac27-8084-404d-b4d9-f48468b68d73",
   "metadata": {},
   "outputs": [
    {
     "name": "stdout",
     "output_type": "stream",
     "text": [
      "Hello\n"
     ]
    }
   ],
   "source": [
    "if 100>10:\n",
    "    print(\"Hello\")"
   ]
  },
  {
   "cell_type": "code",
   "execution_count": 8,
   "id": "e356193d-bbe3-438b-b130-6e99dea1fe35",
   "metadata": {},
   "outputs": [
    {
     "name": "stdout",
     "output_type": "stream",
     "text": [
      "Hello\n"
     ]
    }
   ],
   "source": [
    "if 100>10:\n",
    "    print(\"Hello\")"
   ]
  },
  {
   "cell_type": "markdown",
   "id": "9c6d5d33-754c-4c10-9a01-e6e36154bae2",
   "metadata": {},
   "source": [
    "- Indentation is requires 4 spaces"
   ]
  },
  {
   "cell_type": "code",
   "execution_count": 11,
   "id": "9fbbd8d5-be8f-4b74-8dc4-904b9e0a54c8",
   "metadata": {},
   "outputs": [
    {
     "name": "stdout",
     "output_type": "stream",
     "text": [
      "Hello\n"
     ]
    }
   ],
   "source": [
    "if 100>10:print(\"Hello\")"
   ]
  },
  {
   "cell_type": "markdown",
   "id": "00780cd7-bf14-45e9-8909-df22130ae8d0",
   "metadata": {},
   "source": [
    "**Mistake 2**"
   ]
  },
  {
   "cell_type": "markdown",
   "id": "95e5476d-2b8a-4b16-868c-5a875978f7a5",
   "metadata": {},
   "source": [
    "- missing of colon:\n",
    "- if we are missing colon we wil get the syntax error"
   ]
  },
  {
   "cell_type": "markdown",
   "id": "ad9d21d2-67c4-408a-8df9-3b757d9cf740",
   "metadata": {},
   "source": [
    "**Mistake 3**"
   ]
  },
  {
   "cell_type": "code",
   "execution_count": 12,
   "id": "6ac472d9-81a1-43ba-9960-eb1a57b2139f",
   "metadata": {},
   "outputs": [
    {
     "ename": "SyntaxError",
     "evalue": "invalid syntax (3341575191.py, line 1)",
     "output_type": "error",
     "traceback": [
      "\u001b[1;36m  Cell \u001b[1;32mIn[12], line 1\u001b[1;36m\u001b[0m\n\u001b[1;33m    if:\u001b[0m\n\u001b[1;37m      ^\u001b[0m\n\u001b[1;31mSyntaxError\u001b[0m\u001b[1;31m:\u001b[0m invalid syntax\n"
     ]
    }
   ],
   "source": [
    "if:\n",
    "    print(\"Hello\")\n"
   ]
  },
  {
   "cell_type": "markdown",
   "id": "0c15ce2c-7379-4803-a8db-11bd04c20545",
   "metadata": {},
   "source": [
    "- we will forget the condition and will get the error like \"Invalid Syntax\""
   ]
  },
  {
   "cell_type": "markdown",
   "id": "42384e89-137a-468e-a943-d3c48131d0d9",
   "metadata": {},
   "source": [
    "**Mistake 4**"
   ]
  },
  {
   "cell_type": "code",
   "execution_count": 13,
   "id": "e624bdd0-526a-40fd-89c6-3fdaa020ee91",
   "metadata": {},
   "outputs": [
    {
     "ename": "SyntaxError",
     "evalue": "Missing parentheses in call to 'print'. Did you mean print(...)? (1272780794.py, line 3)",
     "output_type": "error",
     "traceback": [
      "\u001b[1;36m  Cell \u001b[1;32mIn[13], line 3\u001b[1;36m\u001b[0m\n\u001b[1;33m    print\"Hello\"\u001b[0m\n\u001b[1;37m    ^\u001b[0m\n\u001b[1;31mSyntaxError\u001b[0m\u001b[1;31m:\u001b[0m Missing parentheses in call to 'print'. Did you mean print(...)?\n"
     ]
    }
   ],
   "source": [
    "# missing brackets\n",
    "if 100>10:\n",
    "    print\"Hello\""
   ]
  },
  {
   "cell_type": "markdown",
   "id": "b5212d8c-855b-4e02-a7f9-efe3f729732a",
   "metadata": {},
   "source": [
    "**Mistake 5**"
   ]
  },
  {
   "cell_type": "code",
   "execution_count": 14,
   "id": "e5c80b29-0921-45df-a861-0062a6319e0c",
   "metadata": {},
   "outputs": [
    {
     "name": "stdout",
     "output_type": "stream",
     "text": [
      "Hello\n"
     ]
    }
   ],
   "source": [
    "# never assign a variable to print statement\n",
    "# print we are using for to see the answer\n",
    "\n",
    "if 100>10:\n",
    "    name=print(\"Hello\")"
   ]
  },
  {
   "cell_type": "markdown",
   "id": "96fd5f21-dc3f-4a13-bfea-957909e9b54f",
   "metadata": {},
   "source": [
    "**Mistake 6**\n",
    "- all type of syntax error\n",
    "- spelling mistakes"
   ]
  },
  {
   "cell_type": "code",
   "execution_count": 17,
   "id": "7b6946f5-db20-464c-8fd3-ae95097fb00b",
   "metadata": {},
   "outputs": [
    {
     "name": "stdout",
     "output_type": "stream",
     "text": [
      "Hello\n",
      "good morning\n",
      "okay\n",
      "bye\n"
     ]
    }
   ],
   "source": [
    "if 100>10:\n",
    "    print(\"Hello\")\n",
    "    print(\"good morning\")\n",
    "########################################################    \n",
    "print(\"okay\")\n",
    "print(\"bye\")\n",
    "# step 1 : if 100>10 if true\n",
    "# step 2 : hello\n",
    "# step 3 good morning\n",
    "# step 4 okay\n",
    "# step 5 bye"
   ]
  },
  {
   "cell_type": "code",
   "execution_count": 25,
   "id": "c112bc85-f9ff-4243-acf0-eb81dd2ada5a",
   "metadata": {},
   "outputs": [
    {
     "ename": "IndentationError",
     "evalue": "unexpected indent (3302595059.py, line 8)",
     "output_type": "error",
     "traceback": [
      "\u001b[1;36m  Cell \u001b[1;32mIn[25], line 8\u001b[1;36m\u001b[0m\n\u001b[1;33m    print(\"okay\")\u001b[0m\n\u001b[1;37m    ^\u001b[0m\n\u001b[1;31mIndentationError\u001b[0m\u001b[1;31m:\u001b[0m unexpected indent\n"
     ]
    }
   ],
   "source": [
    "print(10)\n",
    "print(20)\n",
    "####################\n",
    "if 100>10:\n",
    "    print(\"hello\")\n",
    "    print(\"good morning\")\n",
    "#################################\n",
    "print(\"okay\")\n",
    "print(\"bye\")"
   ]
  },
  {
   "cell_type": "code",
   "execution_count": 58,
   "id": "778afdf2-bdea-4260-b511-bb1a6f01cd75",
   "metadata": {},
   "outputs": [
    {
     "name": "stdout",
     "output_type": "stream",
     "text": [
      "balaswmy\n",
      "hello\n",
      "good morning\n"
     ]
    }
   ],
   "source": [
    "print(\"balaswmy\")\n",
    "if True:\n",
    "    print(\"hello\")\n",
    "    print(\"good morning\")"
   ]
  },
  {
   "cell_type": "code",
   "execution_count": 26,
   "id": "55cc230b-c416-43bc-a144-d63782b1e7a0",
   "metadata": {},
   "outputs": [
    {
     "name": "stdout",
     "output_type": "stream",
     "text": [
      "10\n",
      "20\n",
      "hello\n",
      "good morning\n",
      "okay\n",
      "bye\n"
     ]
    }
   ],
   "source": [
    "print(10)\n",
    "print(20)\n",
    "####################\n",
    "if True:\n",
    "    print(\"hello\")\n",
    "    print(\"good morning\")\n",
    "\n",
    "print(\"okay\")\n",
    "print(\"bye\")"
   ]
  },
  {
   "cell_type": "code",
   "execution_count": 59,
   "id": "75e7bfdc-a6af-461f-9508-70e556e1a73d",
   "metadata": {},
   "outputs": [
    {
     "name": "stdout",
     "output_type": "stream",
     "text": [
      "Tittu\n",
      "pavani\n",
      "good morning\n",
      "hyderabad\n",
      "1234\n",
      "12345.5789\n"
     ]
    }
   ],
   "source": [
    "print(\"Tittu\")\n",
    "print(\"pavani\")\n",
    "if 200<400:\n",
    "    print(\"good morning\")\n",
    "    print(\"hyderabad\")\n",
    "print(1234)\n",
    "print(12345.5789)"
   ]
  },
  {
   "cell_type": "code",
   "execution_count": 27,
   "id": "fc44d243-1264-4ea0-a3a5-895906a4e61d",
   "metadata": {},
   "outputs": [
    {
     "name": "stdout",
     "output_type": "stream",
     "text": [
      "10\n",
      "20\n",
      "okay\n",
      "bye\n"
     ]
    }
   ],
   "source": [
    "print(10)\n",
    "print(20)\n",
    "if 100<10:\n",
    "    print(\"hello\")\n",
    "    print(\"good morning\")\n",
    "\n",
    "print(\"okay\")\n",
    "print(\"bye\")"
   ]
  },
  {
   "cell_type": "code",
   "execution_count": 28,
   "id": "f1f8860c-fb7d-4fcb-828e-ef912aff8a82",
   "metadata": {},
   "outputs": [
    {
     "name": "stdout",
     "output_type": "stream",
     "text": [
      "10\n",
      "20\n",
      "okay\n",
      "bye\n"
     ]
    }
   ],
   "source": [
    "print(10)\n",
    "print(20)\n",
    "####################\n",
    "if False:\n",
    "    print(\"hello\")\n",
    "    print(\"good morning\")\n",
    "\n",
    "print(\"okay\")\n",
    "print(\"bye\")"
   ]
  },
  {
   "cell_type": "code",
   "execution_count": 29,
   "id": "567ce5f1-28f1-4fd0-affd-9ab2f3f019d5",
   "metadata": {},
   "outputs": [
    {
     "name": "stdout",
     "output_type": "stream",
     "text": [
      "10\n",
      "20\n",
      "hello\n",
      "good morning\n",
      "okay\n",
      "bye\n"
     ]
    }
   ],
   "source": [
    "print(10)\n",
    "print(20)\n",
    "####################\n",
    "if 100:\n",
    "    print(\"hello\")\n",
    "    print(\"good morning\")\n",
    "\n",
    "print(\"okay\")\n",
    "print(\"bye\")"
   ]
  },
  {
   "cell_type": "code",
   "execution_count": 60,
   "id": "3850962c-4188-44b5-8fd2-75892190eaf9",
   "metadata": {},
   "outputs": [
    {
     "name": "stdout",
     "output_type": "stream",
     "text": [
      "23\n",
      "45\n",
      "The condintion is correct\n",
      "9010558279\n"
     ]
    }
   ],
   "source": [
    "print(23)\n",
    "print(45)\n",
    "if 56 :\n",
    "    print(\"The condintion is correct\")\n",
    "    print(9010558279)"
   ]
  },
  {
   "cell_type": "code",
   "execution_count": 30,
   "id": "69f73b9e-913f-417b-84ae-bdd91a19f84a",
   "metadata": {},
   "outputs": [
    {
     "data": {
      "text/plain": [
       "True"
      ]
     },
     "execution_count": 30,
     "metadata": {},
     "output_type": "execute_result"
    }
   ],
   "source": [
    "bool(100)"
   ]
  },
  {
   "cell_type": "code",
   "execution_count": 31,
   "id": "33d96262-1400-40a9-b959-9729bfc35085",
   "metadata": {},
   "outputs": [
    {
     "name": "stdout",
     "output_type": "stream",
     "text": [
      "10\n",
      "20\n",
      "okay\n",
      "bye\n"
     ]
    }
   ],
   "source": [
    "print(10)\n",
    "print(20)\n",
    "if 0:\n",
    "    print(\"hello\")\n",
    "    print(\"good morning\")\n",
    "\n",
    "print(\"okay\")\n",
    "print(\"bye\")"
   ]
  },
  {
   "cell_type": "code",
   "execution_count": 32,
   "id": "fc753636-d66a-4c39-86a7-dea195e155cc",
   "metadata": {},
   "outputs": [
    {
     "name": "stdout",
     "output_type": "stream",
     "text": [
      "10\n",
      "20\n",
      "okay\n",
      "bye\n"
     ]
    }
   ],
   "source": [
    "print(10)\n",
    "print(20)\n",
    "if 0.0:\n",
    "    print(\"hello\")\n",
    "    print(\"good morning\")\n",
    "\n",
    "print(\"okay\")\n",
    "print(\"bye\")"
   ]
  },
  {
   "cell_type": "code",
   "execution_count": 33,
   "id": "7582e0dd-efc5-4f4c-8a56-ecf3348bcf6d",
   "metadata": {},
   "outputs": [
    {
     "name": "stdout",
     "output_type": "stream",
     "text": [
      "10\n",
      "20\n",
      "hello\n",
      "good morning\n",
      "okay\n",
      "bye\n"
     ]
    }
   ],
   "source": [
    "print(10)\n",
    "print(20)\n",
    "if 'hello':\n",
    "    print(\"hello\")\n",
    "    print(\"good morning\")\n",
    "\n",
    "print(\"okay\")\n",
    "print(\"bye\")"
   ]
  },
  {
   "cell_type": "code",
   "execution_count": 61,
   "id": "16cacf41-55df-4bce-b0af-5ed84b1c734e",
   "metadata": {},
   "outputs": [
    {
     "name": "stdout",
     "output_type": "stream",
     "text": [
      "34\n",
      "45\n",
      "python\n"
     ]
    }
   ],
   "source": [
    "print(34)\n",
    "print(45)\n",
    "if 'python':\n",
    "    print('python')"
   ]
  },
  {
   "cell_type": "code",
   "execution_count": 34,
   "id": "d41e20f8-d936-4bcc-8730-6cd72a565e42",
   "metadata": {},
   "outputs": [
    {
     "name": "stdout",
     "output_type": "stream",
     "text": [
      "10\n",
      "20\n",
      "hello\n",
      "good morning\n",
      "okay\n",
      "bye\n"
     ]
    }
   ],
   "source": [
    "print(10)\n",
    "print(20)\n",
    "if ' ':\n",
    "    print(\"hello\")\n",
    "    print(\"good morning\")\n",
    "print(\"okay\")\n",
    "print(\"bye\")"
   ]
  },
  {
   "cell_type": "code",
   "execution_count": 35,
   "id": "656c3ac2-11d5-4141-89b7-62d6e85c30e7",
   "metadata": {},
   "outputs": [
    {
     "name": "stdout",
     "output_type": "stream",
     "text": [
      "hello\n",
      "good morning\n",
      "okay\n",
      "bye\n"
     ]
    }
   ],
   "source": [
    "if 10.5:\n",
    "    print(\"hello\")\n",
    "    print(\"good morning\")\n",
    "print(\"okay\")\n",
    "print(\"bye\")"
   ]
  },
  {
   "cell_type": "code",
   "execution_count": 36,
   "id": "70464908-5360-49df-b4d2-ae35c7b86453",
   "metadata": {},
   "outputs": [
    {
     "name": "stdout",
     "output_type": "stream",
     "text": [
      "10\n",
      "20\n",
      "hello\n",
      "good morning\n",
      "okay\n",
      "bye\n"
     ]
    }
   ],
   "source": [
    "print(10)\n",
    "print(20)\n",
    "if 10+10:\n",
    "    print(\"hello\")\n",
    "    print(\"good morning\")\n",
    "print(\"okay\")\n",
    "print(\"bye\")"
   ]
  },
  {
   "cell_type": "code",
   "execution_count": 38,
   "id": "d73112fb-fc8f-4271-9927-8f08752b187a",
   "metadata": {},
   "outputs": [
    {
     "name": "stdout",
     "output_type": "stream",
     "text": [
      "10\n",
      "20\n",
      "okay\n",
      "bye\n"
     ]
    }
   ],
   "source": [
    "print(10)\n",
    "print(20)\n",
    "if 100-100:\n",
    "    print(\"hello\")\n",
    "    print(\"good morning\")\n",
    "print(\"okay\")\n",
    "print(\"bye\")"
   ]
  },
  {
   "cell_type": "code",
   "execution_count": 39,
   "id": "6ce2f464-26d7-43eb-82f8-7fb25317f3d5",
   "metadata": {},
   "outputs": [
    {
     "name": "stdout",
     "output_type": "stream",
     "text": [
      "10\n",
      "20\n",
      "hello\n",
      "good morning\n",
      "okay\n",
      "bye\n"
     ]
    }
   ],
   "source": [
    "print(10)\n",
    "print(20)\n",
    "if _:\n",
    "    print(\"hello\")\n",
    "    print(\"good morning\")\n",
    "print(\"okay\")\n",
    "print(\"bye\")"
   ]
  },
  {
   "cell_type": "code",
   "execution_count": 40,
   "id": "23eebfb4-4f5f-45f7-8cab-f16f8c0d3248",
   "metadata": {},
   "outputs": [
    {
     "ename": "SyntaxError",
     "evalue": "invalid syntax (136475158.py, line 3)",
     "output_type": "error",
     "traceback": [
      "\u001b[1;36m  Cell \u001b[1;32mIn[40], line 3\u001b[1;36m\u001b[0m\n\u001b[1;33m    if :\u001b[0m\n\u001b[1;37m       ^\u001b[0m\n\u001b[1;31mSyntaxError\u001b[0m\u001b[1;31m:\u001b[0m invalid syntax\n"
     ]
    }
   ],
   "source": [
    "print(10)\n",
    "print(20)\n",
    "if :\n",
    "    print(\"hello\")\n",
    "    print(\"good morning\")\n",
    "print(\"okay\")\n",
    "print(\"bye\")"
   ]
  },
  {
   "cell_type": "markdown",
   "id": "464296a4-873d-4a8e-ac42-8936c6ca68c6",
   "metadata": {},
   "source": [
    "*If else*"
   ]
  },
  {
   "cell_type": "markdown",
   "id": "3074fcb1-f8ac-4cc9-9008-7ff8db3f1c24",
   "metadata": {},
   "source": [
    "- if required condition\n",
    "- if that condition is true, then it will execute if block\n",
    "- other wise it can directly go the else block\n",
    "- so else block doesnt required any condition"
   ]
  },
  {
   "cell_type": "code",
   "execution_count": null,
   "id": "3d358a3d-1790-4c18-b86e-1c522917c808",
   "metadata": {},
   "outputs": [],
   "source": [
    "## syntax \n",
    "if <condition>:\n",
    "    <codeline>\n",
    "else:\n",
    "    <code line>"
   ]
  },
  {
   "cell_type": "code",
   "execution_count": 42,
   "id": "cbd7ae64-a8a9-4049-a2ff-878d43a3175a",
   "metadata": {},
   "outputs": [
    {
     "name": "stdout",
     "output_type": "stream",
     "text": [
      "6545\n"
     ]
    }
   ],
   "source": [
    "if 100<20:\n",
    "    print(\"Balaswamy\")\n",
    "else:\n",
    "    print(\"6545\")"
   ]
  },
  {
   "cell_type": "code",
   "execution_count": 62,
   "id": "cf87de9d-9b39-4038-83a4-138a987af009",
   "metadata": {},
   "outputs": [
    {
     "name": "stdout",
     "output_type": "stream",
     "text": [
      "code is correct\n",
      "python is a good language\n"
     ]
    }
   ],
   "source": [
    "if 100>1:\n",
    "    print(\"code is correct\")\n",
    "    print('python is a good language')\n",
    "else:\n",
    "    print(\"code is incorrect\")"
   ]
  },
  {
   "cell_type": "code",
   "execution_count": 63,
   "id": "25348f3d-1947-4612-976c-3bc53dac8dfb",
   "metadata": {},
   "outputs": [
    {
     "name": "stdout",
     "output_type": "stream",
     "text": [
      "code is incorrect\n"
     ]
    }
   ],
   "source": [
    "if 100>100:\n",
    "    print(\"code is correct\")\n",
    "    print('python is a good language')\n",
    "else:\n",
    "    print(\"code is incorrect\")"
   ]
  },
  {
   "cell_type": "code",
   "execution_count": 43,
   "id": "253713a9-c7f1-41e1-8527-d8b9d04ebe1c",
   "metadata": {},
   "outputs": [
    {
     "name": "stdout",
     "output_type": "stream",
     "text": [
      "the condition is wrong\n"
     ]
    }
   ],
   "source": [
    "if 100<20:\n",
    "    print(\"the condition is very good\")\n",
    "else:\n",
    "    print(\"the condition is wrong\")"
   ]
  },
  {
   "cell_type": "code",
   "execution_count": 44,
   "id": "3ff52bf9-9255-451d-84b8-93329b168414",
   "metadata": {},
   "outputs": [
    {
     "name": "stdout",
     "output_type": "stream",
     "text": [
      "Hello\n",
      "the condition is wrong\n",
      "bye\n"
     ]
    }
   ],
   "source": [
    "print(\"Hello\")\n",
    "if 100<20:\n",
    "    print(\"the condition is very good\")\n",
    "else:\n",
    "    print(\"the condition is wrong\")\n",
    "print(\"bye\")"
   ]
  },
  {
   "cell_type": "code",
   "execution_count": 45,
   "id": "8b8c9298-caa8-40f8-8960-4b4dafbcee9f",
   "metadata": {},
   "outputs": [
    {
     "ename": "SyntaxError",
     "evalue": "invalid syntax (3462582012.py, line 5)",
     "output_type": "error",
     "traceback": [
      "\u001b[1;36m  Cell \u001b[1;32mIn[45], line 5\u001b[1;36m\u001b[0m\n\u001b[1;33m    else:\u001b[0m\n\u001b[1;37m    ^\u001b[0m\n\u001b[1;31mSyntaxError\u001b[0m\u001b[1;31m:\u001b[0m invalid syntax\n"
     ]
    }
   ],
   "source": [
    "print(\"Hello\")\n",
    "if 100<20:\n",
    "    print(\"the condition is very good\")\n",
    "print(\"why you in middile\")\n",
    "else:\n",
    "    print(\"the condition is wrong\")\n",
    "print(\"bye\")"
   ]
  },
  {
   "cell_type": "markdown",
   "id": "cc532a6b-70ca-4449-99a3-16d085ab3013",
   "metadata": {},
   "source": [
    "- if and else should be in togethore"
   ]
  },
  {
   "cell_type": "code",
   "execution_count": 65,
   "id": "567b7a51-9e37-4776-a5e5-d964b5976986",
   "metadata": {},
   "outputs": [
    {
     "name": "stdout",
     "output_type": "stream",
     "text": [
      "10\n",
      "0\n",
      "10\n",
      "0.0\n"
     ]
    }
   ],
   "source": [
    "if True:\n",
    "    a=10\n",
    "    b=0\n",
    "    print(a) #10\n",
    "    print(b) #0\n",
    "    c=a+b\n",
    "    print(c) # 10+0\n",
    "    d=b/a  # 0/10 \n",
    "    print(d)"
   ]
  },
  {
   "cell_type": "code",
   "execution_count": 48,
   "id": "67955758-24af-45a1-b984-53bc18561ec2",
   "metadata": {},
   "outputs": [
    {
     "data": {
      "text/plain": [
       "1.25"
      ]
     },
     "execution_count": 48,
     "metadata": {},
     "output_type": "execute_result"
    }
   ],
   "source": [
    "5/4 # normal division\n"
   ]
  },
  {
   "cell_type": "code",
   "execution_count": 49,
   "id": "f8279069-7ce1-4244-b3d9-388f802d765a",
   "metadata": {},
   "outputs": [
    {
     "data": {
      "text/plain": [
       "1"
      ]
     },
     "execution_count": 49,
     "metadata": {},
     "output_type": "execute_result"
    }
   ],
   "source": [
    "5//4 # floor division"
   ]
  },
  {
   "cell_type": "code",
   "execution_count": 50,
   "id": "25b8b779-f592-4bb4-b66a-4bab841ee0c0",
   "metadata": {},
   "outputs": [
    {
     "data": {
      "text/plain": [
       "1"
      ]
     },
     "execution_count": 50,
     "metadata": {},
     "output_type": "execute_result"
    }
   ],
   "source": [
    "# modulus operater \n",
    "5%4  # reminder\n"
   ]
  },
  {
   "cell_type": "code",
   "execution_count": 52,
   "id": "1784e7b2-d3f9-4f08-9db5-6a06d0a1c621",
   "metadata": {},
   "outputs": [],
   "source": [
    "# wap as kthe user enter a number\n",
    "# find it is a even number or odd number\n",
    "# step-1 num eval(input())\n",
    "# step-2 if condition\n",
    "# step-3 print()\n",
    "# step-4 else\n",
    "# step-5 print()"
   ]
  },
  {
   "cell_type": "code",
   "execution_count": 53,
   "id": "7ac74282-70e1-4683-add8-3cd813ecffe2",
   "metadata": {},
   "outputs": [
    {
     "name": "stdin",
     "output_type": "stream",
     "text": [
      " 6\n"
     ]
    },
    {
     "name": "stdout",
     "output_type": "stream",
     "text": [
      "the number is 6 even\n"
     ]
    }
   ],
   "source": [
    "num=eval(input())\n",
    "if num%2==0:\n",
    "    print(f\"the number is {num} even\")\n",
    "else:\n",
    "    print(f\"the number is {num} odd\")"
   ]
  },
  {
   "cell_type": "code",
   "execution_count": 66,
   "id": "b9a52aa1-d353-4556-8a49-226d117cf857",
   "metadata": {},
   "outputs": [],
   "source": [
    "import random"
   ]
  },
  {
   "cell_type": "code",
   "execution_count": 71,
   "id": "209bce88-7ce1-41e0-97cc-8b90fb9cb391",
   "metadata": {},
   "outputs": [
    {
     "name": "stdout",
     "output_type": "stream",
     "text": [
      "the entered number 22 is even number\n"
     ]
    }
   ],
   "source": [
    "num=random.randint(15,30)\n",
    "if num%2==0:\n",
    "    print(f\"the entered number {num} is even number\")\n",
    "else:\n",
    "    print(f\"the entered number {num} is odd number\")"
   ]
  },
  {
   "cell_type": "code",
   "execution_count": 72,
   "id": "b264a6f0-22b2-403d-abb9-97389a775cc1",
   "metadata": {},
   "outputs": [
    {
     "name": "stdin",
     "output_type": "stream",
     "text": [
      "Enter the value: 35\n"
     ]
    },
    {
     "name": "stdout",
     "output_type": "stream",
     "text": [
      "the entered number 35 is odd number\n"
     ]
    }
   ],
   "source": [
    "# implement the above problem by taking keword\n",
    "num=eval(input(\"Enter the value:\"))\n",
    "if num%2==0:\n",
    "    print(f\"the entered number {num} is even number\")\n",
    "else:\n",
    "    print(f\"the entered number {num} is odd number\")"
   ]
  },
  {
   "cell_type": "code",
   "execution_count": 73,
   "id": "5fd17885-1622-481c-b89c-32a7257a42fc",
   "metadata": {},
   "outputs": [
    {
     "name": "stdin",
     "output_type": "stream",
     "text": [
      "enter the start value 1\n",
      "enter the end value 400\n"
     ]
    },
    {
     "name": "stdout",
     "output_type": "stream",
     "text": [
      "the entered number 377 is odd number\n"
     ]
    }
   ],
   "source": [
    "start=eval(input(\"enter the start value\"))\n",
    "end=eval(input(\"enter the end value\"))\n",
    "num=random.randint(start,end)\n",
    "if num%2==0:\n",
    "    print(f\"the entered number {num} is even number\")\n",
    "else:\n",
    "    print(f\"the entered number {num} is odd number\")"
   ]
  },
  {
   "cell_type": "markdown",
   "id": "77742b5e-21f7-4282-b846-ffef42a92730",
   "metadata": {},
   "source": [
    "- we are providing values means its hard coded\n",
    "- code should be always generic without hard coding"
   ]
  },
  {
   "cell_type": "code",
   "execution_count": 74,
   "id": "4dfe2c4c-537a-41ea-aaf9-6e7a06cd71aa",
   "metadata": {},
   "outputs": [],
   "source": [
    "import random\n",
    "import math\n",
    "import keyword"
   ]
  },
  {
   "cell_type": "code",
   "execution_count": 75,
   "id": "6f1e2c34-7082-40cc-b4a1-ecef943b1aff",
   "metadata": {},
   "outputs": [
    {
     "name": "stdout",
     "output_type": "stream",
     "text": [
      "the enterd number 12 is even number\n"
     ]
    }
   ],
   "source": [
    "#.1 \n",
    "# wap ask the user enter a number\n",
    "# find it is a even number or odd number\n",
    "# idea: any number divide by 2 , the remiander=0\n",
    "# it is called as even number\n",
    "number=random.randint(1,100)\n",
    "if number%2==0:\n",
    "    print(f\"the enterd number {number} is even number\")\n",
    "else:\n",
    "    print(f\"the entered number {number} is odd number\")\n"
   ]
  },
  {
   "cell_type": "code",
   "execution_count": 76,
   "id": "42cf1ef4-d128-401f-ab09-5ad365b374ca",
   "metadata": {},
   "outputs": [
    {
     "name": "stdin",
     "output_type": "stream",
     "text": [
      "Enter the charge for 1km: 25\n"
     ]
    },
    {
     "name": "stdout",
     "output_type": "stream",
     "text": [
      "it is a free raid\n"
     ]
    }
   ],
   "source": [
    "#.2\n",
    "\n",
    "# wap ask the user enter the distance\n",
    "# if distance greater than 25km\n",
    "# then enter the charge\n",
    "# print the total cost\n",
    "#otherwise\n",
    "#print free ride\n",
    "\n",
    "distance=random.randint(20,30)\n",
    "charge=eval(input(\"Enter the charge for 1km:\"))\n",
    "total_cost=distance*charge\n",
    "if distance>25:\n",
    "    print(f\"the total cost of the raid is :{total_cost}\")\n",
    "else:\n",
    "    print(f\"it is a free raid\")"
   ]
  },
  {
   "cell_type": "code",
   "execution_count": 78,
   "id": "3c9825dc-514b-4ad3-9c21-e7528f47f143",
   "metadata": {},
   "outputs": [
    {
     "name": "stdin",
     "output_type": "stream",
     "text": [
      "enter the distance in km 388\n",
      "Enter the cutoff distance : 34\n",
      "Enter the charge for 1km: 56\n"
     ]
    },
    {
     "name": "stdout",
     "output_type": "stream",
     "text": [
      "good news your charge is aplicable for only remaining of  354\n",
      "the total cost for the raid is :19824\n"
     ]
    }
   ],
   "source": [
    "#.3\n",
    "# wap ask the user enter the distance\n",
    "# cutoff distance enter 25\n",
    "# if distance greater than 25km\n",
    "#      print(\"good news your charge is aplicable for only remaining of 25\")\n",
    "#      chargeble distance= distance-cutoff\n",
    "#      then enter the charge\n",
    "#      print the total cost\n",
    "#otherwise\n",
    "#      print free ride\n",
    "distance=eval(input(\"enter the distance in km\"))\n",
    "cutoff=eval(input(\"Enter the cutoff distance :\"))\n",
    "\n",
    "if distance>cutoff:\n",
    "    charge=eval(input(\"Enter the charge for 1km:\"))\n",
    "    chargeble_distance=distance-cutoff\n",
    "    total_cost=chargeble_distance*charge\n",
    "    print(\"good news your charge is aplicable for only remaining of \",chargeble_distance)\n",
    "    print(f\"the total cost for the raid is :{total_cost}\")\n",
    "else:\n",
    "    print(\"enjoy the free raid\")"
   ]
  },
  {
   "cell_type": "code",
   "execution_count": 79,
   "id": "bdfa21ba-e7c4-404b-994b-0ca9843b0dd3",
   "metadata": {},
   "outputs": [
    {
     "name": "stdin",
     "output_type": "stream",
     "text": [
      "Enter your current learning course : data science\n",
      "Enter your institute name : nareshit\n",
      "Enter your faculty omkar\n"
     ]
    },
    {
     "name": "stdout",
     "output_type": "stream",
     "text": [
      "you are good\n"
     ]
    }
   ],
   "source": [
    "#.4\n",
    "# wap ask the user enter the course\n",
    "# ask the user enter the Institute\n",
    "# if the course equal to data science and institute equal to naresh it\n",
    "#     then you are good\n",
    "# otherwise\n",
    "#     you are bad\n",
    "course=input(\"Enter your current learning course :\")\n",
    "institue=input(\"Enter your institute name :\")\n",
    "faculty=input(\"Enter your faculty\")\n",
    "if course==\"data science\":\n",
    "    institue==\"nareshit\"\n",
    "    faculty==\"omkar\"\n",
    "    print(\"you are good\")\n",
    "else:\n",
    "    print(\"you are bad\")\n"
   ]
  },
  {
   "cell_type": "code",
   "execution_count": 80,
   "id": "0b95f17e-7b7a-48d8-8b84-0daaa3753b03",
   "metadata": {},
   "outputs": [
    {
     "name": "stdin",
     "output_type": "stream",
     "text": [
      "Enter any number 5\n"
     ]
    },
    {
     "name": "stdout",
     "output_type": "stream",
     "text": [
      "you loss\n"
     ]
    }
   ],
   "source": [
    "#.5\n",
    "# wap ask the user enter a random number between 1 to 10, treat this as number1\n",
    "# ask the user enter another number from keyboard, treat this as number2\n",
    "# if number1 equal to number2\n",
    "#     print you won\n",
    "# otherwise\n",
    "#     print you lost\n",
    "\n",
    "number1=random.randint(1,10)\n",
    "number2=eval(input(\"Enter any number\"))\n",
    "if number1==number2:\n",
    "    print(\"you won\")\n",
    "else:\n",
    "    print(\"you loss\")"
   ]
  },
  {
   "cell_type": "code",
   "execution_count": 81,
   "id": "d09382d0-f7c6-4177-8cea-ce7f0e3065d8",
   "metadata": {},
   "outputs": [
    {
     "name": "stdin",
     "output_type": "stream",
     "text": [
      "Enter the number: 2\n"
     ]
    },
    {
     "name": "stdout",
     "output_type": "stream",
     "text": [
      "two\n"
     ]
    }
   ],
   "source": [
    "#.6 # wap ask the user enter number\n",
    "# if number equal to 1 then print one\n",
    "# if number equal to 2 then print two\n",
    "# if number equal to 3 then print three\n",
    "# otherwise  print enter a valid number\n",
    "number=eval(input(\"Enter the number:\"))\n",
    "if number==1:\n",
    "    print(\"one\")\n",
    "elif number==2:\n",
    "    print(\"two\")\n",
    "elif number==3:\n",
    "    print(\"three\")\n",
    "else:\n",
    "    print(\"enter a valid number\")"
   ]
  },
  {
   "cell_type": "code",
   "execution_count": 82,
   "id": "f3e68d6f-d3b2-4100-b63f-adc0ea4aa382",
   "metadata": {},
   "outputs": [
    {
     "name": "stdin",
     "output_type": "stream",
     "text": [
      "Enter the number 5\n"
     ]
    },
    {
     "name": "stdout",
     "output_type": "stream",
     "text": [
      "postive\n"
     ]
    }
   ],
   "source": [
    "#.7 # wap ask the user enter a number\n",
    "# if that number greater than zero print postive\n",
    "# if that number less than zero print negative\n",
    "# otherwise print zero\n",
    "num=eval(input(\"Enter the number\"))\n",
    "if num>0:\n",
    "    print(\"postive\")\n",
    "else:\n",
    "    print(\"Negative\")"
   ]
  },
  {
   "cell_type": "code",
   "execution_count": 83,
   "id": "defaef30-e61a-47fd-abc6-fa451f864f8c",
   "metadata": {},
   "outputs": [
    {
     "name": "stdin",
     "output_type": "stream",
     "text": [
      "Enter the percentage of marks 67\n"
     ]
    },
    {
     "name": "stdout",
     "output_type": "stream",
     "text": [
      "C grade\n"
     ]
    }
   ],
   "source": [
    "#.8 # WAP ask the user enter the percentage of marks 0 to 100\n",
    "# if percentagw gretaer than 90  print A garde\n",
    "# if percentage between 75 to 90 print B garde\n",
    "# if percentage between 50 to 75 print C grade\n",
    "# if percentage between 35 to 50 print D grade\n",
    "# if percentage less than 35 print Fail\n",
    "\n",
    "percentage_marks=eval(input(\"Enter the percentage of marks\"))\n",
    "if percentage_marks>90: print(\"A grade\")\n",
    "elif percentage_marks>=75: print(\"B grade\")\n",
    "elif percentage_marks>=50: print(\"C grade\")\n",
    "elif percentage_marks>=35: print(\"D grade\")\n",
    "else:\n",
    "    print(\"Fail\")\n",
    "   "
   ]
  },
  {
   "cell_type": "code",
   "execution_count": 84,
   "id": "7ec51779-41e2-4ab6-a8b0-f0b76de56866",
   "metadata": {},
   "outputs": [
    {
     "name": "stdin",
     "output_type": "stream",
     "text": [
      "Enter the age : 98\n"
     ]
    },
    {
     "name": "stdout",
     "output_type": "stream",
     "text": [
      "Old age\n"
     ]
    }
   ],
   "source": [
    "# 9.\n",
    "# WAP ask the user enter the age\n",
    "# if the age greater tahn 100 print you are lucky\n",
    "# if the age gretaer than 75 print old age\n",
    "# if the age  between 50 to 75 print ss\n",
    "# if the age between  30 tp 50 print MA\n",
    "# if the age between  15 to 30 print young age\n",
    "# if the afe between less than 15 print kid\n",
    "age=eval(input(\"Enter the age :\"))\n",
    "if age>100: print(\"you are lucky\")\n",
    "elif age>75: print(\"Old age\")\n",
    "elif age>=50: print(\"ss\")\n",
    "elif age>=30: print(\"ma\")\n",
    "elif age>=15: print(\"young age\")\n",
    "else:\n",
    "    print(\"Kid\")"
   ]
  },
  {
   "cell_type": "code",
   "execution_count": 8,
   "id": "1062968c-8886-4423-8961-ae93c4fc7cfd",
   "metadata": {},
   "outputs": [
    {
     "name": "stdin",
     "output_type": "stream",
     "text": [
      "Enter the operation value: 1\n"
     ]
    },
    {
     "name": "stdout",
     "output_type": "stream",
     "text": [
      "Operation 1 is for addition\n",
      "Operation 2 is for multiply\n",
      "Operation 3 is for subtraction\n",
      "Opration 4 is for division\n",
      "the addition of two numbers is6 \n"
     ]
    }
   ],
   "source": [
    "# wap ask the auser enter 2 numbers\n",
    "# num1\n",
    "# num2\n",
    "#you need to print\n",
    "# enter opration 1 for addition\n",
    "# enter operation 2 for mulitiply\n",
    "# enter oper 3 for sub\n",
    "# enter oper4 div\n",
    "\n",
    "# enter the opration between 1to 4\n",
    "# if operation equal to 1 then do add\n",
    "# if operation equal to 2 the do mul\n",
    "# if opration equal to 3 then do sub\n",
    "# if operation equal to 4 then do div\n",
    "# otherwise print enter a valid number\n",
    "\n",
    "import random\n",
    "num1=random.randint(1,4)\n",
    "num2=random.randint(1,4)\n",
    "operation=eval(input(\"Enter the operation value:\"))\n",
    "print(\"Operation 1 is for addition\")\n",
    "print(\"Operation 2 is for multiply\")\n",
    "print(\"Operation 3 is for subtraction\")\n",
    "print(\"Opration 4 is for division\")\n",
    "if operation==1:\n",
    "    sum=(num1+num2) \n",
    "    print(f\"the addition of two numbers is{sum} \")\n",
    "elif operation==2: print(num1*num2)\n",
    "elif operation==3: print(num1-num2)\n",
    "elif operation==4: print(num1/num2)\n",
    "else:print(\"Enter the valid number\")\n"
   ]
  },
  {
   "cell_type": "code",
   "execution_count": 35,
   "id": "2faaf8e8-67dd-49d1-a90d-0caed4474bd2",
   "metadata": {},
   "outputs": [
    {
     "name": "stdin",
     "output_type": "stream",
     "text": [
      "Enter the operation value: 2\n"
     ]
    },
    {
     "name": "stdout",
     "output_type": "stream",
     "text": [
      "Operation 1 is for addition Operation 2 is for multiply Operation 3 is for subtraction Opration 4 is for division\n",
      "the multiplication of two numbers is 6\n"
     ]
    }
   ],
   "source": [
    "num1=random.randint(1,4)\n",
    "num2=random.randint(1,4)\n",
    "ope=eval(input(\"Enter the operation value:\"))\n",
    "print(\"Operation 1 is for addition\",\"Operation 2 is for multiply\",\"Operation 3 is for subtraction\",\"Opration 4 is for division\")\n",
    "if ope==1:\n",
    "    sum=num1+num2\n",
    "    print(f\"the addition of two numbers is {sum}\")\n",
    "elif ope==2:\n",
    "    mult=num1*num2\n",
    "    print(f\"the multiplication of two numbers is {mult}\")\n",
    "elif ope==3:\n",
    "    sub=num1-num2\n",
    "    print(f\"the subtraction of the two numbers is : {sub}\")\n",
    "elif ope==4:\n",
    "    div=num1/num2\n",
    "    print(f\"the division of the two numnbers is {div}\")\n",
    "else:\n",
    "    print(\"enter the valid numnber\")\n"
   ]
  },
  {
   "cell_type": "code",
   "execution_count": 36,
   "id": "af3445fe-0628-4aec-9c49-d1be612f2b6d",
   "metadata": {},
   "outputs": [
    {
     "name": "stdin",
     "output_type": "stream",
     "text": [
      "enter the gender male\n",
      "enter the age : 45\n"
     ]
    },
    {
     "name": "stdout",
     "output_type": "stream",
     "text": [
      "Middle aged man\n"
     ]
    }
   ],
   "source": [
    "# wap asd the user the enter the gender\n",
    "# if gender equal to male\n",
    "#    ask the user the age\n",
    "# if the age greater than 60 print ss\n",
    "# if the age between 30 60 print mama\n",
    "# if the age between 15 to 30 print young man\n",
    "# other wise print boy\n",
    "\n",
    "gender=input(\"enter the gender\")\n",
    "if gender=='male':\n",
    "    age=eval(input(\"enter the age :\"))\n",
    "    if age>=60:\n",
    "        print(\"Senior citizen\")\n",
    "    elif age>=30:\n",
    "        print(\"Middle aged man\")\n",
    "    elif age>=15:\n",
    "        print(\"Young man\")\n",
    "    else:\n",
    "        print(\"boy\")\n",
    "elif gender==\"Female\":\n",
    "    age=eval(input(\"enter the age\"))\n",
    "    if age>=60:\n",
    "        print(\"Senior citizen\")\n",
    "    elif age>=30:\n",
    "        print(\"Middle aged woman\")\n",
    "    elif age>=15:\n",
    "        print(\"Young girl\")\n",
    "    else:\n",
    "        print(\"baby girl\")\n",
    "else:\n",
    "    print(\"Enter a valid gender\")\n",
    "        \n",
    "\n",
    "    "
   ]
  },
  {
   "cell_type": "code",
   "execution_count": 19,
   "id": "975a1bee-f182-488f-ba69-f7aad21320f5",
   "metadata": {},
   "outputs": [
    {
     "name": "stdin",
     "output_type": "stream",
     "text": [
      "enter the gender : fmale\n",
      "Enter the age: 34\n"
     ]
    },
    {
     "name": "stdout",
     "output_type": "stream",
     "text": [
      "Middle aged woman\n"
     ]
    }
   ],
   "source": [
    "# wap asd the user the enter the gender\n",
    "# if gender equal to female\n",
    "#    ask the user the age\n",
    "# if the age greater than 60 print ss\n",
    "# if the age between 30 60 print mwma\n",
    "# if the age between 15 to 30 print young wman\n",
    "# other wise print girl\n",
    "\n",
    "gender=input(\"enter the gender :\")\n",
    "age=eval(input(\"Enter the age:\"))\n",
    "if gender==\"fmale\" and age==60:\n",
    "    print(\"Senior citizen\")\n",
    "elif gender==\"fmale\" and age>=30: \n",
    "    print(\"Middle aged woman\")\n",
    "elif gender==\"fmale\" and age>=15:\n",
    "    print(\"Young woman\")\n",
    "else: print(\"girl\")"
   ]
  },
  {
   "cell_type": "code",
   "execution_count": 41,
   "id": "04b0b03f-deae-4b53-a05d-ef8d3d7c394c",
   "metadata": {},
   "outputs": [
    {
     "name": "stdin",
     "output_type": "stream",
     "text": [
      "enter the number : -1\n"
     ]
    },
    {
     "name": "stdout",
     "output_type": "stream",
     "text": [
      "Negtive\n"
     ]
    }
   ],
   "source": [
    "# wap ask the user enter a number\n",
    "# if that number greater than equal to \n",
    "#       if that number equal to zero\n",
    "#       else print positive\n",
    "# else \n",
    "# print negative\n",
    "\n",
    "num1=eval(input(\"enter the number :\"))\n",
    "if num1>=0:\n",
    "    if num1==0:\n",
    "        print(\"zero\")\n",
    "    else:\n",
    "        print(\"positive\")\n",
    "else:\n",
    "    print(\"Negtive\")"
   ]
  },
  {
   "cell_type": "code",
   "execution_count": 2,
   "id": "e3421b7a-5e56-48a6-b494-fd4f1e3dc913",
   "metadata": {},
   "outputs": [
    {
     "name": "stdin",
     "output_type": "stream",
     "text": [
      "enter the num1 12\n",
      "enter the num2 34\n",
      "enter the num3 56\n"
     ]
    },
    {
     "name": "stdout",
     "output_type": "stream",
     "text": [
      "the max number of three numbers is 56\n"
     ]
    }
   ],
   "source": [
    "# take three numbers\n",
    "# num1,num2,num3\n",
    "# find the max value\n",
    "\n",
    "num1=eval(input(\"enter the num1\"))\n",
    "num2=eval(input(\"enter the num2\"))\n",
    "num3=eval(input(\"enter the num3\"))\n",
    "Max=max(num1,num2,num3)\n",
    "print(f\"the max number of three numbers is {Max}\")\n",
    "\n",
    "\n"
   ]
  },
  {
   "cell_type": "code",
   "execution_count": 29,
   "id": "30ace2b7-37d6-41ef-87f1-c32d9ad3fcf6",
   "metadata": {},
   "outputs": [
    {
     "data": {
      "text/plain": [
       "140"
      ]
     },
     "execution_count": 29,
     "metadata": {},
     "output_type": "execute_result"
    }
   ],
   "source": [
    "random.randint(1,100)*10"
   ]
  },
  {
   "cell_type": "code",
   "execution_count": 30,
   "id": "5336273f-444f-4747-976b-ed028e262bdc",
   "metadata": {},
   "outputs": [
    {
     "data": {
      "text/plain": [
       "51"
      ]
     },
     "execution_count": 30,
     "metadata": {},
     "output_type": "execute_result"
    }
   ],
   "source": [
    "random.randrange(1,100,10)"
   ]
  },
  {
   "cell_type": "code",
   "execution_count": null,
   "id": "e9465db1-fafa-49ae-8aff-42fd2a0eb45a",
   "metadata": {},
   "outputs": [],
   "source": []
  }
 ],
 "metadata": {
  "kernelspec": {
   "display_name": "Python 3 (ipykernel)",
   "language": "python",
   "name": "python3"
  },
  "language_info": {
   "codemirror_mode": {
    "name": "ipython",
    "version": 3
   },
   "file_extension": ".py",
   "mimetype": "text/x-python",
   "name": "python",
   "nbconvert_exporter": "python",
   "pygments_lexer": "ipython3",
   "version": "3.11.7"
  }
 },
 "nbformat": 4,
 "nbformat_minor": 5
}
