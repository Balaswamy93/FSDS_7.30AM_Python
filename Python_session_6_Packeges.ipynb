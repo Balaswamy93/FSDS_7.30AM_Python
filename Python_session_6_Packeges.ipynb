{
 "cells": [
  {
   "cell_type": "markdown",
   "id": "0a8b675a-bbbb-4616-8673-7e19dd074f81",
   "metadata": {},
   "source": [
    "- let assume that our friend coder is there\n",
    "- He created an addition programm\n",
    "- he feels that he only created an additon program\n",
    "- he wants to give thes program to every one\n",
    "- he wents to anaconda organization and he makes a deal that who ever installed anaconda my packege also automatically download.\n",
    "- thats why when you are downloading anacodna a green colour pop up is comes means so many packges are tieup with anaconda\n",
    "- downloading in your local laptop"
   ]
  },
  {
   "cell_type": "markdown",
   "id": "f03e6089-7239-436d-901c-419672b28b16",
   "metadata": {},
   "source": [
    "- package is ther in your laptop\n",
    "- you want to use for the coding\n",
    "- the package name:Addition"
   ]
  },
  {
   "cell_type": "markdown",
   "id": "7d78e2b2-ad98-4ef2-95de-a896a2bce169",
   "metadata": {},
   "source": [
    "**Import**"
   ]
  },
  {
   "cell_type": "code",
   "execution_count": 2,
   "id": "9db81f4c-1cfa-4b57-89dd-f210b70e5c15",
   "metadata": {},
   "outputs": [],
   "source": [
    "# syntax\n",
    "# import <package_name>\n",
    "import random"
   ]
  },
  {
   "cell_type": "code",
   "execution_count": 3,
   "id": "832782db-75b6-4366-bb5d-8e0e6543a4bc",
   "metadata": {},
   "outputs": [],
   "source": [
    "# package name : time\n",
    "import time"
   ]
  },
  {
   "cell_type": "code",
   "execution_count": 4,
   "id": "96ff48bb-c058-478e-bb25-2c90868a376d",
   "metadata": {},
   "outputs": [],
   "source": [
    "# package name : Math\n",
    "import math"
   ]
  },
  {
   "cell_type": "code",
   "execution_count": 10,
   "id": "16f4269b-6796-4b4f-b1c4-b2fa05ac2b61",
   "metadata": {},
   "outputs": [],
   "source": [
    "#package name: streamlit\n",
    "import streamlit"
   ]
  },
  {
   "cell_type": "code",
   "execution_count": 8,
   "id": "3d3ec8f3-6779-4e2f-9f4b-50aa00a96844",
   "metadata": {},
   "outputs": [],
   "source": [
    "# package or module is same\n"
   ]
  },
  {
   "cell_type": "code",
   "execution_count": 9,
   "id": "08d300eb-452b-4174-ae1c-71e866d9fa02",
   "metadata": {},
   "outputs": [
    {
     "ename": "ModuleNotFoundError",
     "evalue": "No module named 'cv2'",
     "output_type": "error",
     "traceback": [
      "\u001b[1;31m---------------------------------------------------------------------------\u001b[0m",
      "\u001b[1;31mModuleNotFoundError\u001b[0m                       Traceback (most recent call last)",
      "Cell \u001b[1;32mIn[9], line 1\u001b[0m\n\u001b[1;32m----> 1\u001b[0m \u001b[38;5;28;01mimport\u001b[39;00m \u001b[38;5;21;01mcv2\u001b[39;00m\n",
      "\u001b[1;31mModuleNotFoundError\u001b[0m: No module named 'cv2'"
     ]
    }
   ],
   "source": [
    "import cv2"
   ]
  },
  {
   "cell_type": "code",
   "execution_count": 11,
   "id": "643bba27-b40d-4819-89d4-a99a763df6c7",
   "metadata": {},
   "outputs": [],
   "source": [
    "# cv2 guy not tie with anaconda \n",
    "# no modulename :cv2"
   ]
  },
  {
   "cell_type": "markdown",
   "id": "d33359ff-ee1c-4fe8-bba8-89e4d3ac38cd",
   "metadata": {},
   "source": [
    "**Math Operations**\n",
    "- addition\n",
    "- subtraction\n",
    "- multiplication\n",
    "- division"
   ]
  },
  {
   "cell_type": "code",
   "execution_count": 12,
   "id": "ef0324a9-08c9-4948-97a8-7b3820d73210",
   "metadata": {},
   "outputs": [
    {
     "data": {
      "text/plain": [
       "['BPF',\n",
       " 'LOG4',\n",
       " 'NV_MAGICCONST',\n",
       " 'RECIP_BPF',\n",
       " 'Random',\n",
       " 'SG_MAGICCONST',\n",
       " 'SystemRandom',\n",
       " 'TWOPI',\n",
       " '_ONE',\n",
       " '_Sequence',\n",
       " '_Set',\n",
       " '__all__',\n",
       " '__builtins__',\n",
       " '__cached__',\n",
       " '__doc__',\n",
       " '__file__',\n",
       " '__loader__',\n",
       " '__name__',\n",
       " '__package__',\n",
       " '__spec__',\n",
       " '_accumulate',\n",
       " '_acos',\n",
       " '_bisect',\n",
       " '_ceil',\n",
       " '_cos',\n",
       " '_e',\n",
       " '_exp',\n",
       " '_floor',\n",
       " '_index',\n",
       " '_inst',\n",
       " '_isfinite',\n",
       " '_log',\n",
       " '_os',\n",
       " '_pi',\n",
       " '_random',\n",
       " '_repeat',\n",
       " '_sha512',\n",
       " '_sin',\n",
       " '_sqrt',\n",
       " '_test',\n",
       " '_test_generator',\n",
       " '_urandom',\n",
       " '_warn',\n",
       " 'betavariate',\n",
       " 'choice',\n",
       " 'choices',\n",
       " 'expovariate',\n",
       " 'gammavariate',\n",
       " 'gauss',\n",
       " 'getrandbits',\n",
       " 'getstate',\n",
       " 'lognormvariate',\n",
       " 'normalvariate',\n",
       " 'paretovariate',\n",
       " 'randbytes',\n",
       " 'randint',\n",
       " 'random',\n",
       " 'randrange',\n",
       " 'sample',\n",
       " 'seed',\n",
       " 'setstate',\n",
       " 'shuffle',\n",
       " 'triangular',\n",
       " 'uniform',\n",
       " 'vonmisesvariate',\n",
       " 'weibullvariate']"
      ]
     },
     "execution_count": 12,
     "metadata": {},
     "output_type": "execute_result"
    }
   ],
   "source": [
    "import random\n",
    "dir(random)"
   ]
  },
  {
   "cell_type": "code",
   "execution_count": 13,
   "id": "44066e68-8d71-47b1-be18-a46229e90173",
   "metadata": {},
   "outputs": [],
   "source": [
    "# syntax \n",
    "# <package_name>.<method_name>\n",
    "# package_name=random\n",
    "# method name = randit"
   ]
  },
  {
   "cell_type": "code",
   "execution_count": 15,
   "id": "724697d7-ecc0-440f-97f2-1b080c371bd4",
   "metadata": {},
   "outputs": [
    {
     "name": "stdout",
     "output_type": "stream",
     "text": [
      "Help on method randint in module random:\n",
      "\n",
      "randint(a, b) method of random.Random instance\n",
      "    Return random integer in range [a, b], including both end points.\n",
      "\n"
     ]
    }
   ],
   "source": [
    "# help(<package_name.methodname>)\n",
    "# help will give the understanding of how a method will work\n",
    "\n",
    "# here i want to know what it will do\n",
    "\n",
    "help(random.randint)"
   ]
  },
  {
   "cell_type": "code",
   "execution_count": 16,
   "id": "9b85a0ea-34c6-4080-8421-35b948f58d80",
   "metadata": {},
   "outputs": [
    {
     "data": {
      "text/plain": [
       "6"
      ]
     },
     "execution_count": 16,
     "metadata": {},
     "output_type": "execute_result"
    }
   ],
   "source": [
    "random.randint(1,9)"
   ]
  },
  {
   "cell_type": "code",
   "execution_count": 17,
   "id": "4b275930-6a6b-4810-8e3f-3a2039951414",
   "metadata": {},
   "outputs": [
    {
     "data": {
      "text/plain": [
       "3"
      ]
     },
     "execution_count": 17,
     "metadata": {},
     "output_type": "execute_result"
    }
   ],
   "source": [
    "random.randint(1,9)"
   ]
  },
  {
   "cell_type": "code",
   "execution_count": 18,
   "id": "19c36a7e-41a4-4652-934c-2407dd864718",
   "metadata": {},
   "outputs": [
    {
     "data": {
      "text/plain": [
       "1"
      ]
     },
     "execution_count": 18,
     "metadata": {},
     "output_type": "execute_result"
    }
   ],
   "source": [
    "random.randint(1,9)"
   ]
  },
  {
   "cell_type": "code",
   "execution_count": 19,
   "id": "38d5622d-ea2c-4c1d-947b-3c4b86fda1a0",
   "metadata": {},
   "outputs": [
    {
     "data": {
      "text/plain": [
       "8"
      ]
     },
     "execution_count": 19,
     "metadata": {},
     "output_type": "execute_result"
    }
   ],
   "source": [
    "random.randint(1,9)"
   ]
  },
  {
   "cell_type": "code",
   "execution_count": 20,
   "id": "76d6bd0d-f31b-425b-ace3-0a09cdd5230a",
   "metadata": {},
   "outputs": [
    {
     "data": {
      "text/plain": [
       "1"
      ]
     },
     "execution_count": 20,
     "metadata": {},
     "output_type": "execute_result"
    }
   ],
   "source": [
    "random.randint(1,9)"
   ]
  },
  {
   "cell_type": "code",
   "execution_count": 21,
   "id": "58c50b97-3457-423d-8eb4-2c689806aff8",
   "metadata": {},
   "outputs": [
    {
     "data": {
      "text/plain": [
       "1"
      ]
     },
     "execution_count": 21,
     "metadata": {},
     "output_type": "execute_result"
    }
   ],
   "source": [
    "random.randint(1,9)"
   ]
  },
  {
   "cell_type": "code",
   "execution_count": 22,
   "id": "08181cde-3326-4c58-9142-9603adef634e",
   "metadata": {},
   "outputs": [
    {
     "data": {
      "text/plain": [
       "1"
      ]
     },
     "execution_count": 22,
     "metadata": {},
     "output_type": "execute_result"
    }
   ],
   "source": [
    "random.randint(1,9)"
   ]
  },
  {
   "cell_type": "code",
   "execution_count": 23,
   "id": "f399aa82-3703-43ab-86f0-1cd703e56677",
   "metadata": {},
   "outputs": [
    {
     "data": {
      "text/plain": [
       "9"
      ]
     },
     "execution_count": 23,
     "metadata": {},
     "output_type": "execute_result"
    }
   ],
   "source": [
    "random.randint(1,9)"
   ]
  },
  {
   "cell_type": "code",
   "execution_count": 24,
   "id": "9912dc9f-2512-470f-84b0-8125493f656d",
   "metadata": {},
   "outputs": [
    {
     "data": {
      "text/plain": [
       "9"
      ]
     },
     "execution_count": 24,
     "metadata": {},
     "output_type": "execute_result"
    }
   ],
   "source": [
    "random.randint(1,9)"
   ]
  },
  {
   "cell_type": "code",
   "execution_count": 25,
   "id": "7cb0f371-ddf3-4d71-a455-bfb442a63e99",
   "metadata": {},
   "outputs": [],
   "source": [
    "# step 1 import <package_name>\n",
    "# step2 dir(<package_name>)\n",
    "# step 3 help (<package_name>.<method_name>)\n",
    "# package_name : randint\n"
   ]
  },
  {
   "cell_type": "code",
   "execution_count": 26,
   "id": "6125df25-0209-4d8e-a3ef-302951d06c96",
   "metadata": {},
   "outputs": [
    {
     "name": "stdout",
     "output_type": "stream",
     "text": [
      "Help on method randint in module random:\n",
      "\n",
      "randint(a, b) method of random.Random instance\n",
      "    Return random integer in range [a, b], including both end points.\n",
      "\n"
     ]
    }
   ],
   "source": [
    "help(random.randint)"
   ]
  },
  {
   "cell_type": "code",
   "execution_count": 27,
   "id": "1329fca8-637c-4f83-8684-0e1ddf40fb0d",
   "metadata": {},
   "outputs": [
    {
     "data": {
      "text/plain": [
       "1"
      ]
     },
     "execution_count": 27,
     "metadata": {},
     "output_type": "execute_result"
    }
   ],
   "source": [
    "random.randint(1,4)"
   ]
  },
  {
   "cell_type": "code",
   "execution_count": 28,
   "id": "64e000f9-88cc-408e-bc31-d86bcb5990a4",
   "metadata": {},
   "outputs": [],
   "source": [
    "import random"
   ]
  },
  {
   "cell_type": "code",
   "execution_count": 29,
   "id": "9831eaef-03fe-45e6-978f-21aeb5434798",
   "metadata": {},
   "outputs": [
    {
     "data": {
      "text/plain": [
       "['BPF',\n",
       " 'LOG4',\n",
       " 'NV_MAGICCONST',\n",
       " 'RECIP_BPF',\n",
       " 'Random',\n",
       " 'SG_MAGICCONST',\n",
       " 'SystemRandom',\n",
       " 'TWOPI',\n",
       " '_ONE',\n",
       " '_Sequence',\n",
       " '_Set',\n",
       " '__all__',\n",
       " '__builtins__',\n",
       " '__cached__',\n",
       " '__doc__',\n",
       " '__file__',\n",
       " '__loader__',\n",
       " '__name__',\n",
       " '__package__',\n",
       " '__spec__',\n",
       " '_accumulate',\n",
       " '_acos',\n",
       " '_bisect',\n",
       " '_ceil',\n",
       " '_cos',\n",
       " '_e',\n",
       " '_exp',\n",
       " '_floor',\n",
       " '_index',\n",
       " '_inst',\n",
       " '_isfinite',\n",
       " '_log',\n",
       " '_os',\n",
       " '_pi',\n",
       " '_random',\n",
       " '_repeat',\n",
       " '_sha512',\n",
       " '_sin',\n",
       " '_sqrt',\n",
       " '_test',\n",
       " '_test_generator',\n",
       " '_urandom',\n",
       " '_warn',\n",
       " 'betavariate',\n",
       " 'choice',\n",
       " 'choices',\n",
       " 'expovariate',\n",
       " 'gammavariate',\n",
       " 'gauss',\n",
       " 'getrandbits',\n",
       " 'getstate',\n",
       " 'lognormvariate',\n",
       " 'normalvariate',\n",
       " 'paretovariate',\n",
       " 'randbytes',\n",
       " 'randint',\n",
       " 'random',\n",
       " 'randrange',\n",
       " 'sample',\n",
       " 'seed',\n",
       " 'setstate',\n",
       " 'shuffle',\n",
       " 'triangular',\n",
       " 'uniform',\n",
       " 'vonmisesvariate',\n",
       " 'weibullvariate']"
      ]
     },
     "execution_count": 29,
     "metadata": {},
     "output_type": "execute_result"
    }
   ],
   "source": [
    "dir(random)"
   ]
  },
  {
   "cell_type": "code",
   "execution_count": 30,
   "id": "3c93a8c3-2de8-401a-a10c-a5a618f6a6c7",
   "metadata": {},
   "outputs": [
    {
     "name": "stdout",
     "output_type": "stream",
     "text": [
      "Help on built-in function random:\n",
      "\n",
      "random() method of random.Random instance\n",
      "    random() -> x in the interval [0, 1).\n",
      "\n"
     ]
    }
   ],
   "source": [
    "help(random.random)"
   ]
  },
  {
   "cell_type": "code",
   "execution_count": 35,
   "id": "6a214a0c-abdf-40c8-b23b-c4bfd198376d",
   "metadata": {},
   "outputs": [
    {
     "data": {
      "text/plain": [
       "0.24256805608612164"
      ]
     },
     "execution_count": 35,
     "metadata": {},
     "output_type": "execute_result"
    }
   ],
   "source": [
    "random.random()"
   ]
  },
  {
   "cell_type": "markdown",
   "id": "2f45338a-3677-4180-84a5-0c203f4b0e4a",
   "metadata": {},
   "source": [
    "**Math**\n",
    "- package name: math\n",
    "- method pi\n",
    "- sqrt\n",
    "- sin"
   ]
  },
  {
   "cell_type": "code",
   "execution_count": 36,
   "id": "05af23f9-3cee-474f-975d-244fd70438b3",
   "metadata": {},
   "outputs": [],
   "source": [
    "import math"
   ]
  },
  {
   "cell_type": "code",
   "execution_count": 37,
   "id": "f0cb8d2b-6971-4353-a1e1-1854682c1136",
   "metadata": {},
   "outputs": [
    {
     "data": {
      "text/plain": [
       "['__doc__',\n",
       " '__loader__',\n",
       " '__name__',\n",
       " '__package__',\n",
       " '__spec__',\n",
       " 'acos',\n",
       " 'acosh',\n",
       " 'asin',\n",
       " 'asinh',\n",
       " 'atan',\n",
       " 'atan2',\n",
       " 'atanh',\n",
       " 'cbrt',\n",
       " 'ceil',\n",
       " 'comb',\n",
       " 'copysign',\n",
       " 'cos',\n",
       " 'cosh',\n",
       " 'degrees',\n",
       " 'dist',\n",
       " 'e',\n",
       " 'erf',\n",
       " 'erfc',\n",
       " 'exp',\n",
       " 'exp2',\n",
       " 'expm1',\n",
       " 'fabs',\n",
       " 'factorial',\n",
       " 'floor',\n",
       " 'fmod',\n",
       " 'frexp',\n",
       " 'fsum',\n",
       " 'gamma',\n",
       " 'gcd',\n",
       " 'hypot',\n",
       " 'inf',\n",
       " 'isclose',\n",
       " 'isfinite',\n",
       " 'isinf',\n",
       " 'isnan',\n",
       " 'isqrt',\n",
       " 'lcm',\n",
       " 'ldexp',\n",
       " 'lgamma',\n",
       " 'log',\n",
       " 'log10',\n",
       " 'log1p',\n",
       " 'log2',\n",
       " 'modf',\n",
       " 'nan',\n",
       " 'nextafter',\n",
       " 'perm',\n",
       " 'pi',\n",
       " 'pow',\n",
       " 'prod',\n",
       " 'radians',\n",
       " 'remainder',\n",
       " 'sin',\n",
       " 'sinh',\n",
       " 'sqrt',\n",
       " 'tan',\n",
       " 'tanh',\n",
       " 'tau',\n",
       " 'trunc',\n",
       " 'ulp']"
      ]
     },
     "execution_count": 37,
     "metadata": {},
     "output_type": "execute_result"
    }
   ],
   "source": [
    "dir(math)"
   ]
  },
  {
   "cell_type": "code",
   "execution_count": 38,
   "id": "80fa8d54-57ed-4a03-b3c6-6d1784e8f50c",
   "metadata": {},
   "outputs": [
    {
     "data": {
      "text/plain": [
       "3.141592653589793"
      ]
     },
     "execution_count": 38,
     "metadata": {},
     "output_type": "execute_result"
    }
   ],
   "source": [
    "math.pi"
   ]
  },
  {
   "cell_type": "code",
   "execution_count": 39,
   "id": "2200de3b-eafe-45ee-bdcb-6c401ae9d1f8",
   "metadata": {},
   "outputs": [
    {
     "data": {
      "text/plain": [
       "<function math.sqrt(x, /)>"
      ]
     },
     "execution_count": 39,
     "metadata": {},
     "output_type": "execute_result"
    }
   ],
   "source": [
    "math.sqrt"
   ]
  },
  {
   "cell_type": "code",
   "execution_count": 40,
   "id": "85116d04-e7ea-4bab-9e45-ada6230f7876",
   "metadata": {},
   "outputs": [
    {
     "data": {
      "text/plain": [
       "<function math.sin(x, /)>"
      ]
     },
     "execution_count": 40,
     "metadata": {},
     "output_type": "execute_result"
    }
   ],
   "source": [
    "math.sin"
   ]
  },
  {
   "cell_type": "code",
   "execution_count": 42,
   "id": "19de6432-8a17-4077-855b-1977cbab0864",
   "metadata": {},
   "outputs": [
    {
     "name": "stdout",
     "output_type": "stream",
     "text": [
      "Help on built-in function sin in module math:\n",
      "\n",
      "sin(x, /)\n",
      "    Return the sine of x (measured in radians).\n",
      "\n"
     ]
    }
   ],
   "source": [
    "help(math.sin)"
   ]
  },
  {
   "cell_type": "code",
   "execution_count": 45,
   "id": "51aff966-215a-46e7-8052-6ad4a2aaf9a9",
   "metadata": {},
   "outputs": [
    {
     "ename": "TypeError",
     "evalue": "math.sin() takes exactly one argument (2 given)",
     "output_type": "error",
     "traceback": [
      "\u001b[1;31m---------------------------------------------------------------------------\u001b[0m",
      "\u001b[1;31mTypeError\u001b[0m                                 Traceback (most recent call last)",
      "Cell \u001b[1;32mIn[45], line 1\u001b[0m\n\u001b[1;32m----> 1\u001b[0m math\u001b[38;5;241m.\u001b[39msin(\u001b[38;5;241m4\u001b[39m,\u001b[38;5;241m2\u001b[39m)\n",
      "\u001b[1;31mTypeError\u001b[0m: math.sin() takes exactly one argument (2 given)"
     ]
    }
   ],
   "source": [
    "math.sin(4,)"
   ]
  },
  {
   "cell_type": "code",
   "execution_count": 46,
   "id": "99858ba6-9e27-45e2-a463-2bbf9927e654",
   "metadata": {},
   "outputs": [
    {
     "name": "stdout",
     "output_type": "stream",
     "text": [
      "Help on built-in function sqrt in module math:\n",
      "\n",
      "sqrt(x, /)\n",
      "    Return the square root of x.\n",
      "\n"
     ]
    }
   ],
   "source": [
    "# pi \n",
    "help(math.sqrt)"
   ]
  },
  {
   "cell_type": "code",
   "execution_count": 47,
   "id": "442c441f-a320-4256-9a1a-ceb3605c5e36",
   "metadata": {},
   "outputs": [
    {
     "data": {
      "text/plain": [
       "5.0"
      ]
     },
     "execution_count": 47,
     "metadata": {},
     "output_type": "execute_result"
    }
   ],
   "source": [
    "math.sqrt(25)"
   ]
  },
  {
   "cell_type": "code",
   "execution_count": 48,
   "id": "e2dcc2b4-2b4a-4199-8e4e-8d0280a84c8a",
   "metadata": {},
   "outputs": [
    {
     "name": "stdout",
     "output_type": "stream",
     "text": [
      "Help on built-in function pow in module math:\n",
      "\n",
      "pow(x, y, /)\n",
      "    Return x**y (x to the power of y).\n",
      "\n"
     ]
    }
   ],
   "source": [
    "help(math.pow)"
   ]
  },
  {
   "cell_type": "code",
   "execution_count": 49,
   "id": "6e8aadfe-804d-462f-9f8d-fda43683e660",
   "metadata": {},
   "outputs": [
    {
     "data": {
      "text/plain": [
       "8.08281277464764e+38"
      ]
     },
     "execution_count": 49,
     "metadata": {},
     "output_type": "execute_result"
    }
   ],
   "source": [
    "math.pow(36,25)"
   ]
  },
  {
   "cell_type": "code",
   "execution_count": 50,
   "id": "e9aeba71-251e-4eb6-bd2f-3172814b3991",
   "metadata": {},
   "outputs": [
    {
     "data": {
      "text/plain": [
       "9.0"
      ]
     },
     "execution_count": 50,
     "metadata": {},
     "output_type": "execute_result"
    }
   ],
   "source": [
    "math.pow(3,2)"
   ]
  },
  {
   "cell_type": "code",
   "execution_count": 51,
   "id": "2d1bffb4-2768-4107-9d3c-1f23a0a13423",
   "metadata": {},
   "outputs": [
    {
     "data": {
      "text/plain": [
       "8.0"
      ]
     },
     "execution_count": 51,
     "metadata": {},
     "output_type": "execute_result"
    }
   ],
   "source": [
    "math.pow(2,3)"
   ]
  },
  {
   "cell_type": "code",
   "execution_count": 52,
   "id": "b318afa0-e7dc-4f71-9f21-298247dc4890",
   "metadata": {},
   "outputs": [
    {
     "name": "stdout",
     "output_type": "stream",
     "text": [
      "Help on built-in function sin in module math:\n",
      "\n",
      "sin(x, /)\n",
      "    Return the sine of x (measured in radians).\n",
      "\n"
     ]
    }
   ],
   "source": [
    "help(math.sin)"
   ]
  },
  {
   "cell_type": "code",
   "execution_count": 53,
   "id": "c054af28-37b5-4a09-9fac-8a72bb322761",
   "metadata": {},
   "outputs": [
    {
     "data": {
      "text/plain": [
       "-0.9589242746631385"
      ]
     },
     "execution_count": 53,
     "metadata": {},
     "output_type": "execute_result"
    }
   ],
   "source": [
    "math.sin(5)"
   ]
  },
  {
   "cell_type": "code",
   "execution_count": 54,
   "id": "45979e67-5799-4f67-a1a2-a070b9f8dcc1",
   "metadata": {},
   "outputs": [
    {
     "data": {
      "text/plain": [
       "0.8939966636005579"
      ]
     },
     "execution_count": 54,
     "metadata": {},
     "output_type": "execute_result"
    }
   ],
   "source": [
    "math.sin(90)"
   ]
  },
  {
   "cell_type": "code",
   "execution_count": 55,
   "id": "78780456-f048-41af-937a-faa0efd2b272",
   "metadata": {},
   "outputs": [
    {
     "data": {
      "text/plain": [
       "256.0"
      ]
     },
     "execution_count": 55,
     "metadata": {},
     "output_type": "execute_result"
    }
   ],
   "source": [
    "math.sqrt(25)\n",
    "math.sin(90)\n",
    "math.pow(4,4)"
   ]
  },
  {
   "cell_type": "code",
   "execution_count": 56,
   "id": "868c08c4-ed36-4730-ab54-e409e325fd84",
   "metadata": {},
   "outputs": [
    {
     "data": {
      "text/plain": [
       "7.0"
      ]
     },
     "execution_count": 56,
     "metadata": {},
     "output_type": "execute_result"
    }
   ],
   "source": [
    "math.sqrt(49)"
   ]
  },
  {
   "cell_type": "code",
   "execution_count": 57,
   "id": "fb6e632f-a5c0-43ea-a7c9-3627fb19f716",
   "metadata": {},
   "outputs": [],
   "source": [
    "# / mention means do nat provide x= 25, directly you can give 25"
   ]
  },
  {
   "cell_type": "code",
   "execution_count": 58,
   "id": "81d36bb9-a02f-4193-93d7-54effbce8b52",
   "metadata": {},
   "outputs": [
    {
     "ename": "TypeError",
     "evalue": "'float' object is not callable",
     "output_type": "error",
     "traceback": [
      "\u001b[1;31m---------------------------------------------------------------------------\u001b[0m",
      "\u001b[1;31mTypeError\u001b[0m                                 Traceback (most recent call last)",
      "Cell \u001b[1;32mIn[58], line 1\u001b[0m\n\u001b[1;32m----> 1\u001b[0m math\u001b[38;5;241m.\u001b[39mpi(\u001b[38;5;241m34\u001b[39m)\n",
      "\u001b[1;31mTypeError\u001b[0m: 'float' object is not callable"
     ]
    }
   ],
   "source": [
    "math.pi()"
   ]
  },
  {
   "cell_type": "markdown",
   "id": "35e4dbec-bffd-477e-9b7b-6f12c0f004c9",
   "metadata": {},
   "source": [
    "- Function means we are forgetting the brackets\n",
    "- we need to keep brackets"
   ]
  },
  {
   "cell_type": "code",
   "execution_count": 72,
   "id": "4184774e-5f85-4f36-9e2d-76b9a83db3bd",
   "metadata": {},
   "outputs": [
    {
     "data": {
      "text/plain": [
       "<bound method Random.randint of <random.Random object at 0x000001D40C863B40>>"
      ]
     },
     "execution_count": 72,
     "metadata": {},
     "output_type": "execute_result"
    }
   ],
   "source": [
    "random.randint"
   ]
  },
  {
   "cell_type": "code",
   "execution_count": 61,
   "id": "a70cc72a-4eaf-4a03-bea9-f10da9e001ab",
   "metadata": {},
   "outputs": [],
   "source": [
    "# bound method also forgetting the brackets"
   ]
  },
  {
   "cell_type": "code",
   "execution_count": 63,
   "id": "79d5b2a8-6dae-47bb-9aca-0d4400bec462",
   "metadata": {},
   "outputs": [
    {
     "data": {
      "text/plain": [
       "9"
      ]
     },
     "execution_count": 63,
     "metadata": {},
     "output_type": "execute_result"
    }
   ],
   "source": [
    "random.randint(1,9)"
   ]
  },
  {
   "cell_type": "code",
   "execution_count": 64,
   "id": "848da1a8-a679-4614-8794-8a9c6705b688",
   "metadata": {},
   "outputs": [
    {
     "ename": "AttributeError",
     "evalue": "'builtin_function_or_method' object has no attribute 'random'",
     "output_type": "error",
     "traceback": [
      "\u001b[1;31m---------------------------------------------------------------------------\u001b[0m",
      "\u001b[1;31mAttributeError\u001b[0m                            Traceback (most recent call last)",
      "Cell \u001b[1;32mIn[64], line 1\u001b[0m\n\u001b[1;32m----> 1\u001b[0m \u001b[38;5;28mdir\u001b[39m\u001b[38;5;241m.\u001b[39mrandom\n",
      "\u001b[1;31mAttributeError\u001b[0m: 'builtin_function_or_method' object has no attribute 'random'"
     ]
    }
   ],
   "source": [
    "dir.random"
   ]
  },
  {
   "cell_type": "code",
   "execution_count": 65,
   "id": "91884871-6fc4-4db3-aa39-9cd6bf3646b9",
   "metadata": {},
   "outputs": [
    {
     "data": {
      "text/plain": [
       "['BPF',\n",
       " 'LOG4',\n",
       " 'NV_MAGICCONST',\n",
       " 'RECIP_BPF',\n",
       " 'Random',\n",
       " 'SG_MAGICCONST',\n",
       " 'SystemRandom',\n",
       " 'TWOPI',\n",
       " '_ONE',\n",
       " '_Sequence',\n",
       " '_Set',\n",
       " '__all__',\n",
       " '__builtins__',\n",
       " '__cached__',\n",
       " '__doc__',\n",
       " '__file__',\n",
       " '__loader__',\n",
       " '__name__',\n",
       " '__package__',\n",
       " '__spec__',\n",
       " '_accumulate',\n",
       " '_acos',\n",
       " '_bisect',\n",
       " '_ceil',\n",
       " '_cos',\n",
       " '_e',\n",
       " '_exp',\n",
       " '_floor',\n",
       " '_index',\n",
       " '_inst',\n",
       " '_isfinite',\n",
       " '_log',\n",
       " '_os',\n",
       " '_pi',\n",
       " '_random',\n",
       " '_repeat',\n",
       " '_sha512',\n",
       " '_sin',\n",
       " '_sqrt',\n",
       " '_test',\n",
       " '_test_generator',\n",
       " '_urandom',\n",
       " '_warn',\n",
       " 'betavariate',\n",
       " 'choice',\n",
       " 'choices',\n",
       " 'expovariate',\n",
       " 'gammavariate',\n",
       " 'gauss',\n",
       " 'getrandbits',\n",
       " 'getstate',\n",
       " 'lognormvariate',\n",
       " 'normalvariate',\n",
       " 'paretovariate',\n",
       " 'randbytes',\n",
       " 'randint',\n",
       " 'random',\n",
       " 'randrange',\n",
       " 'sample',\n",
       " 'seed',\n",
       " 'setstate',\n",
       " 'shuffle',\n",
       " 'triangular',\n",
       " 'uniform',\n",
       " 'vonmisesvariate',\n",
       " 'weibullvariate']"
      ]
     },
     "execution_count": 65,
     "metadata": {},
     "output_type": "execute_result"
    }
   ],
   "source": [
    "dir(random)"
   ]
  },
  {
   "cell_type": "code",
   "execution_count": 66,
   "id": "702e577f-ad64-4bbb-ab6f-1b02605ff121",
   "metadata": {},
   "outputs": [
    {
     "data": {
      "text/plain": [
       "3.141592653589793"
      ]
     },
     "execution_count": 66,
     "metadata": {},
     "output_type": "execute_result"
    }
   ],
   "source": [
    "math.pi"
   ]
  },
  {
   "cell_type": "markdown",
   "id": "b78d4b33-25aa-46b8-a443-ea4569c72fe6",
   "metadata": {},
   "source": [
    "**Note**\n",
    "- Not callable means remove the brackets\n",
    "- whenever you see / do not provide the variable,dicectly give the value\n",
    "- direct values never include brackets"
   ]
  },
  {
   "cell_type": "code",
   "execution_count": 67,
   "id": "bea125a1-71ab-4978-bc7c-c80df1cfcc66",
   "metadata": {},
   "outputs": [],
   "source": [
    "# package: keyword\n",
    "# method name : kwlist"
   ]
  },
  {
   "cell_type": "code",
   "execution_count": 68,
   "id": "34b14ec2-f68c-4268-8df4-e6fa86e51b60",
   "metadata": {},
   "outputs": [],
   "source": [
    "import keyword"
   ]
  },
  {
   "cell_type": "code",
   "execution_count": 69,
   "id": "08ff5c7c-f005-409e-8efc-22a0039d2503",
   "metadata": {},
   "outputs": [
    {
     "data": {
      "text/plain": [
       "['__all__',\n",
       " '__builtins__',\n",
       " '__cached__',\n",
       " '__doc__',\n",
       " '__file__',\n",
       " '__loader__',\n",
       " '__name__',\n",
       " '__package__',\n",
       " '__spec__',\n",
       " 'iskeyword',\n",
       " 'issoftkeyword',\n",
       " 'kwlist',\n",
       " 'softkwlist']"
      ]
     },
     "execution_count": 69,
     "metadata": {},
     "output_type": "execute_result"
    }
   ],
   "source": [
    "dir(keyword)"
   ]
  },
  {
   "cell_type": "code",
   "execution_count": 70,
   "id": "161a1981-fd17-4b2d-a60c-3d5e3d0877e4",
   "metadata": {},
   "outputs": [
    {
     "data": {
      "text/plain": [
       "['False',\n",
       " 'None',\n",
       " 'True',\n",
       " 'and',\n",
       " 'as',\n",
       " 'assert',\n",
       " 'async',\n",
       " 'await',\n",
       " 'break',\n",
       " 'class',\n",
       " 'continue',\n",
       " 'def',\n",
       " 'del',\n",
       " 'elif',\n",
       " 'else',\n",
       " 'except',\n",
       " 'finally',\n",
       " 'for',\n",
       " 'from',\n",
       " 'global',\n",
       " 'if',\n",
       " 'import',\n",
       " 'in',\n",
       " 'is',\n",
       " 'lambda',\n",
       " 'nonlocal',\n",
       " 'not',\n",
       " 'or',\n",
       " 'pass',\n",
       " 'raise',\n",
       " 'return',\n",
       " 'try',\n",
       " 'while',\n",
       " 'with',\n",
       " 'yield']"
      ]
     },
     "execution_count": 70,
     "metadata": {},
     "output_type": "execute_result"
    }
   ],
   "source": [
    "keyword.kwlist"
   ]
  },
  {
   "cell_type": "code",
   "execution_count": 71,
   "id": "c55935ac-d148-42ac-9123-5c19d3656eef",
   "metadata": {},
   "outputs": [
    {
     "data": {
      "text/plain": [
       "35"
      ]
     },
     "execution_count": 71,
     "metadata": {},
     "output_type": "execute_result"
    }
   ],
   "source": [
    "len(keyword.kwlist)"
   ]
  },
  {
   "cell_type": "code",
   "execution_count": 75,
   "id": "7979bdd9-6bdd-47dd-a38a-7614dea31bcc",
   "metadata": {},
   "outputs": [
    {
     "ename": "AttributeError",
     "evalue": "module 'math' has no attribute 'math'",
     "output_type": "error",
     "traceback": [
      "\u001b[1;31m---------------------------------------------------------------------------\u001b[0m",
      "\u001b[1;31mAttributeError\u001b[0m                            Traceback (most recent call last)",
      "Cell \u001b[1;32mIn[75], line 1\u001b[0m\n\u001b[1;32m----> 1\u001b[0m \u001b[38;5;28mlen\u001b[39m(math\u001b[38;5;241m.\u001b[39mmath)\n",
      "\u001b[1;31mAttributeError\u001b[0m: module 'math' has no attribute 'math'"
     ]
    }
   ],
   "source": [
    "len(mat)"
   ]
  },
  {
   "cell_type": "code",
   "execution_count": 1,
   "id": "058c2fa4-7e83-49e3-af24-d1a19b58c040",
   "metadata": {},
   "outputs": [],
   "source": [
    "# step 1 import package\n",
    "# step 2 dir(<package_name>)\n",
    "# step 3 help(<package_name>.<method_name>)\n",
    "# step 4 package_name>.<method_name>\n",
    "import random"
   ]
  },
  {
   "cell_type": "code",
   "execution_count": 2,
   "id": "ade480f5-d76f-4833-afa0-205097b8f3f4",
   "metadata": {},
   "outputs": [
    {
     "name": "stdout",
     "output_type": "stream",
     "text": [
      "Help on method randint in module random:\n",
      "\n",
      "randint(a, b) method of random.Random instance\n",
      "    Return random integer in range [a, b], including both end points.\n",
      "\n"
     ]
    }
   ],
   "source": [
    "help(random.randint)"
   ]
  },
  {
   "cell_type": "code",
   "execution_count": 5,
   "id": "4f074821-4369-47e2-aa6d-010110de94dd",
   "metadata": {},
   "outputs": [
    {
     "data": {
      "text/plain": [
       "14"
      ]
     },
     "execution_count": 5,
     "metadata": {},
     "output_type": "execute_result"
    }
   ],
   "source": [
    "random.randint(12,15)"
   ]
  },
  {
   "cell_type": "code",
   "execution_count": 6,
   "id": "deba894c-d351-4270-a6eb-98bed2a0146f",
   "metadata": {},
   "outputs": [],
   "source": [
    "import math"
   ]
  },
  {
   "cell_type": "code",
   "execution_count": 7,
   "id": "b915d050-a090-4f3f-9032-cabbcb97d8f5",
   "metadata": {},
   "outputs": [
    {
     "data": {
      "text/plain": [
       "3.141592653589793"
      ]
     },
     "execution_count": 7,
     "metadata": {},
     "output_type": "execute_result"
    }
   ],
   "source": [
    "math.pi"
   ]
  },
  {
   "cell_type": "markdown",
   "id": "94a06711-0fc0-4970-ae10-1307c2a9e8a7",
   "metadata": {},
   "source": [
    "# () function or methods\n",
    "- only frunction or methods callable\n",
    "- if somthing says not callable means , it is not a function\n",
    "- it is not a function means , you need to remvoe brackets\n",
    "- bound method means ==== add the brackets\n",
    "- function ===== add the brackets\n",
    "- not callable === remove the brackets"
   ]
  },
  {
   "cell_type": "markdown",
   "id": "34c6f000-65bd-44df-b40f-0fd6252a2950",
   "metadata": {},
   "source": [
    "# Time Package"
   ]
  },
  {
   "cell_type": "code",
   "execution_count": 8,
   "id": "d92b5553-2e98-476d-81e7-ba3d190ab138",
   "metadata": {},
   "outputs": [
    {
     "name": "stdout",
     "output_type": "stream",
     "text": [
      "Hello\n",
      "how are you\n"
     ]
    }
   ],
   "source": [
    "print(\"Hello\")\n",
    "print(\"how are you\")"
   ]
  },
  {
   "cell_type": "code",
   "execution_count": 9,
   "id": "c7e22d2e-a3c3-4899-b1bf-3c92bf3d2293",
   "metadata": {},
   "outputs": [],
   "source": [
    "import time"
   ]
  },
  {
   "cell_type": "code",
   "execution_count": 13,
   "id": "7385ef60-795b-46e5-b5a3-9dffb4e92873",
   "metadata": {},
   "outputs": [
    {
     "name": "stdout",
     "output_type": "stream",
     "text": [
      "Hello\n",
      "how are you\n",
      "do you have the school today\n",
      "yes i have the school\n"
     ]
    }
   ],
   "source": [
    "print(\"Hello\")\n",
    "time.sleep(2)\n",
    "print(\"how are you\")\n",
    "time.sleep(2)\n",
    "print(\"do you have the school today\")\n",
    "time.sleep(2)\n",
    "print(\"yes i have the school\")"
   ]
  },
  {
   "cell_type": "markdown",
   "id": "77479b63-a071-48f8-9495-d407db442299",
   "metadata": {},
   "source": [
    "- computer vision is used to image operation and video operation\n",
    "- we called it as opencv\n",
    "- package name: cv2\n",
    "- whenever modul not found we need to install it\n",
    "- here our package name is cv2\n",
    "- 99% the installation will be like this\n",
    "- pip install<package_name>\n",
    "- some packages installation name will different and python import name is different.\n",
    "- virtual environment == clone= same"
   ]
  },
  {
   "cell_type": "code",
   "execution_count": 16,
   "id": "02d272a5-7ed4-4f1e-8e29-16bee096b6ba",
   "metadata": {},
   "outputs": [],
   "source": [
    "import streamlit"
   ]
  },
  {
   "cell_type": "markdown",
   "id": "b9759910-c134-4e3c-acf2-c2c0db414fc4",
   "metadata": {},
   "source": [
    "**## Note ##**\n",
    "- pip freeze is a command to know the already existed packages in our laptop"
   ]
  },
  {
   "cell_type": "code",
   "execution_count": 17,
   "id": "79665567-b050-4c71-b6a9-f60e9f3a371d",
   "metadata": {},
   "outputs": [],
   "source": [
    "import numpy"
   ]
  },
  {
   "cell_type": "code",
   "execution_count": 18,
   "id": "1d9cc1e5-c63c-48cf-894c-73b269077d96",
   "metadata": {},
   "outputs": [
    {
     "data": {
      "text/plain": [
       "<module 'numpy' from 'C:\\\\Users\\\\renak\\\\anaconda3\\\\Lib\\\\site-packages\\\\numpy\\\\__init__.py'>"
      ]
     },
     "execution_count": 18,
     "metadata": {},
     "output_type": "execute_result"
    }
   ],
   "source": [
    "numpy"
   ]
  },
  {
   "cell_type": "code",
   "execution_count": 19,
   "id": "e909ed05-9fcc-4460-8a76-4db2ed0b5fe8",
   "metadata": {},
   "outputs": [],
   "source": [
    "import cv2"
   ]
  },
  {
   "cell_type": "code",
   "execution_count": 20,
   "id": "71022c8f-b494-4259-af89-368798a14fdf",
   "metadata": {},
   "outputs": [
    {
     "name": "stdout",
     "output_type": "stream",
     "text": [
      "Requirement already satisfied: opencv-python in c:\\users\\renak\\anaconda3\\lib\\site-packages (4.10.0.84)\n",
      "Requirement already satisfied: numpy>=1.21.2 in c:\\users\\renak\\anaconda3\\lib\\site-packages (from opencv-python) (1.26.4)\n"
     ]
    }
   ],
   "source": [
    "!pip install opencv-python"
   ]
  },
  {
   "cell_type": "markdown",
   "id": "3c7531dd-d3d7-4d24-bd19-613cc916e289",
   "metadata": {},
   "source": [
    "- in jupyter notebook we need to add ! mark for installing the packages\n",
    "- in anaconda prompt no need of ! mark to install the packges, directly name you can provide"
   ]
  },
  {
   "cell_type": "code",
   "execution_count": 23,
   "id": "4d8a80d3-2862-4acd-9ce9-c574c2c4f94c",
   "metadata": {},
   "outputs": [
    {
     "name": "stdout",
     "output_type": "stream",
     "text": [
      "30\n"
     ]
    }
   ],
   "source": [
    "# hard coading\n",
    "# we are fixing the value\n",
    "\n",
    "num1=10\n",
    "num2=20\n",
    "add=num1+num2\n",
    "print(add)"
   ]
  },
  {
   "cell_type": "code",
   "execution_count": 24,
   "id": "3f1b0c84-07de-4bab-9dc1-9d7d8615effd",
   "metadata": {},
   "outputs": [
    {
     "name": "stdin",
     "output_type": "stream",
     "text": [
      "enter the numnber1: 12\n",
      "enter the numnber2: 34\n"
     ]
    },
    {
     "name": "stdout",
     "output_type": "stream",
     "text": [
      "46\n"
     ]
    }
   ],
   "source": [
    "# Dynamic\n",
    "\n",
    "num1=eval(input(\"enter the numnber1:\"))\n",
    "num2=eval(input(\"enter the numnber2:\"))\n",
    "add=num1+num2\n",
    "print(add)"
   ]
  },
  {
   "cell_type": "code",
   "execution_count": 25,
   "id": "11ddda34-0044-491a-899c-30661f21c3e7",
   "metadata": {},
   "outputs": [
    {
     "name": "stdout",
     "output_type": "stream",
     "text": [
      "the addition of 14 and 26 is 40\n"
     ]
    }
   ],
   "source": [
    "# we can take the randomly also\n",
    "\n",
    "import random\n",
    "number1=random.randint(1,20)\n",
    "number2=random.randint(22,45)\n",
    "add=number1+number2\n",
    "print(f\"the addition of {number1} and {number2} is {add}\")"
   ]
  },
  {
   "cell_type": "markdown",
   "id": "ea9329ce-9b55-4b97-a4b5-ac4b572de5f5",
   "metadata": {},
   "source": [
    "**How we pass the numbers**\n",
    "- hard codings\n",
    "- using keyboard\n",
    "- using random package,taking numbers randomly\n",
    "    "
   ]
  },
  {
   "cell_type": "code",
   "execution_count": 27,
   "id": "bfe4db17-7bda-45d8-8448-b5b8ec21fd60",
   "metadata": {},
   "outputs": [
    {
     "name": "stdin",
     "output_type": "stream",
     "text": [
      "Enter the valu n2: 34\n"
     ]
    },
    {
     "name": "stdout",
     "output_type": "stream",
     "text": [
      "the average of 10,34,14 and is 19.333333333333332\n"
     ]
    }
   ],
   "source": [
    "n1=10\n",
    "n2=eval(input(\"Enter the valu n2:\"))\n",
    "n3=random.randint(12,15)\n",
    "avg=(n1+n2+n3)/3\n",
    "print(\"the average of {},{},{} and is {}\".format(n1,n2,n3,avg))"
   ]
  },
  {
   "cell_type": "code",
   "execution_count": 28,
   "id": "18e760f3-338c-426b-88be-1b973dee3d69",
   "metadata": {},
   "outputs": [],
   "source": [
    "## assignment -2 \n",
    "# assignment-1 qns only but\n",
    "# you need to random values for every question\n",
    "# 11 q print statement using time slpeep"
   ]
  },
  {
   "cell_type": "markdown",
   "id": "41c4c9b6-d150-4a2f-87f4-8ff9f772e0d2",
   "metadata": {},
   "source": [
    "**round**"
   ]
  },
  {
   "cell_type": "code",
   "execution_count": 30,
   "id": "1ccd2394-49f4-4e05-9f38-2d29a05df7bd",
   "metadata": {},
   "outputs": [
    {
     "data": {
      "text/plain": [
       "23"
      ]
     },
     "execution_count": 30,
     "metadata": {},
     "output_type": "execute_result"
    }
   ],
   "source": [
    "avg=22.6756748\n",
    "round(avg)"
   ]
  },
  {
   "cell_type": "code",
   "execution_count": 31,
   "id": "c97ee968-8686-4ab3-ad77-a2f48d741ba4",
   "metadata": {},
   "outputs": [
    {
     "data": {
      "text/plain": [
       "22.68"
      ]
     },
     "execution_count": 31,
     "metadata": {},
     "output_type": "execute_result"
    }
   ],
   "source": [
    "avg=22.6756748\n",
    "round(avg,2)"
   ]
  },
  {
   "cell_type": "code",
   "execution_count": 32,
   "id": "02b611a0-a946-4f51-a0b6-cc0c72e8b9f8",
   "metadata": {},
   "outputs": [
    {
     "name": "stdin",
     "output_type": "stream",
     "text": [
      "Enter the valu n2: 45\n"
     ]
    },
    {
     "name": "stdout",
     "output_type": "stream",
     "text": [
      "the average of 10,45,15 and is 23.33\n"
     ]
    }
   ],
   "source": [
    "n1=10\n",
    "n2=eval(input(\"Enter the valu n2:\"))\n",
    "n3=random.randint(12,15)\n",
    "avg=round((n1+n2+n3)/3,2)\n",
    "print(\"the average of {},{},{} and is {}\".format(n1,n2,n3,avg))"
   ]
  },
  {
   "cell_type": "code",
   "execution_count": null,
   "id": "beaf8c43-f8db-4da0-a33d-b475716f5851",
   "metadata": {},
   "outputs": [],
   "source": []
  }
 ],
 "metadata": {
  "kernelspec": {
   "display_name": "Python 3 (ipykernel)",
   "language": "python",
   "name": "python3"
  },
  "language_info": {
   "codemirror_mode": {
    "name": "ipython",
    "version": 3
   },
   "file_extension": ".py",
   "mimetype": "text/x-python",
   "name": "python",
   "nbconvert_exporter": "python",
   "pygments_lexer": "ipython3",
   "version": "3.11.7"
  }
 },
 "nbformat": 4,
 "nbformat_minor": 5
}
